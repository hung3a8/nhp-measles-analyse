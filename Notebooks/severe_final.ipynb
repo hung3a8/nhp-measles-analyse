{
 "cells": [
  {
   "cell_type": "code",
   "execution_count": 1,
   "metadata": {},
   "outputs": [],
   "source": [
    "import pandas as pd\n",
    "import numpy as np\n",
    "dataset = pd.read_csv('severe_out.csv', keep_default_na=True)\n",
    "N = 849"
   ]
  },
  {
   "cell_type": "code",
   "execution_count": 7,
   "metadata": {},
   "outputs": [],
   "source": [
    "dataset.to_csv('vacc_out.csv', index=False)"
   ]
  },
  {
   "cell_type": "code",
   "execution_count": 4,
   "metadata": {},
   "outputs": [
    {
     "name": "stdout",
     "output_type": "stream",
     "text": [
      "[ 0. nan  1.  2.  3.]\n",
      "[[ 26. 761.]\n",
      " [  1.  25.]\n",
      " [  2.  27.]\n",
      " [  1.   6.]]\n",
      "[[86.66666667 92.91819292]\n",
      " [ 3.33333333  3.05250305]\n",
      " [ 6.66666667  3.2967033 ]\n",
      " [ 3.33333333  0.73260073]]\n"
     ]
    }
   ],
   "source": [
    "# By vaccination status\n",
    "total = np.array([30,819])\n",
    "vaccination_status = dataset['Vaccination'].unique()\n",
    "print(vaccination_status)\n",
    "\n",
    "by_vaccination_status = np.zeros((len(vaccination_status), 2))\n",
    "\n",
    "for i, status in enumerate(vaccination_status):\n",
    "    for j in range(2):\n",
    "        if pd.isna(status):\n",
    "            by_vaccination_status[i, j] = dataset[(pd.isna(dataset['Vaccination'])) & (dataset['outcome_died'] == 1 - j)].shape[0]\n",
    "        else:\n",
    "            by_vaccination_status[i, j] = dataset[(dataset['Vaccination'] == status) & (dataset['outcome_died'] == 1 - j)].shape[0]\n",
    "by_vaccination_status[3] += by_vaccination_status[4]\n",
    "print(by_vaccination_status[:4])\n",
    "\n",
    "percent = by_vaccination_status / total * 100\n",
    "print(percent[:4])"
   ]
  },
  {
   "cell_type": "code",
   "execution_count": 5,
   "metadata": {},
   "outputs": [
    {
     "name": "stdout",
     "output_type": "stream",
     "text": [
      "8.0\n",
      "20.56709186420721\n"
     ]
    },
    {
     "data": {
      "text/plain": [
       "array([ 5.,  8., 12.])"
      ]
     },
     "execution_count": 5,
     "metadata": {},
     "output_type": "execute_result"
    }
   ],
   "source": [
    "print(np.median(dataset['age_at_admission']))\n",
    "print(np.std(dataset['age_at_admission']))\n",
    "\n",
    "x = np.percentile(dataset['age_at_admission'], [25, 50, 75])\n",
    "x"
   ]
  },
  {
   "cell_type": "code",
   "execution_count": 6,
   "metadata": {},
   "outputs": [
    {
     "data": {
      "text/plain": [
       "92.69729093050648"
      ]
     },
     "execution_count": 6,
     "metadata": {},
     "output_type": "execute_result"
    }
   ],
   "source": [
    "x = 759 / 849 * 100\n",
    "y = 787 / 849 * 100\n",
    "y"
   ]
  },
  {
   "cell_type": "code",
   "execution_count": 7,
   "metadata": {},
   "outputs": [
    {
     "name": "stdout",
     "output_type": "stream",
     "text": [
      "['0 - 1', '1 - 2', '2 - 3', '3 - 4', '4 - 5', '>= 5']\n",
      "[[ 18. 609.]\n",
      " [  3. 125.]\n",
      " [  1.  27.]\n",
      " [  1.  20.]\n",
      " [  1.   8.]\n",
      " [  6.  30.]]\n",
      "[[60.  74.4]\n",
      " [10.  15.3]\n",
      " [ 3.3  3.3]\n",
      " [ 3.3  2.4]\n",
      " [ 3.3  1. ]\n",
      " [20.   3.7]]\n"
     ]
    }
   ],
   "source": [
    "# Age group (in months)\n",
    "\n",
    "age_group = ['0 - 1','1 - 2','2 - 3','3 - 4','4 - 5','>= 5']\n",
    "x = np.zeros((6,2))\n",
    "total = np.array([30,819])\n",
    "\n",
    "for i in range(6):\n",
    "    for j in range(2):\n",
    "        x[i,j] = len(dataset[(dataset['Age group (in years)'] == age_group[i]) & (dataset['outcome_died'] == 1 - j)])\n",
    "\n",
    "print(age_group)\n",
    "print(x)\n",
    "print(np.round(x*100/total,1))"
   ]
  },
  {
   "cell_type": "code",
   "execution_count": 12,
   "metadata": {},
   "outputs": [
    {
     "name": "stdout",
     "output_type": "stream",
     "text": [
      "399\n",
      "354 88.7218045112782\n",
      "12 40.0\n"
     ]
    }
   ],
   "source": [
    "dataset = pd.read_csv('vacc_out.csv', keep_default_na=True)\n",
    "N = 399\n",
    "print(len(dataset.loc[(dataset['Age group (in months)'] != '0 - 9')]))\n",
    "unvacc = len(dataset.loc[(dataset['Age group (in months)'] != '0 - 9') & (dataset['New vaccination'] == '0')])\n",
    "print(unvacc, unvacc/N*100)\n",
    "dead = len(dataset.loc[(dataset['Age group (in months)'] == '0 - 9') & (dataset['outcome_died'] == 1)])\n",
    "print(dead, dead/30*100)"
   ]
  },
  {
   "cell_type": "code",
   "execution_count": 11,
   "metadata": {},
   "outputs": [
    {
     "name": "stdout",
     "output_type": "stream",
     "text": [
      "19 9 - 60\n",
      "3 0 - 9\n",
      "11 9 - 60\n",
      "34 9 - 60\n",
      "12 9 - 60\n",
      "6 0 - 9\n",
      "17 9 - 60\n",
      "3 0 - 9\n",
      "6 0 - 9\n",
      "71 >= 60\n"
     ]
    }
   ],
   "source": [
    "for i in range(10):\n",
    "    print(dataset.at[i,'age_at_admission'], dataset.at[i,'Age group (in months)'])"
   ]
  }
 ],
 "metadata": {
  "kernelspec": {
   "display_name": "Python 3.11.0 64-bit",
   "language": "python",
   "name": "python3"
  },
  "language_info": {
   "codemirror_mode": {
    "name": "ipython",
    "version": 3
   },
   "file_extension": ".py",
   "mimetype": "text/x-python",
   "name": "python",
   "nbconvert_exporter": "python",
   "pygments_lexer": "ipython3",
   "version": "3.11.0"
  },
  "orig_nbformat": 4,
  "vscode": {
   "interpreter": {
    "hash": "aee8b7b246df8f9039afb4144a1f6fd8d2ca17a180786b69acc140d282b71a49"
   }
  }
 },
 "nbformat": 4,
 "nbformat_minor": 2
}
