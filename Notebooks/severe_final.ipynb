{
 "cells": [
  {
   "cell_type": "code",
   "execution_count": 4,
   "metadata": {},
   "outputs": [],
   "source": [
    "import pandas as pd\n",
    "import numpy as np\n",
    "dataset = pd.read_csv('severe_out.csv', keep_default_na=True)\n",
    "N = 849"
   ]
  },
  {
   "cell_type": "code",
   "execution_count": 32,
   "metadata": {},
   "outputs": [],
   "source": [
    "dataset.insert(53, 'New vaccination', 0)\n",
    "for i in range(len(dataset)):\n",
    "    if dataset.at[i, 'Vaccination'] == 0:\n",
    "        dataset.at[i, 'New vaccination'] = 0\n",
    "    elif dataset.at[i, 'Vaccination'] == 1:\n",
    "        dataset.at[i, 'New vaccination'] = 1\n",
    "    elif pd.isna(dataset.at[i, 'Vaccination']) == True:\n",
    "        dataset.at[i, 'New vaccination'] = 'NA'\n",
    "    elif dataset.at[i, 'Vaccination'] == 2 or dataset.at[i, 'Vaccination'] == 3:\n",
    "        dataset.at[i, 'New vaccination'] = '>=2'"
   ]
  },
  {
   "cell_type": "code",
   "execution_count": 33,
   "metadata": {},
   "outputs": [],
   "source": [
    "dataset.to_csv('vacc_out.csv', index=False)"
   ]
  },
  {
   "cell_type": "code",
   "execution_count": 21,
   "metadata": {},
   "outputs": [
    {
     "name": "stdout",
     "output_type": "stream",
     "text": [
      "[ 0. nan  1.  2.  3.]\n",
      "[[ 26. 761.]\n",
      " [  1.  25.]\n",
      " [  2.  27.]\n",
      " [  1.   6.]]\n",
      "[[86.66666667 92.91819292]\n",
      " [ 3.33333333  3.05250305]\n",
      " [ 6.66666667  3.2967033 ]\n",
      " [ 3.33333333  0.73260073]]\n"
     ]
    }
   ],
   "source": [
    "# By vaccination status\n",
    "total = np.array([30,819])\n",
    "vaccination_status = dataset['Vaccination'].unique()\n",
    "print(vaccination_status)\n",
    "\n",
    "by_vaccination_status = np.zeros((len(vaccination_status), 2))\n",
    "\n",
    "for i, status in enumerate(vaccination_status):\n",
    "    for j in range(2):\n",
    "        if pd.isna(status):\n",
    "            by_vaccination_status[i, j] = dataset[(pd.isna(dataset['Vaccination'])) & (dataset['outcome_died'] == 1 - j)].shape[0]\n",
    "        else:\n",
    "            by_vaccination_status[i, j] = dataset[(dataset['Vaccination'] == status) & (dataset['outcome_died'] == 1 - j)].shape[0]\n",
    "by_vaccination_status[3] += by_vaccination_status[4]\n",
    "print(by_vaccination_status[:4])\n",
    "\n",
    "percent = by_vaccination_status / total * 100\n",
    "print(percent[:4])"
   ]
  },
  {
   "cell_type": "code",
   "execution_count": null,
   "metadata": {},
   "outputs": [],
   "source": []
  }
 ],
 "metadata": {
  "kernelspec": {
   "display_name": "Python 3.11.0 64-bit",
   "language": "python",
   "name": "python3"
  },
  "language_info": {
   "codemirror_mode": {
    "name": "ipython",
    "version": 3
   },
   "file_extension": ".py",
   "mimetype": "text/x-python",
   "name": "python",
   "nbconvert_exporter": "python",
   "pygments_lexer": "ipython3",
   "version": "3.11.0"
  },
  "orig_nbformat": 4,
  "vscode": {
   "interpreter": {
    "hash": "aee8b7b246df8f9039afb4144a1f6fd8d2ca17a180786b69acc140d282b71a49"
   }
  }
 },
 "nbformat": 4,
 "nbformat_minor": 2
}
