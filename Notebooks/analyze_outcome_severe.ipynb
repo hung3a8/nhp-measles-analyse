{
 "cells": [
  {
   "cell_type": "code",
   "execution_count": 52,
   "metadata": {},
   "outputs": [],
   "source": [
    "import pandas as pd\n",
    "import numpy as np\n",
    "import datetime\n",
    "import string\n",
    "import os\n",
    "from matplotlib import pyplot as plt\n",
    "from pathlib import Path\n",
    "\n",
    "dataset = pd.read_csv('severe_out.csv', keep_default_na=True)\n",
    "N = 849"
   ]
  },
  {
   "cell_type": "code",
   "execution_count": 53,
   "metadata": {},
   "outputs": [
    {
     "name": "stdout",
     "output_type": "stream",
     "text": [
      "[ 30. 819.]\n",
      "[ 3.5 96.5]\n"
     ]
    }
   ],
   "source": [
    "# Number of patients \n",
    "x = np.zeros(2)\n",
    "\n",
    "for i in range(2):\n",
    "    x[i] = len(dataset[dataset['outcome_died'] == 1 - i])\n",
    "print(x)\n",
    "print(np.round(x*100/N,1))"
   ]
  },
  {
   "cell_type": "code",
   "execution_count": 54,
   "metadata": {},
   "outputs": [
    {
     "name": "stdout",
     "output_type": "stream",
     "text": [
      "[[  2.  21.]\n",
      " [  6. 240.]\n",
      " [ 22. 558.]]\n",
      "[[ 6.7  2.6]\n",
      " [20.  29.3]\n",
      " [73.3 68.1]]\n"
     ]
    }
   ],
   "source": [
    "# Year of admission \n",
    "x = np.zeros((3,2))\n",
    "total = np.array([30,819])\n",
    "\n",
    "for i in range(3):\n",
    "    for j in range(2):\n",
    "        x[i,j] = len(dataset[(dataset['admission_date'].str.contains(str(2017+i)) == True) & (dataset['outcome_died'] == 1 - j)])\n",
    "\n",
    "print(x)\n",
    "print(np.round(x*100/total,1))"
   ]
  },
  {
   "cell_type": "code",
   "execution_count": 55,
   "metadata": {},
   "outputs": [
    {
     "name": "stdout",
     "output_type": "stream",
     "text": [
      "[[ 18. 524.]\n",
      " [ 12. 295.]]\n",
      "[[60. 64.]\n",
      " [40. 36.]]\n"
     ]
    }
   ],
   "source": [
    "# Sex\n",
    "x = np.zeros((2,2))\n",
    "total = np.array([30,819])\n",
    "\n",
    "for i in range(2):\n",
    "    for j in range(2):\n",
    "        x[i,j] = len(dataset[(dataset['Female'] == i) & (dataset['outcome_died'] == 1 - j)])\n",
    "\n",
    "print(x)\n",
    "print(np.round(x*100/total,1))"
   ]
  },
  {
   "cell_type": "code",
   "execution_count": 56,
   "metadata": {},
   "outputs": [
    {
     "name": "stdout",
     "output_type": "stream",
     "text": [
      "32.6\n",
      "13.1\n",
      "43.1\n",
      "19.0\n"
     ]
    }
   ],
   "source": [
    "age_deceased = dataset[dataset['outcome_died'] == 1]['age_at_admission']\n",
    "age_discharged = dataset[dataset['outcome_died'] == 0]['age_at_admission']\n",
    "\n",
    "print(round(age_deceased.mean(),1))\n",
    "print(round(age_discharged.mean(),1))\n",
    "print(round(age_deceased.std(),1))\n",
    "print(round(age_discharged.std(),1))"
   ]
  },
  {
   "cell_type": "code",
   "execution_count": 57,
   "metadata": {},
   "outputs": [
    {
     "name": "stdout",
     "output_type": "stream",
     "text": [
      "[[  0.  64.]\n",
      " [  6. 160.]\n",
      " [  6. 214.]\n",
      " [  6. 171.]\n",
      " [  3. 125.]\n",
      " [  1.  27.]\n",
      " [  1.  20.]\n",
      " [  1.   8.]\n",
      " [  6.  30.]]\n",
      "[[ 0.   7.8]\n",
      " [20.  19.5]\n",
      " [20.  26.1]\n",
      " [20.  20.9]\n",
      " [10.  15.3]\n",
      " [ 3.3  3.3]\n",
      " [ 3.3  2.4]\n",
      " [ 3.3  1. ]\n",
      " [20.   3.7]]\n"
     ]
    }
   ],
   "source": [
    "# Age group (in months)\n",
    "\n",
    "age_group = ['0 - <3','3 - <6','6 - <9','9 - <12','12 - <24','24 - <36','36 - <48','48 - <60','>= 60']\n",
    "x = np.zeros((9,2))\n",
    "total = np.array([30,819])\n",
    "\n",
    "for i in range(9):\n",
    "    for j in range(2):\n",
    "        x[i,j] = len(dataset[(dataset['Age group (in months)'] == age_group[i]) & (dataset['outcome_died'] == 1 - j)])\n",
    "\n",
    "print(x)\n",
    "print(np.round(x*100/total,1))"
   ]
  },
  {
   "cell_type": "code",
   "execution_count": 81,
   "metadata": {},
   "outputs": [
    {
     "name": "stdout",
     "output_type": "stream",
     "text": [
      "[[ 26. 761.]\n",
      " [  2.  27.]\n",
      " [  0.   5.]\n",
      " [  1.   1.]\n",
      " [  1.  25.]]\n",
      "[[86.7 92.9]\n",
      " [ 6.7  3.3]\n",
      " [ 0.   0.6]\n",
      " [ 3.3  0.1]\n",
      " [ 3.3  3.1]]\n"
     ]
    }
   ],
   "source": [
    "# Vaccination status\n",
    "\n",
    "x = np.zeros((5,2))\n",
    "total = np.array([30,819])\n",
    "\n",
    "for i in range(5):\n",
    "    for j in range(2):\n",
    "        if i == 4:\n",
    "            x[i,j] = len(dataset[(pd.isna(dataset['Vaccination'])) & (dataset['outcome_died'] == 1 - j)])\n",
    "        else:\n",
    "            x[i,j] = len(dataset[(dataset['Vaccination'] == i) & (dataset['outcome_died'] == 1 - j)])\n",
    "\n",
    "print(x)\n",
    "print(np.round(x*100/total,1))"
   ]
  },
  {
   "cell_type": "code",
   "execution_count": 59,
   "metadata": {},
   "outputs": [
    {
     "name": "stdout",
     "output_type": "stream",
     "text": [
      "[[ 12. 320.]\n",
      " [  9. 122.]\n",
      " [  9. 376.]\n",
      " [  0.   0.]]\n",
      "[[40.  39.1]\n",
      " [30.  14.9]\n",
      " [30.  45.9]\n",
      " [ 0.   0. ]]\n"
     ]
    }
   ],
   "source": [
    "# Place of exposure\n",
    "place = ['NHP', 'Another hospital', 'community', 'Unknown']\n",
    "x = np.zeros((4,2))\n",
    "total = np.array([30,819])\n",
    "\n",
    "for i in range(4):\n",
    "    for j in range(2):\n",
    "        x[i,j] = len(dataset[(dataset['place_of_exposure'] == place[i]) & (dataset['outcome_died'] == 1 - j)])\n",
    "\n",
    "print(x)\n",
    "print(np.round(x*100/total,1))"
   ]
  },
  {
   "cell_type": "code",
   "execution_count": 60,
   "metadata": {},
   "outputs": [
    {
     "name": "stdout",
     "output_type": "stream",
     "text": [
      "[[  2. 123.]\n",
      " [ 22. 545.]\n",
      " [  6. 147.]\n",
      " [  0.   4.]]\n",
      "[[ 6.7 15. ]\n",
      " [73.3 66.5]\n",
      " [20.  17.9]\n",
      " [ 0.   0.5]]\n"
     ]
    }
   ],
   "source": [
    "# Distance from the hospital (km)\n",
    "distance_group = ['0 - <20','20 - <200','200 - <500','>= 500']\n",
    "x = np.zeros((4,2))\n",
    "total = np.array([30,819])\n",
    "\n",
    "for i in range(4):\n",
    "    for j in range(2):\n",
    "        x[i,j] = len(dataset[(dataset['Distance from the hospital (km)'] == distance_group[i]) & (dataset['outcome_died'] == 1 - j)])\n",
    "\n",
    "print(x)\n",
    "print(np.round(x*100/total,1))"
   ]
  },
  {
   "cell_type": "code",
   "execution_count": 61,
   "metadata": {},
   "outputs": [
    {
     "name": "stdout",
     "output_type": "stream",
     "text": [
      "[[  4. 235.]\n",
      " [  5.  93.]\n",
      " [  3.  46.]\n",
      " [ 11. 295.]\n",
      " [  7. 148.]\n",
      " [  0.   2.]]\n",
      "[[13.3 28.7]\n",
      " [16.7 11.4]\n",
      " [10.   5.6]\n",
      " [36.7 36. ]\n",
      " [23.3 18.1]\n",
      " [ 0.   0.2]]\n"
     ]
    }
   ],
   "source": [
    "# Region of residence\n",
    "part_of_vietnam = ['Ha Noi','Northeastern','Northwestern','Red River Delta (except Hanoi)','Central','Southern']\n",
    "x = np.zeros((6,2))\n",
    "total = np.array([30,819])\n",
    "\n",
    "for i in range(6):\n",
    "    for j in range(2):\n",
    "        x[i,j] = len(dataset[(dataset['region_of_address'] == part_of_vietnam[i]) & (dataset['outcome_died'] == 1 - j)])\n",
    "\n",
    "print(x)\n",
    "print(np.round(x*100/total,1))"
   ]
  },
  {
   "cell_type": "code",
   "execution_count": 82,
   "metadata": {},
   "outputs": [
    {
     "name": "stdout",
     "output_type": "stream",
     "text": [
      "[[ 16. 323.]\n",
      " [  7. 311.]\n",
      " [  4. 152.]\n",
      " [  1.  21.]\n",
      " [  2.  11.]\n",
      " [  0.   1.]]\n",
      "[[53.3 39.4]\n",
      " [23.3 38. ]\n",
      " [13.3 18.6]\n",
      " [ 3.3  2.6]\n",
      " [ 6.7  1.3]\n",
      " [ 0.   0.1]]\n"
     ]
    }
   ],
   "source": [
    "# By duration between onset and admission\n",
    "duration_groups = {\n",
    "    '<0': lambda x: x < 0,\n",
    "    '0-3': lambda x: x >= 0 and x < 3,\n",
    "    '3-7': lambda x: x >= 3 and x < 7,\n",
    "    '7-14': lambda x: x >= 7 and x < 14,\n",
    "    '>=14': lambda x: x >= 14,\n",
    "    'Unknown': lambda x: pd.isna(x)\n",
    "}\n",
    "\n",
    "x = np.zeros((len(duration_groups), 2))\n",
    "total = np.array([30,819])\n",
    "\n",
    "for i, group in enumerate(duration_groups):\n",
    "    for j, case in enumerate((0, 1)):\n",
    "        if pd.isna(group):\n",
    "            x[i, j] = len(dataset[(pd.isna(dataset['duration time onset to admission'])) & (dataset['outcome_died'] == 1 - j)])\n",
    "        else:\n",
    "            x[i, j] = len(dataset[(dataset['duration time onset to admission'].apply(duration_groups[group])) & (dataset['outcome_died'] == 1 - j)])\n",
    "\n",
    "print(x)\n",
    "print(np.round(x*100/total,1))"
   ]
  },
  {
   "cell_type": "code",
   "execution_count": 63,
   "metadata": {},
   "outputs": [
    {
     "name": "stdout",
     "output_type": "stream",
     "text": [
      "[[  5. 221.]\n",
      " [ 13. 378.]\n",
      " [ 12. 220.]]\n",
      "[[16.7 27. ]\n",
      " [43.3 46.2]\n",
      " [40.  26.9]]\n"
     ]
    }
   ],
   "source": [
    "# Duration of stay within the hospital\n",
    "duration_group = ['0 - <7','7 - <21','>= 21']\n",
    "x = np.zeros((3,2))\n",
    "total = np.array([30,819])\n",
    "\n",
    "for i in range(3):\n",
    "    for j in range(2):\n",
    "        x[i,j] = len(dataset[(dataset['Duration of stay within the hospital'] == duration_group[i]) & (dataset['outcome_died'] == 1 - j)])\n",
    "\n",
    "print(x)\n",
    "print(np.round(x*100/total,1))"
   ]
  },
  {
   "cell_type": "code",
   "execution_count": 64,
   "metadata": {},
   "outputs": [
    {
     "name": "stdout",
     "output_type": "stream",
     "text": [
      "[[  1.  22.]\n",
      " [  1.  44.]\n",
      " [  2.  71.]\n",
      " [  0.  20.]\n",
      " [  1.   5.]\n",
      " [  2.  42.]\n",
      " [  0.   7.]\n",
      " [ 15. 539.]\n",
      " [  8.  82.]]\n",
      "[[ 3.3  2.7]\n",
      " [ 3.3  5.4]\n",
      " [ 6.7  8.7]\n",
      " [ 0.   2.4]\n",
      " [ 3.3  0.6]\n",
      " [ 6.7  5.1]\n",
      " [ 0.   0.9]\n",
      " [50.  65.8]\n",
      " [26.7 10. ]]\n"
     ]
    }
   ],
   "source": [
    "# Underlying conditions\n",
    "x = np.zeros((9,2))\n",
    "total = np.array([30,819])\n",
    "underlying_condition = ['Underlying conditions - Respiratory system','Underlying conditions - Cardiovascular system',\n",
    "    'Underlying condition - Gastrointestinal system','Underlying condition - Kidney and urology system',\n",
    "    'Underlying condition - Immunodeficiency','Underlying condition - Neurological system','Underlying condition - Inherited metabolic disorders',\n",
    "    'Underlying condition - No underlying diseases','Underlying condition - Other underlying conditions']\n",
    "\n",
    "for i in range(9):\n",
    "    for j in range(2):\n",
    "        x[i,j] = len(dataset[(dataset[underlying_condition[i]] == 1) & (dataset['outcome_died'] == 1 - j)])\n",
    "print(x)\n",
    "print(np.round(100*x/total,1))"
   ]
  },
  {
   "cell_type": "code",
   "execution_count": 65,
   "metadata": {},
   "outputs": [
    {
     "name": "stdout",
     "output_type": "stream",
     "text": [
      "[[  2. 683.]\n",
      " [  0.   8.]\n",
      " [ 21. 123.]\n",
      " [  7.   4.]\n",
      " [  0.   1.]]\n",
      "[[ 6.7 83.4]\n",
      " [ 0.   1. ]\n",
      " [70.  15. ]\n",
      " [23.3  0.5]\n",
      " [ 0.   0.1]]\n"
     ]
    }
   ],
   "source": [
    "# Maximal form of respiratory support used \n",
    "b = ['oxygen_cannula','CPAP','conventional_mechanical_ventilation','hfo_ventilation','ECMO']\n",
    "x = np.zeros((5,2))\n",
    "total = np.array([30,819])\n",
    "\n",
    "for i in range(5):\n",
    "    for j in range(2):\n",
    "        x[i][j] = len(dataset[(dataset['highest_ventilation_mode'] == b[i]) & (dataset['outcome_died'] == 1 - j)])\n",
    "\n",
    "print(x)\n",
    "print(np.round(100*x/total,1))"
   ]
  },
  {
   "cell_type": "code",
   "execution_count": 83,
   "metadata": {},
   "outputs": [
    {
     "name": "stdout",
     "output_type": "stream",
     "text": [
      "[[  1.   5.]\n",
      " [ 10. 175.]\n",
      " [  4. 198.]\n",
      " [ 15. 440.]\n",
      " [  0.   1.]]\n",
      "[[ 3.3  0.6]\n",
      " [33.3 21.4]\n",
      " [13.3 24.2]\n",
      " [50.  53.7]\n",
      " [ 0.   0.1]]\n"
     ]
    }
   ],
   "source": [
    "# Duration between onset and test (detection time) (in hours)\n",
    "duration_groups = {\n",
    "    '<0': lambda x: x < 0,\n",
    "    '0-<24': lambda x: x >= 0 and x < 24,\n",
    "    '24-<48': lambda x: x >= 24 and x < 48,\n",
    "    '>=48': lambda x: x >= 48,\n",
    "    'Unknown': lambda x: pd.isna(x)\n",
    "}\n",
    "\n",
    "x = np.zeros((len(duration_groups), 2))\n",
    "total = np.array([30,819])\n",
    "\n",
    "for i, group in enumerate(duration_groups):\n",
    "    for j, case in enumerate((0, 1)):\n",
    "        if pd.isna(group):\n",
    "            x[i, j] = len(dataset[(pd.isna(dataset['onset to test'])) & (dataset['outcome_died'] == 1 - j)])\n",
    "        else:\n",
    "            x[i, j] = len(dataset[((dataset['onset to test'] * 24).apply(duration_groups[group])) & (dataset['outcome_died'] == 1 - j)])\n",
    "\n",
    "print(x)\n",
    "print(np.round(x*100/total,1))"
   ]
  },
  {
   "cell_type": "code",
   "execution_count": 67,
   "metadata": {},
   "outputs": [
    {
     "name": "stdout",
     "output_type": "stream",
     "text": [
      "[[  6. 266.]\n",
      " [ 15. 346.]\n",
      " [ 11. 332.]\n",
      " [ 10. 167.]]\n",
      "[[20.  32.5]\n",
      " [50.  42.2]\n",
      " [36.7 40.5]\n",
      " [33.3 20.4]]\n"
     ]
    }
   ],
   "source": [
    "# Diagnosis upon admission\n",
    "b = ['Measles','Pneumonia','Bronchopneumonia','Other diagnosis']\n",
    "x = np.zeros((4,2))\n",
    "total = np.array([30,819])\n",
    "\n",
    "for i in range(4):\n",
    "    for j in range(2):\n",
    "        x[i][j] = len(dataset[(dataset[b[i]] == 1) & (dataset['outcome_died'] == 1 - j)])\n",
    "\n",
    "print(x)\n",
    "print(np.round(100*x/total,1))"
   ]
  },
  {
   "cell_type": "code",
   "execution_count": 68,
   "metadata": {},
   "outputs": [
    {
     "name": "stdout",
     "output_type": "stream",
     "text": [
      "[[  0.  14.]\n",
      " [  0.   4.]\n",
      " [  0.   1.]\n",
      " [  0.   0.]\n",
      " [ 25. 696.]\n",
      " [  0.   9.]\n",
      " [  1.   1.]]\n",
      "[[ 0.   1.7]\n",
      " [ 0.   0.5]\n",
      " [ 0.   0.1]\n",
      " [ 0.   0. ]\n",
      " [83.3 85. ]\n",
      " [ 0.   1.1]\n",
      " [ 3.3  0.1]]\n"
     ]
    }
   ],
   "source": [
    "prefix = 'complication-'\n",
    "column_name = ['gastroentiritis','middle-ear-infec','conjunctivitis','laryngitis','pneumonia-bronchitis',\n",
    "'febrile-seizures','septic-shock-sepsis']\n",
    "x = np.zeros((7,2))\n",
    "total = np.array([30,819])\n",
    "\n",
    "for i in range(7):\n",
    "    for j in range(2):\n",
    "        x[i][j] = len(dataset[(dataset[prefix+column_name[i]] == 1) & (dataset['outcome_died'] == 1 - j)])\n",
    "\n",
    "print(x)\n",
    "print(np.round(100*x/total,1))"
   ]
  },
  {
   "cell_type": "code",
   "execution_count": 69,
   "metadata": {},
   "outputs": [
    {
     "name": "stdout",
     "output_type": "stream",
     "text": [
      "[[0. 8.]\n",
      " [0. 3.]\n",
      " [0. 1.]\n",
      " [0. 2.]]\n",
      "[[0.  1. ]\n",
      " [0.  0.4]\n",
      " [0.  0.1]\n",
      " [0.  0.2]]\n"
     ]
    }
   ],
   "source": [
    "# Co-infections\n",
    "prefix = 'co-infection-'\n",
    "column_name = ['influenza-a','influenza-b','streptococus-aerius','streptococus-pneumonia']\n",
    "x = np.zeros((4,2))\n",
    "total = np.array([30,819])\n",
    "\n",
    "for i in range(4):\n",
    "    for j in range(2):\n",
    "        x[i,j] = len(dataset[(dataset[prefix+column_name[i]] == 1) & (dataset['outcome_died'] == 1 - j)])\n",
    "\n",
    "print(x)\n",
    "print(np.round(100*x/total,1))"
   ]
  },
  {
   "cell_type": "code",
   "execution_count": 70,
   "metadata": {},
   "outputs": [
    {
     "name": "stdout",
     "output_type": "stream",
     "text": [
      "[[ 1. 17.]\n",
      " [11. 62.]\n",
      " [ 0. 12.]\n",
      " [ 3. 12.]]\n",
      "[[ 3.3  2.1]\n",
      " [36.7  7.6]\n",
      " [ 0.   1.5]\n",
      " [10.   1.5]]\n"
     ]
    }
   ],
   "source": [
    "# Healthcare-associated infection\n",
    "\n",
    "column_name = ['respiratory_syncytical_virus', 'adenovirus', 'pertussis', 'healthcare_associated_infection']\n",
    "x = np.zeros((4,2))\n",
    "total = np.array([30,819])\n",
    "\n",
    "for i in range(4):\n",
    "    for j in range(2):\n",
    "        x[i][j] = len(dataset[((dataset[column_name[i]] == 1) & (dataset['outcome_died'] == 1 - j))])\n",
    "\n",
    "print(x)\n",
    "print(np.round(100*x/total,1))"
   ]
  }
 ],
 "metadata": {
  "kernelspec": {
   "display_name": "Python 3.11.0 64-bit",
   "language": "python",
   "name": "python3"
  },
  "language_info": {
   "codemirror_mode": {
    "name": "ipython",
    "version": 3
   },
   "file_extension": ".py",
   "mimetype": "text/x-python",
   "name": "python",
   "nbconvert_exporter": "python",
   "pygments_lexer": "ipython3",
   "version": "3.11.0"
  },
  "orig_nbformat": 4,
  "vscode": {
   "interpreter": {
    "hash": "aee8b7b246df8f9039afb4144a1f6fd8d2ca17a180786b69acc140d282b71a49"
   }
  }
 },
 "nbformat": 4,
 "nbformat_minor": 2
}
