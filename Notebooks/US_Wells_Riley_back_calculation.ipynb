{
 "cells": [
  {
   "cell_type": "code",
   "execution_count": null,
   "metadata": {},
   "outputs": [],
   "source": [
    "import numpy as np\n",
    "import matplotlib as plt"
   ]
  },
  {
   "cell_type": "code",
   "execution_count": null,
   "metadata": {},
   "outputs": [],
   "source": [
    "f_runtime = np.array([1,0.768])   # HVAC system runtime fraction\n",
    "f_recir = np.array([0.438, 0.05]) # Recirculated air fraction\n",
    "student_class = np.array([24,30])\n",
    "total_students = np.array([868, 1873])\n",
    "portion = np.array([[0.033,0.967,0],[0.003,0.709,0.288]])\n",
    "total_class = np.round(total_students / student_class)\n",
    "student_common = np.array([664,1873])\n",
    "student_recir = np.array([592,1843])\n",
    "\n",
    "# Volume of class propotional to no. of students per class\n",
    "V_class = 4 * student_class # +/- 25% as a range\n",
    "V_recir = np.array([13832, 33600]) # +/- 25% as a range\n",
    "V_common = 1.39 * student_common\n",
    "V = np.concatenate((V_class.reshape((2,1)),V_recir.reshape((2,1)),V_common.reshape((2,1))),axis = 1)\n",
    "\n",
    "n_filter = np.array([0.12, 0.99]) \n",
    "q_total = np.array([1019.4*60,595*60]) # total HVAC capacity (m3/hour)\n",
    "q_supply = np.array([28.3*60, 8.5*60])  # supply airflow rate of one classroom (m3/hour)\n",
    "q_return = q_supply * f_recir # Return air flow rate of HVAC system in classroom\n",
    "lambda_infilltration = np.array([0.31,0.31]) # natural ventilation rate\n",
    "K_deposition = np.zeros((2,3)) # deposition rate of measles bio-aerosols\n",
    "K_deposition.fill(1.7)\n",
    "\n",
    "infection_period = np.array([3,4])\n",
    "q = np.array([1925,2765])\n",
    "total_time = 760"
   ]
  },
  {
   "cell_type": "code",
   "execution_count": null,
   "metadata": {},
   "outputs": [],
   "source": [
    "# probability of infection transmission in a wellmixed indoor space\n",
    "# P_infection = Number of Infected Cases / Number of Susceptible Individuals\n",
    "# quanta = -ln(1-P_infection)\n",
    "def P_infection(quanta):\n",
    "    return 1 - np.exp(-quanta)\n",
    "P_infection(1)"
   ]
  },
  {
   "cell_type": "code",
   "execution_count": null,
   "metadata": {},
   "outputs": [],
   "source": [
    "def vaccine_coverage(total_students, vaccine_rate):\n",
    "    vaccine = np.zeros(vaccine_rate.shape)\n",
    "    for i in range(vaccine.shape[0]):\n",
    "        vaccine[i] = np.round(total_students[i] * vaccine_rate[i])\n",
    "    return vaccine\n",
    "    \n",
    "vacc_of_students = vaccine_coverage(total_students,portion)\n",
    "print(vacc_of_students)"
   ]
  },
  {
   "cell_type": "code",
   "execution_count": null,
   "metadata": {},
   "outputs": [],
   "source": [
    "# calculate number of susceptible based on age & vaccine coverage\n",
    "Susceptible_rate = np.array([[1,0.1,0.01],[1,0.05,0.05]])\n",
    "def Susceptible(type, vaccine):\n",
    "    res = 0\n",
    "    for i in range(len(vaccine)):\n",
    "        res += round(Susceptible_rate[type][i] * vaccine[i])\n",
    "    return res\n",
    "\n",
    "sus = np.zeros((2))\n",
    "inflict = np.array([28,69])\n",
    "\n",
    "for i in range(2):\n",
    "    sus[i] = Susceptible(i,vacc_of_students[i])\n",
    "\n",
    "p_inflict = inflict / sus\n",
    "p_inflict_per_day = p_inflict / infection_period\n",
    "reverse_mu = -np.log(1-p_inflict_per_day)\n",
    "print(sus,p_inflict_per_day,reverse_mu)\n"
   ]
  },
  {
   "cell_type": "code",
   "execution_count": null,
   "metadata": {},
   "outputs": [],
   "source": [
    "# total removal rate of measles viruses in space i\n",
    "def K_total(l_infiltration, K_deposition, K_ventilation, K_filtration, K_purification):\n",
    "    y = np.zeros(K_ventilation.T.shape)\n",
    "    for i in range(y.shape[0]):\n",
    "        y[i] = l_infiltration\n",
    "    l_infiltration = y.T\n",
    "    return l_infiltration + K_deposition + K_ventilation + K_filtration + K_purification\n",
    "\n",
    "#  mechanical ventilation rate of HVAC systems for space i\n",
    "def K_ventilation(f_runtime, f_recir, q_return, V):\n",
    "    return (f_runtime * (1 - f_recir) * q_return / V.T).T\n",
    "\n",
    "# particle removal rate due HVAC filtration for space i\n",
    "def K_filtration(f_runtime, f_recir, n_filter, q_return, V):\n",
    "    return (f_runtime * f_recir * n_filter * q_return / V.T).T\n",
    "\n",
    "# removal efficiency of measles viruses by an air purifier in space i\n",
    "def K_purification(f_runtimeAP, CDAR, V):\n",
    "    return f_runtimeAP * CDAR / V"
   ]
  },
  {
   "cell_type": "markdown",
   "metadata": {},
   "source": [
    "3 spaces: Infector’s classroom, Recirculation spaces, Common spaces"
   ]
  },
  {
   "cell_type": "code",
   "execution_count": null,
   "metadata": {},
   "outputs": [],
   "source": [
    "K_ventilation_test = K_ventilation(f_runtime, f_recir, q_return, V)\n",
    "print(K_ventilation_test) \n",
    "K_filtration_test = K_filtration(f_runtime, f_recir, n_filter, q_return, V)\n",
    "print(K_filtration_test)\n",
    "K_total_test = K_total(lambda_infilltration, K_deposition, K_ventilation_test, K_filtration_test, 0)\n",
    "print(K_total_test)"
   ]
  },
  {
   "cell_type": "code",
   "execution_count": null,
   "metadata": {},
   "outputs": [],
   "source": [
    "# Concentration of quanta in infector’s classroom and common space t hours \n",
    "# after presence of the index case s in space i\n",
    "def c_quanta(I, q, V, K_total, t):\n",
    "    return I * q / V / K_total * (1 - np.exp(-K_total*t/60))\n",
    "\n",
    "def cal_c_quanta_recir(target):\n",
    "    q_supply_recir = q_supply * (total_class - 1)\n",
    "    F_class_recir = q_return * f_recir * f_runtime * (1- n_filter) / V_recir * q_supply_recir / q_total\n",
    "    C_quanta_recir = np.zeros((target,2))\n",
    "    for t in range(1,target):\n",
    "        delta_t = 1/60\n",
    "        K_total_recir = K_total_test[:,1] \n",
    "        C_quanta_class = c_quanta(1,q,V_class,K_total_test[:,0],t-1)\n",
    "        C_quanta_recir[t] = delta_t * (- K_total_recir * C_quanta_recir[t-1] + F_class_recir * C_quanta_class) + C_quanta_recir[t-1]\n",
    "    return C_quanta_recir\n",
    "C_quanta_recir = cal_c_quanta_recir(total_time)\n",
    "print(C_quanta_recir)"
   ]
  },
  {
   "cell_type": "code",
   "execution_count": null,
   "metadata": {},
   "outputs": [],
   "source": [
    "time_class = np.array([280,340])\n",
    "time_recir = np.array([280,340])\n",
    "time_common = np.array([20,70]) \n",
    "inhale = np.array([12.96/24,15.53/24]) # inhalation rate (m3/hour)\n",
    "# average number of quanta breathed by susceptible students during a typical school day\n",
    "def average_quanta(total_students, p, target):\n",
    "    mu = np.zeros((2))\n",
    "    # infector classroom\n",
    "    f_infector = np.zeros((target,2))\n",
    "    f_recir = np.zeros((target,2))\n",
    "    f_common = np.zeros((target,2))\n",
    "    for t in range(target): \n",
    "        f_infector[t]  = student_class * c_quanta(1,q,V_class,K_total_test[:,0], t)\n",
    "        f_common[t] = student_common * c_quanta(1,q,V_common,K_total_test[:,2],t)\n",
    "        f_recir[t] = student_recir * C_quanta_recir[t]\n",
    "    for i in range(2):\n",
    "        for t in range(time_class[i]+1):\n",
    "            if t == 0 or t == time_class[i]:\n",
    "                mu[i] += f_infector[t][i]\n",
    "            else:\n",
    "                mu[i] += 2*f_infector[t][i]\n",
    "\n",
    "        for t in range(time_recir[i]+1):\n",
    "            if t == 0 or t == time_recir[i]:\n",
    "                mu[i] += f_recir[t][i]\n",
    "            else:\n",
    "                mu[i] += 2*f_recir[t][i]\n",
    "                \n",
    "        for t in range(time_common[i]+1):\n",
    "            if t == 0 or t == time_common[i]:\n",
    "                mu[i] += f_common[t][i]\n",
    "            else:\n",
    "                mu[i] += 2*f_common[t][i]\n",
    "    mu = mu / 30 * p / 60 /total_students\n",
    "    return mu \n",
    "\n",
    "mu = average_quanta(total_students,inhale,total_time)  \n",
    "print(mu)\n",
    "print(P_infection(mu))  "
   ]
  }
 ],
 "metadata": {
  "kernelspec": {
   "display_name": "Python 3.11.0 64-bit",
   "language": "python",
   "name": "python3"
  },
  "language_info": {
   "codemirror_mode": {
    "name": "ipython",
    "version": 3
   },
   "file_extension": ".py",
   "mimetype": "text/x-python",
   "name": "python",
   "nbconvert_exporter": "python",
   "pygments_lexer": "ipython3",
   "version": "3.11.0"
  },
  "orig_nbformat": 4,
  "vscode": {
   "interpreter": {
    "hash": "aee8b7b246df8f9039afb4144a1f6fd8d2ca17a180786b69acc140d282b71a49"
   }
  }
 },
 "nbformat": 4,
 "nbformat_minor": 2
}
