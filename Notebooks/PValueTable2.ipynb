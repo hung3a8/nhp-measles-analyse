{
 "cells": [
  {
   "cell_type": "code",
   "execution_count": 38,
   "metadata": {},
   "outputs": [],
   "source": [
    "import numpy as np\n",
    "import pandas as pd\n",
    "from scipy.stats import chi2_contingency\n",
    "from scipy.stats import f_oneway\n",
    "from scipy.stats import ttest_ind\n",
    "\n",
    "dataset = pd.read_csv('out.csv', keep_default_na=False)"
   ]
  },
  {
   "cell_type": "code",
   "execution_count": 2,
   "metadata": {},
   "outputs": [
    {
     "name": "stdout",
     "output_type": "stream",
     "text": [
      "[[23, 109], [246, 375], [580, 739]]\n",
      "1.8161548137992668e-08\n"
     ]
    }
   ],
   "source": [
    "# Year of admission \n",
    "table = [[23, 109], [246, 375], [580,739]]\n",
    "print(table)\n",
    "stat, pvalue, dof, expected_freq = chi2_contingency(table)\n",
    "print(pvalue)"
   ]
  },
  {
   "cell_type": "code",
   "execution_count": 3,
   "metadata": {},
   "outputs": [
    {
     "name": "stdout",
     "output_type": "stream",
     "text": [
      "[[542, 755], [307, 468]]\n",
      "0.35323854293238544\n"
     ]
    }
   ],
   "source": [
    "# Sex\n",
    "table =  [[542,755] ,[307,468]]\n",
    "print(table)\n",
    "stat, pvalue, dof, expected_freq = chi2_contingency(table)\n",
    "print(pvalue)"
   ]
  },
  {
   "cell_type": "code",
   "execution_count": 40,
   "metadata": {},
   "outputs": [
    {
     "data": {
      "text/plain": [
       "Ttest_indResult(statistic=-8.223124902478315, pvalue=3.458731335498801e-16)"
      ]
     },
     "execution_count": 40,
     "metadata": {},
     "output_type": "execute_result"
    }
   ],
   "source": [
    "# Age in months\n",
    "a = []\n",
    "b = []\n",
    "for i in range(len(dataset)):\n",
    "    x = dataset.at[i,'admission_date']\n",
    "    y = pd.to_datetime(x)\n",
    "    z = dataset.at[i,'dob']\n",
    "    t = pd.to_datetime(z)\n",
    "    decimal_month_at_admission = (y-t).days / 30\n",
    "    if dataset.at[i,'Clinical classification'] == 1:\n",
    "        a.append(decimal_month_at_admission)\n",
    "    else:\n",
    "        b.append(decimal_month_at_admission)\n",
    "ttest_ind(a,b)"
   ]
  },
  {
   "cell_type": "code",
   "execution_count": 4,
   "metadata": {},
   "outputs": [
    {
     "name": "stdout",
     "output_type": "stream",
     "text": [
      "[[787, 1021], [29, 143], [5, 24], [2, 1], [26, 34]]\n",
      "5.413073540320548e-11\n"
     ]
    }
   ],
   "source": [
    "# Vaccine status\n",
    "table = [[787, 1021], [29, 143], [5, 24], [2, 1], [26, 34]]\n",
    "print(table)\n",
    "stat, pvalue, dof, expected_freq = chi2_contingency(table)\n",
    "print(pvalue)"
   ]
  },
  {
   "cell_type": "code",
   "execution_count": 5,
   "metadata": {},
   "outputs": [
    {
     "name": "stdout",
     "output_type": "stream",
     "text": [
      "[[332, 215], [131, 110], [385, 896], [1, 2]]\n",
      "2.0612107044185064e-36\n"
     ]
    }
   ],
   "source": [
    "# Place of exposure \n",
    "table = [[332, 215],[131, 110],[385, 896],[1, 2]]\n",
    "print(table)\n",
    "stat, pvalue, dof, expected_freq = chi2_contingency(table)\n",
    "print(pvalue)"
   ]
  },
  {
   "cell_type": "code",
   "execution_count": 32,
   "metadata": {},
   "outputs": [
    {
     "data": {
      "text/plain": [
       "Ttest_indResult(statistic=-0.4761165749540186, pvalue=0.6508327765183728)"
      ]
     },
     "execution_count": 32,
     "metadata": {},
     "output_type": "execute_result"
    }
   ],
   "source": [
    "# Distance from the hospital\n",
    "table = np.array([[125, 343], [567, 718], [153, 152], [4, 10]])\n",
    "ttest_ind(table[:,0], table[:,1])"
   ]
  },
  {
   "cell_type": "code",
   "execution_count": 8,
   "metadata": {},
   "outputs": [
    {
     "name": "stdout",
     "output_type": "stream",
     "text": [
      "[[239, 475], [98, 109], [49, 51], [306, 416], [155, 166], [2, 6]]\n",
      "8.256864583240064e-06\n"
     ]
    }
   ],
   "source": [
    "# Region of residence\n",
    "table = [[239, 475], [98, 109], [49, 51], [306, 416], [155, 166], [2, 6]]\n",
    "print(table)\n",
    "stat, pvalue, dof, expected_freq = chi2_contingency(table)\n",
    "print(pvalue)"
   ]
  },
  {
   "cell_type": "code",
   "execution_count": 9,
   "metadata": {},
   "outputs": [
    {
     "name": "stdout",
     "output_type": "stream",
     "text": [
      "[[819, 1223], [30, 0]]\n",
      "1.2348520025312476e-10\n"
     ]
    }
   ],
   "source": [
    "# Clinical outcome\n",
    "table = [[819, 1223], [30, 0]]\n",
    "print(table)\n",
    "stat, pvalue, dof, expected_freq = chi2_contingency(table)\n",
    "print(pvalue)"
   ]
  },
  {
   "cell_type": "code",
   "execution_count": 34,
   "metadata": {},
   "outputs": [
    {
     "data": {
      "text/plain": [
       "Ttest_indResult(statistic=-0.5465983640013922, pvalue=0.5966390809722403)"
      ]
     },
     "execution_count": 34,
     "metadata": {},
     "output_type": "execute_result"
    }
   ],
   "source": [
    "# Duration between onset and admission \n",
    "table = np.array([[339, 272], [318, 596], [156, 296], [22, 25], [13, 33], [1, 1]])\n",
    "ttest_ind(table[:,0], table[:,1])"
   ]
  },
  {
   "cell_type": "code",
   "execution_count": 35,
   "metadata": {},
   "outputs": [
    {
     "data": {
      "text/plain": [
       "Ttest_indResult(statistic=-0.5490106774893776, pvalue=0.6122051445810066)"
      ]
     },
     "execution_count": 35,
     "metadata": {},
     "output_type": "execute_result"
    }
   ],
   "source": [
    "# Duration of stay within the hospital\n",
    "table = np.array([[226, 816], [391, 348], [232, 59]])\n",
    "ttest_ind(table[:,0], table[:,1])"
   ]
  },
  {
   "cell_type": "code",
   "execution_count": 12,
   "metadata": {},
   "outputs": [
    {
     "name": "stdout",
     "output_type": "stream",
     "text": [
      "[[23, 19], [45, 27], [73, 21], [20, 26], [6, 6], [44, 29], [7, 8], [554, 1031], [90, 69]]\n",
      "1.9837257300724257e-22\n"
     ]
    }
   ],
   "source": [
    "# Underlying conditions \n",
    "table = [[23, 19], [45, 27], [73, 21], [20, 26], [6, 6], [44, 29], [7, 8], [554, 1031], [90, 69]]\n",
    "print(table)\n",
    "stat, pvalue, dof, expected_freq = chi2_contingency(table)\n",
    "print(pvalue)"
   ]
  },
  {
   "cell_type": "code",
   "execution_count": 36,
   "metadata": {},
   "outputs": [
    {
     "data": {
      "text/plain": [
       "Ttest_indResult(statistic=-0.47545424812360043, pvalue=0.6471743077213766)"
      ]
     },
     "execution_count": 36,
     "metadata": {},
     "output_type": "execute_result"
    }
   ],
   "source": [
    "# Duration between onset and test\n",
    "table = np.array([[6, 10], [185, 246], [202, 229], [455, 737], [1, 1]])\n",
    "ttest_ind(table[:,0], table[:,1])"
   ]
  },
  {
   "cell_type": "code",
   "execution_count": 15,
   "metadata": {},
   "outputs": [
    {
     "name": "stdout",
     "output_type": "stream",
     "text": [
      "[[272, 576], [361, 300], [343, 406], [177, 214]]\n",
      "2.588060207334628e-17\n"
     ]
    }
   ],
   "source": [
    "# Diagnosis upon admission \n",
    "table = [[272, 576], [361, 300], [343, 406], [177, 214]]\n",
    "print(table)\n",
    "stat, pvalue, dof, expected_freq = chi2_contingency(table)\n",
    "print(pvalue)"
   ]
  },
  {
   "cell_type": "code",
   "execution_count": 16,
   "metadata": {},
   "outputs": [
    {
     "name": "stdout",
     "output_type": "stream",
     "text": [
      "[[14, 37], [4, 26], [1, 1], [0, 7], [721, 692], [9, 1], [2, 2]]\n",
      "3.875931225578983e-07\n"
     ]
    }
   ],
   "source": [
    "# Complications \n",
    "table = [[14, 37], [4, 26], [1, 1], [0, 7], [721, 692], [9, 1], [2, 2]]\n",
    "print(table)\n",
    "stat, pvalue, dof, expected_freq = chi2_contingency(table)\n",
    "print(pvalue)"
   ]
  },
  {
   "cell_type": "code",
   "execution_count": 17,
   "metadata": {},
   "outputs": [
    {
     "name": "stdout",
     "output_type": "stream",
     "text": [
      "[[8, 8], [3, 1], [1, 2], [2, 0]]\n",
      "0.38904604213812466\n"
     ]
    }
   ],
   "source": [
    "# Co-infections\n",
    "table = [[8, 8], [3, 1], [1, 2], [2, 0]]\n",
    "print(table)\n",
    "stat, pvalue, dof, expected_freq = chi2_contingency(table)\n",
    "print(pvalue)"
   ]
  },
  {
   "cell_type": "code",
   "execution_count": 18,
   "metadata": {},
   "outputs": [
    {
     "name": "stdout",
     "output_type": "stream",
     "text": [
      "[[18, 12], [73, 22], [12, 5], [15, 3]]\n",
      "0.2269508458940581\n"
     ]
    }
   ],
   "source": [
    "# Healthcare-associated infection\n",
    "table = [[18, 12], [73, 22], [12, 5], [15, 3]]\n",
    "print(table)\n",
    "stat, pvalue, dof, expected_freq = chi2_contingency(table)\n",
    "print(pvalue)"
   ]
  }
 ],
 "metadata": {
  "kernelspec": {
   "display_name": "Python 3.11.0 64-bit",
   "language": "python",
   "name": "python3"
  },
  "language_info": {
   "codemirror_mode": {
    "name": "ipython",
    "version": 3
   },
   "file_extension": ".py",
   "mimetype": "text/x-python",
   "name": "python",
   "nbconvert_exporter": "python",
   "pygments_lexer": "ipython3",
   "version": "3.11.0"
  },
  "orig_nbformat": 4,
  "vscode": {
   "interpreter": {
    "hash": "aee8b7b246df8f9039afb4144a1f6fd8d2ca17a180786b69acc140d282b71a49"
   }
  }
 },
 "nbformat": 4,
 "nbformat_minor": 2
}
