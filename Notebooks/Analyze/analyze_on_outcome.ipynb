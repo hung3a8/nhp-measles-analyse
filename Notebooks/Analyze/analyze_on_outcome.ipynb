{
 "cells": [
  {
   "cell_type": "code",
   "execution_count": 1,
   "metadata": {},
   "outputs": [],
   "source": [
    "import pandas as pd\n",
    "import numpy as np\n",
    "import datetime\n",
    "import string\n",
    "import os\n",
    "from matplotlib import pyplot as plt\n",
    "from pathlib import Path\n",
    "\n",
    "def print_with_index(l):\n",
    "    df = pd.DataFrame(l)\n",
    "    print(df.rename(columns={0: 'discharged', 1: 'deceased'}))"
   ]
  },
  {
   "cell_type": "code",
   "execution_count": 2,
   "metadata": {},
   "outputs": [
    {
     "name": "stdout",
     "output_type": "stream",
     "text": [
      "(2072, 65)\n"
     ]
    }
   ],
   "source": [
    "DATA = os.path.join(Path.cwd().parents[0], 'Data/out.csv')\n",
    "data = pd.read_csv(DATA, keep_default_na=False)\n",
    "print(data.shape)"
   ]
  },
  {
   "cell_type": "code",
   "execution_count": 3,
   "metadata": {},
   "outputs": [
    {
     "name": "stdout",
     "output_type": "stream",
     "text": [
      "0    2042\n",
      "1      30\n",
      "Name: outcome_died, dtype: int64\n",
      "0    98.552124\n",
      "1     1.447876\n",
      "Name: outcome_died, dtype: float64\n"
     ]
    }
   ],
   "source": [
    "# Get outcome died\n",
    "outcome_died = data['outcome_died']\n",
    "# print(outcome_died)\n",
    "\n",
    "# Number of severe/not severe cases\n",
    "cases = outcome_died.value_counts()\n",
    "print(cases)\n",
    "print(cases / outcome_died.shape[0] * 100)"
   ]
  },
  {
   "cell_type": "code",
   "execution_count": 4,
   "metadata": {},
   "outputs": [
    {
     "name": "stdout",
     "output_type": "stream",
     "text": [
      "   discharged  deceased\n",
      "0       130.0       2.0\n",
      "1       615.0       6.0\n",
      "2      1297.0      22.0\n",
      "   discharged   deceased\n",
      "0    6.366308   6.666667\n",
      "1   30.117532  20.000000\n",
      "2   63.516161  73.333333\n"
     ]
    }
   ],
   "source": [
    "# By year: 2017, 2018, 2019\n",
    "by_year = np.zeros((3, 2))\n",
    "by_year_percent = np.zeros((3, 2))\n",
    "\n",
    "for year in ['2017', '2018', '2019']:\n",
    "    for i, case in enumerate([0, 1]):\n",
    "        by_year[int(year) - 2017, i] = data[(data['admission_date'].str.contains(year)) & (data['outcome_died'] == case)].shape[0]\n",
    "        by_year_percent[int(year) - 2017, i] = by_year[int(year) - 2017, i] / cases[case] * 100\n",
    "\n",
    "print_with_index(by_year)\n",
    "print_with_index(by_year_percent)"
   ]
  },
  {
   "cell_type": "code",
   "execution_count": 5,
   "metadata": {},
   "outputs": [
    {
     "name": "stdout",
     "output_type": "stream",
     "text": [
      "18\n",
      "   discharged  deceased\n",
      "0      1279.0      18.0\n",
      "1       763.0      12.0\n",
      "   discharged  deceased\n",
      "0   62.634672      60.0\n",
      "1   37.365328      40.0\n"
     ]
    }
   ],
   "source": [
    "# By sex: Male or Female\n",
    "by_sex = np.zeros((2, 2))\n",
    "by_sex_percent = np.zeros((2, 2))\n",
    "\n",
    "print(data[(data['Female'] == 0) & (data['outcome_died'] == 1)].shape[0])\n",
    "\n",
    "for i, sex in enumerate((0, 1)):\n",
    "    for j, case in enumerate((0, 1)):\n",
    "        # print(f\"At cell {i}, {j}\")\n",
    "        # print(f\"sex = {sex}, case = {case} => {data[(data['Female'] == sex) & (data['Clinical classification'] == case)].shape[0]}\")\n",
    "        by_sex[i, j] = data[(data['Female'] == sex) & (data['outcome_died'] == case)].shape[0]\n",
    "        by_sex_percent[i, j] = by_sex[i, j] / cases[case] * 100\n",
    "\n",
    "print_with_index(by_sex)\n",
    "print_with_index(by_sex_percent)"
   ]
  },
  {
   "cell_type": "code",
   "execution_count": 6,
   "metadata": {},
   "outputs": [
    {
     "name": "stdout",
     "output_type": "stream",
     "text": [
      "32.6\n",
      "43.1\n",
      "19.7\n",
      "28.7\n"
     ]
    }
   ],
   "source": [
    "# Calcuate mean age and std\n",
    "severe_age = data[data['outcome_died'] == 1]['age_at_admission']\n",
    "not_severe_age = data[data['outcome_died'] == 0]['age_at_admission']\n",
    "\n",
    "print(round(severe_age.mean(), 1))\n",
    "print(round(severe_age.std(), 1))\n",
    "print(round(not_severe_age.mean(), 1))\n",
    "print(round(not_severe_age.std(), 1))"
   ]
  },
  {
   "cell_type": "code",
   "execution_count": 7,
   "metadata": {},
   "outputs": [
    {
     "name": "stdout",
     "output_type": "stream",
     "text": [
      "   discharged  deceased\n",
      "0        87.0       0.0\n",
      "1       286.0       6.0\n",
      "2       517.0       6.0\n",
      "3       450.0       6.0\n",
      "4       312.0       3.0\n",
      "5       105.0       1.0\n",
      "6        71.0       1.0\n",
      "7        34.0       1.0\n",
      "8       180.0       6.0\n",
      "   discharged  deceased\n",
      "0         4.3       0.0\n",
      "1        14.0      20.0\n",
      "2        25.3      20.0\n",
      "3        22.0      20.0\n",
      "4        15.3      10.0\n",
      "5         5.1       3.3\n",
      "6         3.5       3.3\n",
      "7         1.7       3.3\n",
      "8         8.8      20.0\n"
     ]
    }
   ],
   "source": [
    "# By age group\n",
    "age_groups = {\n",
    "    '0-<3': lambda x: x < 3,\n",
    "    '3-<6': lambda x: x >= 3 and x < 6,\n",
    "    '6-<9': lambda x: x >= 6 and x < 9,\n",
    "    '9-<12': lambda x: x >= 9 and x < 12,\n",
    "    '12-<24': lambda x: x >= 12 and x < 24,\n",
    "    '24-<36': lambda x: x >= 24 and x < 36,\n",
    "    '36-<48': lambda x: x >= 36 and x < 48,\n",
    "    '48-<60': lambda x: x >= 48 and x < 60,\n",
    "    '>=60': lambda x: x >= 60\n",
    "} # in months\n",
    "\n",
    "by_age_group = np.zeros((9, 2))\n",
    "by_age_group_percent = np.zeros((9, 2))\n",
    "\n",
    "for i, group in enumerate(age_groups):\n",
    "    for j, case in enumerate((0, 1)):\n",
    "        by_age_group[i, j] = data[(data['age_at_admission'].apply(age_groups[group])) & (data['outcome_died'] == case)].shape[0]\n",
    "        by_age_group_percent[i, j] = round(by_age_group[i, j] / cases[case] * 100, 1)\n",
    "\n",
    "print_with_index(by_age_group)\n",
    "print_with_index(by_age_group_percent)"
   ]
  },
  {
   "cell_type": "code",
   "execution_count": 8,
   "metadata": {},
   "outputs": [
    {
     "name": "stdout",
     "output_type": "stream",
     "text": [
      "['0', '1', '2', '3', 'NA']\n",
      "   discharged  deceased\n",
      "0        1782        26\n",
      "1         170         2\n",
      "2          29         0\n",
      "3           2         1\n",
      "4          59         1\n",
      "   discharged  deceased\n",
      "0        87.3      86.7\n",
      "1         8.3       6.7\n",
      "2         1.4       0.0\n",
      "3         0.1       3.3\n",
      "4         2.9       3.3\n"
     ]
    }
   ],
   "source": [
    "# By vaccination status\n",
    "vaccination_status = sorted(data['Vaccination'].unique(), key=lambda x: 100 if pd.isna(x) else x)\n",
    "print(vaccination_status)\n",
    "\n",
    "by_vaccination_status = np.zeros((len(vaccination_status), 2))\n",
    "by_vaccination_status_percent = np.zeros((len(vaccination_status), 2))\n",
    "\n",
    "for i, status in enumerate(vaccination_status):\n",
    "    for j, case in enumerate((0, 1)):\n",
    "        if pd.isna(status):\n",
    "            by_vaccination_status[i, j] = data[(pd.isna(data['Vaccination'])) & (data['outcome_died'] == case)].shape[0]\n",
    "        else:\n",
    "            by_vaccination_status[i, j] = data[(data['Vaccination'] == status) & (data['outcome_died'] == case)].shape[0]\n",
    "        by_vaccination_status_percent[i, j] = round(by_vaccination_status[i, j] / cases[case] * 100, 1)\n",
    "\n",
    "print_with_index(by_vaccination_status.astype(int))\n",
    "print_with_index(by_vaccination_status_percent)"
   ]
  },
  {
   "cell_type": "code",
   "execution_count": 9,
   "metadata": {},
   "outputs": [
    {
     "name": "stdout",
     "output_type": "stream",
     "text": [
      "['NHP' 'Another hospital' 'community' '']\n",
      "   discharged  deceased\n",
      "0         535        12\n",
      "1         232         9\n",
      "2        1272         9\n",
      "3           3         0\n",
      "   discharged  deceased\n",
      "0        26.2      40.0\n",
      "1        11.4      30.0\n",
      "2        62.3      30.0\n",
      "3         0.1       0.0\n"
     ]
    }
   ],
   "source": [
    "place_of_exposure_groups = data['place_of_exposure'].unique()\n",
    "print(place_of_exposure_groups)\n",
    "\n",
    "by_place_of_exposure = np.zeros((len(place_of_exposure_groups), 2))\n",
    "by_place_of_exposure_percent = np.zeros((len(place_of_exposure_groups), 2))\n",
    "\n",
    "for i, place in enumerate(place_of_exposure_groups):\n",
    "    for j, case in enumerate((0, 1)):\n",
    "        if pd.isna(place):\n",
    "            by_place_of_exposure[i, j] = data[(pd.isna(data['place_of_exposure'])) & (data['outcome_died'] == case)].shape[0]\n",
    "        else:\n",
    "            by_place_of_exposure[i, j] = data[(data['place_of_exposure'] == place) & (data['outcome_died'] == case)].shape[0]\n",
    "        by_place_of_exposure_percent[i, j] = round(by_place_of_exposure[i, j] / cases[case] * 100, 1)\n",
    "\n",
    "print_with_index(by_place_of_exposure.astype(int))\n",
    "print_with_index(by_place_of_exposure_percent)"
   ]
  },
  {
   "cell_type": "code",
   "execution_count": 10,
   "metadata": {},
   "outputs": [
    {
     "name": "stdout",
     "output_type": "stream",
     "text": [
      "['<20', '20-200', '200-500', '>=500']\n",
      "   discharged  deceased\n",
      "0         466         2\n",
      "1        1263        22\n",
      "2         299         6\n",
      "3          14         0\n",
      "   discharged  deceased\n",
      "0        22.8       6.7\n",
      "1        61.9      73.3\n",
      "2        14.6      20.0\n",
      "3         0.7       0.0\n"
     ]
    }
   ],
   "source": [
    "# By distance\n",
    "distance_groups = {\n",
    "    '<20': lambda x: x < 20,\n",
    "    '20-200': lambda x: x >= 20 and x < 200,\n",
    "    '200-500': lambda x: x >= 200 and x < 500,\n",
    "    '>=500': lambda x: x >= 500\n",
    "}\n",
    "print(list(distance_groups))\n",
    "\n",
    "by_distance = np.zeros((4, 2))\n",
    "by_distance_percent = np.zeros((4, 2))\n",
    "\n",
    "for i, group in enumerate(distance_groups):\n",
    "    for j, case in enumerate((0, 1)):\n",
    "        by_distance[i, j] = data[(data['distance_to_nhp'].apply(distance_groups[group])) & (data['outcome_died'] == case)].shape[0]\n",
    "        by_distance_percent[i, j] = round(by_distance[i, j] / cases[case] * 100, 1)\n",
    "\n",
    "print_with_index(by_distance.astype(int))\n",
    "print_with_index(by_distance_percent)"
   ]
  },
  {
   "cell_type": "code",
   "execution_count": 11,
   "metadata": {},
   "outputs": [
    {
     "name": "stdout",
     "output_type": "stream",
     "text": [
      "['Ha Noi', 'Northeastern', 'Northwestern', 'Red River Delta (except Hanoi)', 'Central', 'Southern']\n",
      "   discharged  deceased\n",
      "0         710         4\n",
      "1         202         5\n",
      "2          97         3\n",
      "3         711        11\n",
      "4         314         7\n",
      "5           8         0\n",
      "   discharged  deceased\n",
      "0        34.8      13.3\n",
      "1         9.9      16.7\n",
      "2         4.8      10.0\n",
      "3        34.8      36.7\n",
      "4        15.4      23.3\n",
      "5         0.4       0.0\n"
     ]
    }
   ],
   "source": [
    "# By region of residence\n",
    "# region_of_residence = data['region_of_address'].unique()\n",
    "region_of_residence = [\n",
    "    'Ha Noi',\n",
    "    'Northeastern',\n",
    "    'Northwestern',\n",
    "    'Red River Delta (except Hanoi)',\n",
    "    'Central',\n",
    "    'Southern',\n",
    "]\n",
    "print(region_of_residence)\n",
    "\n",
    "by_region_of_residence = np.zeros((len(region_of_residence), 2))\n",
    "by_region_of_residence_percent = np.zeros((len(region_of_residence), 2))\n",
    "\n",
    "for i, region in enumerate(region_of_residence):\n",
    "    for j, case in enumerate((0, 1)):\n",
    "        by_region_of_residence[i, j] = data[(data['region_of_address'] == region) & (data['outcome_died'] == case)].shape[0]\n",
    "        by_region_of_residence_percent[i, j] = round(by_region_of_residence[i, j] / cases[case] * 100, 1)\n",
    "\n",
    "print_with_index(by_region_of_residence.astype(int))\n",
    "print_with_index(by_region_of_residence_percent)"
   ]
  },
  {
   "cell_type": "code",
   "execution_count": 12,
   "metadata": {},
   "outputs": [
    {
     "name": "stdout",
     "output_type": "stream",
     "text": [
      "[0, 1]\n",
      "   discharged  deceased\n",
      "0        1223         0\n",
      "1         819        30\n",
      "   discharged  deceased\n",
      "0        59.9       0.0\n",
      "1        40.1     100.0\n"
     ]
    }
   ],
   "source": [
    "# By severity\n",
    "severity_groups = [0, 1]\n",
    "print(severity_groups)\n",
    "\n",
    "by_severity = np.zeros((len(severity_groups), 2))\n",
    "by_severity_percent = np.zeros((len(severity_groups), 2))\n",
    "\n",
    "for i, severity in enumerate(severity_groups):\n",
    "    for j, case in enumerate((0, 1)):\n",
    "        by_severity[i, j] = data[(data['Clinical classification'] == severity) & (data['outcome_died'] == case)].shape[0]\n",
    "        by_severity_percent[i, j] = round(by_severity[i, j] / cases[case] * 100, 1)\n",
    "\n",
    "print_with_index(by_severity.astype(int))\n",
    "print_with_index(by_severity_percent)"
   ]
  },
  {
   "cell_type": "code",
   "execution_count": 13,
   "metadata": {},
   "outputs": [
    {
     "name": "stdout",
     "output_type": "stream",
     "text": [
      "['<0', '0-3', '3-7', '7-14', '>=14', 'Unknown']\n"
     ]
    },
    {
     "ename": "TypeError",
     "evalue": "'<' not supported between instances of 'str' and 'int'",
     "output_type": "error",
     "traceback": [
      "\u001b[0;31m---------------------------------------------------------------------------\u001b[0m",
      "\u001b[0;31mTypeError\u001b[0m                                 Traceback (most recent call last)",
      "Cell \u001b[0;32mIn [13], line 20\u001b[0m\n\u001b[1;32m     18\u001b[0m             by_duration[i, j] \u001b[39m=\u001b[39m data[(pd\u001b[39m.\u001b[39misna(data[\u001b[39m'\u001b[39m\u001b[39mduration time onset to admission\u001b[39m\u001b[39m'\u001b[39m])) \u001b[39m&\u001b[39m (data[\u001b[39m'\u001b[39m\u001b[39moutcome_died\u001b[39m\u001b[39m'\u001b[39m] \u001b[39m==\u001b[39m case)]\u001b[39m.\u001b[39mshape[\u001b[39m0\u001b[39m]\n\u001b[1;32m     19\u001b[0m         \u001b[39melse\u001b[39;00m:\n\u001b[0;32m---> 20\u001b[0m             by_duration[i, j] \u001b[39m=\u001b[39m data[(data[\u001b[39m'\u001b[39;49m\u001b[39mduration time onset to admission\u001b[39;49m\u001b[39m'\u001b[39;49m]\u001b[39m.\u001b[39;49mapply(duration_groups[group])) \u001b[39m&\u001b[39m (data[\u001b[39m'\u001b[39m\u001b[39moutcome_died\u001b[39m\u001b[39m'\u001b[39m] \u001b[39m==\u001b[39m case)]\u001b[39m.\u001b[39mshape[\u001b[39m0\u001b[39m]\n\u001b[1;32m     21\u001b[0m         by_duration_percent[i, j] \u001b[39m=\u001b[39m \u001b[39mround\u001b[39m(by_duration[i, j] \u001b[39m/\u001b[39m cases[case] \u001b[39m*\u001b[39m \u001b[39m100\u001b[39m, \u001b[39m1\u001b[39m)\n\u001b[1;32m     23\u001b[0m print_with_index(by_duration\u001b[39m.\u001b[39mastype(\u001b[39mint\u001b[39m))\n",
      "File \u001b[0;32m/Library/Frameworks/Python.framework/Versions/3.11/lib/python3.11/site-packages/pandas/core/series.py:4771\u001b[0m, in \u001b[0;36mSeries.apply\u001b[0;34m(self, func, convert_dtype, args, **kwargs)\u001b[0m\n\u001b[1;32m   4661\u001b[0m \u001b[39mdef\u001b[39;00m \u001b[39mapply\u001b[39m(\n\u001b[1;32m   4662\u001b[0m     \u001b[39mself\u001b[39m,\n\u001b[1;32m   4663\u001b[0m     func: AggFuncType,\n\u001b[0;32m   (...)\u001b[0m\n\u001b[1;32m   4666\u001b[0m     \u001b[39m*\u001b[39m\u001b[39m*\u001b[39mkwargs,\n\u001b[1;32m   4667\u001b[0m ) \u001b[39m-\u001b[39m\u001b[39m>\u001b[39m DataFrame \u001b[39m|\u001b[39m Series:\n\u001b[1;32m   4668\u001b[0m     \u001b[39m\"\"\"\u001b[39;00m\n\u001b[1;32m   4669\u001b[0m \u001b[39m    Invoke function on values of Series.\u001b[39;00m\n\u001b[1;32m   4670\u001b[0m \n\u001b[0;32m   (...)\u001b[0m\n\u001b[1;32m   4769\u001b[0m \u001b[39m    dtype: float64\u001b[39;00m\n\u001b[1;32m   4770\u001b[0m \u001b[39m    \"\"\"\u001b[39;00m\n\u001b[0;32m-> 4771\u001b[0m     \u001b[39mreturn\u001b[39;00m SeriesApply(\u001b[39mself\u001b[39;49m, func, convert_dtype, args, kwargs)\u001b[39m.\u001b[39;49mapply()\n",
      "File \u001b[0;32m/Library/Frameworks/Python.framework/Versions/3.11/lib/python3.11/site-packages/pandas/core/apply.py:1105\u001b[0m, in \u001b[0;36mSeriesApply.apply\u001b[0;34m(self)\u001b[0m\n\u001b[1;32m   1102\u001b[0m     \u001b[39mreturn\u001b[39;00m \u001b[39mself\u001b[39m\u001b[39m.\u001b[39mapply_str()\n\u001b[1;32m   1104\u001b[0m \u001b[39m# self.f is Callable\u001b[39;00m\n\u001b[0;32m-> 1105\u001b[0m \u001b[39mreturn\u001b[39;00m \u001b[39mself\u001b[39;49m\u001b[39m.\u001b[39;49mapply_standard()\n",
      "File \u001b[0;32m/Library/Frameworks/Python.framework/Versions/3.11/lib/python3.11/site-packages/pandas/core/apply.py:1156\u001b[0m, in \u001b[0;36mSeriesApply.apply_standard\u001b[0;34m(self)\u001b[0m\n\u001b[1;32m   1154\u001b[0m     \u001b[39melse\u001b[39;00m:\n\u001b[1;32m   1155\u001b[0m         values \u001b[39m=\u001b[39m obj\u001b[39m.\u001b[39mastype(\u001b[39mobject\u001b[39m)\u001b[39m.\u001b[39m_values\n\u001b[0;32m-> 1156\u001b[0m         mapped \u001b[39m=\u001b[39m lib\u001b[39m.\u001b[39;49mmap_infer(\n\u001b[1;32m   1157\u001b[0m             values,\n\u001b[1;32m   1158\u001b[0m             f,\n\u001b[1;32m   1159\u001b[0m             convert\u001b[39m=\u001b[39;49m\u001b[39mself\u001b[39;49m\u001b[39m.\u001b[39;49mconvert_dtype,\n\u001b[1;32m   1160\u001b[0m         )\n\u001b[1;32m   1162\u001b[0m \u001b[39mif\u001b[39;00m \u001b[39mlen\u001b[39m(mapped) \u001b[39mand\u001b[39;00m \u001b[39misinstance\u001b[39m(mapped[\u001b[39m0\u001b[39m], ABCSeries):\n\u001b[1;32m   1163\u001b[0m     \u001b[39m# GH#43986 Need to do list(mapped) in order to get treated as nested\u001b[39;00m\n\u001b[1;32m   1164\u001b[0m     \u001b[39m#  See also GH#25959 regarding EA support\u001b[39;00m\n\u001b[1;32m   1165\u001b[0m     \u001b[39mreturn\u001b[39;00m obj\u001b[39m.\u001b[39m_constructor_expanddim(\u001b[39mlist\u001b[39m(mapped), index\u001b[39m=\u001b[39mobj\u001b[39m.\u001b[39mindex)\n",
      "File \u001b[0;32m/Library/Frameworks/Python.framework/Versions/3.11/lib/python3.11/site-packages/pandas/_libs/lib.pyx:2918\u001b[0m, in \u001b[0;36mpandas._libs.lib.map_infer\u001b[0;34m()\u001b[0m\n",
      "Cell \u001b[0;32mIn [13], line 3\u001b[0m, in \u001b[0;36m<lambda>\u001b[0;34m(x)\u001b[0m\n\u001b[1;32m      1\u001b[0m \u001b[39m# By duration between onset and admission\u001b[39;00m\n\u001b[1;32m      2\u001b[0m duration_groups \u001b[39m=\u001b[39m {\n\u001b[0;32m----> 3\u001b[0m     \u001b[39m'\u001b[39m\u001b[39m<0\u001b[39m\u001b[39m'\u001b[39m: \u001b[39mlambda\u001b[39;00m x: x \u001b[39m<\u001b[39;49m \u001b[39m0\u001b[39;49m,\n\u001b[1;32m      4\u001b[0m     \u001b[39m'\u001b[39m\u001b[39m0-3\u001b[39m\u001b[39m'\u001b[39m: \u001b[39mlambda\u001b[39;00m x: x \u001b[39m>\u001b[39m\u001b[39m=\u001b[39m \u001b[39m0\u001b[39m \u001b[39mand\u001b[39;00m x \u001b[39m<\u001b[39m \u001b[39m3\u001b[39m,\n\u001b[1;32m      5\u001b[0m     \u001b[39m'\u001b[39m\u001b[39m3-7\u001b[39m\u001b[39m'\u001b[39m: \u001b[39mlambda\u001b[39;00m x: x \u001b[39m>\u001b[39m\u001b[39m=\u001b[39m \u001b[39m3\u001b[39m \u001b[39mand\u001b[39;00m x \u001b[39m<\u001b[39m \u001b[39m7\u001b[39m,\n\u001b[1;32m      6\u001b[0m     \u001b[39m'\u001b[39m\u001b[39m7-14\u001b[39m\u001b[39m'\u001b[39m: \u001b[39mlambda\u001b[39;00m x: x \u001b[39m>\u001b[39m\u001b[39m=\u001b[39m \u001b[39m7\u001b[39m \u001b[39mand\u001b[39;00m x \u001b[39m<\u001b[39m \u001b[39m14\u001b[39m,\n\u001b[1;32m      7\u001b[0m     \u001b[39m'\u001b[39m\u001b[39m>=14\u001b[39m\u001b[39m'\u001b[39m: \u001b[39mlambda\u001b[39;00m x: x \u001b[39m>\u001b[39m\u001b[39m=\u001b[39m \u001b[39m14\u001b[39m,\n\u001b[1;32m      8\u001b[0m     \u001b[39m'\u001b[39m\u001b[39mUnknown\u001b[39m\u001b[39m'\u001b[39m: \u001b[39mlambda\u001b[39;00m x: pd\u001b[39m.\u001b[39misna(x)\n\u001b[1;32m      9\u001b[0m }\n\u001b[1;32m     10\u001b[0m \u001b[39mprint\u001b[39m(\u001b[39mlist\u001b[39m(duration_groups))\n\u001b[1;32m     12\u001b[0m by_duration \u001b[39m=\u001b[39m np\u001b[39m.\u001b[39mzeros((\u001b[39mlen\u001b[39m(duration_groups), \u001b[39m2\u001b[39m))\n",
      "\u001b[0;31mTypeError\u001b[0m: '<' not supported between instances of 'str' and 'int'"
     ]
    }
   ],
   "source": [
    "# By duration between onset and admission\n",
    "duration_groups = {\n",
    "    '<0': lambda x: x < 0,\n",
    "    '0-3': lambda x: x >= 0 and x < 3,\n",
    "    '3-7': lambda x: x >= 3 and x < 7,\n",
    "    '7-14': lambda x: x >= 7 and x < 14,\n",
    "    '>=14': lambda x: x >= 14,\n",
    "    'Unknown': lambda x: pd.isna(x)\n",
    "}\n",
    "print(list(duration_groups))\n",
    "\n",
    "by_duration = np.zeros((len(duration_groups), 2))\n",
    "by_duration_percent = np.zeros((len(duration_groups), 2))\n",
    "\n",
    "for i, group in enumerate(duration_groups):\n",
    "    for j, case in enumerate((0, 1)):\n",
    "        if pd.isna(group):\n",
    "            by_duration[i, j] = data[(pd.isna(data['duration time onset to admission'])) & (data['outcome_died'] == case)].shape[0]\n",
    "        else:\n",
    "            by_duration[i, j] = data[(data['duration time onset to admission'].apply(duration_groups[group])) & (data['outcome_died'] == case)].shape[0]\n",
    "        by_duration_percent[i, j] = round(by_duration[i, j] / cases[case] * 100, 1)\n",
    "\n",
    "print_with_index(by_duration.astype(int))\n",
    "print_with_index(by_duration_percent)"
   ]
  },
  {
   "cell_type": "code",
   "execution_count": null,
   "metadata": {},
   "outputs": [],
   "source": [
    "# By duration of stay\n",
    "duration_stay_groups = {\n",
    "    '0-7': lambda x: x >= 0 and x < 7,\n",
    "    '7-21': lambda x: x >= 7 and x < 21,\n",
    "    '>=21': lambda x: x >= 21,\n",
    "    'Unkown': lambda x: pd.isna(x)\n",
    "}\n",
    "print(list(duration_stay_groups))\n",
    "\n",
    "by_duration_stay = np.zeros((len(duration_stay_groups), 2))\n",
    "by_duration_stay_percent = np.zeros((len(duration_stay_groups), 2))\n",
    "\n",
    "for i, group in enumerate(duration_stay_groups):\n",
    "    for j, case in enumerate((0, 1)):\n",
    "        if pd.isna(group):\n",
    "            by_duration_stay[i, j] = data[(pd.isna(data['duration_of_stay'])) & (data['outcome_died'] == case)].shape[0]\n",
    "        else:\n",
    "            by_duration_stay[i, j] = data[(data['duration_of_stay'].apply(duration_stay_groups[group])) & (data['outcome_died'] == case)].shape[0]\n",
    "        by_duration_stay_percent[i, j] = round(by_duration_stay[i, j] / cases[case] * 100, 1)\n",
    "\n",
    "print_with_index(by_duration_stay.astype(int))\n",
    "print_with_index(by_duration_stay_percent)"
   ]
  },
  {
   "cell_type": "code",
   "execution_count": null,
   "metadata": {},
   "outputs": [],
   "source": [
    "# By underlying conditions\n",
    "underlying_conditions = [key for key in data.keys() if 'Underlying condition' in key]\n",
    "\n",
    "by_underlying_condition_total = np.zeros((len(underlying_conditions), 2))\n",
    "by_underlying_condition_total_percent = np.zeros((len(underlying_conditions), 2))\n",
    "\n",
    "for i, condition in enumerate(underlying_conditions):\n",
    "    print(condition)\n",
    "    by_underlying_condition = np.zeros((1, 2))\n",
    "    by_underlying_condition_percent = np.zeros((1, 2))\n",
    "    value = 1\n",
    "    for j, case in enumerate((0, 1)):\n",
    "        by_underlying_condition[0, j] = data[(data[condition] == value) & (data['outcome_died'] == case)].shape[0]\n",
    "        by_underlying_condition_percent[0, j] = round(by_underlying_condition[0, j] / cases[case] * 100, 1)\n",
    "    by_underlying_condition_total[i, :] = by_underlying_condition\n",
    "    by_underlying_condition_total_percent[i, :] = by_underlying_condition_percent\n",
    "\n",
    "print_with_index(by_underlying_condition_total.astype(int))\n",
    "print_with_index(by_underlying_condition_total_percent)"
   ]
  },
  {
   "cell_type": "code",
   "execution_count": null,
   "metadata": {},
   "outputs": [],
   "source": [
    "# By maximal form of respiratory support used\n",
    "respiratory_support = [\n",
    "    'oxygen_cannula',\n",
    "    'CPAP',\n",
    "    'conventional_mechanical_ventilation',\n",
    "    'hfo_ventilation',\n",
    "    'ECMO',\n",
    "]\n",
    "print(respiratory_support)\n",
    "\n",
    "by_respiratory_support = np.zeros((len(respiratory_support), 2))\n",
    "by_respiratory_support_percent = np.zeros((len(respiratory_support), 2))\n",
    "\n",
    "for i, support in enumerate(respiratory_support):\n",
    "    for j, case in enumerate((0, 1)):\n",
    "        by_respiratory_support[i, j] = data[(data['highest_ventilation_mode'] == support) & (data['outcome_died'] == case)].shape[0]\n",
    "        by_respiratory_support_percent[i, j] = round(by_respiratory_support[i, j] / cases[case] * 100, 1)\n",
    "\n",
    "\n",
    "print_with_index(by_respiratory_support.astype(int))\n",
    "print_with_index(by_respiratory_support_percent)"
   ]
  },
  {
   "cell_type": "code",
   "execution_count": null,
   "metadata": {},
   "outputs": [],
   "source": [
    "# By duration between onset and test (hours)\n",
    "duration_between_onset_and_test_groups = {\n",
    "    '<0': lambda x: x < 0,\n",
    "    '0-24': lambda x: x >= 0 and x < 24,\n",
    "    '24-48': lambda x: x >= 24 and x < 48,\n",
    "    '>=48': lambda x: x >= 48,\n",
    "    'Unkown': lambda x: pd.isna(x)\n",
    "}\n",
    "print(list(duration_between_onset_and_test_groups))\n",
    "\n",
    "by_duration_between_onset_and_test = np.zeros((len(duration_between_onset_and_test_groups), 2))\n",
    "by_duration_between_onset_and_test_percent = np.zeros((len(duration_between_onset_and_test_groups), 2))\n",
    "\n",
    "for i, group in enumerate(duration_between_onset_and_test_groups):\n",
    "    for j, case in enumerate((0, 1)):\n",
    "        if pd.isna(group):\n",
    "            by_duration_between_onset_and_test[i, j] = data[(pd.isna(data['onset to test'])) & (data['outcome_died'] == case)].shape[0]\n",
    "        else:\n",
    "            by_duration_between_onset_and_test[i, j] = data[((data['onset to test'] * 24).apply(duration_between_onset_and_test_groups[group])) & (data['outcome_died'] == case)].shape[0]\n",
    "        by_duration_between_onset_and_test_percent[i, j] = round(by_duration_between_onset_and_test[i, j] / cases[case] * 100, 1)\n",
    "\n",
    "print_with_index(by_duration_between_onset_and_test.astype(int))\n",
    "print_with_index(by_duration_between_onset_and_test_percent)"
   ]
  },
  {
   "cell_type": "code",
   "execution_count": null,
   "metadata": {},
   "outputs": [],
   "source": [
    "# By complications\n",
    "complication_groups = [key for key in data.keys() if 'complication' in key]\n",
    "print(complication_groups)\n",
    "\n",
    "by_complications = np.zeros((len(complication_groups), 2))\n",
    "by_complications_percent = np.zeros((len(complication_groups), 2))\n",
    "\n",
    "for i, group in enumerate(complication_groups):\n",
    "    for j, case in enumerate((0, 1)):\n",
    "        by_complications[i, j] = data[(data[group] == 1) & (data['outcome_died'] == case)].shape[0]\n",
    "        by_complications_percent[i, j] = round(by_complications[i, j] / cases[case] * 100, 1)\n",
    "\n",
    "print_with_index(by_complications.astype(int))\n",
    "print_with_index(by_complications_percent)"
   ]
  },
  {
   "cell_type": "code",
   "execution_count": null,
   "metadata": {},
   "outputs": [],
   "source": [
    "# By co-infections\n",
    "\n",
    "co_infection_groups = [key for key in data.keys() if 'co-infection' in key]\n",
    "print(co_infection_groups)\n",
    "\n",
    "by_co_infections = np.zeros((len(co_infection_groups), 2))\n",
    "by_co_infections_percent = np.zeros((len(co_infection_groups), 2))\n",
    "\n",
    "for i, group in enumerate(co_infection_groups):\n",
    "    for j, case in enumerate((0, 1)):\n",
    "        by_co_infections[i, j] = data[(data[group] == 1) & (data['outcome_died'] == case)].shape[0]\n",
    "        by_co_infections_percent[i, j] = round(by_co_infections[i, j] / cases[case] * 100, 1)\n",
    "\n",
    "print_with_index(by_co_infections.astype(int))\n",
    "print_with_index(by_co_infections_percent)"
   ]
  },
  {
   "cell_type": "code",
   "execution_count": null,
   "metadata": {},
   "outputs": [],
   "source": [
    "# By healthcare-associated infection\n",
    "\n",
    "healthcare_associated_infection_groups = [\n",
    "    'respiratory_syncytical_virus',\n",
    "    'adenovirus',\n",
    "    'pertussis',\n",
    "    'healthcare_associated_infection',\n",
    "]\n",
    "\n",
    "by_healthcare_associated_infections = np.zeros((len(healthcare_associated_infection_groups), 2))\n",
    "by_healthcare_associated_infections_percent = np.zeros((len(healthcare_associated_infection_groups), 2))\n",
    "\n",
    "for i, group in enumerate(healthcare_associated_infection_groups):\n",
    "    for j, case in enumerate((0, 1)):\n",
    "        by_healthcare_associated_infections[i, j] = data[(data[group] == 1) & (data['outcome_died'] == case)].shape[0]\n",
    "        by_healthcare_associated_infections_percent[i, j] = round(by_healthcare_associated_infections[i, j] / cases[case] * 100, 1)\n",
    "\n",
    "print_with_index(by_healthcare_associated_infections.astype(int))\n",
    "print_with_index(by_healthcare_associated_infections_percent)"
   ]
  },
  {
   "cell_type": "code",
   "execution_count": null,
   "metadata": {},
   "outputs": [],
   "source": [
    "# By region\n",
    "region_groups = [\n",
    "    'Ha Noi',\n",
    "    'Northeastern',\n",
    "    'Northwestern',\n",
    "    'Red River Delta (except Hanoi)',\n",
    "    'Central',\n",
    "    'Southern',\n",
    "]\n",
    "print(data['region_of_address'].unique())\n",
    "print(list(region_groups))\n",
    "\n",
    "by_region = np.zeros((len(region_groups), 2))\n",
    "by_region_percent = np.zeros((len(region_groups), 2))\n",
    "\n",
    "for i, group in enumerate(region_groups):\n",
    "    for j, case in enumerate((0, 1)):\n",
    "        by_region[i, j] = data[(data['region_of_address'] == group) & (data['outcome_died'] == case)].shape[0]\n",
    "        by_region_percent[i, j] = round(by_region[i, j] / cases[case] * 100, 1)\n",
    "\n",
    "print_with_index(by_region.astype(int))\n",
    "print_with_index(by_region_percent)"
   ]
  },
  {
   "cell_type": "code",
   "execution_count": null,
   "metadata": {},
   "outputs": [],
   "source": [
    "# By diagnosis of admission\n",
    "diagnosis_groups = [\n",
    "    'Measles',\n",
    "    'Pneumonia',\n",
    "    'Bronchopneumonia',\n",
    "    'Other diagnosis',\n",
    "]\n",
    "print(diagnosis_groups)\n",
    "\n",
    "by_diagnosis = np.zeros((len(diagnosis_groups), 2))\n",
    "by_diagnosis_percent = np.zeros((len(diagnosis_groups), 2))\n",
    "\n",
    "for i, group in enumerate(diagnosis_groups):\n",
    "    for j, case in enumerate((0, 1)):\n",
    "        by_diagnosis[i, j] = data[(data[group] == 1) & (data['outcome_died'] == case)].shape[0]\n",
    "        by_diagnosis_percent[i, j] = round(by_diagnosis[i, j] / cases[case] * 100, 1)\n",
    "\n",
    "print_with_index(by_diagnosis.astype(int))\n",
    "print_with_index(by_diagnosis_percent)"
   ]
  },
  {
   "cell_type": "code",
   "execution_count": null,
   "metadata": {},
   "outputs": [
    {
     "data": {
      "text/plain": [
       "0    2042\n",
       "1      30\n",
       "Name: outcome_died, dtype: int64"
      ]
     },
     "execution_count": 13,
     "metadata": {},
     "output_type": "execute_result"
    }
   ],
   "source": [
    "cases"
   ]
  },
  {
   "cell_type": "code",
   "execution_count": 14,
   "metadata": {},
   "outputs": [
    {
     "name": "stdout",
     "output_type": "stream",
     "text": [
      "[[  26. 1782.]\n",
      " [   3.  201.]\n",
      " [   1.   59.]]\n",
      "[[86.7 87.3]\n",
      " [10.   9.8]\n",
      " [ 3.3  2.9]]\n"
     ]
    }
   ],
   "source": [
    "total = np.array([30, 2042])\n",
    "vac = ['0','>=1','NA']\n",
    "table = np.zeros((3,2))\n",
    "\n",
    "for i in range(3):\n",
    "    for j in range(2):\n",
    "        table[i][j] = len(data[ (data['outcome_died'] == 1 - j) & (data['New vaccination'] == vac[i])])\n",
    "\n",
    "np.set_printoptions(suppress=True)\n",
    "print(table)\n",
    "print(np.round(100 * table/total,1))"
   ]
  },
  {
   "cell_type": "code",
   "execution_count": 16,
   "metadata": {},
   "outputs": [
    {
     "name": "stdout",
     "output_type": "stream",
     "text": [
      "[[ 12. 890.]\n",
      " [ 12. 972.]\n",
      " [  6. 180.]]\n",
      "[[40.  43.6]\n",
      " [40.  47.6]\n",
      " [20.   8.8]]\n"
     ]
    }
   ],
   "source": [
    "total = np.array([30, 2042])\n",
    "age = ['0 - 9','9 - 60','>= 60']\n",
    "table = np.zeros((3,2))\n",
    "\n",
    "for i in range(3):\n",
    "    for j in range(2):\n",
    "        table[i][j] = len(data[ (data['outcome_died'] == 1 - j) & (data['New Age group (in months)'] == age[i])])\n",
    "\n",
    "np.set_printoptions(suppress=True)\n",
    "print(table)\n",
    "print(np.round(100 * table/total,1))"
   ]
  }
 ],
 "metadata": {
  "kernelspec": {
   "display_name": "Python 3.11.0 64-bit",
   "language": "python",
   "name": "python3"
  },
  "language_info": {
   "codemirror_mode": {
    "name": "ipython",
    "version": 3
   },
   "file_extension": ".py",
   "mimetype": "text/x-python",
   "name": "python",
   "nbconvert_exporter": "python",
   "pygments_lexer": "ipython3",
   "version": "3.11.0"
  },
  "orig_nbformat": 4,
  "vscode": {
   "interpreter": {
    "hash": "aee8b7b246df8f9039afb4144a1f6fd8d2ca17a180786b69acc140d282b71a49"
   }
  }
 },
 "nbformat": 4,
 "nbformat_minor": 2
}
