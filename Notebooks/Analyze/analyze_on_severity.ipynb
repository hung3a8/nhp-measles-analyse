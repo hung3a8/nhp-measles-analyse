{
 "cells": [
  {
   "cell_type": "code",
   "execution_count": 5,
   "metadata": {},
   "outputs": [],
   "source": [
    "import pandas as pd\n",
    "import numpy as np\n",
    "import datetime\n",
    "import string\n",
    "import os\n",
    "from matplotlib import pyplot as plt\n",
    "from pathlib import Path\n",
    "\n",
    "def print_with_index(l):\n",
    "    print(pd.DataFrame(l))"
   ]
  },
  {
   "cell_type": "code",
   "execution_count": 6,
   "metadata": {},
   "outputs": [
    {
     "name": "stdout",
     "output_type": "stream",
     "text": [
      "(2072, 64)\n"
     ]
    }
   ],
   "source": [
    "DATA = os.path.join(Path.cwd().parents[0], 'Data/out.csv')\n",
    "data = pd.read_csv(DATA, keep_default_na=False)\n",
    "print(data.shape)"
   ]
  },
  {
   "cell_type": "code",
   "execution_count": 7,
   "metadata": {},
   "outputs": [
    {
     "name": "stdout",
     "output_type": "stream",
     "text": [
      "0    1223\n",
      "1     849\n",
      "Name: Clinical classification, dtype: int64\n",
      "0    59.025097\n",
      "1    40.974903\n",
      "Name: Clinical classification, dtype: float64\n"
     ]
    }
   ],
   "source": [
    "# Get clinical specification\n",
    "clinical_spec = data['Clinical classification']\n",
    "# print(clinical_spec)\n",
    "\n",
    "# Number of severe/not severe cases\n",
    "cases = clinical_spec.value_counts()\n",
    "print(cases)\n",
    "print(cases / clinical_spec.shape[0] * 100)"
   ]
  },
  {
   "cell_type": "code",
   "execution_count": 8,
   "metadata": {},
   "outputs": [
    {
     "name": "stdout",
     "output_type": "stream",
     "text": [
      "       0      1\n",
      "0  109.0   23.0\n",
      "1  375.0  246.0\n",
      "2  739.0  580.0\n",
      "           0          1\n",
      "0   8.912510   2.709069\n",
      "1  30.662306  28.975265\n",
      "2  60.425184  68.315665\n"
     ]
    }
   ],
   "source": [
    "# By year: 2017, 2018, 2019\n",
    "by_year = np.zeros((3, 2))\n",
    "by_year_percent = np.zeros((3, 2))\n",
    "\n",
    "for year in ['2017', '2018', '2019']:\n",
    "    for i, case in enumerate([0, 1]):\n",
    "        by_year[int(year) - 2017, i] = data[(data['admission_date'].str.contains(year)) & (data['Clinical classification'] == case)].shape[0]\n",
    "        by_year_percent[int(year) - 2017, i] = by_year[int(year) - 2017, i] / cases[case] * 100\n",
    "\n",
    "print_with_index(by_year)\n",
    "print_with_index(by_year_percent)"
   ]
  },
  {
   "cell_type": "code",
   "execution_count": 9,
   "metadata": {},
   "outputs": [
    {
     "name": "stdout",
     "output_type": "stream",
     "text": [
      "542\n",
      "       0      1\n",
      "0  755.0  542.0\n",
      "1  468.0  307.0\n",
      "           0          1\n",
      "0  61.733442  63.839812\n",
      "1  38.266558  36.160188\n"
     ]
    }
   ],
   "source": [
    "# By sex: Male or Female\n",
    "by_sex = np.zeros((2, 2))\n",
    "by_sex_percent = np.zeros((2, 2))\n",
    "\n",
    "print(data[(data['Female'] == 0) & (data['Clinical classification'] == 1)].shape[0])\n",
    "\n",
    "for i, sex in enumerate((0, 1)):\n",
    "    for j, case in enumerate((0, 1)):\n",
    "        # print(f\"At cell {i}, {j}\")\n",
    "        # print(f\"sex = {sex}, case = {case} => {data[(data['Female'] == sex) & (data['Clinical classification'] == case)].shape[0]}\")\n",
    "        by_sex[i, j] = data[(data['Female'] == sex) & (data['Clinical classification'] == case)].shape[0]\n",
    "        by_sex_percent[i, j] = by_sex[i, j] / cases[case] * 100\n",
    "\n",
    "print_with_index(by_sex)\n",
    "print_with_index(by_sex_percent)"
   ]
  },
  {
   "cell_type": "code",
   "execution_count": 10,
   "metadata": {},
   "outputs": [
    {
     "name": "stdout",
     "output_type": "stream",
     "text": [
      "13.7\n",
      "20.6\n",
      "24.2\n",
      "32.9\n"
     ]
    }
   ],
   "source": [
    "# Calcuate mean age and std\n",
    "severe_age = data[data['Clinical classification'] == 1]['age_at_admission']\n",
    "not_severe_age = data[data['Clinical classification'] == 0]['age_at_admission']\n",
    "\n",
    "print(round(severe_age.mean(), 1))\n",
    "print(round(severe_age.std(), 1))\n",
    "print(round(not_severe_age.mean(), 1))\n",
    "print(round(not_severe_age.std(), 1))"
   ]
  },
  {
   "cell_type": "code",
   "execution_count": 11,
   "metadata": {},
   "outputs": [
    {
     "name": "stdout",
     "output_type": "stream",
     "text": [
      "       0      1\n",
      "0   23.0   64.0\n",
      "1  126.0  166.0\n",
      "2  303.0  220.0\n",
      "3  279.0  177.0\n",
      "4  187.0  128.0\n",
      "5   78.0   28.0\n",
      "6   51.0   21.0\n",
      "7   26.0    9.0\n",
      "8  150.0   36.0\n",
      "      0     1\n",
      "0   1.9   7.5\n",
      "1  10.3  19.6\n",
      "2  24.8  25.9\n",
      "3  22.8  20.8\n",
      "4  15.3  15.1\n",
      "5   6.4   3.3\n",
      "6   4.2   2.5\n",
      "7   2.1   1.1\n",
      "8  12.3   4.2\n",
      "[100.1 100. ]\n"
     ]
    }
   ],
   "source": [
    "# By age group\n",
    "age_groups = {\n",
    "    '0-<3': lambda x: x < 3,\n",
    "    '3-<6': lambda x: x >= 3 and x < 6,\n",
    "    '6-<9': lambda x: x >= 6 and x < 9,\n",
    "    '9-<12': lambda x: x >= 9 and x < 12,\n",
    "    '12-<24': lambda x: x >= 12 and x < 24,\n",
    "    '24-<36': lambda x: x >= 24 and x < 36,\n",
    "    '36-<48': lambda x: x >= 36 and x < 48,\n",
    "    '48-<60': lambda x: x >= 48 and x < 60,\n",
    "    '>=60': lambda x: x >= 60\n",
    "} # in months\n",
    "\n",
    "by_age_group = np.zeros((9, 2))\n",
    "by_age_group_percent = np.zeros((9, 2))\n",
    "\n",
    "for i, group in enumerate(age_groups):\n",
    "    for j, case in enumerate((0, 1)):\n",
    "        by_age_group[i, j] = data[(data['age_at_admission'].apply(age_groups[group])) & (data['Clinical classification'] == case)].shape[0]\n",
    "        by_age_group_percent[i, j] = round(by_age_group[i, j] / cases[case] * 100, 1)\n",
    "\n",
    "print_with_index(by_age_group)\n",
    "print_with_index(by_age_group_percent)\n",
    "print(by_age_group_percent.sum(axis=0))"
   ]
  },
  {
   "cell_type": "code",
   "execution_count": 12,
   "metadata": {},
   "outputs": [
    {
     "name": "stdout",
     "output_type": "stream",
     "text": [
      "['0' '1' 'NA' '2' '3']\n",
      "      0    1\n",
      "0  1021  787\n",
      "1   143   29\n",
      "2    34   26\n",
      "3    24    5\n",
      "4     1    2\n",
      "      0     1\n",
      "0  83.5  92.7\n",
      "1  11.7   3.4\n",
      "2   2.8   3.1\n",
      "3   2.0   0.6\n",
      "4   0.1   0.2\n"
     ]
    }
   ],
   "source": [
    "# By vaccination status\n",
    "vaccination_status = data['Vaccination'].unique()\n",
    "print(vaccination_status)\n",
    "\n",
    "by_vaccination_status = np.zeros((len(vaccination_status), 2))\n",
    "by_vaccination_status_percent = np.zeros((len(vaccination_status), 2))\n",
    "\n",
    "for i, status in enumerate(vaccination_status):\n",
    "    for j, case in enumerate((0, 1)):\n",
    "        if pd.isna(status):\n",
    "            by_vaccination_status[i, j] = data[(pd.isna(data['Vaccination'])) & (data['Clinical classification'] == case)].shape[0]\n",
    "        else:\n",
    "            by_vaccination_status[i, j] = data[(data['Vaccination'] == status) & (data['Clinical classification'] == case)].shape[0]\n",
    "        by_vaccination_status_percent[i, j] = round(by_vaccination_status[i, j] / cases[case] * 100, 1)\n",
    "\n",
    "print_with_index(by_vaccination_status.astype(int))\n",
    "print_with_index(by_vaccination_status_percent)"
   ]
  },
  {
   "cell_type": "code",
   "execution_count": 13,
   "metadata": {},
   "outputs": [
    {
     "name": "stdout",
     "output_type": "stream",
     "text": [
      "['<20', '20-200', '200-500', '>=500']\n",
      "[[343 125]\n",
      " [718 567]\n",
      " [152 153]\n",
      " [ 10   4]]\n",
      "[[28.  14.7]\n",
      " [58.7 66.8]\n",
      " [12.4 18. ]\n",
      " [ 0.8  0.5]]\n"
     ]
    }
   ],
   "source": [
    "# By distance\n",
    "distance_groups = {\n",
    "    '<20': lambda x: x < 20,\n",
    "    '20-200': lambda x: x >= 20 and x < 200,\n",
    "    '200-500': lambda x: x >= 200 and x < 500,\n",
    "    '>=500': lambda x: x >= 500\n",
    "}\n",
    "print(list(distance_groups))\n",
    "\n",
    "by_distance = np.zeros((4, 2))\n",
    "by_distance_percent = np.zeros((4, 2))\n",
    "\n",
    "for i, group in enumerate(distance_groups):\n",
    "    for j, case in enumerate((0, 1)):\n",
    "        by_distance[i, j] = data[(data['distance_to_nhp'].apply(distance_groups[group])) & (data['Clinical classification'] == case)].shape[0]\n",
    "        by_distance_percent[i, j] = round(by_distance[i, j] / cases[case] * 100, 1)\n",
    "\n",
    "print(by_distance.astype(int))\n",
    "print(by_distance_percent)"
   ]
  },
  {
   "cell_type": "code",
   "execution_count": 14,
   "metadata": {},
   "outputs": [
    {
     "name": "stdout",
     "output_type": "stream",
     "text": [
      "['Red River Delta (except Hanoi)' 'Ha Noi' 'Central' 'Northwestern'\n",
      " 'Northeastern' 'Southern']\n"
     ]
    }
   ],
   "source": [
    "# By region of residence\n",
    "region_of_residence = data['region_of_address'].unique()\n",
    "print(region_of_residence)"
   ]
  },
  {
   "cell_type": "code",
   "execution_count": 15,
   "metadata": {},
   "outputs": [
    {
     "name": "stdout",
     "output_type": "stream",
     "text": [
      "[0, 1]\n",
      "[[1223  819]\n",
      " [   0   30]]\n",
      "[[100.   96.5]\n",
      " [  0.    3.5]]\n"
     ]
    }
   ],
   "source": [
    "# By clinical outcome\n",
    "clinical_outcome = [0, 1] # 0: survived, 1: dead\n",
    "print(clinical_outcome)\n",
    "\n",
    "by_clinical_outcome = np.zeros((2, 2))\n",
    "by_clinical_outcome_percent = np.zeros((2, 2))\n",
    "\n",
    "for i, outcome in enumerate(clinical_outcome):\n",
    "    for j, case in enumerate((0, 1)):\n",
    "        by_clinical_outcome[i, j] = data[(data['outcome_died'] == outcome) & (data['Clinical classification'] == case)].shape[0]\n",
    "        by_clinical_outcome_percent[i, j] = round(by_clinical_outcome[i, j] / cases[case] * 100, 1)\n",
    "\n",
    "print(by_clinical_outcome.astype(int))\n",
    "print(by_clinical_outcome_percent)"
   ]
  },
  {
   "cell_type": "code",
   "execution_count": 16,
   "metadata": {},
   "outputs": [
    {
     "name": "stdout",
     "output_type": "stream",
     "text": [
      "['<0', '0-3', '3-7', '7-14', '>=14', 'Unknown']\n"
     ]
    },
    {
     "ename": "TypeError",
     "evalue": "'<' not supported between instances of 'str' and 'int'",
     "output_type": "error",
     "traceback": [
      "\u001b[0;31m---------------------------------------------------------------------------\u001b[0m",
      "\u001b[0;31mTypeError\u001b[0m                                 Traceback (most recent call last)",
      "Cell \u001b[0;32mIn [16], line 20\u001b[0m\n\u001b[1;32m     18\u001b[0m             by_duration[i, j] \u001b[39m=\u001b[39m data[(pd\u001b[39m.\u001b[39misna(data[\u001b[39m'\u001b[39m\u001b[39mduration time onset to admission\u001b[39m\u001b[39m'\u001b[39m])) \u001b[39m&\u001b[39m (data[\u001b[39m'\u001b[39m\u001b[39mClinical classification\u001b[39m\u001b[39m'\u001b[39m] \u001b[39m==\u001b[39m case)]\u001b[39m.\u001b[39mshape[\u001b[39m0\u001b[39m]\n\u001b[1;32m     19\u001b[0m         \u001b[39melse\u001b[39;00m:\n\u001b[0;32m---> 20\u001b[0m             by_duration[i, j] \u001b[39m=\u001b[39m data[(data[\u001b[39m'\u001b[39;49m\u001b[39mduration time onset to admission\u001b[39;49m\u001b[39m'\u001b[39;49m]\u001b[39m.\u001b[39;49mapply(duration_groups[group])) \u001b[39m&\u001b[39m (data[\u001b[39m'\u001b[39m\u001b[39mClinical classification\u001b[39m\u001b[39m'\u001b[39m] \u001b[39m==\u001b[39m case)]\u001b[39m.\u001b[39mshape[\u001b[39m0\u001b[39m]\n\u001b[1;32m     21\u001b[0m         by_duration_percent[i, j] \u001b[39m=\u001b[39m \u001b[39mround\u001b[39m(by_duration[i, j] \u001b[39m/\u001b[39m cases[case] \u001b[39m*\u001b[39m \u001b[39m100\u001b[39m, \u001b[39m1\u001b[39m)\n\u001b[1;32m     23\u001b[0m print_with_index(by_duration\u001b[39m.\u001b[39mastype(\u001b[39mint\u001b[39m))\n",
      "File \u001b[0;32m/Library/Frameworks/Python.framework/Versions/3.11/lib/python3.11/site-packages/pandas/core/series.py:4771\u001b[0m, in \u001b[0;36mSeries.apply\u001b[0;34m(self, func, convert_dtype, args, **kwargs)\u001b[0m\n\u001b[1;32m   4661\u001b[0m \u001b[39mdef\u001b[39;00m \u001b[39mapply\u001b[39m(\n\u001b[1;32m   4662\u001b[0m     \u001b[39mself\u001b[39m,\n\u001b[1;32m   4663\u001b[0m     func: AggFuncType,\n\u001b[0;32m   (...)\u001b[0m\n\u001b[1;32m   4666\u001b[0m     \u001b[39m*\u001b[39m\u001b[39m*\u001b[39mkwargs,\n\u001b[1;32m   4667\u001b[0m ) \u001b[39m-\u001b[39m\u001b[39m>\u001b[39m DataFrame \u001b[39m|\u001b[39m Series:\n\u001b[1;32m   4668\u001b[0m     \u001b[39m\"\"\"\u001b[39;00m\n\u001b[1;32m   4669\u001b[0m \u001b[39m    Invoke function on values of Series.\u001b[39;00m\n\u001b[1;32m   4670\u001b[0m \n\u001b[0;32m   (...)\u001b[0m\n\u001b[1;32m   4769\u001b[0m \u001b[39m    dtype: float64\u001b[39;00m\n\u001b[1;32m   4770\u001b[0m \u001b[39m    \"\"\"\u001b[39;00m\n\u001b[0;32m-> 4771\u001b[0m     \u001b[39mreturn\u001b[39;00m SeriesApply(\u001b[39mself\u001b[39;49m, func, convert_dtype, args, kwargs)\u001b[39m.\u001b[39;49mapply()\n",
      "File \u001b[0;32m/Library/Frameworks/Python.framework/Versions/3.11/lib/python3.11/site-packages/pandas/core/apply.py:1105\u001b[0m, in \u001b[0;36mSeriesApply.apply\u001b[0;34m(self)\u001b[0m\n\u001b[1;32m   1102\u001b[0m     \u001b[39mreturn\u001b[39;00m \u001b[39mself\u001b[39m\u001b[39m.\u001b[39mapply_str()\n\u001b[1;32m   1104\u001b[0m \u001b[39m# self.f is Callable\u001b[39;00m\n\u001b[0;32m-> 1105\u001b[0m \u001b[39mreturn\u001b[39;00m \u001b[39mself\u001b[39;49m\u001b[39m.\u001b[39;49mapply_standard()\n",
      "File \u001b[0;32m/Library/Frameworks/Python.framework/Versions/3.11/lib/python3.11/site-packages/pandas/core/apply.py:1156\u001b[0m, in \u001b[0;36mSeriesApply.apply_standard\u001b[0;34m(self)\u001b[0m\n\u001b[1;32m   1154\u001b[0m     \u001b[39melse\u001b[39;00m:\n\u001b[1;32m   1155\u001b[0m         values \u001b[39m=\u001b[39m obj\u001b[39m.\u001b[39mastype(\u001b[39mobject\u001b[39m)\u001b[39m.\u001b[39m_values\n\u001b[0;32m-> 1156\u001b[0m         mapped \u001b[39m=\u001b[39m lib\u001b[39m.\u001b[39;49mmap_infer(\n\u001b[1;32m   1157\u001b[0m             values,\n\u001b[1;32m   1158\u001b[0m             f,\n\u001b[1;32m   1159\u001b[0m             convert\u001b[39m=\u001b[39;49m\u001b[39mself\u001b[39;49m\u001b[39m.\u001b[39;49mconvert_dtype,\n\u001b[1;32m   1160\u001b[0m         )\n\u001b[1;32m   1162\u001b[0m \u001b[39mif\u001b[39;00m \u001b[39mlen\u001b[39m(mapped) \u001b[39mand\u001b[39;00m \u001b[39misinstance\u001b[39m(mapped[\u001b[39m0\u001b[39m], ABCSeries):\n\u001b[1;32m   1163\u001b[0m     \u001b[39m# GH#43986 Need to do list(mapped) in order to get treated as nested\u001b[39;00m\n\u001b[1;32m   1164\u001b[0m     \u001b[39m#  See also GH#25959 regarding EA support\u001b[39;00m\n\u001b[1;32m   1165\u001b[0m     \u001b[39mreturn\u001b[39;00m obj\u001b[39m.\u001b[39m_constructor_expanddim(\u001b[39mlist\u001b[39m(mapped), index\u001b[39m=\u001b[39mobj\u001b[39m.\u001b[39mindex)\n",
      "File \u001b[0;32m/Library/Frameworks/Python.framework/Versions/3.11/lib/python3.11/site-packages/pandas/_libs/lib.pyx:2918\u001b[0m, in \u001b[0;36mpandas._libs.lib.map_infer\u001b[0;34m()\u001b[0m\n",
      "Cell \u001b[0;32mIn [16], line 3\u001b[0m, in \u001b[0;36m<lambda>\u001b[0;34m(x)\u001b[0m\n\u001b[1;32m      1\u001b[0m \u001b[39m# By duration between onset and admission\u001b[39;00m\n\u001b[1;32m      2\u001b[0m duration_groups \u001b[39m=\u001b[39m {\n\u001b[0;32m----> 3\u001b[0m     \u001b[39m'\u001b[39m\u001b[39m<0\u001b[39m\u001b[39m'\u001b[39m: \u001b[39mlambda\u001b[39;00m x: x \u001b[39m<\u001b[39;49m \u001b[39m0\u001b[39;49m,\n\u001b[1;32m      4\u001b[0m     \u001b[39m'\u001b[39m\u001b[39m0-3\u001b[39m\u001b[39m'\u001b[39m: \u001b[39mlambda\u001b[39;00m x: x \u001b[39m>\u001b[39m\u001b[39m=\u001b[39m \u001b[39m0\u001b[39m \u001b[39mand\u001b[39;00m x \u001b[39m<\u001b[39m \u001b[39m3\u001b[39m,\n\u001b[1;32m      5\u001b[0m     \u001b[39m'\u001b[39m\u001b[39m3-7\u001b[39m\u001b[39m'\u001b[39m: \u001b[39mlambda\u001b[39;00m x: x \u001b[39m>\u001b[39m\u001b[39m=\u001b[39m \u001b[39m3\u001b[39m \u001b[39mand\u001b[39;00m x \u001b[39m<\u001b[39m \u001b[39m7\u001b[39m,\n\u001b[1;32m      6\u001b[0m     \u001b[39m'\u001b[39m\u001b[39m7-14\u001b[39m\u001b[39m'\u001b[39m: \u001b[39mlambda\u001b[39;00m x: x \u001b[39m>\u001b[39m\u001b[39m=\u001b[39m \u001b[39m7\u001b[39m \u001b[39mand\u001b[39;00m x \u001b[39m<\u001b[39m \u001b[39m14\u001b[39m,\n\u001b[1;32m      7\u001b[0m     \u001b[39m'\u001b[39m\u001b[39m>=14\u001b[39m\u001b[39m'\u001b[39m: \u001b[39mlambda\u001b[39;00m x: x \u001b[39m>\u001b[39m\u001b[39m=\u001b[39m \u001b[39m14\u001b[39m,\n\u001b[1;32m      8\u001b[0m     \u001b[39m'\u001b[39m\u001b[39mUnknown\u001b[39m\u001b[39m'\u001b[39m: \u001b[39mlambda\u001b[39;00m x: pd\u001b[39m.\u001b[39misna(x)\n\u001b[1;32m      9\u001b[0m }\n\u001b[1;32m     10\u001b[0m \u001b[39mprint\u001b[39m(\u001b[39mlist\u001b[39m(duration_groups))\n\u001b[1;32m     12\u001b[0m by_duration \u001b[39m=\u001b[39m np\u001b[39m.\u001b[39mzeros((\u001b[39mlen\u001b[39m(duration_groups), \u001b[39m2\u001b[39m))\n",
      "\u001b[0;31mTypeError\u001b[0m: '<' not supported between instances of 'str' and 'int'"
     ]
    }
   ],
   "source": [
    "# By duration between onset and admission\n",
    "duration_groups = {\n",
    "    '<0': lambda x: x < 0,\n",
    "    '0-3': lambda x: x >= 0 and x < 3,\n",
    "    '3-7': lambda x: x >= 3 and x < 7,\n",
    "    '7-14': lambda x: x >= 7 and x < 14,\n",
    "    '>=14': lambda x: x >= 14,\n",
    "    'Unknown': lambda x: pd.isna(x)\n",
    "}\n",
    "print(list(duration_groups))\n",
    "\n",
    "by_duration = np.zeros((len(duration_groups), 2))\n",
    "by_duration_percent = np.zeros((len(duration_groups), 2))\n",
    "\n",
    "for i, group in enumerate(duration_groups):\n",
    "    for j, case in enumerate((0, 1)):\n",
    "        if pd.isna(group):\n",
    "            by_duration[i, j] = data[(pd.isna(data['duration time onset to admission'])) & (data['Clinical classification'] == case)].shape[0]\n",
    "        else:\n",
    "            by_duration[i, j] = data[(data['duration time onset to admission'].apply(duration_groups[group])) & (data['Clinical classification'] == case)].shape[0]\n",
    "        by_duration_percent[i, j] = round(by_duration[i, j] / cases[case] * 100, 1)\n",
    "\n",
    "print_with_index(by_duration.astype(int))\n",
    "print_with_index(by_duration_percent)"
   ]
  },
  {
   "cell_type": "code",
   "execution_count": null,
   "metadata": {},
   "outputs": [
    {
     "name": "stdout",
     "output_type": "stream",
     "text": [
      "['0-7', '7-21', '>=21', 'Unkown']\n",
      "     0    1\n",
      "0  816  226\n",
      "1  348  391\n",
      "2   59  232\n",
      "3    0    0\n",
      "      0     1\n",
      "0  66.7  26.6\n",
      "1  28.5  46.1\n",
      "2   4.8  27.3\n",
      "3   0.0   0.0\n"
     ]
    }
   ],
   "source": [
    "# By duration of stay\n",
    "duration_stay_groups = {\n",
    "    '0-7': lambda x: x >= 0 and x < 7,\n",
    "    '7-21': lambda x: x >= 7 and x < 21,\n",
    "    '>=21': lambda x: x >= 21,\n",
    "    'Unkown': lambda x: pd.isna(x)\n",
    "}\n",
    "print(list(duration_stay_groups))\n",
    "\n",
    "by_duration_stay = np.zeros((len(duration_stay_groups), 2))\n",
    "by_duration_stay_percent = np.zeros((len(duration_stay_groups), 2))\n",
    "\n",
    "for i, group in enumerate(duration_stay_groups):\n",
    "    for j, case in enumerate((0, 1)):\n",
    "        if pd.isna(group):\n",
    "            by_duration_stay[i, j] = data[(pd.isna(data['duration_of_stay'])) & (data['Clinical classification'] == case)].shape[0]\n",
    "        else:\n",
    "            by_duration_stay[i, j] = data[(data['duration_of_stay'].apply(duration_stay_groups[group])) & (data['Clinical classification'] == case)].shape[0]\n",
    "        by_duration_stay_percent[i, j] = round(by_duration_stay[i, j] / cases[case] * 100, 1)\n",
    "\n",
    "print_with_index(by_duration_stay.astype(int))\n",
    "print_with_index(by_duration_stay_percent)"
   ]
  },
  {
   "cell_type": "code",
   "execution_count": null,
   "metadata": {},
   "outputs": [
    {
     "name": "stdout",
     "output_type": "stream",
     "text": [
      "Underlying conditions - Respiratory system\n",
      "Underlying conditions - Cardiovascular system\n",
      "Underlying condition - Gastrointestinal system\n",
      "Underlying condition - Kidney and urology system\n",
      "Underlying condition - Immunodeficiency\n",
      "Underlying condition - Neurological system\n",
      "Underlying condition - Inherited metabolic disorders\n",
      "Underlying condition - No underlying diseases\n",
      "Underlying condition - Other underlying conditions\n",
      "      0    1\n",
      "0    19   23\n",
      "1    27   45\n",
      "2    21   73\n",
      "3    26   20\n",
      "4     6    6\n",
      "5    29   44\n",
      "6     8    7\n",
      "7  1031  554\n",
      "8    69   90\n",
      "      0     1\n",
      "0   1.6   2.7\n",
      "1   2.2   5.3\n",
      "2   1.7   8.6\n",
      "3   2.1   2.4\n",
      "4   0.5   0.7\n",
      "5   2.4   5.2\n",
      "6   0.7   0.8\n",
      "7  84.3  65.3\n",
      "8   5.6  10.6\n"
     ]
    }
   ],
   "source": [
    "# By underlying conditions\n",
    "underlying_conditions = [key for key in data.keys() if 'Underlying condition' in key]\n",
    "\n",
    "by_underlying_condition_total = np.zeros((len(underlying_conditions), 2))\n",
    "by_underlying_condition_total_percent = np.zeros((len(underlying_conditions), 2))\n",
    "\n",
    "for i, condition in enumerate(underlying_conditions):\n",
    "    print(condition)\n",
    "    by_underlying_condition = np.zeros((1, 2))\n",
    "    by_underlying_condition_percent = np.zeros((1, 2))\n",
    "    value = 1\n",
    "    for j, case in enumerate((0, 1)):\n",
    "        by_underlying_condition[0, j] = data[(data[condition] == value) & (data['Clinical classification'] == case)].shape[0]\n",
    "        by_underlying_condition_percent[0, j] = round(by_underlying_condition[0, j] / cases[case] * 100, 1)\n",
    "    by_underlying_condition_total[i, :] = by_underlying_condition\n",
    "    by_underlying_condition_total_percent[i, :] = by_underlying_condition_percent\n",
    "\n",
    "print_with_index(by_underlying_condition_total.astype(int))\n",
    "print_with_index(by_underlying_condition_total_percent)"
   ]
  },
  {
   "cell_type": "code",
   "execution_count": null,
   "metadata": {},
   "outputs": [
    {
     "name": "stdout",
     "output_type": "stream",
     "text": [
      "['oxygen_cannula', 'CPAP', 'conventional_mechanical_ventilation', 'hfo_ventilation', 'ECMO']\n",
      "[[  0 685]\n",
      " [  0   8]\n",
      " [  0 144]\n",
      " [  0  11]\n",
      " [  0   1]]\n",
      "[[ 0.  80.7]\n",
      " [ 0.   0.9]\n",
      " [ 0.  17. ]\n",
      " [ 0.   1.3]\n",
      " [ 0.   0.1]]\n"
     ]
    }
   ],
   "source": [
    "# By maximal form of respiratory support used\n",
    "respiratory_support = [\n",
    "    'oxygen_cannula',\n",
    "    'CPAP',\n",
    "    'conventional_mechanical_ventilation',\n",
    "    'hfo_ventilation',\n",
    "    'ECMO',\n",
    "]\n",
    "print(respiratory_support)\n",
    "\n",
    "by_respiratory_support = np.zeros((len(respiratory_support), 2))\n",
    "by_respiratory_support_percent = np.zeros((len(respiratory_support), 2))\n",
    "\n",
    "for i, support in enumerate(respiratory_support):\n",
    "    for j, case in enumerate((0, 1)):\n",
    "        by_respiratory_support[i, j] = data[(data['highest_ventilation_mode'] == support) & (data['Clinical classification'] == case)].shape[0]\n",
    "        by_respiratory_support_percent[i, j] = round(by_respiratory_support[i, j] / cases[case] * 100, 1)\n",
    "\n",
    "\n",
    "print(by_respiratory_support.astype(int))\n",
    "print(by_respiratory_support_percent)"
   ]
  },
  {
   "cell_type": "code",
   "execution_count": 17,
   "metadata": {},
   "outputs": [
    {
     "name": "stdout",
     "output_type": "stream",
     "text": [
      "['<0', '0-24', '24-48', '>=48', 'Unkown']\n",
      "     0    1\n",
      "0   15    8\n",
      "1  314  240\n",
      "2  237  201\n",
      "3  657  400\n",
      "4    0    0\n",
      "      0     1\n",
      "0   1.2   0.9\n",
      "1  25.7  28.3\n",
      "2  19.4  23.7\n",
      "3  53.7  47.1\n",
      "4   0.0   0.0\n"
     ]
    }
   ],
   "source": [
    "# By duration between onset and test (hours)\n",
    "duration_between_onset_and_test_groups = {\n",
    "    '<0': lambda x: x < 0,\n",
    "    '0-24': lambda x: x >= 0 and x < 24,\n",
    "    '24-48': lambda x: x >= 24 and x < 48,\n",
    "    '>=48': lambda x: x >= 48,\n",
    "    'Unkown': lambda x: pd.isna(x)\n",
    "}\n",
    "print(list(duration_between_onset_and_test_groups))\n",
    "\n",
    "by_duration_between_onset_and_test = np.zeros((len(duration_between_onset_and_test_groups), 2))\n",
    "by_duration_between_onset_and_test_percent = np.zeros((len(duration_between_onset_and_test_groups), 2))\n",
    "\n",
    "for i, group in enumerate(duration_between_onset_and_test_groups):\n",
    "    for j, case in enumerate((0, 1)):\n",
    "        if pd.isna(group):\n",
    "            by_duration_between_onset_and_test[i, j] = data[(pd.isna(data['onset to test'])) & (data['Clinical classification'] == case)].shape[0]\n",
    "        else:\n",
    "            by_duration_between_onset_and_test[i, j] = data[((data['onset to test'] * 24).apply(duration_between_onset_and_test_groups[group])) & (data['Clinical classification'] == case)].shape[0]\n",
    "        by_duration_between_onset_and_test_percent[i, j] = round(by_duration_between_onset_and_test[i, j] / cases[case] * 100, 1)\n",
    "\n",
    "print_with_index(by_duration_between_onset_and_test.astype(int))\n",
    "print_with_index(by_duration_between_onset_and_test_percent)"
   ]
  },
  {
   "cell_type": "code",
   "execution_count": null,
   "metadata": {},
   "outputs": [
    {
     "name": "stdout",
     "output_type": "stream",
     "text": [
      "['complication-gastroentiritis', 'complication-middle-ear-infec', 'complication-conjunctivitis', 'complication-laryngitis', 'complication-pneumonia-bronchitis', 'complication-febrile-seizures', 'complication-septic-shock-sepsis']\n",
      "     0    1\n",
      "0   37   14\n",
      "1   26    4\n",
      "2    1    1\n",
      "3    7    0\n",
      "4  692  721\n",
      "5    1    9\n",
      "6    2    2\n",
      "      0     1\n",
      "0   3.0   1.6\n",
      "1   2.1   0.5\n",
      "2   0.1   0.1\n",
      "3   0.6   0.0\n",
      "4  56.6  84.9\n",
      "5   0.1   1.1\n",
      "6   0.2   0.2\n"
     ]
    }
   ],
   "source": [
    "# By complications\n",
    "complication_groups = [key for key in data.keys() if 'complication' in key]\n",
    "print(complication_groups)\n",
    "\n",
    "by_complications = np.zeros((len(complication_groups), 2))\n",
    "by_complications_percent = np.zeros((len(complication_groups), 2))\n",
    "\n",
    "for i, group in enumerate(complication_groups):\n",
    "    for j, case in enumerate((0, 1)):\n",
    "        by_complications[i, j] = data[(data[group] == 1) & (data['Clinical classification'] == case)].shape[0]\n",
    "        by_complications_percent[i, j] = round(by_complications[i, j] / cases[case] * 100, 1)\n",
    "\n",
    "print_with_index(by_complications.astype(int))\n",
    "print_with_index(by_complications_percent)"
   ]
  },
  {
   "cell_type": "code",
   "execution_count": null,
   "metadata": {},
   "outputs": [
    {
     "name": "stdout",
     "output_type": "stream",
     "text": [
      "['co-infection-influenza-a', 'co-infection-influenza-b', 'co-infection-streptococus-aerius', 'co-infection-streptococus-pneumonia']\n",
      "   0  1\n",
      "0  8  8\n",
      "1  1  3\n",
      "2  2  1\n",
      "3  0  2\n",
      "     0    1\n",
      "0  0.7  0.9\n",
      "1  0.1  0.4\n",
      "2  0.2  0.1\n",
      "3  0.0  0.2\n"
     ]
    }
   ],
   "source": [
    "# By co-infections\n",
    "\n",
    "co_infection_groups = [key for key in data.keys() if 'co-infection' in key]\n",
    "print(co_infection_groups)\n",
    "\n",
    "by_co_infections = np.zeros((len(co_infection_groups), 2))\n",
    "by_co_infections_percent = np.zeros((len(co_infection_groups), 2))\n",
    "\n",
    "for i, group in enumerate(co_infection_groups):\n",
    "    for j, case in enumerate((0, 1)):\n",
    "        by_co_infections[i, j] = data[(data[group] == 1) & (data['Clinical classification'] == case)].shape[0]\n",
    "        by_co_infections_percent[i, j] = round(by_co_infections[i, j] / cases[case] * 100, 1)\n",
    "\n",
    "print_with_index(by_co_infections.astype(int))\n",
    "print_with_index(by_co_infections_percent)"
   ]
  },
  {
   "cell_type": "code",
   "execution_count": null,
   "metadata": {},
   "outputs": [
    {
     "name": "stdout",
     "output_type": "stream",
     "text": [
      "    0   1\n",
      "0  12  18\n",
      "1  22  73\n",
      "2   5  12\n",
      "3   3  15\n",
      "     0    1\n",
      "0  1.0  2.1\n",
      "1  1.8  8.6\n",
      "2  0.4  1.4\n",
      "3  0.2  1.8\n"
     ]
    }
   ],
   "source": [
    "# By healthcare-associated infection\n",
    "\n",
    "healthcare_associated_infection_groups = [\n",
    "    'respiratory_syncytical_virus',\n",
    "    'adenovirus',\n",
    "    'pertussis',\n",
    "    'healthcare_associated_infection',\n",
    "]\n",
    "\n",
    "by_healthcare_associated_infections = np.zeros((len(healthcare_associated_infection_groups), 2))\n",
    "by_healthcare_associated_infections_percent = np.zeros((len(healthcare_associated_infection_groups), 2))\n",
    "\n",
    "for i, group in enumerate(healthcare_associated_infection_groups):\n",
    "    for j, case in enumerate((0, 1)):\n",
    "        by_healthcare_associated_infections[i, j] = data[(data[group] == 1) & (data['Clinical classification'] == case)].shape[0]\n",
    "        by_healthcare_associated_infections_percent[i, j] = round(by_healthcare_associated_infections[i, j] / cases[case] * 100, 1)\n",
    "\n",
    "print_with_index(by_healthcare_associated_infections.astype(int))\n",
    "print_with_index(by_healthcare_associated_infections_percent)"
   ]
  },
  {
   "cell_type": "code",
   "execution_count": null,
   "metadata": {},
   "outputs": [
    {
     "name": "stdout",
     "output_type": "stream",
     "text": [
      "['Red River Delta (except Hanoi)' 'Ha Noi' 'Central' 'Northwestern'\n",
      " 'Northeastern' 'Southern']\n",
      "['Ha Noi', 'Northeastern', 'Northwestern', 'Red River Delta (except Hanoi)', 'Central', 'Southern']\n",
      "     0    1\n",
      "0  475  239\n",
      "1  109   98\n",
      "2   51   49\n",
      "3  416  306\n",
      "4  166  155\n",
      "5    6    2\n",
      "      0     1\n",
      "0  38.8  28.2\n",
      "1   8.9  11.5\n",
      "2   4.2   5.8\n",
      "3  34.0  36.0\n",
      "4  13.6  18.3\n",
      "5   0.5   0.2\n"
     ]
    }
   ],
   "source": [
    "# By region\n",
    "region_groups = [\n",
    "    'Ha Noi',\n",
    "    'Northeastern',\n",
    "    'Northwestern',\n",
    "    'Red River Delta (except Hanoi)',\n",
    "    'Central',\n",
    "    'Southern',\n",
    "]\n",
    "print(data['region_of_address'].unique())\n",
    "print(list(region_groups))\n",
    "\n",
    "by_region = np.zeros((len(region_groups), 2))\n",
    "by_region_percent = np.zeros((len(region_groups), 2))\n",
    "\n",
    "for i, group in enumerate(region_groups):\n",
    "    for j, case in enumerate((0, 1)):\n",
    "        by_region[i, j] = data[(data['region_of_address'] == group) & (data['Clinical classification'] == case)].shape[0]\n",
    "        by_region_percent[i, j] = round(by_region[i, j] / cases[case] * 100, 1)\n",
    "\n",
    "print_with_index(by_region.astype(int))\n",
    "print_with_index(by_region_percent)"
   ]
  },
  {
   "cell_type": "code",
   "execution_count": null,
   "metadata": {},
   "outputs": [
    {
     "name": "stdout",
     "output_type": "stream",
     "text": [
      "['Measles', 'Pneumonia', 'Bronchopneumonia', 'Other diagnosis']\n",
      "     0    1\n",
      "0  576  272\n",
      "1  300  361\n",
      "2  406  343\n",
      "3  214  177\n",
      "      0     1\n",
      "0  47.1  32.0\n",
      "1  24.5  42.5\n",
      "2  33.2  40.4\n",
      "3  17.5  20.8\n"
     ]
    }
   ],
   "source": [
    "# By diagnosis of admission\n",
    "diagnosis_groups = [\n",
    "    'Measles',\n",
    "    'Pneumonia',\n",
    "    'Bronchopneumonia',\n",
    "    'Other diagnosis',\n",
    "]\n",
    "print(diagnosis_groups)\n",
    "\n",
    "by_diagnosis = np.zeros((len(diagnosis_groups), 2))\n",
    "by_diagnosis_percent = np.zeros((len(diagnosis_groups), 2))\n",
    "\n",
    "for i, group in enumerate(diagnosis_groups):\n",
    "    for j, case in enumerate((0, 1)):\n",
    "        by_diagnosis[i, j] = data[(data[group] == 1) & (data['Clinical classification'] == case)].shape[0]\n",
    "        by_diagnosis_percent[i, j] = round(by_diagnosis[i, j] / cases[case] * 100, 1)\n",
    "\n",
    "print_with_index(by_diagnosis.astype(int))\n",
    "print_with_index(by_diagnosis_percent)"
   ]
  }
 ],
 "metadata": {
  "kernelspec": {
   "display_name": "Python 3.11.0 64-bit",
   "language": "python",
   "name": "python3"
  },
  "language_info": {
   "codemirror_mode": {
    "name": "ipython",
    "version": 3
   },
   "file_extension": ".py",
   "mimetype": "text/x-python",
   "name": "python",
   "nbconvert_exporter": "python",
   "pygments_lexer": "ipython3",
   "version": "3.11.0"
  },
  "orig_nbformat": 4,
  "vscode": {
   "interpreter": {
    "hash": "aee8b7b246df8f9039afb4144a1f6fd8d2ca17a180786b69acc140d282b71a49"
   }
  }
 },
 "nbformat": 4,
 "nbformat_minor": 2
}
