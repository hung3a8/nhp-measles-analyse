{
 "cells": [
  {
   "cell_type": "code",
   "execution_count": 2,
   "metadata": {},
   "outputs": [],
   "source": [
    "import pandas as pd\n",
    "import numpy as np\n",
    "import datetime\n",
    "import string\n",
    "import os\n",
    "from matplotlib import pyplot as plt\n",
    "from pathlib import Path"
   ]
  },
  {
   "cell_type": "code",
   "execution_count": 4,
   "metadata": {},
   "outputs": [],
   "source": [
    "DATA = os.path.join(Path.cwd().parents[0], 'Data/out.csv')\n",
    "dataset = pd.read_csv(DATA, keep_default_na=False)"
   ]
  },
  {
   "cell_type": "code",
   "execution_count": 15,
   "metadata": {},
   "outputs": [
    {
     "name": "stdout",
     "output_type": "stream",
     "text": [
      "[ 849 1223]\n",
      "[40.97490347 59.02509653]\n"
     ]
    }
   ],
   "source": [
    "# total = [number of severe cases, number of non severe cases]\n",
    "total = np.flip(dataset['Clinical classification'].value_counts().to_numpy(),0)\n",
    "print(total)\n",
    "print(total / dataset.shape[0] * 100)"
   ]
  },
  {
   "cell_type": "code",
   "execution_count": 16,
   "metadata": {},
   "outputs": [
    {
     "name": "stdout",
     "output_type": "stream",
     "text": [
      "[[ 23. 109.]\n",
      " [246. 375.]\n",
      " [580. 739.]]\n",
      "[[ 2.7  8.9]\n",
      " [29.  30.7]\n",
      " [68.3 60.4]]\n",
      "[ 132.  621. 1319.]\n"
     ]
    }
   ],
   "source": [
    "table = np.zeros((3, 2))\n",
    "\n",
    "for i, year in enumerate(['2017', '2018', '2019']):\n",
    "    for j in range(2):\n",
    "        table[i][j] = len(dataset[ (dataset['Clinical classification'] == 1 - j) & (dataset['admission_date'].str.contains(year)) ])\n",
    "\n",
    "print(table)\n",
    "print(np.round(100 * table/total, 1))\n",
    "print(np.sum(table, axis=1))"
   ]
  },
  {
   "cell_type": "code",
   "execution_count": 18,
   "metadata": {},
   "outputs": [
    {
     "name": "stdout",
     "output_type": "stream",
     "text": [
      "[[542. 755.]\n",
      " [307. 468.]]\n",
      "[[63.8 61.7]\n",
      " [36.2 38.3]]\n",
      "[1297.  775.]\n"
     ]
    }
   ],
   "source": [
    "table = np.zeros((2,2))\n",
    "\n",
    "for i in range(2):\n",
    "    for j in range(2):\n",
    "        table[i][j] = len(dataset[ (dataset['Clinical classification'] == 1 - j) & (dataset['Female'] == i) ])\n",
    "\n",
    "print(table)\n",
    "print(np.round(100 * table/total, 1))\n",
    "print(np.sum(table, axis=1))"
   ]
  },
  {
   "cell_type": "code",
   "execution_count": 20,
   "metadata": {},
   "outputs": [
    {
     "name": "stdout",
     "output_type": "stream",
     "text": [
      "[[ 64.  23.]\n",
      " [166. 126.]\n",
      " [220. 303.]\n",
      " [177. 279.]\n",
      " [128. 187.]\n",
      " [ 28.  78.]\n",
      " [ 21.  51.]\n",
      " [  9.  26.]\n",
      " [ 36. 150.]]\n",
      "[[ 7.5  1.9]\n",
      " [19.6 10.3]\n",
      " [25.9 24.8]\n",
      " [20.8 22.8]\n",
      " [15.1 15.3]\n",
      " [ 3.3  6.4]\n",
      " [ 2.5  4.2]\n",
      " [ 1.1  2.1]\n",
      " [ 4.2 12.3]]\n",
      "[ 87. 292. 523. 456. 315. 106.  72.  35. 186.]\n"
     ]
    }
   ],
   "source": [
    "age_group = ['0 - <3','3 - <6','6 - <9','9 - <12','12 - <24','24 - <36','36 - <48','48 - <60','>= 60']\n",
    "table = np.zeros((9,2))\n",
    "\n",
    "for i in range(9):\n",
    "    for j in range(2):\n",
    "        table[i][j] = len(dataset[ (dataset['Clinical classification'] == 1 - j) & (dataset['Age group (in months)'] == age_group[i]) ])\n",
    "\n",
    "print(table)\n",
    "print(np.round(100 * table/total, 1))\n",
    "print(np.sum(table, axis=1))"
   ]
  },
  {
   "cell_type": "code",
   "execution_count": 21,
   "metadata": {},
   "outputs": [
    {
     "name": "stdout",
     "output_type": "stream",
     "text": [
      "[[ 787. 1021.]\n",
      " [  29.  143.]\n",
      " [   5.   24.]\n",
      " [   2.    1.]\n",
      " [  26.   34.]]\n",
      "[[92.7 83.5]\n",
      " [ 3.4 11.7]\n",
      " [ 0.6  2. ]\n",
      " [ 0.2  0.1]\n",
      " [ 3.1  2.8]]\n",
      "[1808.  172.   29.    3.   60.]\n"
     ]
    }
   ],
   "source": [
    "vac = ['0','1','2','3','NA']\n",
    "table = np.zeros((5,2))\n",
    "\n",
    "for i in range(5):\n",
    "    for j in range(2):\n",
    "        table[i][j] = len(dataset[ (dataset['Clinical classification'] == 1 - j) & (dataset['Vaccination'] == vac[i])])\n",
    "\n",
    "np.set_printoptions(suppress=True)\n",
    "print(table)\n",
    "print(np.round(100 * table/total,1))\n",
    "print(np.sum(table, axis=1))"
   ]
  },
  {
   "cell_type": "code",
   "execution_count": 30,
   "metadata": {},
   "outputs": [
    {
     "name": "stdout",
     "output_type": "stream",
     "text": [
      "[[385. 896.]\n",
      " [131. 110.]\n",
      " [332. 215.]\n",
      " [  1.   2.]]\n",
      "[[45.3 73.3]\n",
      " [15.4  9. ]\n",
      " [39.1 17.6]\n",
      " [ 0.1  0.2]]\n",
      "[1281.  241.  547.    3.]\n"
     ]
    }
   ],
   "source": [
    "place = ['community','Another hospital','NHP','']\n",
    "table = np.zeros((4,2))\n",
    "\n",
    "for i in range(4):\n",
    "    for j in range(2):\n",
    "        table[i][j] = len(dataset[ (dataset['Clinical classification'] == 1 - j) & (dataset['place_of_exposure'] == place[i])])\n",
    "\n",
    "np.set_printoptions(suppress=True)\n",
    "print(table)\n",
    "print(np.round(100 * table/total,1))\n",
    "print(np.sum(table, axis=1))"
   ]
  },
  {
   "cell_type": "code",
   "execution_count": 31,
   "metadata": {},
   "outputs": [
    {
     "name": "stdout",
     "output_type": "stream",
     "text": [
      "[[125. 343.]\n",
      " [567. 718.]\n",
      " [153. 152.]\n",
      " [  4.  10.]]\n",
      "[[14.7 28. ]\n",
      " [66.8 58.7]\n",
      " [18.  12.4]\n",
      " [ 0.5  0.8]]\n",
      "[ 468. 1285.  305.   14.]\n"
     ]
    }
   ],
   "source": [
    "table = np.zeros((4,2))\n",
    "distance = ['0 - <20','20 - <200','200 - <500','>= 500']\n",
    "\n",
    "for i in range(4):\n",
    "    for j in range(2):\n",
    "        table[i][j] = len(dataset[ (dataset['Clinical classification'] == 1 - j) & \n",
    "                                    (dataset['Distance from the hospital (km)'] == distance[i])])\n",
    "\n",
    "print(table)\n",
    "print(np.round(100 * table/total,1))\n",
    "print(np.sum(table, axis=1))"
   ]
  },
  {
   "cell_type": "code",
   "execution_count": 32,
   "metadata": {},
   "outputs": [
    {
     "name": "stdout",
     "output_type": "stream",
     "text": [
      "[[239. 475.]\n",
      " [ 98. 109.]\n",
      " [ 49.  51.]\n",
      " [306. 416.]\n",
      " [155. 166.]\n",
      " [  2.   6.]]\n",
      "[[28.2 38.8]\n",
      " [11.5  8.9]\n",
      " [ 5.8  4.2]\n",
      " [36.  34. ]\n",
      " [18.3 13.6]\n",
      " [ 0.2  0.5]]\n",
      "[714. 207. 100. 722. 321.   8.]\n"
     ]
    }
   ],
   "source": [
    "table = np.zeros((6,2))\n",
    "part_of_vietnam = ['Ha Noi','Northeastern','Northwestern','Red River Delta (except Hanoi)','Central','Southern']\n",
    "\n",
    "for i in range(6):\n",
    "    for j in range(2):\n",
    "        table[i][j] = len(dataset[ (dataset['Clinical classification'] == 1 - j) & (dataset['region_of_address'] == part_of_vietnam[i]) ])\n",
    "\n",
    "print(table)\n",
    "print(np.round(100 * table/total,1))\n",
    "print(np.sum(table, axis=1))"
   ]
  },
  {
   "cell_type": "code",
   "execution_count": 33,
   "metadata": {},
   "outputs": [
    {
     "name": "stdout",
     "output_type": "stream",
     "text": [
      "[[ 819. 1223.]\n",
      " [  30.    0.]]\n",
      "[[ 96.5 100. ]\n",
      " [  3.5   0. ]]\n",
      "[2042.   30.]\n"
     ]
    }
   ],
   "source": [
    "table = np.zeros((2,2))\n",
    "\n",
    "for i in range(2):\n",
    "    for j in range(2):\n",
    "        table[i][j] = len(dataset[ (dataset['Clinical classification'] == 1 - j) & (dataset['outcome_died'] == i)])\n",
    "\n",
    "print(table)\n",
    "print(np.round(100 * table/total,1))\n",
    "print(np.sum(table, axis=1))"
   ]
  },
  {
   "cell_type": "code",
   "execution_count": 36,
   "metadata": {},
   "outputs": [
    {
     "name": "stdout",
     "output_type": "stream",
     "text": [
      "[[339. 272.]\n",
      " [318. 596.]\n",
      " [156. 296.]\n",
      " [ 22.  25.]\n",
      " [ 13.  33.]\n",
      " [  1.   1.]]\n",
      "[[39.9 22.2]\n",
      " [37.5 48.7]\n",
      " [18.4 24.2]\n",
      " [ 2.6  2. ]\n",
      " [ 1.5  2.7]\n",
      " [ 0.1  0.1]]\n",
      "[611. 914. 452.  47.  46.   2.]\n"
     ]
    }
   ],
   "source": [
    "table = np.zeros((6,2))\n",
    "duration = ['<0','0 - <3','3 - <7','7 - <14', '>= 14', 'Unknown']\n",
    "\n",
    "for i in range(6):\n",
    "    for j in range(2):\n",
    "        table[i][j] = len(dataset[ (dataset['Clinical classification'] == 1 - j) & \n",
    "                            (dataset['Duration between onset and admission'] == duration[i])])\n",
    "\n",
    "print(table)\n",
    "print(np.round(100 * table/total,1))\n",
    "print(np.sum(table, axis=1))"
   ]
  },
  {
   "cell_type": "code",
   "execution_count": 37,
   "metadata": {},
   "outputs": [
    {
     "name": "stdout",
     "output_type": "stream",
     "text": [
      "[[226. 816.]\n",
      " [391. 348.]\n",
      " [232.  59.]]\n",
      "[[26.6 66.7]\n",
      " [46.1 28.5]\n",
      " [27.3  4.8]]\n",
      "[1042.  739.  291.]\n"
     ]
    }
   ],
   "source": [
    "table = np.zeros((3,2))\n",
    "duration = ['0 - <7','7 - <21', '>= 21']\n",
    "\n",
    "for i in range(3):\n",
    "    for j in range(2):\n",
    "        table[i][j] = len(dataset[ (dataset['Clinical classification'] == 1 - j) & \n",
    "                                    (dataset['Duration of stay within the hospital'] == duration[i])])\n",
    "\n",
    "print(table)\n",
    "print(np.round(100 * table/total,1))\n",
    "print(np.sum(table, axis=1))"
   ]
  },
  {
   "cell_type": "code",
   "execution_count": 38,
   "metadata": {},
   "outputs": [
    {
     "name": "stdout",
     "output_type": "stream",
     "text": [
      "[[  23.   19.]\n",
      " [  45.   27.]\n",
      " [  73.   21.]\n",
      " [  20.   26.]\n",
      " [   6.    6.]\n",
      " [  44.   29.]\n",
      " [   7.    8.]\n",
      " [ 554. 1031.]\n",
      " [  90.   69.]]\n",
      "[[ 2.7  1.6]\n",
      " [ 5.3  2.2]\n",
      " [ 8.6  1.7]\n",
      " [ 2.4  2.1]\n",
      " [ 0.7  0.5]\n",
      " [ 5.2  2.4]\n",
      " [ 0.8  0.7]\n",
      " [65.3 84.3]\n",
      " [10.6  5.6]]\n",
      "[  42.   72.   94.   46.   12.   73.   15. 1585.  159.]\n"
     ]
    }
   ],
   "source": [
    "table = np.zeros((9,2))\n",
    "\n",
    "underlying_condition = ['Underlying conditions - Respiratory system','Underlying conditions - Cardiovascular system',\n",
    "    'Underlying condition - Gastrointestinal system','Underlying condition - Kidney and urology system',\n",
    "    'Underlying condition - Immunodeficiency','Underlying condition - Neurological system','Underlying condition - Inherited metabolic disorders',\n",
    "    'Underlying condition - No underlying diseases','Underlying condition - Other underlying conditions']\n",
    "\n",
    "for i in range(9):\n",
    "    for j in range(2):\n",
    "        table[i][j] = len(dataset[ (dataset['Clinical classification'] == 1 - j) &\n",
    "                                     (dataset[underlying_condition[i]] == 1)])\n",
    "\n",
    "print(table)\n",
    "print(np.round(100 * table/total,1))\n",
    "print(np.sum(table, axis=1))"
   ]
  },
  {
   "cell_type": "code",
   "execution_count": 39,
   "metadata": {},
   "outputs": [
    {
     "name": "stdout",
     "output_type": "stream",
     "text": [
      "[[685.   0.]\n",
      " [  8.   0.]\n",
      " [144.   0.]\n",
      " [ 11.   0.]\n",
      " [  1.   0.]]\n",
      "[[80.7  0. ]\n",
      " [ 0.9  0. ]\n",
      " [17.   0. ]\n",
      " [ 1.3  0. ]\n",
      " [ 0.1  0. ]]\n",
      "[685.   8. 144.  11.   1.]\n"
     ]
    }
   ],
   "source": [
    "form = ['oxygen_cannula','CPAP','conventional_mechanical_ventilation','hfo_ventilation','ECMO']\n",
    "table = np.zeros((5,2))\n",
    "\n",
    "for i in range(5):\n",
    "    for j in range(2):\n",
    "        table[i][j] = len(dataset[ (dataset['Clinical classification'] == 1 - j) &\n",
    "                                 (dataset['highest_ventilation_mode'] == form[i])])\n",
    "\n",
    "print(table)\n",
    "print(np.round(100 * table/total,1))\n",
    "print(np.sum(table, axis=1))"
   ]
  },
  {
   "cell_type": "code",
   "execution_count": 40,
   "metadata": {},
   "outputs": [
    {
     "data": {
      "text/plain": [
       ">= 48       1057\n",
       "0 - <24      554\n",
       "24 - <48     438\n",
       "< 0           23\n",
       "Name: Duration between onset and test (detection time) (in hours), dtype: int64"
      ]
     },
     "execution_count": 40,
     "metadata": {},
     "output_type": "execute_result"
    }
   ],
   "source": [
    "dataset['Duration between onset and test (detection time) (in hours)'].value_counts()"
   ]
  },
  {
   "cell_type": "code",
   "execution_count": 44,
   "metadata": {},
   "outputs": [
    {
     "name": "stdout",
     "output_type": "stream",
     "text": [
      "[[  8.  15.]\n",
      " [240. 314.]\n",
      " [201. 237.]\n",
      " [400. 657.]]\n",
      "[[ 0.9  1.2]\n",
      " [28.3 25.7]\n",
      " [23.7 19.4]\n",
      " [47.1 53.7]]\n",
      "[  23.  554.  438. 1057.]\n"
     ]
    }
   ],
   "source": [
    "duration = ['< 0', '0 - <24','24 - <48','>= 48']\n",
    "table = np.zeros((4,2))\n",
    "\n",
    "for i in range(4):\n",
    "    for j in range(2):\n",
    "        table[i][j] = len(dataset[ (dataset['Clinical classification'] == 1 - j)\n",
    "        & (dataset['Duration between onset and test (detection time) (in hours)'] == duration[i])])\n",
    "\n",
    "print(table)\n",
    "print(np.round(100 * table/total,1))\n",
    "print(np.sum(table, axis=1))"
   ]
  },
  {
   "cell_type": "code",
   "execution_count": 45,
   "metadata": {},
   "outputs": [
    {
     "name": "stdout",
     "output_type": "stream",
     "text": [
      "[[272. 576.]\n",
      " [361. 300.]\n",
      " [343. 406.]\n",
      " [177. 214.]]\n",
      "[[32.  47.1]\n",
      " [42.5 24.5]\n",
      " [40.4 33.2]\n",
      " [20.8 17.5]]\n",
      "[848. 661. 749. 391.]\n"
     ]
    }
   ],
   "source": [
    "diagnosis = ['Measles','Pneumonia','Bronchopneumonia','Other diagnosis']\n",
    "table = np.zeros((4,2))\n",
    "\n",
    "for i in range(4):\n",
    "    for j in range(2):\n",
    "        table[i][j] = len(dataset[ (dataset['Clinical classification'] == 1 - j) &\n",
    "                                     (dataset[diagnosis[i]] == 1)])\n",
    "\n",
    "print(table)\n",
    "print(np.round(100 * table/total,1))\n",
    "print(np.sum(table, axis=1))"
   ]
  },
  {
   "cell_type": "code",
   "execution_count": 46,
   "metadata": {},
   "outputs": [
    {
     "name": "stdout",
     "output_type": "stream",
     "text": [
      "[[ 14.  37.]\n",
      " [  4.  26.]\n",
      " [  1.   1.]\n",
      " [  0.   7.]\n",
      " [721. 692.]\n",
      " [  9.   1.]\n",
      " [  2.   2.]]\n",
      "[[ 1.6  3. ]\n",
      " [ 0.5  2.1]\n",
      " [ 0.1  0.1]\n",
      " [ 0.   0.6]\n",
      " [84.9 56.6]\n",
      " [ 1.1  0.1]\n",
      " [ 0.2  0.2]]\n",
      "[  51.   30.    2.    7. 1413.   10.    4.]\n"
     ]
    }
   ],
   "source": [
    "prefix = 'complication-'\n",
    "column_name = ['gastroentiritis','middle-ear-infec','conjunctivitis','laryngitis','pneumonia-bronchitis',\n",
    "'febrile-seizures','septic-shock-sepsis']\n",
    "table = np.zeros((7,2))\n",
    "\n",
    "for i in range(7):\n",
    "    for j in range(2):\n",
    "        table[i][j] = len(dataset[ (dataset['Clinical classification'] == 1 - j) &\n",
    "                                 (dataset[prefix+column_name[i]] == 1)])\n",
    "\n",
    "print(table)\n",
    "print(np.round(100 * table/total,1))\n",
    "print(np.sum(table, axis=1))"
   ]
  },
  {
   "cell_type": "code",
   "execution_count": 47,
   "metadata": {},
   "outputs": [
    {
     "name": "stdout",
     "output_type": "stream",
     "text": [
      "[[8. 8.]\n",
      " [3. 1.]\n",
      " [1. 2.]\n",
      " [2. 0.]]\n",
      "[[0.9 0.7]\n",
      " [0.4 0.1]\n",
      " [0.1 0.2]\n",
      " [0.2 0. ]]\n",
      "[16.  4.  3.  2.]\n"
     ]
    }
   ],
   "source": [
    "prefix = 'co-infection-'\n",
    "column_name = ['influenza-a','influenza-b','streptococus-aerius','streptococus-pneumonia']\n",
    "table = np.zeros((4,2))\n",
    "\n",
    "for i in range(4):\n",
    "    for j in range(2):\n",
    "        table[i][j] = len(dataset[ (dataset['Clinical classification'] == 1 - j) & \n",
    "                            (dataset[prefix+column_name[i]] == 1)])\n",
    "\n",
    "print(table)\n",
    "print(np.round(100 * table/total,1))\n",
    "print(np.sum(table, axis=1))"
   ]
  },
  {
   "cell_type": "code",
   "execution_count": 48,
   "metadata": {},
   "outputs": [
    {
     "name": "stdout",
     "output_type": "stream",
     "text": [
      "[[18. 12.]\n",
      " [73. 22.]\n",
      " [12.  5.]\n",
      " [15.  3.]]\n",
      "[[2.1 1. ]\n",
      " [8.6 1.8]\n",
      " [1.4 0.4]\n",
      " [1.8 0.2]]\n",
      "[30. 95. 17. 18.]\n"
     ]
    }
   ],
   "source": [
    "column_name = ['respiratory_syncytical_virus', 'adenovirus', 'pertussis', 'healthcare_associated_infection']\n",
    "table = np.zeros((4,2))\n",
    "\n",
    "for i in range(4):\n",
    "    for j in range(2):\n",
    "        table[i][j] = len(dataset[ (dataset['Clinical classification'] == 1 - j) & \n",
    "                                    (dataset[column_name[i]] == 1)])\n",
    "\n",
    "print(table)\n",
    "print(np.round(100 * table/total,1))\n",
    "print(np.sum(table, axis=1))"
   ]
  }
 ],
 "metadata": {
  "kernelspec": {
   "display_name": "Python 3.11.0 64-bit",
   "language": "python",
   "name": "python3"
  },
  "language_info": {
   "codemirror_mode": {
    "name": "ipython",
    "version": 3
   },
   "file_extension": ".py",
   "mimetype": "text/x-python",
   "name": "python",
   "nbconvert_exporter": "python",
   "pygments_lexer": "ipython3",
   "version": "3.11.0"
  },
  "orig_nbformat": 4,
  "vscode": {
   "interpreter": {
    "hash": "aee8b7b246df8f9039afb4144a1f6fd8d2ca17a180786b69acc140d282b71a49"
   }
  }
 },
 "nbformat": 4,
 "nbformat_minor": 2
}
