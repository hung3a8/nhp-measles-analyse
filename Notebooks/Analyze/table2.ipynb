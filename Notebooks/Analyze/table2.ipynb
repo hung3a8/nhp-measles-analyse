{
 "cells": [
  {
   "cell_type": "code",
   "execution_count": 1,
   "metadata": {},
   "outputs": [],
   "source": [
    "import pandas as pd\n",
    "import numpy as np\n",
    "import datetime\n",
    "import string\n",
    "import os\n",
    "from matplotlib import pyplot as plt\n",
    "from pathlib import Path"
   ]
  },
  {
   "cell_type": "code",
   "execution_count": 2,
   "metadata": {},
   "outputs": [],
   "source": [
    "RAW_DATA_PATH = '/Users/vuhoangnguyen/Research/'\n",
    "RAW_DATA = os.path.join(RAW_DATA_PATH, 'raw_data.csv')\n",
    "raw_dataset = pd.read_csv(RAW_DATA, keep_default_na=False)\n",
    "DATA = os.path.join(Path.cwd().parents[0], 'Data/out.csv')\n",
    "dataset = pd.read_csv(DATA, keep_default_na=False)"
   ]
  },
  {
   "cell_type": "code",
   "execution_count": 83,
   "metadata": {},
   "outputs": [
    {
     "data": {
      "text/plain": [
       "array([1281.,  241.,  547.])"
      ]
     },
     "execution_count": 83,
     "metadata": {},
     "output_type": "execute_result"
    }
   ],
   "source": [
    "place = ['community','Another hospital','NHP']\n",
    "total = np.zeros(3)\n",
    "for i in range(3):\n",
    "    total[i] = len(dataset[dataset['place_of_exposure'] == place[i]])\n",
    "total"
   ]
  },
  {
   "cell_type": "code",
   "execution_count": 4,
   "metadata": {},
   "outputs": [
    {
     "ename": "KeyError",
     "evalue": "'admission_years'",
     "output_type": "error",
     "traceback": [
      "\u001b[0;31m---------------------------------------------------------------------------\u001b[0m",
      "\u001b[0;31mKeyError\u001b[0m                                  Traceback (most recent call last)",
      "File \u001b[0;32m/Library/Frameworks/Python.framework/Versions/3.11/lib/python3.11/site-packages/pandas/core/indexes/base.py:3803\u001b[0m, in \u001b[0;36mIndex.get_loc\u001b[0;34m(self, key, method, tolerance)\u001b[0m\n\u001b[1;32m   3802\u001b[0m \u001b[39mtry\u001b[39;00m:\n\u001b[0;32m-> 3803\u001b[0m     \u001b[39mreturn\u001b[39;00m \u001b[39mself\u001b[39;49m\u001b[39m.\u001b[39;49m_engine\u001b[39m.\u001b[39;49mget_loc(casted_key)\n\u001b[1;32m   3804\u001b[0m \u001b[39mexcept\u001b[39;00m \u001b[39mKeyError\u001b[39;00m \u001b[39mas\u001b[39;00m err:\n",
      "File \u001b[0;32m/Library/Frameworks/Python.framework/Versions/3.11/lib/python3.11/site-packages/pandas/_libs/index.pyx:138\u001b[0m, in \u001b[0;36mpandas._libs.index.IndexEngine.get_loc\u001b[0;34m()\u001b[0m\n",
      "File \u001b[0;32m/Library/Frameworks/Python.framework/Versions/3.11/lib/python3.11/site-packages/pandas/_libs/index.pyx:165\u001b[0m, in \u001b[0;36mpandas._libs.index.IndexEngine.get_loc\u001b[0;34m()\u001b[0m\n",
      "File \u001b[0;32mpandas/_libs/hashtable_class_helper.pxi:5745\u001b[0m, in \u001b[0;36mpandas._libs.hashtable.PyObjectHashTable.get_item\u001b[0;34m()\u001b[0m\n",
      "File \u001b[0;32mpandas/_libs/hashtable_class_helper.pxi:5753\u001b[0m, in \u001b[0;36mpandas._libs.hashtable.PyObjectHashTable.get_item\u001b[0;34m()\u001b[0m\n",
      "\u001b[0;31mKeyError\u001b[0m: 'admission_years'",
      "\nThe above exception was the direct cause of the following exception:\n",
      "\u001b[0;31mKeyError\u001b[0m                                  Traceback (most recent call last)",
      "Cell \u001b[0;32mIn [4], line 1\u001b[0m\n\u001b[0;32m----> 1\u001b[0m dataset[\u001b[39m'\u001b[39;49m\u001b[39madmission_years\u001b[39;49m\u001b[39m'\u001b[39;49m]\u001b[39m.\u001b[39mvalue_counts()\n",
      "File \u001b[0;32m/Library/Frameworks/Python.framework/Versions/3.11/lib/python3.11/site-packages/pandas/core/frame.py:3805\u001b[0m, in \u001b[0;36mDataFrame.__getitem__\u001b[0;34m(self, key)\u001b[0m\n\u001b[1;32m   3803\u001b[0m \u001b[39mif\u001b[39;00m \u001b[39mself\u001b[39m\u001b[39m.\u001b[39mcolumns\u001b[39m.\u001b[39mnlevels \u001b[39m>\u001b[39m \u001b[39m1\u001b[39m:\n\u001b[1;32m   3804\u001b[0m     \u001b[39mreturn\u001b[39;00m \u001b[39mself\u001b[39m\u001b[39m.\u001b[39m_getitem_multilevel(key)\n\u001b[0;32m-> 3805\u001b[0m indexer \u001b[39m=\u001b[39m \u001b[39mself\u001b[39;49m\u001b[39m.\u001b[39;49mcolumns\u001b[39m.\u001b[39;49mget_loc(key)\n\u001b[1;32m   3806\u001b[0m \u001b[39mif\u001b[39;00m is_integer(indexer):\n\u001b[1;32m   3807\u001b[0m     indexer \u001b[39m=\u001b[39m [indexer]\n",
      "File \u001b[0;32m/Library/Frameworks/Python.framework/Versions/3.11/lib/python3.11/site-packages/pandas/core/indexes/base.py:3805\u001b[0m, in \u001b[0;36mIndex.get_loc\u001b[0;34m(self, key, method, tolerance)\u001b[0m\n\u001b[1;32m   3803\u001b[0m     \u001b[39mreturn\u001b[39;00m \u001b[39mself\u001b[39m\u001b[39m.\u001b[39m_engine\u001b[39m.\u001b[39mget_loc(casted_key)\n\u001b[1;32m   3804\u001b[0m \u001b[39mexcept\u001b[39;00m \u001b[39mKeyError\u001b[39;00m \u001b[39mas\u001b[39;00m err:\n\u001b[0;32m-> 3805\u001b[0m     \u001b[39mraise\u001b[39;00m \u001b[39mKeyError\u001b[39;00m(key) \u001b[39mfrom\u001b[39;00m \u001b[39merr\u001b[39;00m\n\u001b[1;32m   3806\u001b[0m \u001b[39mexcept\u001b[39;00m \u001b[39mTypeError\u001b[39;00m:\n\u001b[1;32m   3807\u001b[0m     \u001b[39m# If we have a listlike key, _check_indexing_error will raise\u001b[39;00m\n\u001b[1;32m   3808\u001b[0m     \u001b[39m#  InvalidIndexError. Otherwise we fall through and re-raise\u001b[39;00m\n\u001b[1;32m   3809\u001b[0m     \u001b[39m#  the TypeError.\u001b[39;00m\n\u001b[1;32m   3810\u001b[0m     \u001b[39mself\u001b[39m\u001b[39m.\u001b[39m_check_indexing_error(key)\n",
      "\u001b[0;31mKeyError\u001b[0m: 'admission_years'"
     ]
    }
   ],
   "source": [
    "dataset['admission_years'].value_counts()"
   ]
  },
  {
   "cell_type": "code",
   "execution_count": 84,
   "metadata": {},
   "outputs": [
    {
     "name": "stdout",
     "output_type": "stream",
     "text": [
      "[[ 61.   8.  61.]\n",
      " [382.  67. 171.]\n",
      " [838. 166. 315.]]\n",
      "[[ 4.8  3.3 11.2]\n",
      " [29.8 27.8 31.3]\n",
      " [65.4 68.9 57.6]]\n",
      "[ 130.  620. 1319.]\n"
     ]
    }
   ],
   "source": [
    "place = ['community','Another hospital','NHP']\n",
    "table = np.zeros((3,3))\n",
    "\n",
    "for i, year in enumerate(['2017', '2018', '2019']):\n",
    "    for j in range(3):\n",
    "        table[i][j] = len(dataset[ (dataset['place_of_exposure'] == place[j]) & (dataset['admission_date'].str.contains(year)) ])\n",
    "\n",
    "print(table)\n",
    "print(np.round(100 * table/total, 1))\n",
    "print(np.sum(table, axis=1))"
   ]
  },
  {
   "cell_type": "code",
   "execution_count": 85,
   "metadata": {},
   "outputs": [
    {
     "name": "stdout",
     "output_type": "stream",
     "text": [
      "[[787. 161. 348.]\n",
      " [494.  80. 199.]]\n",
      "[[61.4 66.8 63.6]\n",
      " [38.6 33.2 36.4]]\n",
      "[1296.  773.]\n"
     ]
    }
   ],
   "source": [
    "place = ['community','Another hospital','NHP']\n",
    "table = np.zeros((2,3))\n",
    "\n",
    "for i in range(2):\n",
    "    for j in range(3):\n",
    "        table[i][j] = len(dataset[ (dataset['place_of_exposure'] == place[j]) & (dataset['Female'] == i) ])\n",
    "\n",
    "print(table)\n",
    "print(np.round(100 * table/total, 1))\n",
    "print(np.sum(table, axis=1))"
   ]
  },
  {
   "cell_type": "code",
   "execution_count": 86,
   "metadata": {},
   "outputs": [
    {
     "name": "stdout",
     "output_type": "stream",
     "text": [
      "[[ 45.  10.  32.]\n",
      " [150.  33. 108.]\n",
      " [314.  65. 143.]\n",
      " [282.  68. 106.]\n",
      " [197.  39.  78.]\n",
      " [ 70.   9.  27.]\n",
      " [ 47.   7.  18.]\n",
      " [ 28.   2.   5.]\n",
      " [148.   8.  30.]]\n",
      "[[ 3.5  4.1  5.9]\n",
      " [11.7 13.7 19.7]\n",
      " [24.5 27.  26.1]\n",
      " [22.  28.2 19.4]\n",
      " [15.4 16.2 14.3]\n",
      " [ 5.5  3.7  4.9]\n",
      " [ 3.7  2.9  3.3]\n",
      " [ 2.2  0.8  0.9]\n",
      " [11.6  3.3  5.5]]\n",
      "[ 87. 291. 522. 456. 314. 106.  72.  35. 186.]\n",
      "2069.0\n"
     ]
    }
   ],
   "source": [
    "place = ['community','Another hospital','NHP']\n",
    "age_group = ['0 - <3','3 - <6','6 - <9','9 - <12','12 - <24','24 - <36','36 - <48','48 - <60','>= 60']\n",
    "table = np.zeros((9,3))\n",
    "\n",
    "for i in range(9):\n",
    "    for j in range(3):\n",
    "        table[i][j] = len(dataset[ (dataset['place_of_exposure'] == place[j]) & (dataset['Age group (in months)'] == age_group[i]) ])\n",
    "\n",
    "print(table)\n",
    "print(np.round(100 * table/total, 1))\n",
    "print(np.sum(table, axis=1))"
   ]
  },
  {
   "cell_type": "code",
   "execution_count": 87,
   "metadata": {},
   "outputs": [
    {
     "name": "stdout",
     "output_type": "stream",
     "text": [
      "[[1074.  222.  509.]\n",
      " [ 142.   11.   19.]\n",
      " [  24.    2.    3.]\n",
      " [   2.    0.    1.]\n",
      " [  39.    6.   15.]]\n",
      "[[83.8 92.1 93.1]\n",
      " [11.1  4.6  3.5]\n",
      " [ 1.9  0.8  0.5]\n",
      " [ 0.2  0.   0.2]\n",
      " [ 3.   2.5  2.7]]\n",
      "[1805.  172.   29.    3.   60.]\n"
     ]
    }
   ],
   "source": [
    "place = ['community','Another hospital','NHP']\n",
    "vac = ['0','1','2','3','NA']\n",
    "table = np.zeros((5,3))\n",
    "\n",
    "for i in range(5):\n",
    "    for j in range(3):\n",
    "        table[i][j] = len(dataset[(dataset['place_of_exposure'] == place[j]) & (dataset['Vaccination'] == vac[i])])\n",
    "\n",
    "np.set_printoptions(suppress=True)\n",
    "print(table)\n",
    "print(np.round(100 * table/total,1))\n",
    "print(np.sum(table, axis=1))"
   ]
  },
  {
   "cell_type": "code",
   "execution_count": 88,
   "metadata": {},
   "outputs": [
    {
     "name": "stdout",
     "output_type": "stream",
     "text": [
      "[[347.  45.  76.]\n",
      " [764. 143. 375.]\n",
      " [164.  51.  90.]\n",
      " [  6.   2.   6.]]\n",
      "[[27.1 18.7 13.9]\n",
      " [59.6 59.3 68.6]\n",
      " [12.8 21.2 16.5]\n",
      " [ 0.5  0.8  1.1]]\n",
      "[ 468. 1282.  305.   14.]\n"
     ]
    }
   ],
   "source": [
    "place = ['community','Another hospital','NHP']\n",
    "table = np.zeros((4,3))\n",
    "distance = ['0 - <20','20 - <200','200 - <500','>= 500']\n",
    "\n",
    "for i in range(4):\n",
    "    for j in range(3):\n",
    "        table[i][j] = len(dataset[(dataset['place_of_exposure'] == place[j]) & (dataset['Distance from the hospital (km)'] == distance[i])])\n",
    "\n",
    "print(table)\n",
    "print(np.round(100 * table/total,1))\n",
    "print(np.sum(table, axis=1))"
   ]
  },
  {
   "cell_type": "code",
   "execution_count": 89,
   "metadata": {},
   "outputs": [
    {
     "name": "stdout",
     "output_type": "stream",
     "text": [
      "[[503.  67. 144.]\n",
      " [117.  29.  61.]\n",
      " [ 63.   9.  28.]\n",
      " [424.  81. 214.]\n",
      " [169.  54.  98.]\n",
      " [  5.   1.   2.]]\n",
      "[[39.3 27.8 26.3]\n",
      " [ 9.1 12.  11.2]\n",
      " [ 4.9  3.7  5.1]\n",
      " [33.1 33.6 39.1]\n",
      " [13.2 22.4 17.9]\n",
      " [ 0.4  0.4  0.4]]\n",
      "[714. 207. 100. 719. 321.   8.]\n"
     ]
    }
   ],
   "source": [
    "place = ['community','Another hospital','NHP']\n",
    "table = np.zeros((6,3))\n",
    "part_of_vietnam = ['Ha Noi','Northeastern','Northwestern','Red River Delta (except Hanoi)','Central','Southern']\n",
    "\n",
    "for i in range(6):\n",
    "    for j in range(3):\n",
    "        table[i][j] = len(dataset[(dataset['place_of_exposure'] == place[j]) & (dataset['region_of_address'] == part_of_vietnam[i])])\n",
    "\n",
    "print(table)\n",
    "print(np.round(100 * table/total,1))\n",
    "print(np.sum(table, axis=1))"
   ]
  },
  {
   "cell_type": "code",
   "execution_count": 90,
   "metadata": {},
   "outputs": [
    {
     "name": "stdout",
     "output_type": "stream",
     "text": [
      "[[1272.  232.  535.]\n",
      " [   9.    9.   12.]]\n",
      "[[99.3 96.3 97.8]\n",
      " [ 0.7  3.7  2.2]]\n",
      "[2039.   30.]\n"
     ]
    }
   ],
   "source": [
    "place = ['community','Another hospital','NHP']\n",
    "table = np.zeros((2,3))\n",
    "\n",
    "for i in range(2):\n",
    "    for j in range(3):\n",
    "        table[i][j] = len(dataset[ (dataset['place_of_exposure'] == place[j]) & (dataset['outcome_died'] == i)])\n",
    "print(table)\n",
    "print(np.round(100 * table/total,1))\n",
    "print(np.sum(table, axis=1))"
   ]
  },
  {
   "cell_type": "code",
   "execution_count": 91,
   "metadata": {},
   "outputs": [
    {
     "name": "stdout",
     "output_type": "stream",
     "text": [
      "[[259.  52. 298.]\n",
      " [652. 107. 154.]\n",
      " [303.  64.  85.]\n",
      " [ 29.  10.   8.]\n",
      " [ 36.   8.   2.]]\n",
      "[[20.2 21.6 54.5]\n",
      " [50.9 44.4 28.2]\n",
      " [23.7 26.6 15.5]\n",
      " [ 2.3  4.1  1.5]\n",
      " [ 2.8  3.3  0.4]]\n",
      "[609. 913. 452.  47.  46.]\n"
     ]
    }
   ],
   "source": [
    "place = ['community','Another hospital','NHP']\n",
    "table = np.zeros((5,3))\n",
    "duration = ['<0','0 - <3','3 - <7','7 - <14', '>= 14']\n",
    "\n",
    "for i in range(5):\n",
    "    for j in range(3):\n",
    "        table[i][j] = len(dataset[ (dataset['place_of_exposure'] == place[j]) & (dataset['Duration between onset and admission'] == duration[i])])\n",
    "\n",
    "print(table)\n",
    "print(np.round(100 * table/total,1))\n",
    "print(np.sum(table, axis=1))"
   ]
  },
  {
   "cell_type": "code",
   "execution_count": 92,
   "metadata": {},
   "outputs": [
    {
     "name": "stdout",
     "output_type": "stream",
     "text": [
      "[[817.  78. 146.]\n",
      " [404. 125. 209.]\n",
      " [ 60.  38. 192.]]\n",
      "[[63.8 32.4 26.7]\n",
      " [31.5 51.9 38.2]\n",
      " [ 4.7 15.8 35.1]]\n",
      "[1041.  738.  290.]\n"
     ]
    }
   ],
   "source": [
    "place = ['community','Another hospital','NHP']\n",
    "table = np.zeros((3,3))\n",
    "duration = ['0 - <7','7 - <21', '>= 21']\n",
    "\n",
    "for i in range(3):\n",
    "    for j in range(3):\n",
    "        table[i][j] = len(dataset[ (dataset['place_of_exposure'] == place[j]) & (dataset['Duration of stay within the hospital'] == duration[i])])\n",
    "\n",
    "print(table)\n",
    "print(np.round(100 * table/total,1))\n",
    "print(np.sum(table, axis=1))"
   ]
  },
  {
   "cell_type": "code",
   "execution_count": 93,
   "metadata": {},
   "outputs": [
    {
     "name": "stdout",
     "output_type": "stream",
     "text": [
      "[[  16.    3.   23.]\n",
      " [  37.    7.   28.]\n",
      " [  42.    2.   50.]\n",
      " [  11.    2.   33.]\n",
      " [   4.    1.    7.]\n",
      " [  22.    5.   46.]\n",
      " [   9.    1.    4.]\n",
      " [1092.  206.  285.]\n",
      " [  55.   14.   90.]]\n",
      "[[ 1.2  1.2  4.2]\n",
      " [ 2.9  2.9  5.1]\n",
      " [ 3.3  0.8  9.1]\n",
      " [ 0.9  0.8  6. ]\n",
      " [ 0.3  0.4  1.3]\n",
      " [ 1.7  2.1  8.4]\n",
      " [ 0.7  0.4  0.7]\n",
      " [85.2 85.5 52.1]\n",
      " [ 4.3  5.8 16.5]]\n",
      "[  42.   72.   94.   46.   12.   73.   14. 1583.  159.]\n"
     ]
    }
   ],
   "source": [
    "place = ['community','Another hospital','NHP']\n",
    "table = np.zeros((9,3))\n",
    "\n",
    "underlying_condition = ['Underlying conditions - Respiratory system','Underlying conditions - Cardiovascular system',\n",
    "    'Underlying condition - Gastrointestinal system','Underlying condition - Kidney and urology system',\n",
    "    'Underlying condition - Immunodeficiency','Underlying condition - Neurological system','Underlying condition - Inherited metabolic disorders',\n",
    "    'Underlying condition - No underlying diseases','Underlying condition - Other underlying conditions']\n",
    "\n",
    "for i in range(9):\n",
    "    for j in range(3):\n",
    "        table[i][j] = len(dataset[(dataset['place_of_exposure'] == place[j]) & (dataset[underlying_condition[i]] == 1)])\n",
    "\n",
    "print(table)\n",
    "print(np.round(100 * table/total,1))\n",
    "print(np.sum(table, axis=1))"
   ]
  },
  {
   "cell_type": "code",
   "execution_count": 94,
   "metadata": {},
   "outputs": [
    {
     "name": "stdout",
     "output_type": "stream",
     "text": [
      "[[335.  93. 256.]\n",
      " [  2.   1.   5.]\n",
      " [ 46.  32.  66.]\n",
      " [  1.   5.   5.]\n",
      " [  1.   0.   0.]]\n",
      "[[26.2 38.6 46.8]\n",
      " [ 0.2  0.4  0.9]\n",
      " [ 3.6 13.3 12.1]\n",
      " [ 0.1  2.1  0.9]\n",
      " [ 0.1  0.   0. ]]\n",
      "[684.   8. 144.  11.   1.]\n"
     ]
    }
   ],
   "source": [
    "place = ['community','Another hospital','NHP']\n",
    "form = ['oxygen_cannula','CPAP','conventional_mechanical_ventilation','hfo_ventilation','ECMO']\n",
    "table = np.zeros((5,3))\n",
    "\n",
    "for i in range(5):\n",
    "    for j in range(3):\n",
    "        table[i][j] = len(dataset[(dataset['place_of_exposure'] == place[j]) & (dataset['highest_ventilation_mode'] == form[i])])\n",
    "\n",
    "print(table)\n",
    "print(np.round(100 * table/total,1))\n",
    "print(np.sum(table, axis=1))"
   ]
  },
  {
   "cell_type": "code",
   "execution_count": 95,
   "metadata": {},
   "outputs": [
    {
     "name": "stdout",
     "output_type": "stream",
     "text": [
      "[[ 14.   3.   5.]\n",
      " [315.  45. 193.]\n",
      " [264.  47. 127.]\n",
      " [688. 146. 222.]]\n",
      "[[ 1.1  1.2  0.9]\n",
      " [24.6 18.7 35.3]\n",
      " [20.6 19.5 23.2]\n",
      " [53.7 60.6 40.6]]\n",
      "[  22.  553.  438. 1056.]\n",
      "2069.0\n"
     ]
    }
   ],
   "source": [
    "place = ['community','Another hospital','NHP']\n",
    "duration = ['< 0', '0 - <24','24 - <48','>= 48']\n",
    "table = np.zeros((4,3))\n",
    "\n",
    "for i in range(4):\n",
    "    for j in range(3):\n",
    "        table[i][j] = len(dataset[(dataset['place_of_exposure'] == place[j]) & (dataset['Duration between onset and test (detection time) (in hours)'] == duration[i])])\n",
    "\n",
    "print(table)\n",
    "print(np.round(100 * table/total,1))\n",
    "print(np.sum(table, axis=1))\n",
    "print(np.sum(table))"
   ]
  },
  {
   "cell_type": "code",
   "execution_count": 96,
   "metadata": {},
   "outputs": [
    {
     "name": "stdout",
     "output_type": "stream",
     "text": [
      "[[612.  85. 150.]\n",
      " [374. 109. 178.]\n",
      " [440. 100. 209.]\n",
      " [185.  35. 169.]]\n",
      "[[47.8 35.3 27.4]\n",
      " [29.2 45.2 32.5]\n",
      " [34.3 41.5 38.2]\n",
      " [14.4 14.5 30.9]]\n",
      "[847. 661. 749. 389.]\n"
     ]
    }
   ],
   "source": [
    "place = ['community','Another hospital','NHP']\n",
    "diagnosis = ['Measles','Pneumonia','Bronchopneumonia','Other diagnosis']\n",
    "table = np.zeros((4,3))\n",
    "\n",
    "for i in range(4):\n",
    "    for j in range(3):\n",
    "        table[i][j] = len(dataset[(dataset['place_of_exposure'] == place[j]) & (dataset[diagnosis[i]] == 1)])\n",
    "\n",
    "print(table)\n",
    "print(np.round(100 * table/total,1))\n",
    "print(np.sum(table, axis=1))"
   ]
  },
  {
   "cell_type": "code",
   "execution_count": 97,
   "metadata": {},
   "outputs": [
    {
     "name": "stdout",
     "output_type": "stream",
     "text": [
      "[[ 34.   4.  12.]\n",
      " [ 19.   3.   8.]\n",
      " [  2.   0.   0.]\n",
      " [  5.   0.   2.]\n",
      " [823. 196. 393.]\n",
      " [  2.   1.   7.]\n",
      " [  4.   0.   0.]]\n",
      "[[ 2.7  1.7  2.2]\n",
      " [ 1.5  1.2  1.5]\n",
      " [ 0.2  0.   0. ]\n",
      " [ 0.4  0.   0.4]\n",
      " [64.2 81.3 71.8]\n",
      " [ 0.2  0.4  1.3]\n",
      " [ 0.3  0.   0. ]]\n",
      "[  50.   30.    2.    7. 1412.   10.    4.]\n"
     ]
    }
   ],
   "source": [
    "place = ['community','Another hospital','NHP']\n",
    "prefix = 'complication-'\n",
    "column_name = ['gastroentiritis','middle-ear-infec','conjunctivitis','laryngitis','pneumonia-bronchitis',\n",
    "'febrile-seizures','septic-shock-sepsis']\n",
    "table = np.zeros((7,3))\n",
    "\n",
    "for i in range(7):\n",
    "    for j in range(3):\n",
    "        table[i][j] = len(dataset[(dataset['place_of_exposure'] == place[j]) & (dataset[prefix+column_name[i]] == 1)])\n",
    "\n",
    "print(table)\n",
    "print(np.round(100 * table/total,1))\n",
    "print(np.sum(table, axis=1))"
   ]
  },
  {
   "cell_type": "code",
   "execution_count": 98,
   "metadata": {},
   "outputs": [
    {
     "name": "stdout",
     "output_type": "stream",
     "text": [
      "[[10.  1.  5.]\n",
      " [ 2.  0.  2.]\n",
      " [ 1.  0.  2.]\n",
      " [ 0.  1.  1.]]\n",
      "[[0.8 0.4 0.9]\n",
      " [0.2 0.  0.4]\n",
      " [0.1 0.  0.4]\n",
      " [0.  0.4 0.2]]\n",
      "[16.  4.  3.  2.]\n"
     ]
    }
   ],
   "source": [
    "place = ['community','Another hospital','NHP']\n",
    "prefix = 'co-infection-'\n",
    "column_name = ['influenza-a','influenza-b','streptococus-aerius','streptococus-pneumonia']\n",
    "table = np.zeros((4,3))\n",
    "\n",
    "for i in range(4):\n",
    "    for j in range(3):\n",
    "        table[i][j] = len(dataset[(dataset['place_of_exposure'] == place[j]) & (dataset[prefix+column_name[i]] == 1)])\n",
    "\n",
    "print(table)\n",
    "print(np.round(100 * table/total,1))\n",
    "print(np.sum(table, axis=1))"
   ]
  },
  {
   "cell_type": "code",
   "execution_count": 99,
   "metadata": {},
   "outputs": [
    {
     "name": "stdout",
     "output_type": "stream",
     "text": [
      "[[ 9.  1. 20.]\n",
      " [37. 19. 38.]\n",
      " [ 5.  3.  9.]\n",
      " [ 1.  4. 13.]]\n",
      "[[0.7 0.4 3.7]\n",
      " [2.9 7.9 6.9]\n",
      " [0.4 1.2 1.6]\n",
      " [0.1 1.7 2.4]]\n",
      "[30. 94. 17. 18.]\n"
     ]
    }
   ],
   "source": [
    "place = ['community','Another hospital','NHP']\n",
    "column_name = ['respiratory_syncytical_virus', 'adenovirus', 'pertussis', 'healthcare_associated_infection']\n",
    "table = np.zeros((4,3))\n",
    "\n",
    "for i in range(4):\n",
    "    for j in range(3):\n",
    "        table[i][j] = len(dataset[(dataset['place_of_exposure'] == place[j]) & (dataset[column_name[i]] == 1)])\n",
    "\n",
    "print(table)\n",
    "print(np.round(100 * table/total,1))\n",
    "print(np.sum(table, axis=1))"
   ]
  },
  {
   "cell_type": "code",
   "execution_count": 100,
   "metadata": {},
   "outputs": [
    {
     "name": "stdout",
     "output_type": "stream",
     "text": [
      "[[385. 131. 332.]\n",
      " [896. 110. 215.]]\n",
      "[[30.1 54.4 60.7]\n",
      " [69.9 45.6 39.3]]\n",
      "[ 848. 1221.]\n"
     ]
    }
   ],
   "source": [
    "place = ['community','Another hospital','NHP']\n",
    "table = np.zeros((2,3))\n",
    "\n",
    "for i in range(2):\n",
    "    for j in range(3):\n",
    "        table[i][j] = len(dataset[(dataset['place_of_exposure'] == place[j]) & (dataset['Clinical classification'] == 1-i)])\n",
    "\n",
    "print(table)\n",
    "print(np.round(100 * table/total,1))\n",
    "print(np.sum(table, axis=1))"
   ]
  }
 ],
 "metadata": {
  "kernelspec": {
   "display_name": "Python 3.11.0 64-bit",
   "language": "python",
   "name": "python3"
  },
  "language_info": {
   "codemirror_mode": {
    "name": "ipython",
    "version": 3
   },
   "file_extension": ".py",
   "mimetype": "text/x-python",
   "name": "python",
   "nbconvert_exporter": "python",
   "pygments_lexer": "ipython3",
   "version": "3.11.0"
  },
  "orig_nbformat": 4,
  "vscode": {
   "interpreter": {
    "hash": "aee8b7b246df8f9039afb4144a1f6fd8d2ca17a180786b69acc140d282b71a49"
   }
  }
 },
 "nbformat": 4,
 "nbformat_minor": 2
}
