{
 "cells": [
  {
   "cell_type": "code",
   "execution_count": 1,
   "metadata": {},
   "outputs": [],
   "source": [
    "import pandas as pd\n",
    "import numpy as np\n",
    "import datetime\n",
    "import string\n",
    "import os\n",
    "from matplotlib import pyplot as plt\n",
    "from pathlib import Path"
   ]
  },
  {
   "cell_type": "code",
   "execution_count": 3,
   "metadata": {},
   "outputs": [],
   "source": [
    "RAW_DATA_PATH = '/Users/vuhoangnguyen/Research/'\n",
    "RAW_DATA = os.path.join(RAW_DATA_PATH, 'raw_data.csv')\n",
    "raw_dataset = pd.read_csv(RAW_DATA, keep_default_na=False)\n",
    "DATA = os.path.join(Path.cwd().parents[0], 'Data/out.csv')\n",
    "dataset = pd.read_csv(DATA, keep_default_na=False)"
   ]
  },
  {
   "cell_type": "code",
   "execution_count": 11,
   "metadata": {},
   "outputs": [
    {
     "name": "stdout",
     "output_type": "stream",
     "text": [
      "[[ 61.   8.  61.]\n",
      " [382.  67. 171.]\n",
      " [838. 166. 315.]]\n",
      "[[ 4.8  3.3 11.2]\n",
      " [29.8 27.8 31.3]\n",
      " [65.4 68.9 57.6]]\n",
      "[ 130.  620. 1319.]\n"
     ]
    }
   ],
   "source": [
    "place = ['community','Another hospital','NHP']\n",
    "table = np.zeros((3,3))\n",
    "\n",
    "for i, year in enumerate(['2017', '2018', '2019']):\n",
    "    for j in range(3):\n",
    "        table[i][j] = len(dataset[ (dataset['place_of_exposure'] == place[j]) & (dataset['admission_date'].str.contains(year)) ])\n",
    "\n",
    "print(table)\n",
    "print(np.round(100 * table/np.sum(table, axis=0), 1))\n",
    "print(np.sum(table, axis=1))"
   ]
  },
  {
   "cell_type": "code",
   "execution_count": 12,
   "metadata": {},
   "outputs": [
    {
     "name": "stdout",
     "output_type": "stream",
     "text": [
      "[[787. 161. 348.]\n",
      " [494.  80. 199.]]\n",
      "[[61.4 66.8 63.6]\n",
      " [38.6 33.2 36.4]]\n",
      "[1296.  773.]\n"
     ]
    }
   ],
   "source": [
    "place = ['community','Another hospital','NHP']\n",
    "table = np.zeros((2,3))\n",
    "\n",
    "for i in range(2):\n",
    "    for j in range(3):\n",
    "        table[i][j] = len(dataset[ (dataset['place_of_exposure'] == place[j]) & (dataset['Female'] == i) ])\n",
    "\n",
    "print(table)\n",
    "print(np.round(100 * table/np.sum(table, axis=0), 1))\n",
    "print(np.sum(table, axis=1))"
   ]
  },
  {
   "cell_type": "code",
   "execution_count": null,
   "metadata": {},
   "outputs": [],
   "source": [
    "month_group = [0,3,6,9,12,24,36,48,60]\n",
    "age_group = ['0 - <3','3 - <6','6 - <9','9 - <12','12 - <24','24 - <36','36 - <48','48 - <60','>= 60']\n",
    "row = [(age_group[i],0) for i in range(len(age_group))]\n",
    "patient_per_age_group = [[0] * 3 for _ in range(len(age_group))]\n",
    "\n",
    "for id, arr in enumerate(ids_each_place):\n",
    "    for i in arr:\n",
    "        val = decimal_month_at_admission[i]\n",
    "        for j in range(len(month_group)-1,-1,-1):\n",
    "            if val >= month_group[j]:\n",
    "                patient_per_age_group[j][id] += 1\n",
    "                break\n",
    "\n",
    "for i in range(len(patient_per_age_group)):\n",
    "    for j in range(len(patient_per_age_group[i])):\n",
    "        val = patient_per_age_group[i][j]\n",
    "        total = patient_per_place[j]\n",
    "        percent = str(round(val*100/total,1)) + '%'\n",
    "        patient_per_age_group[i][j] = str(val) + ' (' + percent + ')'\n",
    "\n",
    "age_group_db = pd.DataFrame([[age_group[i]]+patient_per_age_group[i] for i in range(len(age_group))],\n",
    "                            columns=['Age groups (in months)']+first_row_val)\n",
    "display(age_group_db)"
   ]
  },
  {
   "cell_type": "code",
   "execution_count": 18,
   "metadata": {},
   "outputs": [
    {
     "name": "stdout",
     "output_type": "stream",
     "text": [
      "[[1074.  222.  509.]\n",
      " [ 142.   11.   19.]\n",
      " [  24.    2.    3.]\n",
      " [   2.    0.    1.]\n",
      " [  39.    6.   15.]]\n",
      "[[83.8 92.1 93.1]\n",
      " [11.1  4.6  3.5]\n",
      " [ 1.9  0.8  0.5]\n",
      " [ 0.2  0.   0.2]\n",
      " [ 3.   2.5  2.7]]\n",
      "[1805.  172.   29.    3.   60.]\n"
     ]
    }
   ],
   "source": [
    "place = ['community','Another hospital','NHP']\n",
    "vac = ['0','1','2','3','NA']\n",
    "table = np.zeros((5,3))\n",
    "\n",
    "for i in range(5):\n",
    "    for j in range(3):\n",
    "        table[i][j] = len(dataset[(dataset['place_of_exposure'] == place[j]) & (dataset['Vaccination'] == vac[i])])\n",
    "\n",
    "np.set_printoptions(suppress=True)\n",
    "print(table)\n",
    "print(np.round(100 * table/np.sum(table, axis=0),1))\n",
    "print(np.sum(table, axis=1))"
   ]
  },
  {
   "cell_type": "code",
   "execution_count": 22,
   "metadata": {},
   "outputs": [
    {
     "name": "stdout",
     "output_type": "stream",
     "text": [
      "[[347.  45.  76.]\n",
      " [764. 143. 375.]\n",
      " [164.  51.  90.]\n",
      " [  6.   2.   6.]]\n",
      "[[27.1 18.7 13.9]\n",
      " [59.6 59.3 68.6]\n",
      " [12.8 21.2 16.5]\n",
      " [ 0.5  0.8  1.1]]\n",
      "[ 468. 1282.  305.   14.]\n"
     ]
    }
   ],
   "source": [
    "place = ['community','Another hospital','NHP']\n",
    "table = np.zeros((4,3))\n",
    "distance = ['0 - <20','20 - <200','200 - <500','>= 500']\n",
    "\n",
    "for i in range(4):\n",
    "    for j in range(3):\n",
    "        table[i][j] = len(dataset[(dataset['place_of_exposure'] == place[j]) & (dataset['Distance from the hospital (km)'] == distance[i])])\n",
    "\n",
    "print(table)\n",
    "print(np.round(100 * table/np.sum(table, axis=0),1))\n",
    "print(np.sum(table, axis=1))"
   ]
  },
  {
   "cell_type": "code",
   "execution_count": 19,
   "metadata": {},
   "outputs": [
    {
     "name": "stdout",
     "output_type": "stream",
     "text": [
      "[[503.  67. 144.]\n",
      " [117.  29.  61.]\n",
      " [ 63.   9.  28.]\n",
      " [424.  81. 214.]\n",
      " [169.  54.  98.]\n",
      " [  5.   1.   2.]]\n",
      "[[39.3 27.8 26.3]\n",
      " [ 9.1 12.  11.2]\n",
      " [ 4.9  3.7  5.1]\n",
      " [33.1 33.6 39.1]\n",
      " [13.2 22.4 17.9]\n",
      " [ 0.4  0.4  0.4]]\n",
      "[714. 207. 100. 719. 321.   8.]\n"
     ]
    }
   ],
   "source": [
    "place = ['community','Another hospital','NHP']\n",
    "table = np.zeros((6,3))\n",
    "part_of_vietnam = ['Ha Noi','Northeastern','Northwestern','Red River Delta (except Hanoi)','Central','Southern']\n",
    "\n",
    "for i in range(6):\n",
    "    for j in range(3):\n",
    "        table[i][j] = len(dataset[(dataset['place_of_exposure'] == place[j]) & (dataset['region_of_address'] == part_of_vietnam[i])])\n",
    "\n",
    "print(table)\n",
    "print(np.round(100 * table/np.sum(table, axis=0),1))\n",
    "print(np.sum(table, axis=1))"
   ]
  },
  {
   "cell_type": "code",
   "execution_count": 23,
   "metadata": {},
   "outputs": [
    {
     "name": "stdout",
     "output_type": "stream",
     "text": [
      "[[1272.  232.  535.]\n",
      " [   9.    9.   12.]]\n",
      "[[99.3 96.3 97.8]\n",
      " [ 0.7  3.7  2.2]]\n",
      "[2039.   30.]\n"
     ]
    }
   ],
   "source": [
    "place = ['community','Another hospital','NHP']\n",
    "table = np.zeros((2,3))\n",
    "\n",
    "for i in range(2):\n",
    "    for j in range(3):\n",
    "        table[i][j] = len(dataset[ (dataset['place_of_exposure'] == place[j]) & (dataset['outcome_died'] == i)])\n",
    "print(table)\n",
    "print(np.round(100 * table/np.sum(table, axis=0),1))\n",
    "print(np.sum(table, axis=1))"
   ]
  },
  {
   "cell_type": "code",
   "execution_count": 26,
   "metadata": {},
   "outputs": [
    {
     "name": "stdout",
     "output_type": "stream",
     "text": [
      "[[259.  52. 298.]\n",
      " [652. 107. 154.]\n",
      " [303.  64.  85.]\n",
      " [ 29.  10.   8.]\n",
      " [ 36.   8.   2.]]\n",
      "[[20.3 21.6 54.5]\n",
      " [51.  44.4 28.2]\n",
      " [23.7 26.6 15.5]\n",
      " [ 2.3  4.1  1.5]\n",
      " [ 2.8  3.3  0.4]]\n",
      "[609. 913. 452.  47.  46.]\n",
      "2067.0\n"
     ]
    }
   ],
   "source": [
    "place = ['community','Another hospital','NHP']\n",
    "table = np.zeros((5,3))\n",
    "duration = ['<0','0 - <3','3 - <7','7 - <14', '>= 14']\n",
    "\n",
    "for i in range(5):\n",
    "    for j in range(3):\n",
    "        table[i][j] = len(dataset[ (dataset['place_of_exposure'] == place[j]) & (dataset['Duration between onset and admission'] == duration[i])])\n",
    "\n",
    "print(table)\n",
    "print(np.round(100 * table/np.sum(table, axis=0),1))\n",
    "print(np.sum(table, axis=1))"
   ]
  }
 ],
 "metadata": {
  "kernelspec": {
   "display_name": "Python 3.11.0 64-bit",
   "language": "python",
   "name": "python3"
  },
  "language_info": {
   "codemirror_mode": {
    "name": "ipython",
    "version": 3
   },
   "file_extension": ".py",
   "mimetype": "text/x-python",
   "name": "python",
   "nbconvert_exporter": "python",
   "pygments_lexer": "ipython3",
   "version": "3.11.0"
  },
  "orig_nbformat": 4,
  "vscode": {
   "interpreter": {
    "hash": "aee8b7b246df8f9039afb4144a1f6fd8d2ca17a180786b69acc140d282b71a49"
   }
  }
 },
 "nbformat": 4,
 "nbformat_minor": 2
}
