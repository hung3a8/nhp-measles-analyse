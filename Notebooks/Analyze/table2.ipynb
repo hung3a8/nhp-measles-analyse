{
 "cells": [
  {
   "cell_type": "code",
   "execution_count": 2,
   "metadata": {},
   "outputs": [],
   "source": [
    "import pandas as pd\n",
    "import numpy as np\n",
    "import datetime\n",
    "import string\n",
    "import os\n",
    "from matplotlib import pyplot as plt\n",
    "from pathlib import Path\n",
    "\n",
    "from scipy.stats import chi2_contingency\n",
    "from scipy.stats import f_oneway\n",
    "from scipy.stats import ttest_ind"
   ]
  },
  {
   "cell_type": "code",
   "execution_count": 3,
   "metadata": {},
   "outputs": [],
   "source": [
    "RAW_DATA_PATH = '/Users/vuhoangnguyen/Research/'\n",
    "RAW_DATA = os.path.join(RAW_DATA_PATH, 'raw_data.csv')\n",
    "raw_dataset = pd.read_csv(RAW_DATA, keep_default_na=False)\n",
    "DATA = os.path.join(Path.cwd().parents[0], 'Data/out.csv')\n",
    "dataset = pd.read_csv(DATA, keep_default_na=False)"
   ]
  },
  {
   "cell_type": "code",
   "execution_count": 4,
   "metadata": {},
   "outputs": [
    {
     "data": {
      "text/plain": [
       "array([1281.,  241.,  547.])"
      ]
     },
     "execution_count": 4,
     "metadata": {},
     "output_type": "execute_result"
    }
   ],
   "source": [
    "place = ['community','Another hospital','NHP']\n",
    "total = np.zeros(3)\n",
    "for i in range(3):\n",
    "    total[i] = len(dataset[dataset['place_of_exposure'] == place[i]])\n",
    "total"
   ]
  },
  {
   "cell_type": "code",
   "execution_count": 5,
   "metadata": {},
   "outputs": [
    {
     "name": "stdout",
     "output_type": "stream",
     "text": [
      "[[ 61.   8.  61.]\n",
      " [382.  67. 171.]\n",
      " [838. 166. 315.]]\n",
      "[[ 4.8  3.3 11.2]\n",
      " [29.8 27.8 31.3]\n",
      " [65.4 68.9 57.6]]\n",
      "[ 130.  620. 1319.]\n",
      "6.692994327832307e-07\n"
     ]
    }
   ],
   "source": [
    "place = ['community','Another hospital','NHP']\n",
    "table = np.zeros((3,3))\n",
    "\n",
    "for i, year in enumerate(['2017', '2018', '2019']):\n",
    "    for j in range(3):\n",
    "        table[i][j] = len(dataset[ (dataset['place_of_exposure'] == place[j]) & (dataset['admission_date'].str.contains(year)) ])\n",
    "\n",
    "print(table)\n",
    "print(np.round(100 * table/total, 1))\n",
    "print(np.sum(table, axis=1))\n",
    "\n",
    "stat, pvalue, dof, expected_freq = chi2_contingency(table)\n",
    "print(pvalue)"
   ]
  },
  {
   "cell_type": "code",
   "execution_count": 6,
   "metadata": {},
   "outputs": [
    {
     "name": "stdout",
     "output_type": "stream",
     "text": [
      "[[787. 161. 348.]\n",
      " [494.  80. 199.]]\n",
      "[[61.4 66.8 63.6]\n",
      " [38.6 33.2 36.4]]\n",
      "[1296.  773.]\n",
      "0.2461350496254834\n"
     ]
    }
   ],
   "source": [
    "place = ['community','Another hospital','NHP']\n",
    "table = np.zeros((2,3))\n",
    "\n",
    "for i in range(2):\n",
    "    for j in range(3):\n",
    "        table[i][j] = len(dataset[ (dataset['place_of_exposure'] == place[j]) & (dataset['Female'] == i) ])\n",
    "\n",
    "print(table)\n",
    "print(np.round(100 * table/total, 1))\n",
    "print(np.sum(table, axis=1))\n",
    "\n",
    "stat, pvalue, dof, expected_freq = chi2_contingency(table)\n",
    "print(pvalue)"
   ]
  },
  {
   "cell_type": "code",
   "execution_count": 29,
   "metadata": {},
   "outputs": [
    {
     "name": "stdout",
     "output_type": "stream",
     "text": [
      "[[509. 108. 283.]\n",
      " [624. 125. 234.]\n",
      " [148.   8.  30.]]\n",
      "[[39.7 44.8 51.7]\n",
      " [48.7 51.9 42.8]\n",
      " [11.6  3.3  5.5]]\n",
      "[900. 983. 186.]\n"
     ]
    },
    {
     "data": {
      "text/plain": [
       "F_onewayResult(statistic=19.594341813242558, pvalue=3.715240652193271e-09)"
      ]
     },
     "execution_count": 29,
     "metadata": {},
     "output_type": "execute_result"
    }
   ],
   "source": [
    "place = ['community','Another hospital','NHP']\n",
    "age_group = ['0 - 9','9 - 60','>= 60']\n",
    "table = np.zeros((len(age_group),len(place)))\n",
    "\n",
    "for i in range(len(age_group)):\n",
    "    for j in range(len(place)):\n",
    "        table[i][j] = len(dataset[ (dataset['place_of_exposure'] == place[j]) & (dataset['New Age group (in months)'] == age_group[i]) ])\n",
    "\n",
    "print(table)\n",
    "print(np.round(100 * table/total, 1))\n",
    "print(np.sum(table, axis=1))\n",
    "\n",
    "# Age in months for each place\n",
    "agePerPlace = [[], [], []]\n",
    "place = ['community','Another hospital','NHP']\n",
    "for i in range(len(dataset)):\n",
    "    x = pd.to_datetime(dataset.at[i,'admission_date'])\n",
    "    y = pd.to_datetime(dataset.at[i,'dob'])\n",
    "    decimal_month_at_admission = (x-y).days / 30\n",
    "    place_exposure = dataset.at[i,'place_of_exposure']\n",
    "    if place_exposure == '':        continue\n",
    "    id =  place.index(place_exposure)\n",
    "    agePerPlace[id].append(decimal_month_at_admission)\n",
    "\n",
    "f_oneway(agePerPlace[0], agePerPlace[1], agePerPlace[2])"
   ]
  },
  {
   "cell_type": "code",
   "execution_count": 22,
   "metadata": {},
   "outputs": [
    {
     "name": "stdout",
     "output_type": "stream",
     "text": [
      "[[1074.  222.  509.]\n",
      " [ 168.   13.   23.]\n",
      " [  39.    6.   15.]]\n",
      "[[83.8 92.1 93.1]\n",
      " [13.1  5.4  4.2]\n",
      " [ 3.   2.5  2.7]]\n",
      "[1805.  204.   60.]\n",
      "2.5240050841646455e-08\n"
     ]
    }
   ],
   "source": [
    "place = ['community','Another hospital','NHP']\n",
    "vac = ['0','>=1','NA']\n",
    "table = np.zeros((len(vac),len(place)))\n",
    "\n",
    "for i in range(len(vac)):\n",
    "    for j in range(len(place)):\n",
    "        table[i][j] = len(dataset[(dataset['place_of_exposure'] == place[j]) & (dataset['New vaccination'] == vac[i])])\n",
    "\n",
    "np.set_printoptions(suppress=True)\n",
    "print(table)\n",
    "print(np.round(100 * table/total,1))\n",
    "print(np.sum(table, axis=1))\n",
    "\n",
    "stat, pvalue, dof, expected_freq = chi2_contingency(table)\n",
    "print(pvalue)"
   ]
  },
  {
   "cell_type": "code",
   "execution_count": 30,
   "metadata": {},
   "outputs": [
    {
     "name": "stdout",
     "output_type": "stream",
     "text": [
      "[[347.  45.  76.]\n",
      " [764. 143. 375.]\n",
      " [164.  51.  90.]\n",
      " [  6.   2.   6.]]\n",
      "[[27.1 18.7 13.9]\n",
      " [59.6 59.3 68.6]\n",
      " [12.8 21.2 16.5]\n",
      " [ 0.5  0.8  1.1]]\n",
      "[ 468. 1282.  305.   14.]\n"
     ]
    },
    {
     "data": {
      "text/plain": [
       "F_onewayResult(statistic=3.0424810076570608, pvalue=0.09253932687496695)"
      ]
     },
     "execution_count": 30,
     "metadata": {},
     "output_type": "execute_result"
    }
   ],
   "source": [
    "place = ['community','Another hospital','NHP']\n",
    "table = np.zeros((4,3))\n",
    "distance = ['0 - <20','20 - <200','200 - <500','>= 500']\n",
    "\n",
    "for i in range(4):\n",
    "    for j in range(3):\n",
    "        table[i][j] = len(dataset[(dataset['place_of_exposure'] == place[j]) & (dataset['Distance from the hospital (km)'] == distance[i])])\n",
    "\n",
    "print(table)\n",
    "print(np.round(100 * table/total,1))\n",
    "print(np.sum(table, axis=1))\n",
    "\n",
    "f_oneway(table[0], table[1], table[2], table[3])"
   ]
  },
  {
   "cell_type": "code",
   "execution_count": 31,
   "metadata": {},
   "outputs": [
    {
     "name": "stdout",
     "output_type": "stream",
     "text": [
      "[[503.  67. 144.]\n",
      " [117.  29.  61.]\n",
      " [ 63.   9.  28.]\n",
      " [424.  81. 214.]\n",
      " [169.  54.  98.]\n",
      " [  5.   1.   2.]]\n",
      "[[39.3 27.8 26.3]\n",
      " [ 9.1 12.  11.2]\n",
      " [ 4.9  3.7  5.1]\n",
      " [33.1 33.6 39.1]\n",
      " [13.2 22.4 17.9]\n",
      " [ 0.4  0.4  0.4]]\n",
      "[714. 207. 100. 719. 321.   8.]\n",
      "3.992796106388303e-06\n"
     ]
    }
   ],
   "source": [
    "place = ['community','Another hospital','NHP']\n",
    "table = np.zeros((6,3))\n",
    "part_of_vietnam = ['Ha Noi','Northeastern','Northwestern','Red River Delta (except Hanoi)','Central','Southern']\n",
    "\n",
    "for i in range(6):\n",
    "    for j in range(3):\n",
    "        table[i][j] = len(dataset[(dataset['place_of_exposure'] == place[j]) & (dataset['region_of_address'] == part_of_vietnam[i])])\n",
    "\n",
    "print(table)\n",
    "print(np.round(100 * table/total,1))\n",
    "print(np.sum(table, axis=1))\n",
    "\n",
    "stat, pvalue, dof, expected_freq = chi2_contingency(table)\n",
    "print(pvalue)"
   ]
  },
  {
   "cell_type": "code",
   "execution_count": 32,
   "metadata": {},
   "outputs": [
    {
     "name": "stdout",
     "output_type": "stream",
     "text": [
      "[[1272.  232.  535.]\n",
      " [   9.    9.   12.]]\n",
      "[[99.3 96.3 97.8]\n",
      " [ 0.7  3.7  2.2]]\n",
      "[2039.   30.]\n",
      "0.00034788832737828163\n"
     ]
    }
   ],
   "source": [
    "place = ['community','Another hospital','NHP']\n",
    "table = np.zeros((2,3))\n",
    "\n",
    "for i in range(2):\n",
    "    for j in range(3):\n",
    "        table[i][j] = len(dataset[ (dataset['place_of_exposure'] == place[j]) & (dataset['outcome_died'] == i)])\n",
    "print(table)\n",
    "print(np.round(100 * table/total,1))\n",
    "print(np.sum(table, axis=1))\n",
    "\n",
    "stat, pvalue, dof, expected_freq = chi2_contingency(table)\n",
    "print(pvalue)"
   ]
  },
  {
   "cell_type": "code",
   "execution_count": 42,
   "metadata": {},
   "outputs": [
    {
     "name": "stdout",
     "output_type": "stream",
     "text": [
      "[[259.  52. 298.]\n",
      " [652. 107. 154.]\n",
      " [303.  64.  85.]\n",
      " [ 29.  10.   8.]\n",
      " [ 36.   8.   2.]]\n",
      "[[20.2 21.6 54.5]\n",
      " [50.9 44.4 28.2]\n",
      " [23.7 26.6 15.5]\n",
      " [ 2.3  4.1  1.5]\n",
      " [ 2.8  3.3  0.4]]\n",
      "[609. 913. 452.  47.  46.]\n"
     ]
    },
    {
     "data": {
      "text/plain": [
       "F_onewayResult(statistic=1.8374574995526267, pvalue=0.1983433912208276)"
      ]
     },
     "execution_count": 42,
     "metadata": {},
     "output_type": "execute_result"
    }
   ],
   "source": [
    "place = ['community','Another hospital','NHP']\n",
    "table = np.zeros((5,3))\n",
    "duration = ['<0','0 - <3','3 - <7','7 - <14', '>= 14']\n",
    "\n",
    "for i in range(5):\n",
    "    for j in range(3):\n",
    "        table[i][j] = len(dataset[ (dataset['place_of_exposure'] == place[j]) & (dataset['Duration between onset and admission'] == duration[i])])\n",
    "\n",
    "print(table)\n",
    "print(np.round(100 * table/total,1))\n",
    "print(np.sum(table, axis=1))\n",
    "\n",
    "f_oneway(table[0], table[1], table[2], table[3], table[4])"
   ]
  },
  {
   "cell_type": "code",
   "execution_count": 43,
   "metadata": {},
   "outputs": [
    {
     "name": "stdout",
     "output_type": "stream",
     "text": [
      "[[817.  78. 146.]\n",
      " [404. 125. 209.]\n",
      " [ 60.  38. 192.]]\n",
      "[[63.8 32.4 26.7]\n",
      " [31.5 51.9 38.2]\n",
      " [ 4.7 15.8 35.1]]\n",
      "[1041.  738.  290.]\n"
     ]
    },
    {
     "data": {
      "text/plain": [
       "F_onewayResult(statistic=0.7348695702906481, pvalue=0.518247772858704)"
      ]
     },
     "execution_count": 43,
     "metadata": {},
     "output_type": "execute_result"
    }
   ],
   "source": [
    "place = ['community','Another hospital','NHP']\n",
    "table = np.zeros((3,3))\n",
    "duration = ['0 - <7','7 - <21', '>= 21']\n",
    "\n",
    "for i in range(3):\n",
    "    for j in range(3):\n",
    "        table[i][j] = len(dataset[ (dataset['place_of_exposure'] == place[j]) & (dataset['Duration of stay within the hospital'] == duration[i])])\n",
    "\n",
    "print(table)\n",
    "print(np.round(100 * table/total,1))\n",
    "print(np.sum(table, axis=1))\n",
    "\n",
    "f_oneway(table[0], table[1], table[2])"
   ]
  },
  {
   "cell_type": "code",
   "execution_count": 33,
   "metadata": {},
   "outputs": [
    {
     "name": "stdout",
     "output_type": "stream",
     "text": [
      "[[  16.    3.   23.]\n",
      " [  37.    7.   28.]\n",
      " [  42.    2.   50.]\n",
      " [  11.    2.   33.]\n",
      " [   4.    1.    7.]\n",
      " [  22.    5.   46.]\n",
      " [   9.    1.    4.]\n",
      " [1092.  206.  285.]\n",
      " [  55.   14.   90.]]\n",
      "[[ 1.2  1.2  4.2]\n",
      " [ 2.9  2.9  5.1]\n",
      " [ 3.3  0.8  9.1]\n",
      " [ 0.9  0.8  6. ]\n",
      " [ 0.3  0.4  1.3]\n",
      " [ 1.7  2.1  8.4]\n",
      " [ 0.7  0.4  0.7]\n",
      " [85.2 85.5 52.1]\n",
      " [ 4.3  5.8 16.5]]\n",
      "[  42.   72.   94.   46.   12.   73.   14. 1583.  159.]\n",
      "3.830949106314939e-53\n"
     ]
    }
   ],
   "source": [
    "place = ['community','Another hospital','NHP']\n",
    "table = np.zeros((9,3))\n",
    "\n",
    "underlying_condition = ['Underlying conditions - Respiratory system','Underlying conditions - Cardiovascular system',\n",
    "    'Underlying condition - Gastrointestinal system','Underlying condition - Kidney and urology system',\n",
    "    'Underlying condition - Immunodeficiency','Underlying condition - Neurological system','Underlying condition - Inherited metabolic disorders',\n",
    "    'Underlying condition - No underlying diseases','Underlying condition - Other underlying conditions']\n",
    "\n",
    "for i in range(9):\n",
    "    for j in range(3):\n",
    "        table[i][j] = len(dataset[(dataset['place_of_exposure'] == place[j]) & (dataset[underlying_condition[i]] == 1)])\n",
    "\n",
    "print(table)\n",
    "print(np.round(100 * table/total,1))\n",
    "print(np.sum(table, axis=1))\n",
    "\n",
    "stat, pvalue, dof, expected_freq = chi2_contingency(table)\n",
    "print(pvalue)"
   ]
  },
  {
   "cell_type": "code",
   "execution_count": 34,
   "metadata": {},
   "outputs": [
    {
     "name": "stdout",
     "output_type": "stream",
     "text": [
      "[[335.  93. 256.]\n",
      " [  2.   1.   5.]\n",
      " [ 46.  32.  66.]\n",
      " [  1.   5.   5.]\n",
      " [  1.   0.   0.]]\n",
      "[[26.2 38.6 46.8]\n",
      " [ 0.2  0.4  0.9]\n",
      " [ 3.6 13.3 12.1]\n",
      " [ 0.1  2.1  0.9]\n",
      " [ 0.1  0.   0. ]]\n",
      "[684.   8. 144.  11.   1.]\n",
      "0.00039757778334743095\n"
     ]
    }
   ],
   "source": [
    "place = ['community','Another hospital','NHP']\n",
    "form = ['oxygen_cannula','CPAP','conventional_mechanical_ventilation','hfo_ventilation','ECMO']\n",
    "table = np.zeros((5,3))\n",
    "\n",
    "for i in range(5):\n",
    "    for j in range(3):\n",
    "        table[i][j] = len(dataset[(dataset['place_of_exposure'] == place[j]) & (dataset['highest_ventilation_mode'] == form[i])])\n",
    "\n",
    "print(table)\n",
    "print(np.round(100 * table/total,1))\n",
    "print(np.sum(table, axis=1))\n",
    "\n",
    "stat, pvalue, dof, expected_freq = chi2_contingency(table)\n",
    "print(pvalue)"
   ]
  },
  {
   "cell_type": "code",
   "execution_count": 44,
   "metadata": {},
   "outputs": [
    {
     "name": "stdout",
     "output_type": "stream",
     "text": [
      "[[ 14.   3.   5.]\n",
      " [315.  45. 193.]\n",
      " [264.  47. 127.]\n",
      " [688. 146. 222.]]\n",
      "[[ 1.1  1.2  0.9]\n",
      " [24.6 18.7 35.3]\n",
      " [20.6 19.5 23.2]\n",
      " [53.7 60.6 40.6]]\n",
      "[  22.  553.  438. 1056.]\n",
      "2069.0\n"
     ]
    },
    {
     "data": {
      "text/plain": [
       "F_onewayResult(statistic=2.0722970755681738, pvalue=0.18236102913006402)"
      ]
     },
     "execution_count": 44,
     "metadata": {},
     "output_type": "execute_result"
    }
   ],
   "source": [
    "place = ['community','Another hospital','NHP']\n",
    "duration = ['< 0', '0 - <24','24 - <48','>= 48']\n",
    "table = np.zeros((4,3))\n",
    "\n",
    "for i in range(4):\n",
    "    for j in range(3):\n",
    "        table[i][j] = len(dataset[(dataset['place_of_exposure'] == place[j]) & (dataset['Duration between onset and test (detection time) (in hours)'] == duration[i])])\n",
    "\n",
    "print(table)\n",
    "print(np.round(100 * table/total,1))\n",
    "print(np.sum(table, axis=1))\n",
    "print(np.sum(table))\n",
    "\n",
    "f_oneway(table[0], table[1], table[2], table[3])"
   ]
  },
  {
   "cell_type": "code",
   "execution_count": 40,
   "metadata": {},
   "outputs": [
    {
     "name": "stdout",
     "output_type": "stream",
     "text": [
      "[[612.  85. 150.]\n",
      " [374. 109. 178.]\n",
      " [440. 100. 209.]\n",
      " [185.  35. 169.]]\n",
      "[[47.8 35.3 27.4]\n",
      " [29.2 45.2 32.5]\n",
      " [34.3 41.5 38.2]\n",
      " [14.4 14.5 30.9]]\n",
      "[847. 661. 749. 389.]\n",
      "1.2832922667767798e-22\n"
     ]
    }
   ],
   "source": [
    "place = ['community','Another hospital','NHP']\n",
    "diagnosis = ['Measles','Pneumonia','Bronchopneumonia','Other diagnosis']\n",
    "table = np.zeros((4,3))\n",
    "\n",
    "for i in range(4):\n",
    "    for j in range(3):\n",
    "        table[i][j] = len(dataset[(dataset['place_of_exposure'] == place[j]) & (dataset[diagnosis[i]] == 1)])\n",
    "\n",
    "print(table)\n",
    "print(np.round(100 * table/total,1))\n",
    "print(np.sum(table, axis=1))\n",
    "\n",
    "stat, pvalue, dof, expected_freq = chi2_contingency(table)\n",
    "print(pvalue)"
   ]
  },
  {
   "cell_type": "code",
   "execution_count": 36,
   "metadata": {},
   "outputs": [
    {
     "name": "stdout",
     "output_type": "stream",
     "text": [
      "[[ 34.   4.  12.]\n",
      " [ 19.   3.   8.]\n",
      " [  2.   0.   0.]\n",
      " [  5.   0.   2.]\n",
      " [823. 196. 393.]\n",
      " [  2.   1.   7.]\n",
      " [  4.   0.   0.]]\n",
      "[[ 2.7  1.7  2.2]\n",
      " [ 1.5  1.2  1.5]\n",
      " [ 0.2  0.   0. ]\n",
      " [ 0.4  0.   0.4]\n",
      " [64.2 81.3 71.8]\n",
      " [ 0.2  0.4  1.3]\n",
      " [ 0.3  0.   0. ]]\n",
      "[  50.   30.    2.    7. 1412.   10.    4.]\n",
      "0.14563525626399523\n"
     ]
    }
   ],
   "source": [
    "place = ['community','Another hospital','NHP']\n",
    "prefix = 'complication-'\n",
    "column_name = ['gastroentiritis','middle-ear-infec','conjunctivitis','laryngitis','pneumonia-bronchitis',\n",
    "'febrile-seizures','septic-shock-sepsis']\n",
    "table = np.zeros((7,3))\n",
    "\n",
    "for i in range(7):\n",
    "    for j in range(3):\n",
    "        table[i][j] = len(dataset[(dataset['place_of_exposure'] == place[j]) & (dataset[prefix+column_name[i]] == 1)])\n",
    "\n",
    "print(table)\n",
    "print(np.round(100 * table/total,1))\n",
    "print(np.sum(table, axis=1))\n",
    "\n",
    "stat, pvalue, dof, expected_freq = chi2_contingency(table)\n",
    "print(pvalue)"
   ]
  },
  {
   "cell_type": "code",
   "execution_count": 37,
   "metadata": {},
   "outputs": [
    {
     "name": "stdout",
     "output_type": "stream",
     "text": [
      "[[10.  1.  5.]\n",
      " [ 2.  0.  2.]\n",
      " [ 1.  0.  2.]\n",
      " [ 0.  1.  1.]]\n",
      "[[0.8 0.4 0.9]\n",
      " [0.2 0.  0.4]\n",
      " [0.1 0.  0.4]\n",
      " [0.  0.4 0.2]]\n",
      "[16.  4.  3.  2.]\n",
      "0.2685603500299233\n"
     ]
    }
   ],
   "source": [
    "place = ['community','Another hospital','NHP']\n",
    "prefix = 'co-infection-'\n",
    "column_name = ['influenza-a','influenza-b','streptococus-aerius','streptococus-pneumonia']\n",
    "table = np.zeros((4,3))\n",
    "\n",
    "for i in range(4):\n",
    "    for j in range(3):\n",
    "        table[i][j] = len(dataset[(dataset['place_of_exposure'] == place[j]) & (dataset[prefix+column_name[i]] == 1)])\n",
    "\n",
    "print(table)\n",
    "print(np.round(100 * table/total,1))\n",
    "print(np.sum(table, axis=1))\n",
    "\n",
    "stat, pvalue, dof, expected_freq = chi2_contingency(table)\n",
    "print(pvalue)"
   ]
  },
  {
   "cell_type": "code",
   "execution_count": 38,
   "metadata": {},
   "outputs": [
    {
     "name": "stdout",
     "output_type": "stream",
     "text": [
      "[[ 9.  1. 20.]\n",
      " [37. 19. 38.]\n",
      " [ 5.  3.  9.]\n",
      " [ 1.  4. 13.]]\n",
      "[[0.7 0.4 3.7]\n",
      " [2.9 7.9 6.9]\n",
      " [0.4 1.2 1.6]\n",
      " [0.1 1.7 2.4]]\n",
      "[30. 94. 17. 18.]\n",
      "0.022038927613224197\n"
     ]
    }
   ],
   "source": [
    "place = ['community','Another hospital','NHP']\n",
    "column_name = ['respiratory_syncytical_virus', 'adenovirus', 'pertussis', 'healthcare_associated_infection']\n",
    "table = np.zeros((4,3))\n",
    "\n",
    "for i in range(4):\n",
    "    for j in range(3):\n",
    "        table[i][j] = len(dataset[(dataset['place_of_exposure'] == place[j]) & (dataset[column_name[i]] == 1)])\n",
    "\n",
    "print(table)\n",
    "print(np.round(100 * table/total,1))\n",
    "print(np.sum(table, axis=1))\n",
    "\n",
    "stat, pvalue, dof, expected_freq = chi2_contingency(table)\n",
    "print(pvalue)"
   ]
  },
  {
   "cell_type": "code",
   "execution_count": 39,
   "metadata": {},
   "outputs": [
    {
     "name": "stdout",
     "output_type": "stream",
     "text": [
      "[[385. 131. 332.]\n",
      " [896. 110. 215.]]\n",
      "[[30.1 54.4 60.7]\n",
      " [69.9 45.6 39.3]]\n",
      "[ 848. 1221.]\n",
      "2.0627038367635563e-37\n"
     ]
    }
   ],
   "source": [
    "place = ['community','Another hospital','NHP']\n",
    "table = np.zeros((2,3))\n",
    "\n",
    "for i in range(2):\n",
    "    for j in range(3):\n",
    "        table[i][j] = len(dataset[(dataset['place_of_exposure'] == place[j]) & (dataset['Clinical classification'] == 1-i)])\n",
    "\n",
    "print(table)\n",
    "print(np.round(100 * table/total,1))\n",
    "print(np.sum(table, axis=1))\n",
    "\n",
    "stat, pvalue, dof, expected_freq = chi2_contingency(table)\n",
    "print(pvalue)"
   ]
  }
 ],
 "metadata": {
  "kernelspec": {
   "display_name": "Python 3.11.0 64-bit",
   "language": "python",
   "name": "python3"
  },
  "language_info": {
   "codemirror_mode": {
    "name": "ipython",
    "version": 3
   },
   "file_extension": ".py",
   "mimetype": "text/x-python",
   "name": "python",
   "nbconvert_exporter": "python",
   "pygments_lexer": "ipython3",
   "version": "3.11.0"
  },
  "orig_nbformat": 4,
  "vscode": {
   "interpreter": {
    "hash": "aee8b7b246df8f9039afb4144a1f6fd8d2ca17a180786b69acc140d282b71a49"
   }
  }
 },
 "nbformat": 4,
 "nbformat_minor": 2
}
