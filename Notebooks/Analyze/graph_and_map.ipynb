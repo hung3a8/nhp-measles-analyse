{
 "cells": [
  {
   "attachments": {},
   "cell_type": "markdown",
   "metadata": {},
   "source": [
    "## Maps\n",
    "\n",
    "We use the `geopandas` and `geoplot` to plot the map. We use the shapefile from Vietnam Government, with `adm = 1`."
   ]
  },
  {
   "cell_type": "code",
   "execution_count": null,
   "metadata": {},
   "outputs": [],
   "source": [
    "import pandas as pd\n",
    "import geopandas as gpd\n",
    "import matplotlib.pyplot as plt\n",
    "import cmasher as cmr\n",
    "import numpy as np"
   ]
  },
  {
   "attachments": {},
   "cell_type": "markdown",
   "metadata": {},
   "source": [
    "### Setup"
   ]
  },
  {
   "cell_type": "code",
   "execution_count": null,
   "metadata": {},
   "outputs": [],
   "source": [
    "cmap = cmr.get_sub_cmap('Reds', 0.3, 1)"
   ]
  },
  {
   "attachments": {},
   "cell_type": "markdown",
   "metadata": {},
   "source": [
    "### Timeline: 2017 - 2019"
   ]
  },
  {
   "cell_type": "code",
   "execution_count": null,
   "metadata": {},
   "outputs": [],
   "source": [
    "# Load the data\n",
    "df = pd.read_csv('../Data/province_stat.csv')\n",
    "gdf = gpd.read_file('../Data/vnm_admbnda_adm1_gov_20201027.shp')"
   ]
  },
  {
   "cell_type": "code",
   "execution_count": null,
   "metadata": {},
   "outputs": [],
   "source": [
    "# Some provinces missing the 'city' suffix. We may hardcode it here.\n",
    "\n",
    "for province in df['Province']:\n",
    "    if province not in gdf['ADM1_EN'].values:\n",
    "        df['Province'] = df['Province'].replace(province, province + ' city')\n",
    "\n",
    "# Some provinces are not in the shapefile. We may add them manually.\n",
    "for province in gdf['ADM1_EN'].values:\n",
    "    if province not in df['Province'].values:\n",
    "        df = pd.concat([df, pd.DataFrame({'Province': [province], 'Patient': [0]})], ignore_index=True)\n",
    "\n",
    "df = df.sort_values(by='Province', ignore_index=True)"
   ]
  },
  {
   "cell_type": "code",
   "execution_count": null,
   "metadata": {},
   "outputs": [],
   "source": [
    "df"
   ]
  },
  {
   "cell_type": "code",
   "execution_count": null,
   "metadata": {},
   "outputs": [],
   "source": [
    "patients = list(df['Patient']) + [0] * (len(gdf) - len(df))\n",
    "gdf = gdf.sort_values(by='ADM1_EN')\n",
    "\n",
    "if 'Patient' in gdf.columns:\n",
    "    gdf = gdf.drop('Patient', axis=1)\n",
    "\n",
    "gdf.insert(0, 'Patient', patients)\n",
    "\n",
    "f, ax = plt.subplots(1)\n",
    "gdf_ax = gdf.plot(column='Patient', figsize=(10, 10), cmap=cmap, ax=ax, legend=True)\n",
    "gdf_ax.set_axis_off()\n",
    "cbar = ax.get_figure().get_axes()[1]\n",
    "cbar.set_ylabel('Number of reported cases, 2019 (Vietnam)')"
   ]
  },
  {
   "attachments": {},
   "cell_type": "markdown",
   "metadata": {},
   "source": [
    "### Timeline: 2017"
   ]
  },
  {
   "cell_type": "code",
   "execution_count": null,
   "metadata": {},
   "outputs": [],
   "source": [
    "# Load the data\n",
    "df_years = pd.read_csv('../Data/year_and_province.csv')"
   ]
  },
  {
   "cell_type": "code",
   "execution_count": null,
   "metadata": {},
   "outputs": [],
   "source": [
    "# Some provinces missing the 'city' suffix. We may hardcode it here.\n",
    "\n",
    "for province in df_years['Province']:\n",
    "    if province not in gdf['ADM1_EN'].values:\n",
    "        df_years['Province'] = df_years['Province'].replace(province, province + ' city')\n",
    "\n",
    "# Some provinces are not in the shapefile. We may add them manually.\n",
    "for province in gdf['ADM1_EN'].values:\n",
    "    if province not in df_years['Province'].values:\n",
    "        df_years = pd.concat([df_years, pd.DataFrame({'Province': [province], '2017': [0], '2018': [0], '2019': [0]})], ignore_index=True)\n",
    "\n",
    "df_years = df_years.sort_values(by='Province', ignore_index=True)"
   ]
  },
  {
   "cell_type": "code",
   "execution_count": null,
   "metadata": {},
   "outputs": [],
   "source": [
    "df_years"
   ]
  },
  {
   "cell_type": "code",
   "execution_count": null,
   "metadata": {},
   "outputs": [],
   "source": [
    "patients = list(df_years['2017']) + [0] * (len(gdf) - len(df))\n",
    "gdf_2017 = gdf.sort_values(by='ADM1_EN')\n",
    "\n",
    "gdf_2017.insert(0, 'Patient_2017', patients)\n",
    "\n",
    "f, ax = plt.subplots(1)\n",
    "gdf_ax = gdf_2017.plot(column='Patient_2017', figsize=(10, 10), cmap=cmap, ax=ax, legend=True)\n",
    "gdf_ax.set_axis_off()\n",
    "cbar = ax.get_figure().get_axes()[1]\n",
    "cbar.set_ylabel('Number of reported cases, 2019 (Vietnam)')"
   ]
  },
  {
   "attachments": {},
   "cell_type": "markdown",
   "metadata": {},
   "source": [
    "### Timeline: 2018"
   ]
  },
  {
   "cell_type": "code",
   "execution_count": null,
   "metadata": {},
   "outputs": [],
   "source": [
    "patients = list(df_years['2018']) + [0] * (len(gdf) - len(df))\n",
    "gdf_2018 = gdf.sort_values(by='ADM1_EN')\n",
    "\n",
    "gdf_2018.insert(0, 'Patient_2018', patients)\n",
    "\n",
    "f, ax = plt.subplots(1)\n",
    "gdf_ax = gdf_2018.plot(column='Patient_2018', figsize=(10, 10), cmap=cmap, ax=ax, legend=True)\n",
    "gdf_ax.set_axis_off()\n",
    "cbar = ax.get_figure().get_axes()[1]\n",
    "cbar.set_ylabel('Number of reported cases, 2018 (Vietnam)')"
   ]
  },
  {
   "attachments": {},
   "cell_type": "markdown",
   "metadata": {},
   "source": [
    "### Timeline: 2019"
   ]
  },
  {
   "cell_type": "code",
   "execution_count": null,
   "metadata": {},
   "outputs": [],
   "source": [
    "patients = list(df_years['2019']) + [0] * (len(gdf) - len(df))\n",
    "gdf_2019 = gdf.sort_values(by='ADM1_EN')\n",
    "\n",
    "gdf_2019.insert(0, 'Patient_2019', patients)\n",
    "\n",
    "f, ax = plt.subplots(1)\n",
    "gdf_ax = gdf_2019.plot(column='Patient_2019', figsize=(10, 10), cmap=cmap, ax=ax, legend=True)\n",
    "gdf_ax.set_axis_off()\n",
    "cbar = ax.get_figure().get_axes()[1]\n",
    "cbar.set_ylabel('Number of reported cases, 2019 (Vietnam)')"
   ]
  },
  {
   "attachments": {},
   "cell_type": "markdown",
   "metadata": {},
   "source": [
    "### Comparison side-by-side"
   ]
  },
  {
   "cell_type": "code",
   "execution_count": null,
   "metadata": {},
   "outputs": [],
   "source": [
    "f, axes = plt.subplots(figsize=(30, 10), ncols=3, nrows=1, sharex=True, sharey=True)\n",
    "gdf_2017.plot(column='Patient_2017', cmap=cmap, ax=axes[0], legend=True)\n",
    "axes[0].set_title('Number of reported cases, 2017')\n",
    "axes[0].set_axis_off()\n",
    "gdf_2018.plot(column='Patient_2018', cmap=cmap, ax=axes[1], legend=True)\n",
    "axes[1].set_title('Number of reported cases, 2018')\n",
    "axes[1].set_axis_off()\n",
    "gdf_2019.plot(column='Patient_2019', cmap=cmap, ax=axes[2], legend=True)\n",
    "axes[2].set_title('Number of reported cases, 2019')\n",
    "axes[2].set_axis_off()\n",
    "f.suptitle('Residence of reported cases in Vietnam, 2017 - 2019', fontsize=20)"
   ]
  },
  {
   "attachments": {},
   "cell_type": "markdown",
   "metadata": {},
   "source": [
    "## Histogram"
   ]
  },
  {
   "cell_type": "code",
   "execution_count": null,
   "metadata": {},
   "outputs": [],
   "source": [
    "# Load the data\n",
    "data = pd.read_csv('../Data/out.csv')"
   ]
  },
  {
   "attachments": {},
   "cell_type": "markdown",
   "metadata": {},
   "source": [
    "### Critical vs. Non critical"
   ]
  },
  {
   "cell_type": "code",
   "execution_count": null,
   "metadata": {},
   "outputs": [],
   "source": [
    "import datetime\n",
    "from matplotlib.dates import date2num"
   ]
  },
  {
   "cell_type": "code",
   "execution_count": null,
   "metadata": {},
   "outputs": [],
   "source": [
    "data['Clinical classification'].value_counts()\n",
    "data['admission_date'] = pd.to_datetime(data['admission_date']).dt.date\n",
    "data = data.sort_values(by='admission_date')\n",
    "print(data['admission_date'])"
   ]
  },
  {
   "cell_type": "code",
   "execution_count": null,
   "metadata": {},
   "outputs": [],
   "source": [
    "from matplotlib.dates import DateFormatter\n",
    "\n",
    "start, end = data['admission_date'].min(), data['admission_date'].max()\n",
    "one_day = datetime.timedelta(days=1)\n",
    "\n",
    "pack = [\n",
    "        np.array(data[data['Clinical classification'] == 0][['admission_date']]).flatten(),\n",
    "        # np.array([]).flatten(),\n",
    "        np.array(data[data['Clinical classification'] == 1][['admission_date']]).flatten(),\n",
    "    ]\n",
    "\n",
    "weeks = []\n",
    "for i in range(0, (end - start).days + 1, 7):\n",
    "    weeks.append(start + i * one_day)\n",
    "\n",
    "numweek = date2num(weeks)\n",
    "\n",
    "# Draw stacked bar chart, divided by week, based on Clinical classification\n",
    "f, ax = plt.subplots(figsize=(20, 10))\n",
    "n, bins, patches = ax.hist(pack, bins=numweek, stacked=True, label=['Non-Critical', 'Critical'])\n",
    "ax.xaxis.set_major_formatter(DateFormatter(\"%y-%m-%d\"))\n",
    "ax.xaxis.set_ticks(np.arange(weeks[0], weeks[-1] + one_day, 7 * 2))\n",
    "ax.legend()\n",
    "ax.set_xlabel('Date')\n",
    "ax.set_ylabel('Cases')\n",
    "ax.set_title('Critical vs. Non-critical')\n",
    "plt.gcf().autofmt_xdate(rotation=90)"
   ]
  },
  {
   "attachments": {},
   "cell_type": "markdown",
   "metadata": {},
   "source": [
    "### Deceased vs. Alive"
   ]
  },
  {
   "cell_type": "code",
   "execution_count": null,
   "metadata": {},
   "outputs": [],
   "source": [
    "data['outcome_died'].value_counts()"
   ]
  },
  {
   "cell_type": "code",
   "execution_count": null,
   "metadata": {},
   "outputs": [],
   "source": [
    "start, end = data['admission_date'].min(), data['admission_date'].max()\n",
    "one_day = datetime.timedelta(days=1)\n",
    "\n",
    "pack = [\n",
    "        np.array(data[data['outcome_died'] == 0][['admission_date']]).flatten(),\n",
    "        # np.array([]).flatten(),\n",
    "        np.array(data[data['outcome_died'] == 1][['admission_date']]).flatten(),\n",
    "    ]\n",
    "print(pack[0].size, pack[1].size)\n",
    "\n",
    "weeks = []\n",
    "for i in range(0, (end - start).days + 1, 7):\n",
    "    weeks.append(start + i * one_day)\n",
    "\n",
    "numweek = date2num(weeks)\n",
    "\n",
    "# Draw stacked bar chart, divided by week, based on Clinical classification\n",
    "# plt.figure(figsize=(20, 10))\n",
    "# plt.hist(pack, bins=numweek, stacked=True, label=['Alive', 'Deceased'])\n",
    "# plt.legend()\n",
    "\n",
    "f, ax = plt.subplots(figsize=(20, 10))\n",
    "n, bins, patches = ax.hist(pack, bins=numweek, stacked=True, label=['Alive', 'Deceased'])\n",
    "ax.xaxis.set_major_formatter(DateFormatter(\"%y-%m-%d\"))\n",
    "ax.xaxis.set_ticks(np.arange(weeks[0], weeks[-1] + one_day, 7 * 2))\n",
    "ax.legend()\n",
    "ax.set_xlabel('Date')\n",
    "ax.set_ylabel('Cases')\n",
    "ax.set_title('Alive vs. Deceased')\n",
    "plt.gcf().autofmt_xdate(rotation=90)\n",
    "# plt.gcf().autofmt_xdate()"
   ]
  }
 ],
 "metadata": {
  "kernelspec": {
   "display_name": "measles-model",
   "language": "python",
   "name": "python3"
  },
  "language_info": {
   "codemirror_mode": {
    "name": "ipython",
    "version": 3
   },
   "file_extension": ".py",
   "mimetype": "text/x-python",
   "name": "python",
   "nbconvert_exporter": "python",
   "pygments_lexer": "ipython3",
   "version": "3.10.10"
  },
  "orig_nbformat": 4
 },
 "nbformat": 4,
 "nbformat_minor": 2
}
