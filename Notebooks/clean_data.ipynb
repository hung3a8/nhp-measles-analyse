{
 "cells": [
  {
   "cell_type": "code",
   "execution_count": 87,
   "metadata": {},
   "outputs": [],
   "source": [
    "import pandas as pd\n",
    "import numpy as np\n",
    "import datetime\n",
    "import string\n",
    "import os"
   ]
  },
  {
   "cell_type": "code",
   "execution_count": 88,
   "metadata": {},
   "outputs": [],
   "source": [
    "DATA_PATH = '../dataset/'\n",
    "RAW_DATA = os.path.join(DATA_PATH, 'raw_data.csv')\n",
    "OUT_DATA = os.path.join(DATA_PATH, 'out.csv')"
   ]
  },
  {
   "cell_type": "code",
   "execution_count": 89,
   "metadata": {},
   "outputs": [],
   "source": [
    "dataset = pd.read_csv(RAW_DATA, keep_default_na=False)"
   ]
  },
  {
   "cell_type": "code",
   "execution_count": 90,
   "metadata": {},
   "outputs": [],
   "source": [
    "dataset = dataset.rename(columns={\"GIOI.x\": \"Female\"})\n",
    "s = dataset['Female'].to_numpy()\n",
    "\n",
    "for i in range(len(s)):\n",
    "    if s[i] == 'Nam' or s[i] == 'M':\n",
    "        dataset.at[i,'Female'] = 0\n",
    "    elif s[i] == 'Nu' or s[i] == 'F':\n",
    "        dataset.at[i,'Female'] = 1"
   ]
  },
  {
   "cell_type": "code",
   "execution_count": 91,
   "metadata": {},
   "outputs": [
    {
     "data": {
      "text/html": [
       "<div>\n",
       "<style scoped>\n",
       "    .dataframe tbody tr th:only-of-type {\n",
       "        vertical-align: middle;\n",
       "    }\n",
       "\n",
       "    .dataframe tbody tr th {\n",
       "        vertical-align: top;\n",
       "    }\n",
       "\n",
       "    .dataframe thead th {\n",
       "        text-align: right;\n",
       "    }\n",
       "</style>\n",
       "<table border=\"1\" class=\"dataframe\">\n",
       "  <thead>\n",
       "    <tr style=\"text-align: right;\">\n",
       "      <th></th>\n",
       "      <th>Total</th>\n",
       "      <th>Male</th>\n",
       "      <th>Female</th>\n",
       "      <th>Unknown</th>\n",
       "    </tr>\n",
       "  </thead>\n",
       "  <tbody>\n",
       "    <tr>\n",
       "      <th>0</th>\n",
       "      <td>2072</td>\n",
       "      <td>1297</td>\n",
       "      <td>775</td>\n",
       "      <td>0</td>\n",
       "    </tr>\n",
       "  </tbody>\n",
       "</table>\n",
       "</div>"
      ],
      "text/plain": [
       "   Total  Male  Female  Unknown\n",
       "0   2072  1297     775        0"
      ]
     },
     "execution_count": 91,
     "metadata": {},
     "output_type": "execute_result"
    }
   ],
   "source": [
    "s = dataset['Female'].to_numpy()\n",
    "male = 0\n",
    "female = 0\n",
    "total = dataset.shape[0]\n",
    "for i in s:\n",
    "    if i == 0:\n",
    "        male += 1\n",
    "    elif i == 1:\n",
    "        female += 1\n",
    "unknown = total - male - female\n",
    "gender = pd.DataFrame([[total,male,female,unknown]], columns=['Total','Male','Female','Unknown'])\n",
    "gender.head()"
   ]
  },
  {
   "cell_type": "code",
   "execution_count": 92,
   "metadata": {},
   "outputs": [],
   "source": [
    "from pathlib import Path  \n",
    "filepath = Path(os.path.join(DATA_PATH, 'gender.csv'))\n",
    "filepath.parent.mkdir(parents=True, exist_ok=True)\n",
    "gender.to_csv(filepath, index=False)"
   ]
  },
  {
   "cell_type": "code",
   "execution_count": 93,
   "metadata": {},
   "outputs": [],
   "source": [
    "dataset = dataset.drop(columns=['STT', 'ID', 'Name', 'SODIENTHOAI', 'Fisrt of Department',\n",
    "                                'Department of out hospital', 'Department of test'])"
   ]
  },
  {
   "cell_type": "code",
   "execution_count": 94,
   "metadata": {},
   "outputs": [],
   "source": [
    "month_name = ['Jan', 'Feb', 'Mar', 'Apr',\n",
    "              'May', 'Jun', 'Jul', 'Aug',\n",
    "              'Sep', 'Oct', 'Nov', 'Dec']\n",
    "\n",
    "def to_datetime(column_name):\n",
    "    s = dataset[column_name].to_numpy(dtype = 'str')\n",
    "    for i in range(len(s)):\n",
    "        if s[i] == 'nan':\n",
    "            continue\n",
    "        if '-' in s[i]:\n",
    "            date = s[i].split(sep='-')\n",
    "        elif '/' in s[i]:\n",
    "            date = s[i].split(sep='/')\n",
    "        for j in range(len(month_name)):\n",
    "            if date[1] == month_name[j]:\n",
    "                date[1] = j+1\n",
    "        date = [int(x) for x in date]\n",
    "        if date[0] > 2000: # date[0] is year\n",
    "            x = datetime.date(date[0],date[1],date[2])\n",
    "        else:\n",
    "            if date[2] < 2000:\n",
    "                date[2] += 2000\n",
    "            x = datetime.date(date[2],date[1],date[0])\n",
    "        dataset.at[i,column_name] = x\n",
    "\n",
    "dataset = dataset.rename(columns={\"NGAYSINH.x\":\"dob\"})\n",
    "to_datetime('dob')\n",
    "dataset = dataset.rename(columns={\"date of admission\":\"admission_date\"})\n",
    "to_datetime('admission_date')"
   ]
  },
  {
   "cell_type": "code",
   "execution_count": 95,
   "metadata": {},
   "outputs": [],
   "source": [
    "dataset.insert(7, \"age_at_admission\", 0)"
   ]
  },
  {
   "cell_type": "code",
   "execution_count": 96,
   "metadata": {},
   "outputs": [],
   "source": [
    "for i in range(dataset.shape[0]):\n",
    "    x = dataset.at[i,'dob']\n",
    "    y = dataset.at[i,'admission_date']\n",
    "    if pd.isna(dataset.at[i,'dob']) == False and pd.isna(dataset.at[i,'admission_date']) == False:\n",
    "        z = y - x\n",
    "        dataset.at[i,\"age_at_admission\"] = z.days // 30"
   ]
  },
  {
   "cell_type": "code",
   "execution_count": 97,
   "metadata": {},
   "outputs": [],
   "source": [
    "dataset = dataset.rename(columns={\"Distric\":\"district\"})\n",
    "dis = dataset['district'].to_numpy(dtype='str')\n",
    "\n",
    "wrong_dis = [\"Huyen V_ Quang\",\"ph_ c_\",\"Huyen Hi_p H\",\"Kim B_ng\",\"Huyen H__ng Kh?\",\"Nam Tr_c\",\"Th__ng Xu\",\"T__ng D__ng\",\"Huyen C_ Kuin\",\n",
    "\"B_m S_n\",\"Y?n Khnh\",\"Bnh Xuy?n\",\"Huyen Kim __ng\",\"Xun Tr__ng\",\"Tam D__ng\",\"Huyen Qu_nh L_u\",\"Thi Xa Thai Ho?a\",\"Thi Xa Thai Ho`a\",\n",
    "\"TP B_c Giang\",\"L__ng S_n\",\"Y?n L_c\",\"Ung B\",\"Huyen Nng C_ng\",\"Kim Thnh\",\"Huyen Di_n Ch\",\"T_ k_\",\"Gia Vi_n\",\"Giao Th_y\",\"TP. Thi Nguy?n\",\n",
    "\"L_p Th_ch\",\"L_c Nam\",\"Huyen T_ K_\",\"tp L_ng S_n\",\"tp. Ninh Bnh\",\"Vi_t Tr\",\"Huyen C_m Kh?\",\"Phc Thnh\",\"B_c Quang\",\"Huyen Thanh Ch__ng\",\n",
    "\"H_ H\",\"Huyen Bnh Giang\",\"Mai S_n\",\"Huyen Tam Nâ¢ng\",\"Th_y Nguy?n\",\"Tp Thi Bnh\",\"Ngh_a H_ng\",\"_inh H\",\"Thnh ph_ H_i D__ng\",\"TP. Ninh Bnh\",\n",
    "\"Ch Linh\",\"TP. Nam __nh\",\"TP.H_ng Y?n\",\"Kinh M_n\",\"Thanh Mi_n\",\"H_ng Nguy?n\",\"Nam Sch\",\"Huyen Ngh_a _\",\"H_u L_c\",\"Nam c__ng\",\"Quang S_n\",\n",
    "\"Phc Y?n\",\"Gia Bnh\",\"Huyen _ng H_ng\",\"Y?n M_\",\"ån Thi\",\"V_nh t__ng\",\"Huyen V_n L\",\"L_c H\",\"__ S_n\",\"H Phong\",\"__ng T\"]\n",
    "correction = [\"Huyen Vu Quang\",\"Phu Cu\",\"Huyen Hiep Hoa\",\"Kim Bang\",\"Huyen Huong Khe\",\"Nam Truc\",\"Thuong Xuan\",\"Tuong Duong\",\"Huyen Cu Kuin\",\n",
    "\"Bim Son\",\"Yen Khanh\",\"Binh Xuyen\",\"Huyen Kim Dong\",\"Xuan Truong\",\"Tam Duong\",\"Huyen Quynh Luu\",\"Thi Xa Thai Hoa\",\"Thi Xa Thai Hoa\",\n",
    "\"TP Bac Giang\",\"Luong Son\",\"Yen Lac\",\"Uong Bi\",\"Huyen Nong Cong\",\"Kim Thanh\",\"Huyen Dien Chau\",\"Tu ky\",\"Gia Vien\",\"Giao Thuy\",\"TP Thai Nguyen\",\n",
    "\"Lap Thach\",\"Luc Nam\",\"Huyen Tu Ky\",\"TP Lang Son\",\"TP Ninh Binh\",\"Viet Tri\",\"Huyen Cam Khe\",\"Phuc Thanh\",\"Bac Quang\",\"Huyen Thanh Chuong\",\n",
    "\"Ha Hoa\",\"Huyen Binh Giang\",\"Mai Son\",\"Huyen Tam Nong\",\"Thuy Nguyen\",\"TP Thai Binh\",\"Nghia Hung\",\"Dinh Hoa\",\"TP Hai Duong\",\"TP Ninh Binh\",\n",
    "\"Chi Linh\",\"TP Nam Dinh\",\"TP Hung Yen\",\"Kinh Mon\",\"Thanh Mien\",\"Hung Nguyen\",\"Nam Sach\",\"Huyen Nghia Dan\",\"Hau Loc\",\"Nam Cuong\",\"Quang Son\",\n",
    "\"Phuc Yen\",\"Gia Binh\",\"Huyen Dong Hung\",\"Yen My\",\"An Thi\",\"Vinh Tuong\",\"Huyen Van Lam\",\"Loc Ha\",\"Do Son\",\"Hong Phong\",\"Dong Tam\"]\n",
    "\n",
    "for i in range(len(dis)):\n",
    "    if dis[i] == 'nan':\n",
    "        dataset.at[i,'district'] = ''\n",
    "        continue\n",
    "    for j in range(len(wrong_dis)):\n",
    "        if dis[i] == wrong_dis[j]:\n",
    "            dis[i] = correction[j]\n",
    "            break\n",
    "    word_dis = dis[i].split(sep = ' ')\n",
    "    if word_dis[0] == 'Huy_n':\n",
    "        word_dis[0] = 'Huyen'\n",
    "    if word_dis[0] == 'TX':\n",
    "        word_dis[0] = 'Thi Xa'\n",
    "    new_dis = ' '.join(word_dis)\n",
    "    dataset.at[i,'district'] = new_dis"
   ]
  },
  {
   "cell_type": "code",
   "execution_count": 98,
   "metadata": {},
   "outputs": [],
   "source": [
    "dis = dataset['district'].to_numpy(dtype='str')\n",
    "\n",
    "for i in range(len(dis)):\n",
    "    if dis[i] == '':\n",
    "        continue\n",
    "    dis[i] = string.capwords(dis[i])\n",
    "    dataset.at[i,'district'] = dis[i]"
   ]
  },
  {
   "cell_type": "code",
   "execution_count": 99,
   "metadata": {},
   "outputs": [],
   "source": [
    "dataset = dataset.rename(columns={\"Province\": \"province\"})\n",
    "pro = dataset['province'].to_numpy(dtype='str')\n",
    "\n",
    "for i in range(len(dis)):\n",
    "    if pro[i] == 'nan':\n",
    "        continue\n",
    "    pro[i] = string.capwords(pro[i])\n",
    "    dataset.at[i,'province'] = pro[i]"
   ]
  },
  {
   "cell_type": "code",
   "execution_count": 100,
   "metadata": {},
   "outputs": [],
   "source": [
    "dataset = dataset.rename(columns={\"Community\": \"commune\"})\n",
    "comm = dataset['commune'].to_numpy(dtype='str')\n",
    "\n",
    "for i in range(len(comm)):\n",
    "    if comm[i] == 'nan':\n",
    "        continue\n",
    "    s = \"\"\n",
    "    for j in comm[i]:\n",
    "        if (j>='a' and j<='z') or (j>='A' and j<='Z') or j ==' ' or (j>='0' and j<='9'):\n",
    "            s += j\n",
    "    dataset.at[i,'commune'] = s"
   ]
  },
  {
   "cell_type": "code",
   "execution_count": 101,
   "metadata": {},
   "outputs": [],
   "source": [
    "comm = dataset['commune'].to_numpy(dtype='str')\n",
    "\n",
    "for i in range(len(comm)):\n",
    "    if comm[i] == '':\n",
    "        continue\n",
    "    comm[i] = string.capwords(comm[i])\n",
    "    dataset.at[i,'commune'] = comm[i]"
   ]
  },
  {
   "cell_type": "code",
   "execution_count": 102,
   "metadata": {},
   "outputs": [],
   "source": [
    "dataset.insert(5,\"complete_patient_address\",np.nan)"
   ]
  },
  {
   "cell_type": "code",
   "execution_count": 103,
   "metadata": {},
   "outputs": [],
   "source": [
    "for i in range(dataset.shape[0]):\n",
    "    commune_i = dataset.at[i,'commune']\n",
    "    district_i = dataset.at[i,'district']\n",
    "    province_i = dataset.at[i,'province']\n",
    "    address = []\n",
    "    if commune_i != '':\n",
    "        address.append(commune_i)\n",
    "    if district_i != '':\n",
    "        address.append(district_i)\n",
    "    if province_i != '':\n",
    "        address.append(province_i)\n",
    "    full_address = ', '.join(address)\n",
    "    dataset.at[i,'complete_patient_address'] = full_address"
   ]
  },
  {
   "cell_type": "code",
   "execution_count": 104,
   "metadata": {},
   "outputs": [],
   "source": [
    "dataset = dataset.rename(columns = {\"date of out hospital\":\"discharge_date\"})\n",
    "to_datetime('discharge_date')"
   ]
  },
  {
   "cell_type": "code",
   "execution_count": 105,
   "metadata": {},
   "outputs": [],
   "source": [
    "dataset.insert(10,'duration_of_stay',np.nan)"
   ]
  },
  {
   "cell_type": "code",
   "execution_count": 106,
   "metadata": {},
   "outputs": [],
   "source": [
    "for i in range(dataset.shape[0]):\n",
    "    x = dataset.at[i,'admission_date']\n",
    "    y = dataset.at[i,'discharge_date']\n",
    "    if pd.isna(x) == False and pd.isna(y) == False:\n",
    "        z = y - x\n",
    "        dataset.at[i,\"duration_of_stay\"] = z.days"
   ]
  },
  {
   "cell_type": "code",
   "execution_count": 107,
   "metadata": {},
   "outputs": [],
   "source": [
    "dataset = dataset.drop(columns = ['LOAIXN','Note of time stay in hospital'])"
   ]
  },
  {
   "cell_type": "code",
   "execution_count": 108,
   "metadata": {},
   "outputs": [],
   "source": [
    "dataset = dataset.rename(columns = {'date of test':'test_date','date of result':'testresult_date'})\n",
    "to_datetime('test_date')\n",
    "to_datetime('testresult_date')"
   ]
  },
  {
   "cell_type": "code",
   "execution_count": 109,
   "metadata": {},
   "outputs": [],
   "source": [
    "dataset = dataset.rename(columns = {'HAI':'healthcare_associated_infection','RSV':'respiratory_syncytical_virus','ADENO':'adenovirus',\n",
    "'Pertussis':'pertussis','oxygen':'oxygen_cannula','cipap':'CPAP','ventilator':'conventional_mechanical_ventilation',\n",
    "'HFO ventilator':'hfo_ventilation','ECMOY:AL':'ECMO'})\n",
    "\n",
    "def YN_to_binary(column_name):\n",
    "    s = dataset[column_name].to_numpy(dtype='str')\n",
    "    for i in range(len(s)):\n",
    "        if s[i] == '' or s[i] == 'nan':\n",
    "            dataset.at[i,column_name] = 0\n",
    "            continue\n",
    "        ls = s[i].lower()\n",
    "        if ls == 'yes':\n",
    "            dataset.at[i,column_name] = 1\n",
    "        elif ls == 'no' or ls == 'na':\n",
    "            dataset.at[i,column_name] = 0\n",
    "\n",
    "YN_to_binary('oxygen_cannula')\n",
    "YN_to_binary('CPAP')\n",
    "YN_to_binary('pertussis')\n",
    "YN_to_binary('healthcare_associated_infection')\n",
    "YN_to_binary('respiratory_syncytical_virus')\n",
    "YN_to_binary('adenovirus')\n",
    "YN_to_binary('conventional_mechanical_ventilation')\n",
    "YN_to_binary('hfo_ventilation')\n",
    "YN_to_binary('ECMO')"
   ]
  },
  {
   "cell_type": "code",
   "execution_count": 110,
   "metadata": {},
   "outputs": [
    {
     "data": {
      "text/plain": [
       "<bound method NDFrame.head of 0       0\n",
       "1       0\n",
       "2       0\n",
       "3       0\n",
       "4       0\n",
       "       ..\n",
       "2067    0\n",
       "2068    0\n",
       "2069    0\n",
       "2070    0\n",
       "2071    0\n",
       "Name: ECMO, Length: 2072, dtype: object>"
      ]
     },
     "execution_count": 110,
     "metadata": {},
     "output_type": "execute_result"
    }
   ],
   "source": [
    "dataset['ECMO'].head"
   ]
  },
  {
   "cell_type": "code",
   "execution_count": 111,
   "metadata": {},
   "outputs": [
    {
     "name": "stdout",
     "output_type": "stream",
     "text": [
      "['BN khong nhap vien' 'Bo ve' 'Chuyen vien' 'Ra vi<U+1EC7>n' 'Ra vien'\n",
      " 'Tu vong' 'Xin ve' 'chua ra vien' 'do giam' 'do, giam ' 'khoi' 'tu vong']\n",
      "['Chuyen  vien' 'Do/Giam' 'Khoi' 'Khong thay doi' 'Nang hon' 'Tu vong'\n",
      " 'chua ra vien' 'do giam' 'do, giam ' 'khoi' 'tu vong'\n",
      " 'Ð<U+1EE1>/Gi<U+1EA3>m']\n"
     ]
    }
   ],
   "source": [
    "stat = dataset['Stage of discharge'].to_numpy(dtype = 'str')\n",
    "print(np.unique(stat))\n",
    "res = dataset['result of discharge'].to_numpy(dtype = 'str')\n",
    "print(np.unique(res))"
   ]
  },
  {
   "cell_type": "code",
   "execution_count": 112,
   "metadata": {},
   "outputs": [
    {
     "data": {
      "text/html": [
       "<div>\n",
       "<style scoped>\n",
       "    .dataframe tbody tr th:only-of-type {\n",
       "        vertical-align: middle;\n",
       "    }\n",
       "\n",
       "    .dataframe tbody tr th {\n",
       "        vertical-align: top;\n",
       "    }\n",
       "\n",
       "    .dataframe thead th {\n",
       "        text-align: right;\n",
       "    }\n",
       "</style>\n",
       "<table border=\"1\" class=\"dataframe\">\n",
       "  <thead>\n",
       "    <tr style=\"text-align: right;\">\n",
       "      <th></th>\n",
       "      <th>adenovirus</th>\n",
       "      <th>pertussis</th>\n",
       "      <th>healthcare_associated_infection</th>\n",
       "      <th>respiratory_syncytical_virus</th>\n",
       "    </tr>\n",
       "  </thead>\n",
       "  <tbody>\n",
       "    <tr>\n",
       "      <th>No</th>\n",
       "      <td>1977</td>\n",
       "      <td>2055</td>\n",
       "      <td>2054</td>\n",
       "      <td>2042</td>\n",
       "    </tr>\n",
       "    <tr>\n",
       "      <th>Yes</th>\n",
       "      <td>95</td>\n",
       "      <td>17</td>\n",
       "      <td>18</td>\n",
       "      <td>30</td>\n",
       "    </tr>\n",
       "  </tbody>\n",
       "</table>\n",
       "</div>"
      ],
      "text/plain": [
       "     adenovirus  pertussis  healthcare_associated_infection  \\\n",
       "No         1977       2055                             2054   \n",
       "Yes          95         17                               18   \n",
       "\n",
       "     respiratory_syncytical_virus  \n",
       "No                           2042  \n",
       "Yes                            30  "
      ]
     },
     "execution_count": 112,
     "metadata": {},
     "output_type": "execute_result"
    }
   ],
   "source": [
    "diseases = pd.DataFrame()\n",
    "def diseases_data(column_name):\n",
    "    s = dataset[column_name].to_numpy(dtype = 'int')\n",
    "    y = 0\n",
    "    n = 0\n",
    "    for i in s:\n",
    "        if i == 1:\n",
    "            y += 1\n",
    "        elif i == 0:\n",
    "            n += 1\n",
    "    if y + n != len(s):\n",
    "        print('nan exists')\n",
    "    row = diseases.shape[1]\n",
    "    diseases.insert(row,column_name,[n,y])\n",
    "diseases_data('adenovirus')\n",
    "diseases_data('pertussis')\n",
    "diseases_data('healthcare_associated_infection')\n",
    "diseases_data('respiratory_syncytical_virus')\n",
    "diseases.head()\n",
    "diseases.rename(index={0:'No',1:'Yes'})\n"
   ]
  },
  {
   "cell_type": "code",
   "execution_count": 113,
   "metadata": {},
   "outputs": [],
   "source": [
    "from pathlib import Path  \n",
    "filepath = Path(os.path.join(DATA_PATH, 'diseases.csv'))\n",
    "filepath.parent.mkdir(parents=True, exist_ok=True)  \n",
    "diseases.to_csv(filepath, index = True)"
   ]
  },
  {
   "cell_type": "code",
   "execution_count": 114,
   "metadata": {},
   "outputs": [],
   "source": [
    "from datetime import date\n",
    "def datetime_to_date(column_name):\n",
    "    for i in range(dataset.shape[0]):\n",
    "        x = dataset.at[i,column_name]\n",
    "        y = pd.to_datetime(x)\n",
    "        z = y.date()\n",
    "        #print(z)\n",
    "        dataset.at[i,column_name] = z\n",
    "\n",
    "datetime_to_date('dob')\n",
    "datetime_to_date('admission_date')\n",
    "datetime_to_date('discharge_date')\n",
    "datetime_to_date('test_date')\n",
    "datetime_to_date('testresult_date')"
   ]
  },
  {
   "cell_type": "code",
   "execution_count": 115,
   "metadata": {},
   "outputs": [],
   "source": [
    "dataset = dataset.drop(columns = ['dialysis','Catheter','Onsetto out hospital','ghi chu nguon'])"
   ]
  },
  {
   "cell_type": "code",
   "execution_count": 116,
   "metadata": {},
   "outputs": [
    {
     "name": "stdout",
     "output_type": "stream",
     "text": [
      "['' '0' '1' '1 (12/2/2018)' '1 (12/22/2018)' '2' '3' '99'\n",
      " '?a khoa qu?c t? H?i Phòng, ?i?u tr? ph?i' 'NA' 'd<U+1EE7> mui'\n",
      " 'kham bs lan anh' 'tiêm 15/9']\n"
     ]
    }
   ],
   "source": [
    "vacc = dataset['Vaccination'].to_numpy(dtype = 'str')\n",
    "print(np.unique(vacc))\n",
    "unique_status = ['','0','1','1 (12/2/2018)','1 (12/22/2018)','2','3','99', '?a khoa qu?c t? H?i Phòng, ?i?u tr? ph?i','d<U+1EE7> mui',\n",
    "'kham bs lan anh','tiêm 15/9']\n",
    "convert_status = ['NA',0,1,1,1,2,3,'NA','?','?',2,'?','?']\n",
    "for i in range(len(vacc)):\n",
    "    x = vacc[i]"
   ]
  },
  {
   "cell_type": "code",
   "execution_count": 117,
   "metadata": {},
   "outputs": [],
   "source": [
    "dataset = dataset.rename(columns={'Code source': 'place_of_exposure'})\n",
    "\n",
    "dataset['place_of_exposure'] = dataset['place_of_exposure'].str.lower()\n",
    "\n",
    "for i in range(len(dataset['place_of_exposure'])):\n",
    "    code = dataset.at[i, 'place_of_exposure']\n",
    "    if code in ['suppected nch', 'definitely nch']:\n",
    "        dataset.at[i, 'place_of_exposure'] = 'NHP'\n",
    "    elif code in ['suppected other h', 'suppected  other h', 'definitely other h']:\n",
    "        dataset.at[i, 'place_of_exposure'] = 'Another hospital'\n",
    "    elif code in ['community']:\n",
    "        continue"
   ]
  },
  {
   "cell_type": "code",
   "execution_count": 118,
   "metadata": {},
   "outputs": [],
   "source": [
    "# Calculate number of patients in each place of exposure\n",
    "in_nhp, in_another_hospital, in_community = 0, 0, 0\n",
    "total = dataset.shape[0]\n",
    "\n",
    "for i in dataset['place_of_exposure']:\n",
    "    if i == 'NHP':\n",
    "        in_nhp += 1\n",
    "    elif i == 'Another hospital':\n",
    "        in_another_hospital += 1\n",
    "    elif i == 'community':\n",
    "        in_community += 1\n",
    "unknown = total - in_nhp - in_another_hospital - in_community\n",
    "poe = pd.DataFrame([[total, in_nhp, in_another_hospital, in_community, unknown]], columns=['Total', 'NHP', 'Another hospital', 'Community', 'Unknown'])"
   ]
  },
  {
   "cell_type": "code",
   "execution_count": 119,
   "metadata": {},
   "outputs": [],
   "source": [
    "from pathlib import Path  \n",
    "filepath = Path(os.path.join(DATA_PATH, 'place_of_exposure.csv'))\n",
    "filepath.parent.mkdir(parents=True, exist_ok=True)  \n",
    "poe.to_csv(filepath, index=True)"
   ]
  },
  {
   "cell_type": "code",
   "execution_count": 120,
   "metadata": {},
   "outputs": [],
   "source": [
    "from pathlib import Path  \n",
    "filepath = Path(OUT_DATA)\n",
    "filepath.parent.mkdir(parents=True, exist_ok=True)\n",
    "dataset.to_csv(filepath, index=False)"
   ]
  }
 ],
 "metadata": {
  "kernelspec": {
   "display_name": "Python 3.9.0 ('measles-model')",
   "language": "python",
   "name": "python3"
  },
  "language_info": {
   "codemirror_mode": {
    "name": "ipython",
    "version": 3
   },
   "file_extension": ".py",
   "mimetype": "text/x-python",
   "name": "python",
   "nbconvert_exporter": "python",
   "pygments_lexer": "ipython3",
   "version": "3.9.0"
  },
  "orig_nbformat": 4,
  "vscode": {
   "interpreter": {
    "hash": "106ed90fbf8025eb9832909e51cfc899d1a33a089b344b3214a8543d200ab7a0"
   }
  }
 },
 "nbformat": 4,
 "nbformat_minor": 2
}
