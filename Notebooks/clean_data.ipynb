{
 "cells": [
  {
   "cell_type": "code",
   "execution_count": 57,
   "metadata": {},
   "outputs": [],
   "source": [
    "import pandas as pd\n",
    "import numpy as np\n",
    "import datetime\n",
    "import string\n",
    "import os\n",
    "from matplotlib import pyplot as plt\n",
    "from pathlib import Path"
   ]
  },
  {
   "cell_type": "code",
   "execution_count": 58,
   "metadata": {},
   "outputs": [],
   "source": [
    "DATA_PATH = '../datasets'\n",
    "RAW_DATA = os.path.join(DATA_PATH, 'raw_data.csv')\n",
    "OUT_DATA = os.path.join(DATA_PATH, 'out.csv')"
   ]
  },
  {
   "cell_type": "code",
   "execution_count": 59,
   "metadata": {},
   "outputs": [],
   "source": [
    "dataset = pd.read_csv(RAW_DATA, keep_default_na=False)"
   ]
  },
  {
   "cell_type": "code",
   "execution_count": 60,
   "metadata": {},
   "outputs": [],
   "source": [
    "dataset = dataset.rename(columns={\"GIOI.x\": \"Female\"})\n",
    "s = dataset['Female'].to_numpy()\n",
    "\n",
    "for i in range(len(s)):\n",
    "    if s[i] == 'Nam' or s[i] == 'M':\n",
    "        dataset.at[i,'Female'] = 0\n",
    "    elif s[i] == 'Nu' or s[i] == 'F':\n",
    "        dataset.at[i,'Female'] = 1"
   ]
  },
  {
   "cell_type": "code",
   "execution_count": 61,
   "metadata": {},
   "outputs": [],
   "source": [
    "s = dataset['Female'].to_numpy()\n",
    "male = 0\n",
    "female = 0\n",
    "total = dataset.shape[0]\n",
    "for i in s:\n",
    "    if i == 0:\n",
    "        male += 1\n",
    "    elif i == 1:\n",
    "        female += 1\n",
    "unknown = total - male - female\n",
    "gender = pd.DataFrame([[total,male,female,unknown]], columns=['Total','Male','Female','Unknown'])"
   ]
  },
  {
   "cell_type": "code",
   "execution_count": 62,
   "metadata": {},
   "outputs": [],
   "source": [
    "filepath = Path(os.path.join(DATA_PATH, 'gender.csv'))\n",
    "filepath.parent.mkdir(parents=True, exist_ok=True)\n",
    "gender.to_csv(filepath, index=False)"
   ]
  },
  {
   "cell_type": "code",
   "execution_count": 63,
   "metadata": {},
   "outputs": [],
   "source": [
    "dataset = dataset.drop(columns=['STT', 'ID', 'Name', 'SODIENTHOAI', 'Fisrt of Department',\n",
    "                                'Department of out hospital', 'Department of test'])"
   ]
  },
  {
   "cell_type": "code",
   "execution_count": 64,
   "metadata": {},
   "outputs": [],
   "source": [
    "month_name = ['Jan', 'Feb', 'Mar', 'Apr',\n",
    "              'May', 'Jun', 'Jul', 'Aug',\n",
    "              'Sep', 'Oct', 'Nov', 'Dec']\n",
    "\n",
    "def to_datetime(column_name):\n",
    "    s = dataset[column_name].to_numpy(dtype = 'str')\n",
    "    for i in range(len(s)):\n",
    "        if s[i] == 'nan':\n",
    "            continue\n",
    "        if '-' in s[i]:\n",
    "            date = s[i].split(sep='-')\n",
    "        elif '/' in s[i]:\n",
    "            date = s[i].split(sep='/')\n",
    "        for j in range(len(month_name)):\n",
    "            if date[1] == month_name[j]:\n",
    "                date[1] = j+1\n",
    "        date = [int(x) for x in date]\n",
    "        if date[0] > 2000: # date[0] is year\n",
    "            x = datetime.date(date[0],date[1],date[2])\n",
    "        else:\n",
    "            if date[2] < 2000:\n",
    "                date[2] += 2000\n",
    "            x = datetime.date(date[2],date[1],date[0])\n",
    "        dataset.at[i,column_name] = x\n",
    "\n",
    "dataset = dataset.rename(columns={\"NGAYSINH.x\":\"dob\"})\n",
    "to_datetime('dob')\n",
    "dataset = dataset.rename(columns={\"date of admission\":\"admission_date\"})\n",
    "to_datetime('admission_date')"
   ]
  },
  {
   "cell_type": "code",
   "execution_count": 65,
   "metadata": {},
   "outputs": [],
   "source": [
    "dataset.insert(7, \"age_at_admission\", 0)"
   ]
  },
  {
   "cell_type": "code",
   "execution_count": 66,
   "metadata": {},
   "outputs": [],
   "source": [
    "for i in range(dataset.shape[0]):\n",
    "    x = dataset.at[i,'dob']\n",
    "    y = dataset.at[i,'admission_date']\n",
    "    if pd.isna(dataset.at[i,'dob']) == False and pd.isna(dataset.at[i,'admission_date']) == False:\n",
    "        z = y - x\n",
    "        dataset.at[i,\"age_at_admission\"] = z.days // 30"
   ]
  },
  {
   "cell_type": "code",
   "execution_count": 67,
   "metadata": {},
   "outputs": [],
   "source": [
    "dataset = dataset.rename(columns={\"Distric\":\"district\"})\n",
    "dis = dataset['district'].to_numpy(dtype='str')\n",
    "\n",
    "wrong_dis = [\"Huyen V_ Quang\",\"ph_ c_\",\"Huyen Hi_p H\",\"Kim B_ng\",\"Huyen H__ng Kh?\",\"Nam Tr_c\",\"Th__ng Xu\",\"T__ng D__ng\",\"Huyen C_ Kuin\",\n",
    "\"B_m S_n\",\"Y?n Khnh\",\"Bnh Xuy?n\",\"Huyen Kim __ng\",\"Xun Tr__ng\",\"Tam D__ng\",\"Huyen Qu_nh L_u\",\"Thi Xa Thai Ho?a\",\"Thi Xa Thai Ho`a\",\n",
    "\"TP B_c Giang\",\"L__ng S_n\",\"Y?n L_c\",\"Ung B\",\"Huyen Nng C_ng\",\"Kim Thnh\",\"Huyen Di_n Ch\",\"T_ k_\",\"Gia Vi_n\",\"Giao Th_y\",\"TP. Thi Nguy?n\",\n",
    "\"L_p Th_ch\",\"L_c Nam\",\"Huyen T_ K_\",\"tp L_ng S_n\",\"tp. Ninh Bnh\",\"Vi_t Tr\",\"Huyen C_m Kh?\",\"Phc Thnh\",\"B_c Quang\",\"Huyen Thanh Ch__ng\",\n",
    "\"H_ H\",\"Huyen Bnh Giang\",\"Mai S_n\",\"Huyen Tam Nâ¢ng\",\"Th_y Nguy?n\",\"Tp Thi Bnh\",\"Ngh_a H_ng\",\"_inh H\",\"Thnh ph_ H_i D__ng\",\"TP. Ninh Bnh\",\n",
    "\"Ch Linh\",\"TP. Nam __nh\",\"TP.H_ng Y?n\",\"Kinh M_n\",\"Thanh Mi_n\",\"H_ng Nguy?n\",\"Nam Sch\",\"Huyen Ngh_a _\",\"H_u L_c\",\"Nam c__ng\",\"Quang S_n\",\n",
    "\"Phc Y?n\",\"Gia Bnh\",\"Huyen _ng H_ng\",\"Y?n M_\",\"ån Thi\",\"V_nh t__ng\",\"Huyen V_n L\",\"L_c H\",\"__ S_n\",\"H Phong\",\"__ng T\"]\n",
    "correction = [\"Huyen Vu Quang\",\"Phu Cu\",\"Huyen Hiep Hoa\",\"Kim Bang\",\"Huyen Huong Khe\",\"Nam Truc\",\"Thuong Xuan\",\"Tuong Duong\",\"Huyen Cu Kuin\",\n",
    "\"Bim Son\",\"Yen Khanh\",\"Binh Xuyen\",\"Huyen Kim Dong\",\"Xuan Truong\",\"Tam Duong\",\"Huyen Quynh Luu\",\"Thi Xa Thai Hoa\",\"Thi Xa Thai Hoa\",\n",
    "\"TP Bac Giang\",\"Luong Son\",\"Yen Lac\",\"Uong Bi\",\"Huyen Nong Cong\",\"Kim Thanh\",\"Huyen Dien Chau\",\"Tu ky\",\"Gia Vien\",\"Giao Thuy\",\"TP Thai Nguyen\",\n",
    "\"Lap Thach\",\"Luc Nam\",\"Huyen Tu Ky\",\"TP Lang Son\",\"TP Ninh Binh\",\"Viet Tri\",\"Huyen Cam Khe\",\"Phuc Thanh\",\"Bac Quang\",\"Huyen Thanh Chuong\",\n",
    "\"Ha Hoa\",\"Huyen Binh Giang\",\"Mai Son\",\"Huyen Tam Nong\",\"Thuy Nguyen\",\"TP Thai Binh\",\"Nghia Hung\",\"Dinh Hoa\",\"TP Hai Duong\",\"TP Ninh Binh\",\n",
    "\"Chi Linh\",\"TP Nam Dinh\",\"TP Hung Yen\",\"Kinh Mon\",\"Thanh Mien\",\"Hung Nguyen\",\"Nam Sach\",\"Huyen Nghia Dan\",\"Hau Loc\",\"Nam Cuong\",\"Quang Son\",\n",
    "\"Phuc Yen\",\"Gia Binh\",\"Huyen Dong Hung\",\"Yen My\",\"An Thi\",\"Vinh Tuong\",\"Huyen Van Lam\",\"Loc Ha\",\"Do Son\",\"Hong Phong\",\"Dong Tam\"]\n",
    "\n",
    "for i in range(len(dis)):\n",
    "    if dis[i] == 'nan':\n",
    "        dataset.at[i,'district'] = ''\n",
    "        continue\n",
    "    for j in range(len(wrong_dis)):\n",
    "        if dis[i] == wrong_dis[j]:\n",
    "            dis[i] = correction[j]\n",
    "            break\n",
    "    word_dis = dis[i].split(sep = ' ')\n",
    "    if word_dis[0] == 'Huy_n':\n",
    "        word_dis[0] = 'Huyen'\n",
    "    if word_dis[0] == 'TX':\n",
    "        word_dis[0] = 'Thi Xa'\n",
    "    new_dis = ' '.join(word_dis)\n",
    "    dataset.at[i,'district'] = new_dis"
   ]
  },
  {
   "cell_type": "code",
   "execution_count": 68,
   "metadata": {},
   "outputs": [],
   "source": [
    "dis = dataset['district'].to_numpy(dtype='str')\n",
    "\n",
    "for i in range(len(dis)):\n",
    "    if dis[i] == '':\n",
    "        continue\n",
    "    dis[i] = string.capwords(dis[i])\n",
    "    dataset.at[i,'district'] = dis[i]"
   ]
  },
  {
   "cell_type": "code",
   "execution_count": 69,
   "metadata": {},
   "outputs": [],
   "source": [
    "dataset = dataset.rename(columns={\"Province\": \"province\"})\n",
    "pro = dataset['province'].to_numpy(dtype='str')\n",
    "\n",
    "for i in range(len(dis)):\n",
    "    if pro[i] == 'nan':\n",
    "        continue\n",
    "    pro[i] = string.capwords(pro[i])\n",
    "    dataset.at[i,'province'] = pro[i]"
   ]
  },
  {
   "cell_type": "code",
   "execution_count": 70,
   "metadata": {},
   "outputs": [],
   "source": [
    "dataset = dataset.rename(columns={\"Community\": \"commune\"})\n",
    "comm = dataset['commune'].to_numpy(dtype='str')\n",
    "\n",
    "for i in range(len(comm)):\n",
    "    if comm[i] == 'nan':\n",
    "        continue\n",
    "    s = \"\"\n",
    "    for j in comm[i]:\n",
    "        if (j>='a' and j<='z') or (j>='A' and j<='Z') or j ==' ' or (j>='0' and j<='9'):\n",
    "            s += j\n",
    "    dataset.at[i,'commune'] = s"
   ]
  },
  {
   "cell_type": "code",
   "execution_count": 71,
   "metadata": {},
   "outputs": [],
   "source": [
    "comm = dataset['commune'].to_numpy(dtype='str')\n",
    "\n",
    "for i in range(len(comm)):\n",
    "    if comm[i] == '':\n",
    "        continue\n",
    "    comm[i] = string.capwords(comm[i])\n",
    "    dataset.at[i,'commune'] = comm[i]"
   ]
  },
  {
   "cell_type": "code",
   "execution_count": 72,
   "metadata": {},
   "outputs": [],
   "source": [
    "dataset.insert(5,\"complete_patient_address\",np.nan)"
   ]
  },
  {
   "cell_type": "code",
   "execution_count": 73,
   "metadata": {},
   "outputs": [],
   "source": [
    "for i in range(dataset.shape[0]):\n",
    "    commune_i = dataset.at[i,'commune']\n",
    "    district_i = dataset.at[i,'district']\n",
    "    province_i = dataset.at[i,'province']\n",
    "    address = []\n",
    "    if commune_i != '':\n",
    "        address.append(commune_i)\n",
    "    if district_i != '':\n",
    "        address.append(district_i)\n",
    "    if province_i != '':\n",
    "        address.append(province_i)\n",
    "    full_address = ', '.join(address)\n",
    "    dataset.at[i,'complete_patient_address'] = full_address"
   ]
  },
  {
   "cell_type": "code",
   "execution_count": 74,
   "metadata": {},
   "outputs": [],
   "source": [
    "dataset = dataset.rename(columns = {\"date of out hospital\":\"discharge_date\"})\n",
    "to_datetime('discharge_date')"
   ]
  },
  {
   "cell_type": "code",
   "execution_count": 75,
   "metadata": {},
   "outputs": [],
   "source": [
    "dataset.insert(10,'duration_of_stay',np.nan)"
   ]
  },
  {
   "cell_type": "code",
   "execution_count": 76,
   "metadata": {},
   "outputs": [],
   "source": [
    "for i in range(dataset.shape[0]):\n",
    "    x = dataset.at[i,'admission_date']\n",
    "    y = dataset.at[i,'discharge_date']\n",
    "    if pd.isna(x) == False and pd.isna(y) == False:\n",
    "        z = y - x\n",
    "        dataset.at[i,\"duration_of_stay\"] = z.days"
   ]
  },
  {
   "cell_type": "code",
   "execution_count": 77,
   "metadata": {},
   "outputs": [],
   "source": [
    "dataset = dataset.drop(columns = ['LOAIXN','Note of time stay in hospital'])"
   ]
  },
  {
   "cell_type": "code",
   "execution_count": 78,
   "metadata": {},
   "outputs": [],
   "source": [
    "dataset = dataset.rename(columns = {'date of test':'test_date','date of result':'testresult_date'})\n",
    "to_datetime('test_date')\n",
    "to_datetime('testresult_date')"
   ]
  },
  {
   "cell_type": "code",
   "execution_count": 79,
   "metadata": {},
   "outputs": [],
   "source": [
    "dataset = dataset.rename(columns = {'HAI':'healthcare_associated_infection','RSV':'respiratory_syncytical_virus','ADENO':'adenovirus',\n",
    "'Pertussis':'pertussis','oxygen':'oxygen_cannula','cipap':'CPAP','ventilator':'conventional_mechanical_ventilation',\n",
    "'HFO ventilator':'hfo_ventilation','ECMOY:AL':'ECMO'})\n",
    "\n",
    "def YN_to_binary(column_name):\n",
    "    s = dataset[column_name].to_numpy(dtype='str')\n",
    "    for i in range(len(s)):\n",
    "        if s[i] == '' or s[i] == 'nan':\n",
    "            dataset.at[i,column_name] = 0\n",
    "            continue\n",
    "        ls = s[i].lower()\n",
    "        if ls == 'yes':\n",
    "            dataset.at[i,column_name] = 1\n",
    "        elif ls == 'no' or ls == 'na':\n",
    "            dataset.at[i,column_name] = 0\n",
    "\n",
    "YN_to_binary('oxygen_cannula')\n",
    "YN_to_binary('CPAP')\n",
    "YN_to_binary('pertussis')\n",
    "YN_to_binary('healthcare_associated_infection')\n",
    "YN_to_binary('respiratory_syncytical_virus')\n",
    "YN_to_binary('adenovirus')\n",
    "YN_to_binary('conventional_mechanical_ventilation')\n",
    "YN_to_binary('hfo_ventilation')\n",
    "YN_to_binary('ECMO')"
   ]
  },
  {
   "cell_type": "code",
   "execution_count": 80,
   "metadata": {},
   "outputs": [],
   "source": [
    "stat = dataset['Stage of discharge'].to_numpy(dtype = 'str')\n",
    "#print(np.unique(stat))\n",
    "res = dataset['result of discharge'].to_numpy(dtype = 'str')\n",
    "#print(np.unique(res))"
   ]
  },
  {
   "cell_type": "code",
   "execution_count": 81,
   "metadata": {},
   "outputs": [],
   "source": [
    "diseases = pd.DataFrame()\n",
    "def diseases_data(column_name):\n",
    "    s = dataset[column_name].to_numpy(dtype = 'int')\n",
    "    y = 0\n",
    "    n = 0\n",
    "    for i in s:\n",
    "        if i == 1:\n",
    "            y += 1\n",
    "        elif i == 0:\n",
    "            n += 1\n",
    "    #if y + n != len(s):\n",
    "    #    print('nan exists')\n",
    "    row = diseases.shape[1]\n",
    "    diseases.insert(row,column_name,[n,y])\n",
    "diseases_data('adenovirus')\n",
    "diseases_data('pertussis')\n",
    "diseases_data('healthcare_associated_infection')\n",
    "diseases_data('respiratory_syncytical_virus')"
   ]
  },
  {
   "cell_type": "code",
   "execution_count": 82,
   "metadata": {},
   "outputs": [],
   "source": [
    "from pathlib import Path  \n",
    "filepath = Path(os.path.join(DATA_PATH, 'diseases.csv'))\n",
    "filepath.parent.mkdir(parents=True, exist_ok=True)  \n",
    "diseases.to_csv(filepath, index = True)"
   ]
  },
  {
   "cell_type": "code",
   "execution_count": 83,
   "metadata": {},
   "outputs": [],
   "source": [
    "from datetime import date\n",
    "def datetime_to_date(column_name):\n",
    "    for i in range(dataset.shape[0]):\n",
    "        x = dataset.at[i,column_name]\n",
    "        y = pd.to_datetime(x)\n",
    "        z = y.date()\n",
    "        dataset.at[i,column_name] = z\n",
    "\n",
    "datetime_to_date('dob')\n",
    "datetime_to_date('admission_date')\n",
    "datetime_to_date('discharge_date')\n",
    "datetime_to_date('test_date')\n",
    "datetime_to_date('testresult_date')"
   ]
  },
  {
   "cell_type": "code",
   "execution_count": 84,
   "metadata": {},
   "outputs": [],
   "source": [
    "dataset = dataset.drop(columns = ['dialysis','Catheter','Onsetto out hospital','ghi chu nguon'])"
   ]
  },
  {
   "cell_type": "code",
   "execution_count": 85,
   "metadata": {},
   "outputs": [],
   "source": [
    "vacc = dataset['Vaccination'].to_numpy(dtype = 'str')\n",
    "unique_status = ['','0','1','1 (12/2/2018)','1 (12/22/2018)','2','3','99', '?a khoa qu?c t? H?i Phòng, ?i?u tr? ph?i','d<U+1EE7> mui',\n",
    "'kham bs lan anh','tiêm 15/9']\n",
    "convert_status = ['NA',0,1,1,1,2,3,'NA','?','?',2,'?','?']\n",
    "for i in range(len(vacc)):\n",
    "    x = vacc[i]"
   ]
  },
  {
   "cell_type": "code",
   "execution_count": 86,
   "metadata": {},
   "outputs": [],
   "source": [
    "dataset = dataset.rename(columns={'Code source': 'place_of_exposure'})\n",
    "\n",
    "dataset['place_of_exposure'] = dataset['place_of_exposure'].str.lower()\n",
    "\n",
    "for i in range(len(dataset['place_of_exposure'])):\n",
    "    code = dataset.at[i, 'place_of_exposure']\n",
    "    if code in ['suppected nch', 'definitely nch']:\n",
    "        dataset.at[i, 'place_of_exposure'] = 'NHP'\n",
    "    elif code in ['suppected other h', 'suppected  other h', 'definitely other h']:\n",
    "        dataset.at[i, 'place_of_exposure'] = 'Another hospital'\n",
    "    elif code in ['community']:\n",
    "        continue"
   ]
  },
  {
   "cell_type": "code",
   "execution_count": 87,
   "metadata": {},
   "outputs": [],
   "source": [
    "# Calculate number of patients in each place of exposure\n",
    "in_nhp, in_another_hospital, in_community = 0, 0, 0\n",
    "total = dataset.shape[0]\n",
    "\n",
    "for i in dataset['place_of_exposure']:\n",
    "    if i == 'NHP':\n",
    "        in_nhp += 1\n",
    "    elif i == 'Another hospital':\n",
    "        in_another_hospital += 1\n",
    "    elif i == 'community':\n",
    "        in_community += 1\n",
    "unknown = total - in_nhp - in_another_hospital - in_community\n",
    "poe = pd.DataFrame([[total, in_nhp, in_another_hospital, in_community, unknown]], columns=['Total', 'NHP', 'Another hospital', 'Community', 'Unknown'])"
   ]
  },
  {
   "cell_type": "code",
   "execution_count": 88,
   "metadata": {},
   "outputs": [],
   "source": [
    "from pathlib import Path  \n",
    "filepath = Path(os.path.join(DATA_PATH, 'place_of_exposure.csv'))\n",
    "filepath.parent.mkdir(parents=True, exist_ok=True)  \n",
    "poe.to_csv(filepath, index=True)"
   ]
  },
  {
   "cell_type": "code",
   "execution_count": 89,
   "metadata": {},
   "outputs": [],
   "source": [
    "dataset.insert(20,'complication-gastroentiritis',0)\n",
    "\n",
    "for i in range(dataset.shape[0]):\n",
    "    x = dataset.at[i,'complication']\n",
    "    if 'tieu chay' in x:\n",
    "        dataset.at[i,'complication-gastroentiritis'] = 1"
   ]
  },
  {
   "cell_type": "code",
   "execution_count": 90,
   "metadata": {},
   "outputs": [],
   "source": [
    "dataset.insert(21,'complication-middle-ear-infec',0)\n",
    "\n",
    "for i in range(dataset.shape[0]):\n",
    "    x = dataset.at[i,'complication']\n",
    "    y = dataset.at[i,'Dianogis out of hospital']\n",
    "    z = dataset.at[i,'Dianogis of test']\n",
    "    if 'viem tai' in x or 'viem tai' in y or 'viem tai' in z:\n",
    "        dataset.at[i,'complication-middle-ear-infec'] = 1"
   ]
  },
  {
   "cell_type": "code",
   "execution_count": 91,
   "metadata": {},
   "outputs": [],
   "source": [
    "dataset.insert(22,'complication-conjunctivitis',0)\n",
    "\n",
    "for i in range(dataset.shape[0]):\n",
    "    x = dataset.at[i,'complication']\n",
    "    y = dataset.at[i,'Dianogis out of hospital']\n",
    "    z = dataset.at[i,'Dianogis of test']\n",
    "    if 'ket mac' in x or 'ket mac' in y or 'ket mac' in z:\n",
    "        dataset.at[i,'complication-conjunctivitis'] = 1"
   ]
  },
  {
   "cell_type": "code",
   "execution_count": 92,
   "metadata": {},
   "outputs": [],
   "source": [
    "dataset.insert(23,'complication-laryngitis',0)\n",
    "\n",
    "for i in range(dataset.shape[0]):\n",
    "    x = dataset.at[i,'complication']\n",
    "    y = dataset.at[i,'Dianogis out of hospital']\n",
    "    z = dataset.at[i,'Dianogis of test']\n",
    "    t = dataset.at[i,'Dianogis of admission']  \n",
    "    if 'thanh quan' in x or 'thanh quan' in y or 'thanh quan' in z or 'thanh quan' in t:\n",
    "        dataset.at[i,'complication-laryngitis'] = 1"
   ]
  },
  {
   "cell_type": "code",
   "execution_count": 93,
   "metadata": {},
   "outputs": [],
   "source": [
    "dataset.insert(24,'complication-pneumonia-bronchitis',0)\n",
    "key_word = ['viem phoi', 'viem phe quan','phe quan']\n",
    "\n",
    "for i in range(dataset.shape[0]):\n",
    "    x = dataset.at[i,'complication']\n",
    "    y = dataset.at[i,'Dianogis out of hospital']\n",
    "    z = dataset.at[i,'Dianogis of test']\n",
    "    t = dataset.at[i,'Dianogis of admission']\n",
    "    for word in key_word:\n",
    "        if word in x or word in y or word in z or word in t:\n",
    "            dataset.at[i,'complication-pneumonia-bronchitis'] = 1  \n",
    "            break"
   ]
  },
  {
   "cell_type": "code",
   "execution_count": 94,
   "metadata": {},
   "outputs": [],
   "source": [
    "dataset.insert(25,'complication-febrile-seizures',0)\n",
    "\n",
    "for i in range(dataset.shape[0]):\n",
    "    x = dataset.at[i,'complication']\n",
    "    y = dataset.at[i,'Dianogis out of hospital']\n",
    "    z = dataset.at[i,'Dianogis of test']\n",
    "    t = dataset.at[i,'Dianogis of admission']\n",
    "    if 'dong kinh' in x or 'dong kinh' in y or 'dong kinh' in z or 'dong kinh' in t:\n",
    "        dataset.at[i,'complication-febrile-seizures'] = 1"
   ]
  },
  {
   "cell_type": "code",
   "execution_count": 95,
   "metadata": {},
   "outputs": [],
   "source": [
    "dataset.insert(26,'complication-septic-shock-sepsis',0)\n",
    "key_word = ['nhiem khuan huyet', 'soc nhiem khuan']\n",
    "\n",
    "for i in range(dataset.shape[0]):\n",
    "    x = dataset.at[i,'complication']\n",
    "    y = dataset.at[i,'Dianogis out of hospital']\n",
    "    z = dataset.at[i,'Dianogis of test']\n",
    "    t = dataset.at[i,'Dianogis of admission']\n",
    "    for word in key_word:\n",
    "        if word in x or word in y or word in z or word in t:\n",
    "            dataset.at[i,'complication-septic-shock-sepsis'] = 1"
   ]
  },
  {
   "cell_type": "code",
   "execution_count": 96,
   "metadata": {},
   "outputs": [],
   "source": [
    "dataset.insert(27,'co-infection-influenza-a',0)\n",
    "target_column = ['complication','Dianogis out of hospital','Dianogis of test','Dianogis of admission','Other disease']\n",
    "\n",
    "for i in range(dataset.shape[0]):\n",
    "    for j in target_column:\n",
    "        x = dataset.at[i,j].lower()\n",
    "        if 'cum a' in x:\n",
    "            dataset.at[i,'co-infection-influenza-a'] = 1\n",
    "            break"
   ]
  },
  {
   "cell_type": "code",
   "execution_count": 97,
   "metadata": {},
   "outputs": [],
   "source": [
    "dataset.insert(28,'co-infection-influenza-b',0)\n",
    "target_column = ['complication','Dianogis out of hospital','Dianogis of test','Dianogis of admission','Other disease']\n",
    "\n",
    "for i in range(dataset.shape[0]):\n",
    "    for j in target_column:\n",
    "        x = dataset.at[i,j].lower()\n",
    "        if 'cum b' in x:\n",
    "            dataset.at[i,'co-infection-influenza-a'] = 1\n",
    "            break"
   ]
  },
  {
   "cell_type": "code",
   "execution_count": 98,
   "metadata": {},
   "outputs": [],
   "source": [
    "dataset.insert(29,'co-infection-streptococus-aerius',0)\n",
    "target_column = ['complication','Dianogis out of hospital','Dianogis of test','Dianogis of admission','Other disease']\n",
    "\n",
    "for i in range(dataset.shape[0]):\n",
    "    for j in target_column:\n",
    "        x = dataset.at[i,j].lower()\n",
    "        if 'tu cau' in x:\n",
    "            dataset.at[i,'co-infection-streptococus-aerius'] = 1\n",
    "            break"
   ]
  },
  {
   "cell_type": "code",
   "execution_count": 99,
   "metadata": {},
   "outputs": [],
   "source": [
    "dataset.insert(30,'co-infection-streptococus-pneumonia',0)\n",
    "target_column = ['complication','Dianogis out of hospital','Dianogis of test','Dianogis of admission','Other disease']\n",
    "\n",
    "for i in range(dataset.shape[0]):\n",
    "    for j in target_column:\n",
    "        x = dataset.at[i,j].lower()\n",
    "        if 'phe cau' in x:\n",
    "            dataset.at[i,'co-infection-streptococus-pneumonia'] = 1\n",
    "            break"
   ]
  },
  {
   "cell_type": "code",
   "execution_count": 100,
   "metadata": {},
   "outputs": [],
   "source": [
    "for i in range(dataset.shape[0]):\n",
    "    vaccination_status = dataset.at[i, 'Vaccination']\n",
    "    if vaccination_status.isnumeric():\n",
    "            if int(vaccination_status) > 3:\n",
    "                dataset.at[i, 'Vaccination'] = 'NA'\n",
    "    else:\n",
    "        dataset.at[i, 'Vaccination'] = 'NA'"
   ]
  },
  {
   "cell_type": "code",
   "execution_count": 101,
   "metadata": {},
   "outputs": [],
   "source": [
    "month_at_admission = dataset['age_at_admission'].to_numpy() // 30\n",
    "max_month = np.max(month_at_admission)\n",
    "val,bin = np.histogram(month_at_admission, bins=np.arange(max_month+2))\n",
    "\n",
    "fig, ax = plt.subplots()\n",
    "\n",
    "# Set title, add labels\n",
    "ax.set_title(\"Histogram of age at admission\")\n",
    "ax.set_xlabel('Age (month)')\n",
    "ax.set_ylabel('Number of patients')\n",
    "\n",
    "# can add log = 'True' for better visualization\n",
    "ax.hist(month_at_admission,bins = np.arange(max_month+2),align='left',edgecolor='black',label='Age at admission')\n",
    "rects = ax.patches\n",
    "  \n",
    "for rect, label in zip(rects, val):\n",
    "    height = rect.get_height()\n",
    "    ax.text(rect.get_x() + rect.get_width() / 2, height+0.01, label, ha='center', va='bottom')\n",
    "\n",
    "# remove this line to see the box plot\n",
    "plt.close()"
   ]
  },
  {
   "cell_type": "code",
   "execution_count": 102,
   "metadata": {},
   "outputs": [],
   "source": [
    "def print_stats(array,array_name):\n",
    "    min = np.min(array)\n",
    "    max = np.max(array)\n",
    "    mean = np.mean(array)\n",
    "    median = np.median(array)\n",
    "    first_quartile = np.percentile(array, 25)\n",
    "    third_quartile = np.percentile(array, 75)\n",
    "\n",
    "    print(f'Min {array_name} = {min}')\n",
    "    print(f'Max {array_name} = {max}')\n",
    "    print(f'Mean {array_name} = {mean}')\n",
    "    print(f'Median {array_name} = {median}')\n",
    "    print(f'First quartile {array_name} = {first_quartile}')\n",
    "    print(f'Third quartile {array_name} = {third_quartile}')"
   ]
  },
  {
   "cell_type": "code",
   "execution_count": 103,
   "metadata": {},
   "outputs": [],
   "source": [
    "duration_of_stay = dataset['duration_of_stay'].to_numpy()\n",
    "\n",
    "# don't need box plots yet\n",
    "#plt.boxplot(duration_of_stay,showmeans=True,vert=False)\n",
    "#plt.show()\n",
    "\n",
    "# remove this comment to see the stats\n",
    "#print_stats(duration_of_stay,'duration of stay')\n",
    "\n",
    "duration_group = [0,3,8,15]\n",
    "occurance_of_duraion_group = [0] * 4\n",
    "\n",
    "for i in duration_of_stay:\n",
    "    for j in range(3,-1,-1):\n",
    "        if i >= duration_group[j]:\n",
    "            occurance_of_duraion_group[j] += 1\n",
    "            break\n",
    "\n",
    "stay_duration = pd.DataFrame([occurance_of_duraion_group], columns=['< 3','3 - 7','8 - 14','> 14'])"
   ]
  },
  {
   "cell_type": "code",
   "execution_count": 104,
   "metadata": {},
   "outputs": [],
   "source": [
    "filepath = Path(os.path.join(DATA_PATH, 'duration_of_stay.csv'))\n",
    "filepath.parent.mkdir(parents=True, exist_ok=True)\n",
    "stay_duration.to_csv(filepath, index=False)"
   ]
  },
  {
   "cell_type": "code",
   "execution_count": 105,
   "metadata": {},
   "outputs": [],
   "source": [
    "test_date_to_test_result = dataset['testresult_date'].to_numpy() - dataset['test_date'].to_numpy()\n",
    "for i in range(len(test_date_to_test_result)):\n",
    "    test_date_to_test_result[i] = test_date_to_test_result[i].days\n",
    "\n",
    "# remove this comment to see the stats\n",
    "#print_stats(test_date_to_test_result,'test duration')\n",
    "\n",
    "plt.boxplot(test_date_to_test_result,showmeans=True,vert=False)\n",
    "\n",
    "# remove this command to see the box plot\n",
    "plt.close()\n",
    "\n",
    "day_group = [0,1,2,3]\n",
    "occurance_of_day_group = [0] * 4\n",
    "\n",
    "for i in test_date_to_test_result:\n",
    "    for j in range(3,-1,-1):\n",
    "        if i >= day_group[j]:\n",
    "            occurance_of_day_group[j] += 1\n",
    "            break\n",
    "\n",
    "test_duration = pd.DataFrame([occurance_of_day_group], columns=['0','1','2','> 2'])"
   ]
  },
  {
   "cell_type": "code",
   "execution_count": 106,
   "metadata": {},
   "outputs": [],
   "source": [
    "filepath = Path(os.path.join(DATA_PATH, 'duration_of_test.csv'))\n",
    "filepath.parent.mkdir(parents=True, exist_ok=True)\n",
    "test_duration.to_csv(filepath, index=False)"
   ]
  },
  {
   "cell_type": "code",
   "execution_count": 107,
   "metadata": {},
   "outputs": [],
   "source": [
    "admission = dataset['admission_date'].to_numpy()\n",
    "admission_year = [x.year for x in admission]\n",
    "occurance_of_year = {}\n",
    "\n",
    "for i in admission_year:\n",
    "    if i not in occurance_of_year:\n",
    "        occurance_of_year[i] = 1\n",
    "    else:\n",
    "        occurance_of_year[i] += 1\n",
    "\n",
    "x = list(occurance_of_year.items())\n",
    "x.sort()\n",
    "occurance_value = [current_year[1] for current_year in x]\n",
    "year_occurance = pd.DataFrame([occurance_value],columns = ['2017','2018','2019'])\n",
    "\n",
    "week_occurance = {}\n",
    "for i in admission:\n",
    "    current_week = i.strftime(\"%V\")\n",
    "    current_year = i.year\n",
    "    current_time = str(current_year) + '-' + current_week\n",
    "    if current_time not in week_occurance:\n",
    "        week_occurance[current_time] = 1\n",
    "    else:\n",
    "        week_occurance[current_time] += 1\n",
    "\n",
    "dict_list = [(k, v) for k, v in week_occurance.items()]\n",
    "dict_list.sort()\n",
    "year_week = [current_week[0] for current_week in dict_list]\n",
    "week_occurance = [current_week[1] for current_week in dict_list]\n",
    "\n",
    "plt.figure(figsize=(20,11))\n",
    "plt.bar(year_week, week_occurance, color='g')\n",
    "plt.xticks(rotation=90)\n",
    "\n",
    "# comment this line to see the bar chart\n",
    "plt.close()\n",
    "\n",
    "plt.show()"
   ]
  },
  {
   "cell_type": "code",
   "execution_count": 108,
   "metadata": {},
   "outputs": [],
   "source": [
    "filepath = Path(os.path.join(DATA_PATH, 'yearly_patient.csv'))\n",
    "filepath.parent.mkdir(parents=True, exist_ok=True)\n",
    "year_occurance.to_csv(filepath, index=False)"
   ]
  },
  {
   "cell_type": "code",
   "execution_count": 109,
   "metadata": {},
   "outputs": [],
   "source": [
    "# add new columns to Dataframe diseases \n",
    "column_name = ['complication-gastroentiritis','complication-middle-ear-infec','complication-conjunctivitis','complication-laryngitis','complication-pneumonia-bronchitis',\n",
    "'complication-febrile-seizures','complication-septic-shock-sepsis','co-infection-influenza-a','co-infection-influenza-b','co-infection-streptococus-aerius',\n",
    "'co-infection-streptococus-pneumonia']\n",
    "\n",
    "total = dataset.shape[0]\n",
    "for col in column_name:\n",
    "    row = diseases.shape[1]\n",
    "    y = dataset[col].sum()\n",
    "    diseases.insert(row,col,[total-y,y])"
   ]
  },
  {
   "cell_type": "code",
   "execution_count": 127,
   "metadata": {},
   "outputs": [],
   "source": [
    "dataset.insert(39,'highest_ventilation_mode',0)\n",
    "\n",
    "order = ['oxygen_cannula','CPAP','conventional_mechanical_ventilation','hfo_ventilation','ECMO']\n",
    "patient_per_ventilation_mode = [0] * 5\n",
    "\n",
    "for i in range(len(dataset)):\n",
    "    for j in range(len(order)-1,-1,-1):\n",
    "        if dataset.loc[i,order[j]] == 1:\n",
    "            dataset.loc[i,'highest_ventilation_mode'] = order[j]\n",
    "            patient_per_ventilation_mode[j] += 1\n",
    "            break\n",
    "\n",
    "ventilation_mode = pd.DataFrame([patient_per_ventilation_mode],columns = order)"
   ]
  },
  {
   "cell_type": "code",
   "execution_count": 126,
   "metadata": {},
   "outputs": [],
   "source": [
    "filepath = Path(os.path.join(DATA_PATH, 'ventilation_mode.csv'))\n",
    "filepath.parent.mkdir(parents=True, exist_ok=True)\n",
    "ventilation_mode.to_csv(filepath, index=False)"
   ]
  },
  {
   "cell_type": "code",
   "execution_count": 110,
   "metadata": {},
   "outputs": [],
   "source": [
    "filepath = Path(OUT_DATA)\n",
    "filepath.parent.mkdir(parents=True, exist_ok=True)\n",
    "dataset.to_csv(filepath, index=False)"
   ]
  }
 ],
 "metadata": {
  "kernelspec": {
   "display_name": "Python 3.9.13 ('base')",
   "language": "python",
   "name": "python3"
  },
  "language_info": {
   "codemirror_mode": {
    "name": "ipython",
    "version": 3
   },
   "file_extension": ".py",
   "mimetype": "text/x-python",
   "name": "python",
   "nbconvert_exporter": "python",
   "pygments_lexer": "ipython3",
   "version": "3.9.13"
  },
  "orig_nbformat": 4,
  "vscode": {
   "interpreter": {
    "hash": "1136123777420b7e2900812efa01b3a53d6f6ac04342d5e9d253839a75f2e577"
   }
  }
 },
 "nbformat": 4,
 "nbformat_minor": 2
}
