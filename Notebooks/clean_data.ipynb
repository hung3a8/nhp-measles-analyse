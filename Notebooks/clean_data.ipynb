{
 "cells": [
  {
   "cell_type": "code",
   "execution_count": 1,
   "metadata": {},
   "outputs": [],
   "source": [
    "import pandas as pd\n",
    "import numpy as np\n",
    "import datetime\n",
    "import string\n",
    "import os\n",
    "from matplotlib import pyplot as plt\n",
    "from pathlib import Path"
   ]
  },
  {
   "cell_type": "code",
   "execution_count": 2,
   "metadata": {},
   "outputs": [],
   "source": [
    "DATA_PATH = '/Users/vuhoangnguyen/Research/'\n",
    "RAW_DATA = os.path.join(DATA_PATH, 'raw_data.csv')\n",
    "OUT_DATA = os.path.join(DATA_PATH, 'out.csv')"
   ]
  },
  {
   "cell_type": "code",
   "execution_count": 3,
   "metadata": {},
   "outputs": [],
   "source": [
    "dataset = pd.read_csv(RAW_DATA, keep_default_na=False)"
   ]
  },
  {
   "cell_type": "code",
   "execution_count": 4,
   "metadata": {},
   "outputs": [],
   "source": [
    "dataset = dataset.rename(columns={\"GIOI.x\": \"Female\"})\n",
    "s = dataset['Female'].to_numpy()\n",
    "\n",
    "for i in range(len(s)):\n",
    "    if s[i] == 'Nam' or s[i] == 'M':\n",
    "        dataset.at[i,'Female'] = 0\n",
    "    elif s[i] == 'Nu' or s[i] == 'F':\n",
    "        dataset.at[i,'Female'] = 1"
   ]
  },
  {
   "cell_type": "code",
   "execution_count": 5,
   "metadata": {},
   "outputs": [],
   "source": [
    "s = dataset['Female'].to_numpy()\n",
    "male = 0\n",
    "female = 0\n",
    "total = dataset.shape[0]\n",
    "for i in s:\n",
    "    if i == 0:\n",
    "        male += 1\n",
    "    elif i == 1:\n",
    "        female += 1\n",
    "unknown = total - male - female\n",
    "gender = pd.DataFrame([[total,male,female,unknown]], columns=['Total','Male','Female','Unknown'])"
   ]
  },
  {
   "cell_type": "code",
   "execution_count": 6,
   "metadata": {},
   "outputs": [],
   "source": [
    "filepath = Path(os.path.join(DATA_PATH, 'gender.csv'))\n",
    "filepath.parent.mkdir(parents=True, exist_ok=True)\n",
    "gender.to_csv(filepath, index=False)"
   ]
  },
  {
   "cell_type": "code",
   "execution_count": 7,
   "metadata": {},
   "outputs": [],
   "source": [
    "dataset = dataset.drop(columns=['STT', 'ID', 'Name', 'SODIENTHOAI', 'Fisrt of Department',\n",
    "                                'Department of out hospital', 'Department of test'])"
   ]
  },
  {
   "cell_type": "code",
   "execution_count": 8,
   "metadata": {},
   "outputs": [],
   "source": [
    "month_name = ['Jan', 'Feb', 'Mar', 'Apr',\n",
    "              'May', 'Jun', 'Jul', 'Aug',\n",
    "              'Sep', 'Oct', 'Nov', 'Dec']\n",
    "\n",
    "def to_datetime(column_name):\n",
    "    s = dataset[column_name].to_numpy(dtype = 'str')\n",
    "    for i in range(len(s)):\n",
    "        if s[i] == 'nan':\n",
    "            continue\n",
    "        if '-' in s[i]:\n",
    "            date = s[i].split(sep='-')\n",
    "        elif '/' in s[i]:\n",
    "            date = s[i].split(sep='/')\n",
    "        for j in range(len(month_name)):\n",
    "            if date[1] == month_name[j]:\n",
    "                date[1] = j+1\n",
    "        date = [int(x) for x in date]\n",
    "        if date[0] > 1000: # date[0] is year\n",
    "            x = datetime.date(date[0],date[1],date[2])\n",
    "        else:\n",
    "            if date[2] < 1000: # date[2] is year\n",
    "                date[2] += 2000\n",
    "            x = datetime.date(date[2],date[1],date[0])\n",
    "        dataset.at[i,column_name] = x\n",
    "\n",
    "dataset = dataset.rename(columns={\"NGAYSINH.x\":\"dob\"})\n",
    "to_datetime('dob')\n",
    "dataset = dataset.rename(columns={\"date of admission\":\"admission_date\"})\n",
    "to_datetime('admission_date')"
   ]
  },
  {
   "cell_type": "code",
   "execution_count": 9,
   "metadata": {},
   "outputs": [],
   "source": [
    "dataset = dataset.rename(columns={\"date of onset\":\"onset_date\"})\n",
    "onset_date_str = dataset['onset_date'].to_numpy(dtype = 'str')\n",
    "\n",
    "for i in range(len(onset_date_str)):\n",
    "    current_date = onset_date_str[i]\n",
    "    if current_date == 'nan':\n",
    "        continue\n",
    "    if '-' in current_date:\n",
    "        date = current_date.split(sep='-')\n",
    "    if '/' in current_date:\n",
    "        date = current_date.split(sep='/')\n",
    "    for j in range(len(month_name)):\n",
    "        if date[1] == month_name[j]:\n",
    "            date[1] = j+1\n",
    "    date = [int(x) for x in date]\n",
    "    if date[2] < 1000: # date[2] is year\n",
    "        date[2] += 2000\n",
    "    x = datetime.date(date[2],date[1],date[0])\n",
    "    dataset.at[i,'onset_date'] = x"
   ]
  },
  {
   "cell_type": "code",
   "execution_count": 10,
   "metadata": {},
   "outputs": [],
   "source": [
    "# correct row 1085 (21/7/209) to 21/7/2019\n",
    "\n",
    "for i in range(dataset.shape[0]):\n",
    "    d = dataset.at[i,'onset_date'].day\n",
    "    m = dataset.at[i,'onset_date'].month\n",
    "    y = dataset.at[i,'onset_date'].year\n",
    "    if y not in [2017,2018,2019,2014]:\n",
    "        dataset.at[i,'onset_date'] = datetime.date(2019, m, d)"
   ]
  },
  {
   "cell_type": "code",
   "execution_count": 11,
   "metadata": {},
   "outputs": [],
   "source": [
    "dataset.insert(7, \"age_at_admission\", 0)"
   ]
  },
  {
   "cell_type": "code",
   "execution_count": 12,
   "metadata": {},
   "outputs": [],
   "source": [
    "for i in range(dataset.shape[0]):\n",
    "    x = dataset.at[i,'dob']\n",
    "    y = dataset.at[i,'admission_date']\n",
    "    if pd.isna(dataset.at[i,'dob']) == False and pd.isna(dataset.at[i,'admission_date']) == False:\n",
    "        z = y - x\n",
    "        dataset.at[i,\"age_at_admission\"] = z.days // 30"
   ]
  },
  {
   "cell_type": "code",
   "execution_count": 13,
   "metadata": {},
   "outputs": [],
   "source": [
    "dataset = dataset.rename(columns={\"Distric\":\"district\"})\n",
    "dis = dataset['district'].to_numpy(dtype='str')\n",
    "\n",
    "wrong_dis = [\"Huyen V_ Quang\",\"ph_ c_\",\"Huyen Hi_p H\",\"Kim B_ng\",\"Huyen H__ng Kh?\",\"Nam Tr_c\",\"Th__ng Xu\",\"T__ng D__ng\",\"Huyen C_ Kuin\",\n",
    "\"B_m S_n\",\"Y?n Khnh\",\"Bnh Xuy?n\",\"Huyen Kim __ng\",\"Xun Tr__ng\",\"Tam D__ng\",\"Huyen Qu_nh L_u\",\"Thi Xa Thai Ho?a\",\"Thi Xa Thai Ho`a\",\n",
    "\"TP B_c Giang\",\"L__ng S_n\",\"Y?n L_c\",\"Ung B\",\"Huyen Nng C_ng\",\"Kim Thnh\",\"Huyen Di_n Ch\",\"T_ k_\",\"Gia Vi_n\",\"Giao Th_y\",\"TP. Thi Nguy?n\",\n",
    "\"L_p Th_ch\",\"L_c Nam\",\"Huyen T_ K_\",\"tp L_ng S_n\",\"tp. Ninh Bnh\",\"Vi_t Tr\",\"Huyen C_m Kh?\",\"Phc Thnh\",\"B_c Quang\",\"Huyen Thanh Ch__ng\",\n",
    "\"H_ H\",\"Huyen Bnh Giang\",\"Mai S_n\",\"Huyen Tam Nâ¢ng\",\"Th_y Nguy?n\",\"Tp Thi Bnh\",\"Ngh_a H_ng\",\"_inh H\",\"Thnh ph_ H_i D__ng\",\"TP. Ninh Bnh\",\n",
    "\"Ch Linh\",\"TP. Nam __nh\",\"TP.H_ng Y?n\",\"Kinh M_n\",\"Thanh Mi_n\",\"H_ng Nguy?n\",\"Nam Sch\",\"Huyen Ngh_a _\",\"H_u L_c\",\"Nam c__ng\",\"Quang S_n\",\n",
    "\"Phc Y?n\",\"Gia Bnh\",\"Huyen _ng H_ng\",\"Y?n M_\",\"ån Thi\",\"V_nh t__ng\",\"Huyen V_n L\",\"L_c H\",\"__ S_n\",\"H Phong\",\"__ng T\"]\n",
    "correction = [\"Huyen Vu Quang\",\"Phu Cu\",\"Huyen Hiep Hoa\",\"Kim Bang\",\"Huyen Huong Khe\",\"Nam Truc\",\"Thuong Xuan\",\"Tuong Duong\",\"Huyen Cu Kuin\",\n",
    "\"Bim Son\",\"Yen Khanh\",\"Binh Xuyen\",\"Huyen Kim Dong\",\"Xuan Truong\",\"Tam Duong\",\"Huyen Quynh Luu\",\"Thi Xa Thai Hoa\",\"Thi Xa Thai Hoa\",\n",
    "\"TP Bac Giang\",\"Luong Son\",\"Yen Lac\",\"Uong Bi\",\"Huyen Nong Cong\",\"Kim Thanh\",\"Huyen Dien Chau\",\"Tu ky\",\"Gia Vien\",\"Giao Thuy\",\"TP Thai Nguyen\",\n",
    "\"Lap Thach\",\"Luc Nam\",\"Huyen Tu Ky\",\"TP Lang Son\",\"TP Ninh Binh\",\"Viet Tri\",\"Huyen Cam Khe\",\"Phuc Thanh\",\"Bac Quang\",\"Huyen Thanh Chuong\",\n",
    "\"Ha Hoa\",\"Huyen Binh Giang\",\"Mai Son\",\"Huyen Tam Nong\",\"Thuy Nguyen\",\"TP Thai Binh\",\"Nghia Hung\",\"Dinh Hoa\",\"TP Hai Duong\",\"TP Ninh Binh\",\n",
    "\"Chi Linh\",\"TP Nam Dinh\",\"TP Hung Yen\",\"Kinh Mon\",\"Thanh Mien\",\"Hung Nguyen\",\"Nam Sach\",\"Huyen Nghia Dan\",\"Hau Loc\",\"Nam Cuong\",\"Quang Son\",\n",
    "\"Phuc Yen\",\"Gia Binh\",\"Huyen Dong Hung\",\"Yen My\",\"An Thi\",\"Vinh Tuong\",\"Huyen Van Lam\",\"Loc Ha\",\"Do Son\",\"Hong Phong\",\"Dong Tam\"]\n",
    "\n",
    "for i in range(len(dis)):\n",
    "    if dis[i] == 'nan':\n",
    "        dataset.at[i,'district'] = ''\n",
    "        continue\n",
    "    for j in range(len(wrong_dis)):\n",
    "        if dis[i] == wrong_dis[j]:\n",
    "            dis[i] = correction[j]\n",
    "            break\n",
    "    word_dis = dis[i].split(sep = ' ')\n",
    "    if word_dis[0] == 'Huy_n':\n",
    "        word_dis[0] = 'Huyen'\n",
    "    if word_dis[0] == 'TX':\n",
    "        word_dis[0] = 'Thi Xa'\n",
    "    new_dis = ' '.join(word_dis)\n",
    "    dataset.at[i,'district'] = new_dis"
   ]
  },
  {
   "cell_type": "code",
   "execution_count": 14,
   "metadata": {},
   "outputs": [],
   "source": [
    "dis = dataset['district'].to_numpy(dtype='str')\n",
    "\n",
    "for i in range(len(dis)):\n",
    "    if dis[i] == '':\n",
    "        continue\n",
    "    dis[i] = string.capwords(dis[i])\n",
    "    dataset.at[i,'district'] = dis[i]"
   ]
  },
  {
   "cell_type": "code",
   "execution_count": 15,
   "metadata": {},
   "outputs": [],
   "source": [
    "dataset = dataset.rename(columns={\"Province\": \"province\"})\n",
    "pro = dataset['province'].to_numpy(dtype='str')\n",
    "\n",
    "for i in range(len(dis)):\n",
    "    if pro[i] == 'nan':\n",
    "        continue\n",
    "    pro[i] = string.capwords(pro[i])\n",
    "    dataset.at[i,'province'] = pro[i]"
   ]
  },
  {
   "cell_type": "code",
   "execution_count": 16,
   "metadata": {},
   "outputs": [],
   "source": [
    "dataset = dataset.rename(columns={\"Community\": \"commune\"})\n",
    "comm = dataset['commune'].to_numpy(dtype='str')\n",
    "\n",
    "for i in range(len(comm)):\n",
    "    if comm[i] == 'nan':\n",
    "        continue\n",
    "    s = \"\"\n",
    "    for j in comm[i]:\n",
    "        if (j>='a' and j<='z') or (j>='A' and j<='Z') or j ==' ' or (j>='0' and j<='9'):\n",
    "            s += j\n",
    "    dataset.at[i,'commune'] = s"
   ]
  },
  {
   "cell_type": "code",
   "execution_count": 17,
   "metadata": {},
   "outputs": [],
   "source": [
    "comm = dataset['commune'].to_numpy(dtype='str')\n",
    "\n",
    "for i in range(len(comm)):\n",
    "    if comm[i] == '':\n",
    "        continue\n",
    "    comm[i] = string.capwords(comm[i])\n",
    "    dataset.at[i,'commune'] = comm[i]"
   ]
  },
  {
   "cell_type": "code",
   "execution_count": 18,
   "metadata": {},
   "outputs": [],
   "source": [
    "dataset.insert(5,\"complete_patient_address\",np.nan)"
   ]
  },
  {
   "cell_type": "code",
   "execution_count": 19,
   "metadata": {},
   "outputs": [],
   "source": [
    "for i in range(dataset.shape[0]):\n",
    "    commune_i = dataset.at[i,'commune']\n",
    "    district_i = dataset.at[i,'district']\n",
    "    province_i = dataset.at[i,'province']\n",
    "    address = []\n",
    "    if commune_i != '':\n",
    "        address.append(commune_i)\n",
    "    if district_i != '':\n",
    "        address.append(district_i)\n",
    "    if province_i != '':\n",
    "        address.append(province_i)\n",
    "    full_address = ', '.join(address)\n",
    "    dataset.at[i,'complete_patient_address'] = full_address"
   ]
  },
  {
   "cell_type": "code",
   "execution_count": 20,
   "metadata": {},
   "outputs": [],
   "source": [
    "dataset = dataset.rename(columns = {\"date of out hospital\":\"discharge_date\"})\n",
    "to_datetime('discharge_date')"
   ]
  },
  {
   "cell_type": "code",
   "execution_count": 21,
   "metadata": {},
   "outputs": [],
   "source": [
    "dataset.insert(10,'duration_of_stay',np.nan)"
   ]
  },
  {
   "cell_type": "code",
   "execution_count": 22,
   "metadata": {},
   "outputs": [],
   "source": [
    "for i in range(dataset.shape[0]):\n",
    "    x = dataset.at[i,'admission_date']\n",
    "    y = dataset.at[i,'discharge_date']\n",
    "    if pd.isna(x) == False and pd.isna(y) == False:\n",
    "        z = y - x\n",
    "        dataset.at[i,\"duration_of_stay\"] = z.days"
   ]
  },
  {
   "cell_type": "code",
   "execution_count": 23,
   "metadata": {},
   "outputs": [],
   "source": [
    "dataset = dataset.drop(columns = ['LOAIXN','Note of time stay in hospital'])"
   ]
  },
  {
   "cell_type": "code",
   "execution_count": 24,
   "metadata": {},
   "outputs": [],
   "source": [
    "dataset = dataset.rename(columns = {'date of test':'test_date','date of result':'testresult_date'})\n",
    "to_datetime('test_date')\n",
    "to_datetime('testresult_date')"
   ]
  },
  {
   "cell_type": "code",
   "execution_count": 25,
   "metadata": {},
   "outputs": [],
   "source": [
    "dataset = dataset.rename(columns = {'HAI':'healthcare_associated_infection','RSV':'respiratory_syncytical_virus','ADENO':'adenovirus',\n",
    "'Pertussis':'pertussis','oxygen':'oxygen_cannula','cipap':'CPAP','ventilator':'conventional_mechanical_ventilation',\n",
    "'HFO ventilator':'hfo_ventilation','ECMOY:AL':'ECMO'})\n",
    "\n",
    "def YN_to_binary(column_name):\n",
    "    s = dataset[column_name].to_numpy(dtype='str')\n",
    "    for i in range(len(s)):\n",
    "        if s[i] == '' or s[i] == 'nan':\n",
    "            dataset.at[i,column_name] = 0\n",
    "            continue\n",
    "        ls = s[i].lower()\n",
    "        if ls == 'yes':\n",
    "            dataset.at[i,column_name] = 1\n",
    "        elif ls == 'no' or ls == 'na':\n",
    "            dataset.at[i,column_name] = 0\n",
    "\n",
    "YN_to_binary('oxygen_cannula')\n",
    "YN_to_binary('CPAP')\n",
    "YN_to_binary('pertussis')\n",
    "YN_to_binary('healthcare_associated_infection')\n",
    "YN_to_binary('respiratory_syncytical_virus')\n",
    "YN_to_binary('adenovirus')\n",
    "YN_to_binary('conventional_mechanical_ventilation')\n",
    "YN_to_binary('hfo_ventilation')\n",
    "YN_to_binary('ECMO')"
   ]
  },
  {
   "cell_type": "code",
   "execution_count": 26,
   "metadata": {},
   "outputs": [],
   "source": [
    "diseases = pd.DataFrame()\n",
    "def diseases_data(column_name):\n",
    "    s = dataset[column_name].to_numpy(dtype = 'int')\n",
    "    y = 0\n",
    "    n = 0\n",
    "    for i in s:\n",
    "        if i == 1:\n",
    "            y += 1\n",
    "        elif i == 0:\n",
    "            n += 1\n",
    "    #if y + n != len(s):\n",
    "    #    print('nan exists')\n",
    "    row = diseases.shape[1]\n",
    "    diseases.insert(row,column_name,[n,y])\n",
    "diseases_data('adenovirus')\n",
    "diseases_data('pertussis')\n",
    "diseases_data('healthcare_associated_infection')\n",
    "diseases_data('respiratory_syncytical_virus')"
   ]
  },
  {
   "cell_type": "code",
   "execution_count": 27,
   "metadata": {},
   "outputs": [],
   "source": [
    "from pathlib import Path  \n",
    "filepath = Path(os.path.join(DATA_PATH, 'diseases.csv'))\n",
    "filepath.parent.mkdir(parents=True, exist_ok=True)  \n",
    "diseases.to_csv(filepath, index = True)"
   ]
  },
  {
   "cell_type": "code",
   "execution_count": 28,
   "metadata": {},
   "outputs": [],
   "source": [
    "from datetime import date\n",
    "def datetime_to_date(column_name):\n",
    "    for i in range(dataset.shape[0]):\n",
    "        x = dataset.at[i,column_name]\n",
    "        y = pd.to_datetime(x)\n",
    "        z = y.date()\n",
    "        dataset.at[i,column_name] = z\n",
    "\n",
    "datetime_to_date('dob')\n",
    "datetime_to_date('admission_date')\n",
    "datetime_to_date('discharge_date')\n",
    "datetime_to_date('test_date')\n",
    "datetime_to_date('testresult_date')"
   ]
  },
  {
   "cell_type": "code",
   "execution_count": 29,
   "metadata": {},
   "outputs": [],
   "source": [
    "dataset = dataset.drop(columns = ['dialysis','Catheter','Onsetto out hospital','ghi chu nguon'])"
   ]
  },
  {
   "cell_type": "code",
   "execution_count": 30,
   "metadata": {},
   "outputs": [],
   "source": [
    "dataset = dataset.rename(columns={'Code source': 'place_of_exposure'})\n",
    "\n",
    "dataset['place_of_exposure'] = dataset['place_of_exposure'].str.lower()\n",
    "\n",
    "for i in range(len(dataset['place_of_exposure'])):\n",
    "    code = dataset.at[i, 'place_of_exposure']\n",
    "    if code in ['suppected nch', 'definitely nch']:\n",
    "        dataset.at[i, 'place_of_exposure'] = 'NHP'\n",
    "    elif code in ['suppected other h', 'suppected  other h', 'definitely other h']:\n",
    "        dataset.at[i, 'place_of_exposure'] = 'Another hospital'\n",
    "    elif code in ['community']:\n",
    "        continue"
   ]
  },
  {
   "cell_type": "code",
   "execution_count": 31,
   "metadata": {},
   "outputs": [],
   "source": [
    "# Calculate number of patients in each place of exposure\n",
    "in_nhp, in_another_hospital, in_community = 0, 0, 0\n",
    "total = dataset.shape[0]\n",
    "\n",
    "for i in dataset['place_of_exposure']:\n",
    "    if i == 'NHP':\n",
    "        in_nhp += 1\n",
    "    elif i == 'Another hospital':\n",
    "        in_another_hospital += 1\n",
    "    elif i == 'community':\n",
    "        in_community += 1\n",
    "unknown = total - in_nhp - in_another_hospital - in_community\n",
    "poe = pd.DataFrame([[total, in_nhp, in_another_hospital, in_community, unknown]], columns=['Total', 'NHP', 'Another hospital', 'Community', 'Unknown'])"
   ]
  },
  {
   "cell_type": "code",
   "execution_count": 32,
   "metadata": {},
   "outputs": [],
   "source": [
    "from pathlib import Path  \n",
    "filepath = Path(os.path.join(DATA_PATH, 'place_of_exposure.csv'))\n",
    "filepath.parent.mkdir(parents=True, exist_ok=True)  \n",
    "poe.to_csv(filepath, index=True)"
   ]
  },
  {
   "cell_type": "code",
   "execution_count": 33,
   "metadata": {},
   "outputs": [],
   "source": [
    "dataset.insert(20,'complication-gastroentiritis',0)\n",
    "\n",
    "for i in range(dataset.shape[0]):\n",
    "    x = dataset.at[i,'complication']\n",
    "    if 'tieu chay' in x:\n",
    "        dataset.at[i,'complication-gastroentiritis'] = 1"
   ]
  },
  {
   "cell_type": "code",
   "execution_count": 34,
   "metadata": {},
   "outputs": [],
   "source": [
    "dataset.insert(21,'complication-middle-ear-infec',0)\n",
    "\n",
    "for i in range(dataset.shape[0]):\n",
    "    x = dataset.at[i,'complication']\n",
    "    y = dataset.at[i,'Dianogis out of hospital']\n",
    "    z = dataset.at[i,'Dianogis of test']\n",
    "    if 'viem tai' in x or 'viem tai' in y or 'viem tai' in z:\n",
    "        dataset.at[i,'complication-middle-ear-infec'] = 1"
   ]
  },
  {
   "cell_type": "code",
   "execution_count": 35,
   "metadata": {},
   "outputs": [],
   "source": [
    "dataset.insert(22,'complication-conjunctivitis',0)\n",
    "\n",
    "for i in range(dataset.shape[0]):\n",
    "    x = dataset.at[i,'complication']\n",
    "    y = dataset.at[i,'Dianogis out of hospital']\n",
    "    z = dataset.at[i,'Dianogis of test']\n",
    "    if 'ket mac' in x or 'ket mac' in y or 'ket mac' in z:\n",
    "        dataset.at[i,'complication-conjunctivitis'] = 1"
   ]
  },
  {
   "cell_type": "code",
   "execution_count": 36,
   "metadata": {},
   "outputs": [],
   "source": [
    "dataset.insert(23,'complication-laryngitis',0)\n",
    "\n",
    "for i in range(dataset.shape[0]):\n",
    "    x = dataset.at[i,'complication']\n",
    "    y = dataset.at[i,'Dianogis out of hospital']\n",
    "    z = dataset.at[i,'Dianogis of test']\n",
    "    t = dataset.at[i,'Dianogis of admission']  \n",
    "    if 'thanh quan' in x or 'thanh quan' in y or 'thanh quan' in z or 'thanh quan' in t:\n",
    "        dataset.at[i,'complication-laryngitis'] = 1"
   ]
  },
  {
   "cell_type": "code",
   "execution_count": 37,
   "metadata": {},
   "outputs": [],
   "source": [
    "dataset.insert(24,'complication-pneumonia-bronchitis',0)\n",
    "key_word = ['viem phoi', 'viem phe quan','phe quan']\n",
    "\n",
    "for i in range(dataset.shape[0]):\n",
    "    x = dataset.at[i,'complication']\n",
    "    y = dataset.at[i,'Dianogis out of hospital']\n",
    "    z = dataset.at[i,'Dianogis of test']\n",
    "    t = dataset.at[i,'Dianogis of admission']\n",
    "    for word in key_word:\n",
    "        if word in x or word in y or word in z or word in t:\n",
    "            dataset.at[i,'complication-pneumonia-bronchitis'] = 1  \n",
    "            break"
   ]
  },
  {
   "cell_type": "code",
   "execution_count": 38,
   "metadata": {},
   "outputs": [],
   "source": [
    "dataset.insert(25,'complication-febrile-seizures',0)\n",
    "\n",
    "for i in range(dataset.shape[0]):\n",
    "    x = dataset.at[i,'complication']\n",
    "    y = dataset.at[i,'Dianogis out of hospital']\n",
    "    z = dataset.at[i,'Dianogis of test']\n",
    "    t = dataset.at[i,'Dianogis of admission']\n",
    "    if 'dong kinh' in x or 'dong kinh' in y or 'dong kinh' in z or 'dong kinh' in t:\n",
    "        dataset.at[i,'complication-febrile-seizures'] = 1"
   ]
  },
  {
   "cell_type": "code",
   "execution_count": 39,
   "metadata": {},
   "outputs": [],
   "source": [
    "dataset.insert(26,'complication-septic-shock-sepsis',0)\n",
    "key_word = ['nhiem khuan huyet', 'soc nhiem khuan']\n",
    "\n",
    "for i in range(dataset.shape[0]):\n",
    "    x = dataset.at[i,'complication']\n",
    "    y = dataset.at[i,'Dianogis out of hospital']\n",
    "    z = dataset.at[i,'Dianogis of test']\n",
    "    t = dataset.at[i,'Dianogis of admission']\n",
    "    for word in key_word:\n",
    "        if word in x or word in y or word in z or word in t:\n",
    "            dataset.at[i,'complication-septic-shock-sepsis'] = 1"
   ]
  },
  {
   "cell_type": "code",
   "execution_count": 40,
   "metadata": {},
   "outputs": [],
   "source": [
    "dataset.insert(27,'co-infection-influenza-a',0)\n",
    "target_column = ['complication','Dianogis out of hospital','Dianogis of test','Dianogis of admission','Other disease']\n",
    "\n",
    "for i in range(dataset.shape[0]):\n",
    "    for j in target_column:\n",
    "        x = dataset.at[i,j].lower()\n",
    "        if 'cum a' in x:\n",
    "            dataset.at[i,'co-infection-influenza-a'] = 1\n",
    "            break"
   ]
  },
  {
   "cell_type": "code",
   "execution_count": 41,
   "metadata": {},
   "outputs": [],
   "source": [
    "dataset.insert(28,'co-infection-influenza-b',0)\n",
    "target_column = ['complication','Dianogis out of hospital','Dianogis of test','Dianogis of admission','Other disease']\n",
    "\n",
    "for i in range(dataset.shape[0]):\n",
    "    for j in target_column:\n",
    "        x = dataset.at[i,j].lower()\n",
    "        if 'cum b' in x:\n",
    "            dataset.at[i,'co-infection-influenza-a'] = 1\n",
    "            break"
   ]
  },
  {
   "cell_type": "code",
   "execution_count": 42,
   "metadata": {},
   "outputs": [],
   "source": [
    "dataset.insert(29,'co-infection-streptococus-aerius',0)\n",
    "target_column = ['complication','Dianogis out of hospital','Dianogis of test','Dianogis of admission','Other disease']\n",
    "\n",
    "for i in range(dataset.shape[0]):\n",
    "    for j in target_column:\n",
    "        x = dataset.at[i,j].lower()\n",
    "        if 'tu cau' in x:\n",
    "            dataset.at[i,'co-infection-streptococus-aerius'] = 1\n",
    "            break"
   ]
  },
  {
   "cell_type": "code",
   "execution_count": 43,
   "metadata": {},
   "outputs": [],
   "source": [
    "dataset.insert(30,'co-infection-streptococus-pneumonia',0)\n",
    "target_column = ['complication','Dianogis out of hospital','Dianogis of test','Dianogis of admission','Other disease']\n",
    "\n",
    "for i in range(dataset.shape[0]):\n",
    "    for j in target_column:\n",
    "        x = dataset.at[i,j].lower()\n",
    "        if 'phe cau' in x:\n",
    "            dataset.at[i,'co-infection-streptococus-pneumonia'] = 1\n",
    "            break"
   ]
  },
  {
   "cell_type": "code",
   "execution_count": 44,
   "metadata": {},
   "outputs": [],
   "source": [
    "special_vaccine_status = ['','1 (12/2/2018)','1 (12/22/2018)','99','?a khoa qu?c t? H?i Phòng, ?i?u tr? ph?i','NA',\n",
    "'d<U+1EE7> mui','kham bs lan anh','tiêm 15/9']\n",
    "vaccine_value = ['NA',1,1,'NA','NA','NA',2,'NA',1]\n",
    "vacc = dataset['Vaccination'].to_numpy(dtype=str)\n",
    "value_occurance = {}\n",
    "for i in range(dataset.shape[0]):\n",
    "    for j in range(len(special_vaccine_status)):\n",
    "        if vacc[i] == special_vaccine_status[j]:\n",
    "            vacc[i] = vaccine_value[j]\n",
    "            break\n",
    "    dataset.at[i,'Vaccination'] = vacc[i]\n",
    "    if vacc[i] in value_occurance:\n",
    "        value_occurance[vacc[i]] += 1\n",
    "    else:\n",
    "        value_occurance[vacc[i]] = 1\n",
    "\n",
    "item_list = sorted(list(value_occurance.items()))\n",
    "vaccine_occurance = pd.DataFrame(item_list,columns=['Vaccine status','Occurance'])\n",
    "\n",
    "filepath = Path(os.path.join(DATA_PATH, 'vaccine.csv'))\n",
    "filepath.parent.mkdir(parents=True, exist_ok=True)  \n",
    "vaccine_occurance.to_csv(filepath, index = True)\n",
    "\n",
    "# calculate vaccine status of patient > 9 months old\n",
    "value_occurance = {}\n",
    "for i in range(dataset.shape[0]):\n",
    "    if dataset.at[i,'age_at_admission'] >= 9:\n",
    "        if 'Total' in value_occurance:\n",
    "            value_occurance['Total'] += 1\n",
    "        else:\n",
    "            value_occurance[\"Total\"] = 1\n",
    "        if vacc[i] in value_occurance:\n",
    "            value_occurance[vacc[i]] += 1\n",
    "        else:\n",
    "            value_occurance[vacc[i]] = 1\n",
    "\n",
    "item_list = sorted(list(value_occurance.items()))\n",
    "vaccine_occurance = pd.DataFrame(item_list,columns=['Vaccine status','Occurance'])\n",
    "\n",
    "filepath = Path(os.path.join(DATA_PATH, 'vaccine status of patients more than 9 months old.csv'))\n",
    "filepath.parent.mkdir(parents=True, exist_ok=True)  \n",
    "vaccine_occurance.to_csv(filepath, index = True)"
   ]
  },
  {
   "cell_type": "code",
   "execution_count": 45,
   "metadata": {},
   "outputs": [],
   "source": [
    "month_at_admission = dataset['age_at_admission'].to_numpy() // 30\n",
    "max_month = np.max(month_at_admission)\n",
    "val,bin = np.histogram(month_at_admission, bins=np.arange(max_month+2))\n",
    "\n",
    "fig, ax = plt.subplots()\n",
    "\n",
    "# Set title, add labels\n",
    "ax.set_title(\"Histogram of age at admission\")\n",
    "ax.set_xlabel('Age (month)')\n",
    "ax.set_ylabel('Number of patients')\n",
    "\n",
    "# can add log = 'True' for better visualization\n",
    "ax.hist(month_at_admission,bins = np.arange(max_month+2),align='left',edgecolor='black',label='Age at admission')\n",
    "rects = ax.patches\n",
    "  \n",
    "for rect, label in zip(rects, val):\n",
    "    height = rect.get_height()\n",
    "    ax.text(rect.get_x() + rect.get_width() / 2, height+0.01, label, ha='center', va='bottom')\n",
    "\n",
    "# remove this line to see the box plot\n",
    "plt.close()"
   ]
  },
  {
   "cell_type": "code",
   "execution_count": 46,
   "metadata": {},
   "outputs": [],
   "source": [
    "def print_stats(array,array_name):\n",
    "    min = np.min(array)\n",
    "    max = np.max(array)\n",
    "    mean = np.mean(array)\n",
    "    median = np.median(array)\n",
    "    first_quartile = np.percentile(array, 25)\n",
    "    third_quartile = np.percentile(array, 75)\n",
    "\n",
    "    print(f'Min {array_name} = {min}')\n",
    "    print(f'Max {array_name} = {max}')\n",
    "    print(f'Mean {array_name} = {mean}')\n",
    "    print(f'Median {array_name} = {median}')\n",
    "    print(f'First quartile {array_name} = {first_quartile}')\n",
    "    print(f'Third quartile {array_name} = {third_quartile}')"
   ]
  },
  {
   "cell_type": "code",
   "execution_count": 47,
   "metadata": {},
   "outputs": [],
   "source": [
    "duration_of_stay = dataset['duration_of_stay'].to_numpy()\n",
    "\n",
    "# don't need box plots yet\n",
    "#plt.boxplot(duration_of_stay,showmeans=True,vert=False)\n",
    "#plt.show()\n",
    "\n",
    "# remove this comment to see the stats\n",
    "#print_stats(duration_of_stay,'duration of stay')\n",
    "\n",
    "duration_group = [0,3,8,15]\n",
    "occurance_of_duraion_group = [0] * 4\n",
    "\n",
    "for i in duration_of_stay:\n",
    "    for j in range(3,-1,-1):\n",
    "        if i >= duration_group[j]:\n",
    "            occurance_of_duraion_group[j] += 1\n",
    "            break\n",
    "\n",
    "stay_duration = pd.DataFrame([occurance_of_duraion_group], columns=['< 3','3 - 7','8 - 14','> 14'])"
   ]
  },
  {
   "cell_type": "code",
   "execution_count": 48,
   "metadata": {},
   "outputs": [],
   "source": [
    "filepath = Path(os.path.join(DATA_PATH, 'duration_of_stay.csv'))\n",
    "filepath.parent.mkdir(parents=True, exist_ok=True)\n",
    "stay_duration.to_csv(filepath, index=False)"
   ]
  },
  {
   "cell_type": "code",
   "execution_count": 49,
   "metadata": {},
   "outputs": [],
   "source": [
    "test_date_to_test_result = dataset['testresult_date'].to_numpy() - dataset['test_date'].to_numpy()\n",
    "for i in range(len(test_date_to_test_result)):\n",
    "    test_date_to_test_result[i] = test_date_to_test_result[i].days\n",
    "\n",
    "# remove this comment to see the stats\n",
    "#print_stats(test_date_to_test_result,'test duration')\n",
    "\n",
    "plt.boxplot(test_date_to_test_result,showmeans=True,vert=False)\n",
    "\n",
    "# remove this command to see the box plot\n",
    "plt.close()\n",
    "\n",
    "day_group = [0,1,2,3]\n",
    "occurance_of_day_group = [0] * 4\n",
    "\n",
    "for i in test_date_to_test_result:\n",
    "    for j in range(3,-1,-1):\n",
    "        if i >= day_group[j]:\n",
    "            occurance_of_day_group[j] += 1\n",
    "            break\n",
    "\n",
    "test_duration = pd.DataFrame([occurance_of_day_group], columns=['0','1','2','> 2'])"
   ]
  },
  {
   "cell_type": "code",
   "execution_count": 50,
   "metadata": {},
   "outputs": [],
   "source": [
    "filepath = Path(os.path.join(DATA_PATH, 'duration_of_test.csv'))\n",
    "filepath.parent.mkdir(parents=True, exist_ok=True)\n",
    "test_duration.to_csv(filepath, index=False)"
   ]
  },
  {
   "cell_type": "code",
   "execution_count": 51,
   "metadata": {},
   "outputs": [],
   "source": [
    "onset_date_to_admission_date = dataset['admission_date'].to_numpy() - dataset['onset_date'].to_numpy()\n",
    "for i in range(len(onset_date_to_admission_date)):\n",
    "    onset_date_to_admission_date[i] = onset_date_to_admission_date[i].days\n",
    "\n",
    "# remove this comment to see the stats\n",
    "#print_stats(onset_date_to_admission_date,'onset to admission')"
   ]
  },
  {
   "cell_type": "code",
   "execution_count": 52,
   "metadata": {},
   "outputs": [],
   "source": [
    "onset_date_to_test_date = dataset['test_date'].to_numpy() - dataset['onset_date'].to_numpy()\n",
    "for i in range(len(onset_date_to_test_date)):\n",
    "    onset_date_to_test_date[i] = onset_date_to_test_date[i].days\n",
    "\n",
    "# remove this comment to see the stats\n",
    "#print_stats(onset_date_to_test_date,'onset to test')"
   ]
  },
  {
   "cell_type": "code",
   "execution_count": 53,
   "metadata": {},
   "outputs": [],
   "source": [
    "admission = dataset['admission_date'].to_numpy()\n",
    "admission_year = [x.year for x in admission]\n",
    "occurance_of_year = {}\n",
    "\n",
    "for i in admission_year:\n",
    "    if i not in occurance_of_year:\n",
    "        occurance_of_year[i] = 1\n",
    "    else:\n",
    "        occurance_of_year[i] += 1\n",
    "\n",
    "x = list(occurance_of_year.items())\n",
    "x.sort()\n",
    "occurance_value = [current_year[1] for current_year in x]\n",
    "year_occurance = pd.DataFrame([occurance_value],columns = ['2017','2018','2019'])\n",
    "\n",
    "week_occurance = {}\n",
    "for i in admission:\n",
    "    current_week = i.strftime(\"%V\")\n",
    "    current_year = i.year\n",
    "    current_time = str(current_year) + '-' + current_week\n",
    "    if current_time not in week_occurance:\n",
    "        week_occurance[current_time] = 1\n",
    "    else:\n",
    "        week_occurance[current_time] += 1\n",
    "\n",
    "dict_list = [(k, v) for k, v in week_occurance.items()]\n",
    "dict_list.sort()\n",
    "year_week = [current_week[0] for current_week in dict_list]\n",
    "week_occurance = [current_week[1] for current_week in dict_list]\n",
    "\n",
    "plt.figure(figsize=(20,11))\n",
    "plt.bar(year_week, week_occurance, color='g')\n",
    "plt.xticks(rotation=90)\n",
    "\n",
    "# comment this line to see the bar chart\n",
    "plt.close()\n",
    "\n",
    "plt.show()"
   ]
  },
  {
   "cell_type": "code",
   "execution_count": 54,
   "metadata": {},
   "outputs": [],
   "source": [
    "filepath = Path(os.path.join(DATA_PATH, 'yearly_patient.csv'))\n",
    "filepath.parent.mkdir(parents=True, exist_ok=True)\n",
    "year_occurance.to_csv(filepath, index=False)"
   ]
  },
  {
   "cell_type": "code",
   "execution_count": 55,
   "metadata": {},
   "outputs": [],
   "source": [
    "# add new columns to Dataframe diseases \n",
    "column_name = ['complication-gastroentiritis','complication-middle-ear-infec','complication-conjunctivitis','complication-laryngitis','complication-pneumonia-bronchitis',\n",
    "'complication-febrile-seizures','complication-septic-shock-sepsis','co-infection-influenza-a','co-infection-influenza-b','co-infection-streptococus-aerius',\n",
    "'co-infection-streptococus-pneumonia']\n",
    "\n",
    "total = dataset.shape[0]\n",
    "for col in column_name:\n",
    "    row = diseases.shape[1]\n",
    "    y = dataset[col].sum()\n",
    "    diseases.insert(row,col,[total-y,y])"
   ]
  },
  {
   "cell_type": "code",
   "execution_count": 56,
   "metadata": {},
   "outputs": [],
   "source": [
    "dataset.insert(39,'highest_ventilation_mode',0)\n",
    "\n",
    "order = ['oxygen_cannula','CPAP','conventional_mechanical_ventilation','hfo_ventilation','ECMO']\n",
    "patient_per_ventilation_mode = [0] * 5\n",
    "\n",
    "for i in range(len(dataset)):\n",
    "    for j in range(len(order)-1,-1,-1):\n",
    "        if dataset.loc[i,order[j]] == 1:\n",
    "            dataset.loc[i,'highest_ventilation_mode'] = order[j]\n",
    "            patient_per_ventilation_mode[j] += 1\n",
    "            break\n",
    "\n",
    "ventilation_mode = pd.DataFrame([patient_per_ventilation_mode],columns = order)"
   ]
  },
  {
   "cell_type": "code",
   "execution_count": 57,
   "metadata": {},
   "outputs": [],
   "source": [
    "filepath = Path(os.path.join(DATA_PATH, 'ventilation_mode.csv'))\n",
    "filepath.parent.mkdir(parents=True, exist_ok=True)\n",
    "ventilation_mode.to_csv(filepath, index=False)"
   ]
  },
  {
   "cell_type": "code",
   "execution_count": 58,
   "metadata": {},
   "outputs": [],
   "source": [
    "import folium\n",
    "from folium import plugins\n",
    "\n",
    "m = folium.Map(location=[18.975670, 105.608640])\n",
    "# m"
   ]
  },
  {
   "cell_type": "code",
   "execution_count": 59,
   "metadata": {},
   "outputs": [],
   "source": [
    "stage_of_discharge_value = ['BN khong nhap vien','Bo ve','Chuyen vien','Ra vi<U+1EC7>n','Ra vien',\n",
    "'Tu vong','Xin ve','chua ra vien','do giam','do, giam ','khoi','tu vong']\n",
    "stage_of_discharge_new_value = ['khong nhap vien','bo ve','chuyen vien','ra vien','ra vien',\n",
    "'tu vong','xin ve','chua ra vien','giam','giam','khoi','tu vong']\n",
    "\n",
    "result_of_discharge_value = ['Chuyen  vien','Do/Giam','Khoi','Khong thay doi','Nang hon','Tu vong',\n",
    "'chua ra vien','do giam','do, giam ','khoi','tu vong','Ð<U+1EE1>/Gi<U+1EA3>m']\n",
    "result_of_discharge_new_value = ['chuyen vien','giam','khoi','khong thay doi','nang hon','tu vong',\n",
    "'chua ra vien','giam','giam','khoi','tu vong','giam']\n",
    "\n",
    "for i in range(len(dataset)):\n",
    "    for j in range(len(stage_of_discharge_value)):\n",
    "        if dataset.loc[i,'Stage of discharge'] == stage_of_discharge_value[j]:\n",
    "            dataset.loc[i,'Stage of discharge'] = stage_of_discharge_new_value[j]\n",
    "            break\n",
    "    for j in range(len(result_of_discharge_value)):\n",
    "        if dataset.loc[i,'result of discharge'] == result_of_discharge_value[j]:\n",
    "            dataset.loc[i,'result of discharge'] = result_of_discharge_new_value[j]\n",
    "            break\n",
    "\n",
    "#stage_and_result = dataset[['Stage of discharge','result of discharge']]\n",
    "#stage_and_result = stage_and_result.groupby(['Stage of discharge','result of discharge']).size().reset_index(name='counts')\n",
    "\n",
    "dataset.insert(14,'outcome_died',0)\n",
    "\n",
    "for i in range(len(dataset)):\n",
    "    if dataset.loc[i,'result of discharge'] == 'tu vong':\n",
    "        dataset.loc[i,'outcome_died'] = 1\n",
    "    if dataset.loc[i,'Stage of discharge'] == 'tu vong':\n",
    "        dataset.loc[i,'outcome_died'] = 1\n",
    "    if dataset.loc[i,'Stage of discharge'] == 'xin ve' and dataset.loc[i,'result of discharge'] == 'nang hon':\n",
    "        dataset.loc[i,'outcome_died'] = 1\n",
    "\n",
    "column_name = ['dead','discharge','alive at hospital']\n",
    "patient_result = [0] * 3\n",
    "discharge_stage = ['ra vien','chuyen vien','xin ve']\n",
    "\n",
    "for i in range(len(dataset)):\n",
    "    if dataset.loc[i,'outcome_died'] == 1:\n",
    "        patient_result[0] += 1\n",
    "    elif dataset.loc[i,'Stage of discharge'] in discharge_stage:\n",
    "        patient_result[1] += 1\n",
    "    else:\n",
    "        patient_result[2] += 1\n",
    "\n",
    "dataset = dataset.drop(columns=['result of discharge','Stage of discharge'])\n",
    "\n",
    "patient_result = pd.DataFrame([patient_result],columns = column_name)"
   ]
  },
  {
   "cell_type": "code",
   "execution_count": 60,
   "metadata": {},
   "outputs": [],
   "source": [
    "filepath = Path(os.path.join(DATA_PATH, 'patient_result.csv'))\n",
    "filepath.parent.mkdir(parents=True, exist_ok=True)\n",
    "patient_result.to_csv(filepath, index=False)"
   ]
  },
  {
   "cell_type": "code",
   "execution_count": 61,
   "metadata": {},
   "outputs": [],
   "source": [
    "UPDATE_DATA = os.path.join(DATA_PATH, 'Duplicate.csv')\n",
    "update_dataset = pd.read_csv(UPDATE_DATA, keep_default_na = True)\n",
    "dataset.insert(6,'patient_home_coordinate',update_dataset['patient_home_coordinate'])\n",
    "dataset.insert(7,'distance_to_nhp',update_dataset['distance_to_nhp'])"
   ]
  },
  {
   "cell_type": "code",
   "execution_count": 64,
   "metadata": {},
   "outputs": [],
   "source": [
    "patient_location = dataset[['patient_home_coordinate','distance_to_nhp']].copy()\n",
    "patient_location.insert(0,'index',range(0, len(patient_location)))\n",
    "filepath = Path(os.path.join(DATA_PATH, 'patient_location.csv'))\n",
    "filepath.parent.mkdir(parents=True, exist_ok=True)\n",
    "patient_location.to_csv(filepath, index=False)"
   ]
  },
  {
   "cell_type": "code",
   "execution_count": 63,
   "metadata": {},
   "outputs": [],
   "source": [
    "filepath = Path(OUT_DATA)\n",
    "filepath.parent.mkdir(parents=True, exist_ok=True)\n",
    "dataset.to_csv(filepath, index=False)"
   ]
  }
 ],
 "metadata": {
  "kernelspec": {
   "display_name": "Python 3.9.13 ('base')",
   "language": "python",
   "name": "python3"
  },
  "language_info": {
   "codemirror_mode": {
    "name": "ipython",
    "version": 3
   },
   "file_extension": ".py",
   "mimetype": "text/x-python",
   "name": "python",
   "nbconvert_exporter": "python",
   "pygments_lexer": "ipython3",
   "version": "3.9.13"
  },
  "orig_nbformat": 4,
  "vscode": {
   "interpreter": {
    "hash": "1136123777420b7e2900812efa01b3a53d6f6ac04342d5e9d253839a75f2e577"
   }
  }
 },
 "nbformat": 4,
 "nbformat_minor": 2
}
