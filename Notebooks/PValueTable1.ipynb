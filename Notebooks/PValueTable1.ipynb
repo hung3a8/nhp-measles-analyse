{
 "cells": [
  {
   "cell_type": "code",
   "execution_count": 4,
   "metadata": {},
   "outputs": [],
   "source": [
    "import numpy as np\n",
    "import pandas as pd\n",
    "from scipy.stats import chi2_contingency\n",
    "from scipy.stats import f_oneway\n",
    "from scipy.stats import ttest_ind\n",
    "\n",
    "dataset = pd.read_csv('out.csv', keep_default_na=False)"
   ]
  },
  {
   "cell_type": "code",
   "execution_count": 16,
   "metadata": {},
   "outputs": [
    {
     "name": "stdout",
     "output_type": "stream",
     "text": [
      "[[ 61   8  61]\n",
      " [382  67 171]\n",
      " [838 166 315]]\n",
      "6.692994327832307e-07\n"
     ]
    }
   ],
   "source": [
    "# Year of admission\n",
    "table = np.array([[61, 8, 61], [382, 67, 171], [838, 166, 315]])\n",
    "print(table)\n",
    "stat, pvalue, dof, expected_freq = chi2_contingency(table)\n",
    "print(pvalue)"
   ]
  },
  {
   "cell_type": "code",
   "execution_count": 17,
   "metadata": {},
   "outputs": [
    {
     "name": "stdout",
     "output_type": "stream",
     "text": [
      "[[787 161 348]\n",
      " [494  80 199]]\n",
      "0.2461350496254834\n"
     ]
    }
   ],
   "source": [
    "# Sex\n",
    "table = np.array([[787, 161, 348], [494, 80, 199]])\n",
    "print(table)\n",
    "stat, pvalue, dof, expected_freq = chi2_contingency(table)\n",
    "print(pvalue)"
   ]
  },
  {
   "cell_type": "code",
   "execution_count": 20,
   "metadata": {},
   "outputs": [
    {
     "data": {
      "text/plain": [
       "F_onewayResult(statistic=19.594341813242558, pvalue=3.715240652193271e-09)"
      ]
     },
     "execution_count": 20,
     "metadata": {},
     "output_type": "execute_result"
    }
   ],
   "source": [
    "# Age in months\n",
    "a = [[], [],[]]\n",
    "place = ['community','Another hospital','NHP']\n",
    "for i in range(len(dataset)):\n",
    "    x = dataset.at[i,'admission_date']\n",
    "    y = pd.to_datetime(x)\n",
    "    z = dataset.at[i,'dob']\n",
    "    t = pd.to_datetime(z)\n",
    "    decimal_month_at_admission = (y-t).days / 30\n",
    "    place_exposure = dataset.at[i,'place_of_exposure']\n",
    "    if place_exposure == '': continue\n",
    "    id =  place.index(place_exposure)\n",
    "    a[id].append(decimal_month_at_admission)\n",
    "\n",
    "f_oneway(a[0], a[1], a[2])"
   ]
  },
  {
   "cell_type": "code",
   "execution_count": 19,
   "metadata": {},
   "outputs": [
    {
     "name": "stdout",
     "output_type": "stream",
     "text": [
      "[[1074  222  509]\n",
      " [ 142   11   19]\n",
      " [  24    2    3]\n",
      " [   2    0    1]\n",
      " [  39    6   15]]\n",
      "1.3960795570253065e-06\n"
     ]
    }
   ],
   "source": [
    "# Vaccination status \n",
    "table = np.array([[1074,222,509],[142,11,19],[24,2,3],[2,0,1],[39,6,15]])\n",
    "print(table)\n",
    "stat, pvalue, dof, expected_freq = chi2_contingency(table)\n",
    "print(pvalue)"
   ]
  },
  {
   "cell_type": "code",
   "execution_count": 20,
   "metadata": {},
   "outputs": [
    {
     "name": "stdout",
     "output_type": "stream",
     "text": [
      "[[503  67 144]\n",
      " [117  29  61]\n",
      " [ 63   9  28]\n",
      " [424  81 214]\n",
      " [169  54  98]\n",
      " [  5   1   2]]\n",
      "3.992796106388303e-06\n"
     ]
    }
   ],
   "source": [
    "# Region of residence\n",
    "table = np.array([[503,67,144], [117,29,61], [63,9,28], [424,81,214], [169,54,98],[5,1,2]])\n",
    "print(table)\n",
    "stat, pvalue, dof, expected_freq = chi2_contingency(table)\n",
    "print(pvalue)"
   ]
  },
  {
   "cell_type": "code",
   "execution_count": 21,
   "metadata": {},
   "outputs": [
    {
     "name": "stdout",
     "output_type": "stream",
     "text": [
      "[[1272  232  535]\n",
      " [   9    9   12]]\n",
      "0.00034788832737828163\n"
     ]
    }
   ],
   "source": [
    "# Clinical outcome \n",
    "table = np.array([[1272,232,535],[9,9,12]])\n",
    "print(table)\n",
    "stat, pvalue, dof, expected_freq = chi2_contingency(table)\n",
    "print(pvalue)"
   ]
  },
  {
   "cell_type": "code",
   "execution_count": 22,
   "metadata": {},
   "outputs": [
    {
     "name": "stdout",
     "output_type": "stream",
     "text": [
      "[[  16    3   23]\n",
      " [  37    7   28]\n",
      " [  42    2   50]\n",
      " [  11    2   33]\n",
      " [   4    1    7]\n",
      " [  22    5   46]\n",
      " [   9    1    4]\n",
      " [1092  206  285]\n",
      " [  55   14   90]]\n",
      "3.830949106314939e-53\n"
     ]
    }
   ],
   "source": [
    "# Underlying conditions \n",
    "table = np.array([[16,3,23], [37,7,28],[42,2,50],[11,2,33],[4,1,7],[22,5,46],[9,1,4],[1092,206,285],[55,14,90]])\n",
    "print(table)\n",
    "stat, pvalue, dof, expected_freq = chi2_contingency(table)\n",
    "print(pvalue)"
   ]
  },
  {
   "cell_type": "code",
   "execution_count": 23,
   "metadata": {},
   "outputs": [
    {
     "name": "stdout",
     "output_type": "stream",
     "text": [
      "[[[335  93 256]\n",
      "  [  2   1   5]\n",
      "  [ 46  32  66]\n",
      "  [  1   5   5]\n",
      "  [  1   0   0]]]\n",
      "0.00039757778334743095\n"
     ]
    }
   ],
   "source": [
    "# Maximal form of respiratory support used \n",
    "table = np.array([[[335,93,256],[2,1,5],[46,32,66],[1,5,5],[1,0,0]]])\n",
    "print(table)\n",
    "stat, pvalue, dof, expected_freq = chi2_contingency(table)\n",
    "print(pvalue)"
   ]
  },
  {
   "cell_type": "code",
   "execution_count": 24,
   "metadata": {},
   "outputs": [
    {
     "name": "stdout",
     "output_type": "stream",
     "text": [
      "[[[ 34   4  12]\n",
      "  [ 19   3   8]\n",
      "  [  2   0   0]\n",
      "  [  5   0   2]\n",
      "  [823 196 393]\n",
      "  [  2   1   7]\n",
      "  [  4   0   0]]]\n",
      "0.14563525626399523\n"
     ]
    }
   ],
   "source": [
    "# Complications \n",
    "table = np.array([[[34,4,12],[19,3,8],[2,0,0],[5,0,2],[823,196,393],[2,1,7],[4,0,0]]])\n",
    "print(table)\n",
    "stat, pvalue, dof, expected_freq = chi2_contingency(table)\n",
    "print(pvalue)"
   ]
  },
  {
   "cell_type": "code",
   "execution_count": 25,
   "metadata": {},
   "outputs": [
    {
     "name": "stdout",
     "output_type": "stream",
     "text": [
      "[[[10  1  5]\n",
      "  [ 2  0  2]\n",
      "  [ 1  0  2]\n",
      "  [ 0  1  1]]]\n",
      "0.2685603500299233\n"
     ]
    }
   ],
   "source": [
    "# Co-infections \n",
    "table = np.array([[[10,1,5],[2,0,2],[1,0,2],[0,1,1]]])\n",
    "print(table)\n",
    "stat, pvalue, dof, expected_freq = chi2_contingency(table)\n",
    "print(pvalue)"
   ]
  },
  {
   "cell_type": "code",
   "execution_count": 26,
   "metadata": {},
   "outputs": [
    {
     "name": "stdout",
     "output_type": "stream",
     "text": [
      "[[[ 9  1 20]\n",
      "  [37 19 38]\n",
      "  [ 5  3  9]\n",
      "  [ 1  4 13]]]\n",
      "0.022038927613224197\n"
     ]
    }
   ],
   "source": [
    "# Healthcare-associated infection\n",
    "table = np.array([[[9,1,20],[37,19,38],[5,3,9],[1,4,13]]])\n",
    "print(table)\n",
    "stat, pvalue, dof, expected_freq = chi2_contingency(table)\n",
    "print(pvalue)"
   ]
  },
  {
   "cell_type": "code",
   "execution_count": 27,
   "metadata": {},
   "outputs": [
    {
     "name": "stdout",
     "output_type": "stream",
     "text": [
      "[[[385 131 332]\n",
      "  [896 110 215]]]\n",
      "2.0627038367635563e-37\n"
     ]
    }
   ],
   "source": [
    "# Clinical classification\n",
    "table = np.array([[[385,131,332],[896,110,215]]])\n",
    "print(table)\n",
    "stat, pvalue, dof, expected_freq = chi2_contingency(table)\n",
    "print(pvalue)"
   ]
  },
  {
   "cell_type": "code",
   "execution_count": 46,
   "metadata": {},
   "outputs": [
    {
     "name": "stdout",
     "output_type": "stream",
     "text": [
      "[[612  85 150]\n",
      " [374 109 178]\n",
      " [440 100 209]\n",
      " [185  35 169]]\n",
      "1.2832922667767798e-22\n"
     ]
    }
   ],
   "source": [
    "# Diagnosis upon admission \n",
    "table = np.array([[612,85,150],[374,109,178],[440,100,209],[185,35,169]])\n",
    "print(table)\n",
    "stat, pvalue, dof, expected_freq = chi2_contingency(table)\n",
    "print(pvalue)"
   ]
  },
  {
   "cell_type": "code",
   "execution_count": 41,
   "metadata": {},
   "outputs": [
    {
     "data": {
      "text/plain": [
       "F_onewayResult(statistic=1.8494929739545392, pvalue=0.19611462986765033)"
      ]
     },
     "execution_count": 41,
     "metadata": {},
     "output_type": "execute_result"
    }
   ],
   "source": [
    "# Duration between onset and admission \n",
    "table = np.array([[261,52,296], [652,107,156], [303,64,85], [29,10,8], [36,8,2]])\n",
    "f_oneway(table[0], table[1], table[2], table[3], table[4])"
   ]
  },
  {
   "cell_type": "code",
   "execution_count": 43,
   "metadata": {},
   "outputs": [
    {
     "data": {
      "text/plain": [
       "F_onewayResult(statistic=3.0424810076570608, pvalue=0.09253932687496695)"
      ]
     },
     "execution_count": 43,
     "metadata": {},
     "output_type": "execute_result"
    }
   ],
   "source": [
    "# Distance from the hospital\n",
    "table = np.array([[347,45,76],[764,143,375],[164,51,90],[6,2,6]])\n",
    "f_oneway(table[0], table[1], table[2], table[3])"
   ]
  },
  {
   "cell_type": "code",
   "execution_count": 44,
   "metadata": {},
   "outputs": [
    {
     "data": {
      "text/plain": [
       "F_onewayResult(statistic=0.7348695702906481, pvalue=0.518247772858704)"
      ]
     },
     "execution_count": 44,
     "metadata": {},
     "output_type": "execute_result"
    }
   ],
   "source": [
    "# Duration of stay within the hospital \n",
    "table = np.array([[817,78,146],[404,125,209],[60,38,192]])\n",
    "f_oneway(table[0], table[1], table[2])"
   ]
  },
  {
   "cell_type": "code",
   "execution_count": 45,
   "metadata": {},
   "outputs": [
    {
     "data": {
      "text/plain": [
       "F_onewayResult(statistic=2.0722970755681738, pvalue=0.18236102913006402)"
      ]
     },
     "execution_count": 45,
     "metadata": {},
     "output_type": "execute_result"
    }
   ],
   "source": [
    "# Duration between onset and test\n",
    "table = np.array([[14,3,5],[315,45,193],[264,47,127],[688,146,222]])\n",
    "f_oneway(table[0], table[1], table[2], table[3])"
   ]
  }
 ],
 "metadata": {
  "kernelspec": {
   "display_name": "Python 3.11.0 64-bit",
   "language": "python",
   "name": "python3"
  },
  "language_info": {
   "codemirror_mode": {
    "name": "ipython",
    "version": 3
   },
   "file_extension": ".py",
   "mimetype": "text/x-python",
   "name": "python",
   "nbconvert_exporter": "python",
   "pygments_lexer": "ipython3",
   "version": "3.11.0"
  },
  "orig_nbformat": 4,
  "vscode": {
   "interpreter": {
    "hash": "aee8b7b246df8f9039afb4144a1f6fd8d2ca17a180786b69acc140d282b71a49"
   }
  }
 },
 "nbformat": 4,
 "nbformat_minor": 2
}
