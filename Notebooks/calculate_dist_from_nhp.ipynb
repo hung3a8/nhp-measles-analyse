{
 "cells": [
  {
   "cell_type": "markdown",
   "metadata": {},
   "source": [
    "# Calculate distance from NHP\n",
    "\n",
    "This notebook helps calculate the distance from a patient's residental area to National Hospital of Pediatrics, Hanoi, Vietnam, using `Azure Maps Route` and `Geopy` libraries."
   ]
  },
  {
   "cell_type": "code",
   "execution_count": 1,
   "metadata": {},
   "outputs": [],
   "source": [
    "# Import necessary libraries\n",
    "from azure.maps.route import MapsRouteClient\n",
    "from azure.core.credentials import AzureKeyCredential\n",
    "from azure.maps.route.models import LatLon\n",
    "from geopy.geocoders import AzureMaps\n",
    "from pprint import pprint\n",
    "import pandas as pd"
   ]
  },
  {
   "cell_type": "code",
   "execution_count": null,
   "metadata": {},
   "outputs": [],
   "source": [
    "# Create map and route clients\n",
    "credential = AzureKeyCredential('AZURE_MAPS_KEY')\n",
    "geolocation_client = AzureMaps(credential.key)\n",
    "route_client = MapsRouteClient(credential=credential)"
   ]
  },
  {
   "cell_type": "code",
   "execution_count": null,
   "metadata": {},
   "outputs": [],
   "source": [
    "# Set default location for NHP to prevent miscalculation\n",
    "NHP_coordinates = LatLon(21.026047, 105.810077)\n",
    "print('NHP coordinates:', geolocation_client.reverse(\"%f, %f\" % (NHP_coordinates.lat, NHP_coordinates.lon)))"
   ]
  },
  {
   "cell_type": "code",
   "execution_count": null,
   "metadata": {},
   "outputs": [],
   "source": [
    "# Get data from a csv file using pandas\n",
    "csv_df = pd.read_csv('../test.csv')\n",
    "addrs = list(map(geolocation_client.geocode, csv_df['complete_patient_address']))"
   ]
  },
  {
   "cell_type": "code",
   "execution_count": null,
   "metadata": {},
   "outputs": [],
   "source": [
    "# Get distance from NHP to each address using Azure Maps Route API\n",
    "def get_distance(addr):\n",
    "    route = route_client.get_route_directions(route_points=[\n",
    "        LatLon(addr.latitude, addr.longitude),\n",
    "        NHP_coordinates\n",
    "    ])\n",
    "    return route.as_dict()['routes'][0]['summary']"
   ]
  },
  {
   "cell_type": "code",
   "execution_count": null,
   "metadata": {},
   "outputs": [],
   "source": [
    "distances = []\n",
    "\n",
    "for addr in addrs:\n",
    "    dist = get_distance(addr)\n",
    "    distances.append(dist)\n",
    "\n",
    "    # print('Distance between %s (%f,%f) and NHP(%f,%f): %skm in %s'\n",
    "    #       % (addr, addr.latitude, addr.longitude, NHP_coordinates.lat, NHP_coordinates.lon,\n",
    "    #          dist['length_in_meters'] / 1000, str(timedelta(seconds=dist['travel_time_in_seconds']))))\n",
    "    \n",
    "print(\"Finish calculating distances\")"
   ]
  },
  {
   "cell_type": "code",
   "execution_count": null,
   "metadata": {},
   "outputs": [],
   "source": [
    "# Remove old column\n",
    "if 'patient_home_coordinate' in csv_df.keys():\n",
    "    csv_df.drop('patient_home_coordinate', axis=1, inplace=True)\n",
    "csv_df.insert(0, 'patient_home_coordinate', list(map(lambda addr: \"%f,%f\" % (addr.latitude, addr.longitude), addrs)))\n",
    "\n",
    "# Remove old column\n",
    "if 'distance_to_nhp' in csv_df.keys():\n",
    "    csv_df.drop('distance_to_nhp', axis=1, inplace=True)\n",
    "csv_df.insert(0, 'distance_to_nhp', list(map(lambda d: d['length_in_meters'] / 1000, distances)))"
   ]
  },
  {
   "cell_type": "code",
   "execution_count": null,
   "metadata": {},
   "outputs": [],
   "source": [
    "# Export to csv file\n",
    "csv_df.to_csv('../export.csv', index=False)"
   ]
  },
  {
   "cell_type": "markdown",
   "metadata": {},
   "source": [
    "# Histogram"
   ]
  },
  {
   "cell_type": "code",
   "execution_count": null,
   "metadata": {},
   "outputs": [],
   "source": [
    "import matplotlib.pyplot as plt"
   ]
  }
 ],
 "metadata": {
  "kernelspec": {
   "display_name": "Python 3.11.0 64-bit",
   "language": "python",
   "name": "python3"
  },
  "language_info": {
   "codemirror_mode": {
    "name": "ipython",
    "version": 3
   },
   "file_extension": ".py",
   "mimetype": "text/x-python",
   "name": "python",
   "nbconvert_exporter": "python",
   "pygments_lexer": "ipython3",
   "version": "3.11.0"
  },
  "vscode": {
   "interpreter": {
    "hash": "aee8b7b246df8f9039afb4144a1f6fd8d2ca17a180786b69acc140d282b71a49"
   }
  }
 },
 "nbformat": 4,
 "nbformat_minor": 2
}
