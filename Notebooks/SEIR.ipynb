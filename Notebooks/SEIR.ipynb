{
 "cells": [
  {
   "attachments": {},
   "cell_type": "markdown",
   "metadata": {},
   "source": [
    "## SIR model (N = 200, I = 1)"
   ]
  },
  {
   "cell_type": "code",
   "execution_count": null,
   "metadata": {},
   "outputs": [],
   "source": [
    "import pandas as pd\n",
    "import numpy as np\n",
    "import matplotlib.pyplot as plt"
   ]
  },
  {
   "cell_type": "code",
   "execution_count": null,
   "metadata": {},
   "outputs": [],
   "source": [
    "# Initial conditions\n",
    "S_initial = 199\n",
    "I_initial = 1\n",
    "R_initial = 0\n",
    "N = S_initial + I_initial + R_initial\n",
    "\n",
    "# non-dimensionalize the initial conditions\n",
    "s_initial = S_initial / N\n",
    "i_initial = I_initial / N\n",
    "r_initial = R_initial / N\n",
    "\n",
    "# Parameters\n",
    "p = 0.48\n",
    "q = 10\n",
    "V = 7200\n",
    "A = 3\n",
    "alpha = 1 / 24\n",
    "gamma = 0.5 / 24\n",
    "\n",
    "beta = (p * q) / (V * A)  # Removal rate\n",
    "\n",
    "R0 = beta * (N / gamma)  # Reproductive ratio\n",
    "print(R0)"
   ]
  },
  {
   "cell_type": "code",
   "execution_count": null,
   "metadata": {},
   "outputs": [],
   "source": [
    "# SIR model differential equations.\n",
    "def deriv(x, t, beta, gamma):\n",
    "    s, i, r = x\n",
    "    dsdt = -beta * s * i\n",
    "    didt = beta * s * i - gamma * i\n",
    "    drdt = gamma * i\n",
    "    return [dsdt, didt, drdt]"
   ]
  },
  {
   "cell_type": "code",
   "execution_count": null,
   "metadata": {},
   "outputs": [],
   "source": [
    "from scipy.integrate import solve_ivp, odeint\n",
    "\n",
    "t = np.linspace(0, 40 * 24, 2000) # Grid of time points (in days)\n",
    "print(t)\n",
    "x_initial = s_initial, i_initial, r_initial\n",
    "X_initial = S_initial, I_initial, R_initial\n",
    "soln = odeint(deriv, t=t, y0=x_initial, args=(beta, gamma))\n",
    "SOLN = odeint(deriv, t=t, y0=X_initial, args=(beta, gamma))\n",
    "s, i, r = soln.T\n",
    "S, I, R = SOLN.T\n",
    "e = None\n",
    "print(t)"
   ]
  },
  {
   "cell_type": "code",
   "execution_count": null,
   "metadata": {},
   "outputs": [],
   "source": [
    "def plotdata(t, s, i, r, e=None):\n",
    "    fig = plt.figure(figsize=(12, 6))\n",
    "    ax = fig.add_subplot()\n",
    "    ax.plot(t, s, lw=3, label='Fraction Succeptible')\n",
    "    ax.plot(t, i, lw=3, label='Fraction Infected')\n",
    "    if e is not None:\n",
    "        ax.plot(t, e, lw=3, label='Fraction Exposed')\n",
    "    ax.plot(t, r, lw=3, label='Fraction Recovered')\n",
    "    ax.legend()\n",
    "\n",
    "plotdata(t, S, I, R, e)"
   ]
  },
  {
   "attachments": {},
   "cell_type": "markdown",
   "metadata": {},
   "source": [
    "## SEIR model (N = 200)"
   ]
  },
  {
   "cell_type": "code",
   "execution_count": null,
   "metadata": {},
   "outputs": [],
   "source": [
    "# Initial conditions\n",
    "E_initial = 0\n",
    "\n",
    "# non-dimensionalize the initial conditions\n",
    "e_initial = E_initial / N"
   ]
  },
  {
   "cell_type": "code",
   "execution_count": null,
   "metadata": {},
   "outputs": [],
   "source": [
    "def deriv2(x, t, beta, gamma):\n",
    "    s, e, i, r = x\n",
    "    dsdt = -beta * s * i\n",
    "    dedt = beta * s * i - alpha * e\n",
    "    didt = alpha * e - gamma * i\n",
    "    drdt = gamma * i\n",
    "    return [dsdt, dedt, didt, drdt]"
   ]
  },
  {
   "cell_type": "code",
   "execution_count": null,
   "metadata": {},
   "outputs": [],
   "source": [
    "from scipy.integrate import solve_ivp, odeint\n",
    "\n",
    "t = np.linspace(0, 40 * 24, 2000) # Grid of time points (in days)\n",
    "x_initial = s_initial, e_initial, i_initial, r_initial\n",
    "X_initial = S_initial, E_initial, I_initial, R_initial\n",
    "soln = odeint(deriv2, t=t, y0=x_initial, args=(beta, gamma))\n",
    "SOLN = odeint(deriv2, t=t, y0=X_initial, args=(beta, gamma))\n",
    "s, e, i, r = soln.T\n",
    "S, E, I, R = SOLN.T\n",
    "e = None"
   ]
  },
  {
   "cell_type": "code",
   "execution_count": null,
   "metadata": {},
   "outputs": [],
   "source": [
    "plotdata(t, S, I, R, E)"
   ]
  }
 ],
 "metadata": {
  "kernelspec": {
   "display_name": "measles-model",
   "language": "python",
   "name": "python3"
  },
  "language_info": {
   "codemirror_mode": {
    "name": "ipython",
    "version": 3
   },
   "file_extension": ".py",
   "mimetype": "text/x-python",
   "name": "python",
   "nbconvert_exporter": "python",
   "pygments_lexer": "ipython3",
   "version": "3.9.0 (default, Nov 15 2020, 14:28:56) \n[GCC 7.3.0]"
  },
  "orig_nbformat": 4,
  "vscode": {
   "interpreter": {
    "hash": "106ed90fbf8025eb9832909e51cfc899d1a33a089b344b3214a8543d200ab7a0"
   }
  }
 },
 "nbformat": 4,
 "nbformat_minor": 2
}
