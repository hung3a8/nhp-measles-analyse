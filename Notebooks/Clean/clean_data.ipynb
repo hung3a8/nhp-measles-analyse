{
 "cells": [
  {
   "cell_type": "code",
   "execution_count": 61,
   "metadata": {},
   "outputs": [],
   "source": [
    "import pandas as pd\n",
    "import numpy as np\n",
    "import datetime\n",
    "import string\n",
    "import os\n",
    "from matplotlib import pyplot as plt\n",
    "from pathlib import Path"
   ]
  },
  {
   "cell_type": "code",
   "execution_count": 62,
   "metadata": {},
   "outputs": [],
   "source": [
    "DATA_PATH = '/Users/vuhoangnguyen/Research/'\n",
    "RAW_DATA = os.path.join(DATA_PATH, 'raw_data.csv')"
   ]
  },
  {
   "cell_type": "code",
   "execution_count": 63,
   "metadata": {},
   "outputs": [],
   "source": [
    "dataset = pd.read_csv(RAW_DATA, keep_default_na=False)"
   ]
  },
  {
   "cell_type": "code",
   "execution_count": 64,
   "metadata": {},
   "outputs": [],
   "source": [
    "dataset = dataset.rename(columns={\"GIOI.x\": \"Female\"})\n",
    "s = dataset['Female'].to_numpy()\n",
    "\n",
    "for i in range(len(s)):\n",
    "    if s[i] == 'Nam' or s[i] == 'M':\n",
    "        dataset.at[i,'Female'] = 0\n",
    "    elif s[i] == 'Nu' or s[i] == 'F':\n",
    "        dataset.at[i,'Female'] = 1"
   ]
  },
  {
   "cell_type": "code",
   "execution_count": 65,
   "metadata": {},
   "outputs": [],
   "source": [
    "dataset = dataset.drop(columns=['STT', 'ID', 'Name', 'SODIENTHOAI', 'Fisrt of Department',\n",
    "                                'Department of out hospital', 'Department of test'])"
   ]
  },
  {
   "cell_type": "code",
   "execution_count": 66,
   "metadata": {},
   "outputs": [],
   "source": [
    "month_name = ['Jan', 'Feb', 'Mar', 'Apr',\n",
    "              'May', 'Jun', 'Jul', 'Aug',\n",
    "              'Sep', 'Oct', 'Nov', 'Dec']\n",
    "\n",
    "def to_datetime(column_name):\n",
    "    s = dataset[column_name].to_numpy(dtype = 'str')\n",
    "    for i in range(len(s)):\n",
    "        if s[i] == 'nan':\n",
    "            continue\n",
    "        if '-' in s[i]:\n",
    "            date = s[i].split(sep='-')\n",
    "        elif '/' in s[i]:\n",
    "            date = s[i].split(sep='/')\n",
    "        for j in range(len(month_name)):\n",
    "            if date[1] == month_name[j]:\n",
    "                date[1] = j+1\n",
    "        date = [int(x) for x in date]\n",
    "        if date[0] > 1000: # date[0] is year\n",
    "            x = datetime.date(date[0],date[1],date[2])\n",
    "        else:\n",
    "            if date[2] < 1000: # date[2] is year\n",
    "                date[2] += 2000\n",
    "            x = datetime.date(date[2],date[1],date[0])\n",
    "        dataset.at[i,column_name] = x\n",
    "\n",
    "dataset = dataset.rename(columns={\"NGAYSINH.x\":\"dob\"})\n",
    "to_datetime('dob')\n",
    "dataset = dataset.rename(columns={\"date of admission\":\"admission_date\"})\n",
    "to_datetime('admission_date')"
   ]
  },
  {
   "cell_type": "code",
   "execution_count": 67,
   "metadata": {},
   "outputs": [],
   "source": [
    "dataset = dataset.rename(columns={\"date of onset\":\"onset_date\"})\n",
    "onset_date_str = dataset['onset_date'].to_numpy(dtype = 'str')\n",
    "\n",
    "for i in range(len(onset_date_str)):\n",
    "    current_date = onset_date_str[i]\n",
    "    if current_date == 'nan':\n",
    "        continue\n",
    "    if '-' in current_date:\n",
    "        date = current_date.split(sep='-')\n",
    "    if '/' in current_date:\n",
    "        date = current_date.split(sep='/')\n",
    "    for j in range(len(month_name)):\n",
    "        if date[1] == month_name[j]:\n",
    "            date[1] = j+1\n",
    "    date = [int(x) for x in date]\n",
    "    if date[2] < 1000: # date[2] is year\n",
    "        date[2] += 2000\n",
    "    x = datetime.date(date[2],date[1],date[0])\n",
    "    dataset.at[i,'onset_date'] = x"
   ]
  },
  {
   "cell_type": "code",
   "execution_count": 68,
   "metadata": {},
   "outputs": [],
   "source": [
    "# correct row 1085 (21/7/209) to 21/7/2019\n",
    "\n",
    "for i in range(dataset.shape[0]):\n",
    "    d = dataset.at[i,'onset_date'].day\n",
    "    m = dataset.at[i,'onset_date'].month\n",
    "    y = dataset.at[i,'onset_date'].year\n",
    "    if y not in [2017,2018,2019,2014]:\n",
    "        dataset.at[i,'onset_date'] = datetime.date(2019, m, d)"
   ]
  },
  {
   "cell_type": "code",
   "execution_count": 69,
   "metadata": {},
   "outputs": [],
   "source": [
    "dataset.insert(7, \"age_at_admission\", 0)"
   ]
  },
  {
   "cell_type": "code",
   "execution_count": 70,
   "metadata": {},
   "outputs": [],
   "source": [
    "for i in range(dataset.shape[0]):\n",
    "    x = dataset.at[i,'dob']\n",
    "    y = dataset.at[i,'admission_date']\n",
    "    if pd.isna(dataset.at[i,'dob']) == False and pd.isna(dataset.at[i,'admission_date']) == False:\n",
    "        z = y - x\n",
    "        dataset.at[i,\"age_at_admission\"] = z.days // 30"
   ]
  },
  {
   "cell_type": "code",
   "execution_count": 71,
   "metadata": {},
   "outputs": [],
   "source": [
    "dataset = dataset.rename(columns={\"Distric\":\"district\"})\n",
    "district = dataset['district'].to_numpy(dtype='str')\n",
    "\n",
    "wrong_district = [\"Huyen V_ Quang\",\"ph_ c_\",\"Huyen Hi_p H\",\"Kim B_ng\",\"Huyen H__ng Kh?\",\"Nam Tr_c\",\"Th__ng Xu\",\"T__ng D__ng\",\"Huyen C_ Kuin\",\n",
    "\"B_m S_n\",\"Y?n Khnh\",\"Bnh Xuy?n\",\"Huyen Kim __ng\",\"Xun Tr__ng\",\"Tam D__ng\",\"Huyen Qu_nh L_u\",\"Thi Xa Thai Ho?a\",\"Thi Xa Thai Ho`a\",\n",
    "\"TP B_c Giang\",\"L__ng S_n\",\"Y?n L_c\",\"Ung B\",\"Huyen Nng C_ng\",\"Kim Thnh\",\"Huyen Di_n Ch\",\"T_ k_\",\"Gia Vi_n\",\"Giao Th_y\",\"TP. Thi Nguy?n\",\n",
    "\"L_p Th_ch\",\"L_c Nam\",\"Huyen T_ K_\",\"tp L_ng S_n\",\"tp. Ninh Bnh\",\"Vi_t Tr\",\"Huyen C_m Kh?\",\"Phc Thnh\",\"B_c Quang\",\"Huyen Thanh Ch__ng\",\n",
    "\"H_ H\",\"Huyen Bnh Giang\",\"Mai S_n\",\"Huyen Tam Nâ¢ng\",\"Th_y Nguy?n\",\"Tp Thi Bnh\",\"Ngh_a H_ng\",\"_inh H\",\"Thnh ph_ H_i D__ng\",\"TP. Ninh Bnh\",\n",
    "\"Ch Linh\",\"TP. Nam __nh\",\"TP.H_ng Y?n\",\"Kinh M_n\",\"Thanh Mi_n\",\"H_ng Nguy?n\",\"Nam Sch\",\"Huyen Ngh_a _\",\"H_u L_c\",\"Nam c__ng\",\"Quang S_n\",\n",
    "\"Phc Y?n\",\"Gia Bnh\",\"Huyen _ng H_ng\",\"Y?n M_\",\"ån Thi\",\"V_nh t__ng\",\"Huyen V_n L\",\"L_c H\",\"__ S_n\",\"H Phong\",\"__ng T\"]\n",
    "correct_district = [\"Huyen Vu Quang\",\"Phu Cu\",\"Huyen Hiep Hoa\",\"Kim Bang\",\"Huyen Huong Khe\",\"Nam Truc\",\"Thuong Xuan\",\"Tuong Duong\",\"Huyen Cu Kuin\",\n",
    "\"Bim Son\",\"Yen Khanh\",\"Binh Xuyen\",\"Huyen Kim Dong\",\"Xuan Truong\",\"Tam Duong\",\"Huyen Quynh Luu\",\"Thi Xa Thai Hoa\",\"Thi Xa Thai Hoa\",\n",
    "\"TP Bac Giang\",\"Luong Son\",\"Yen Lac\",\"Uong Bi\",\"Huyen Nong Cong\",\"Kim Thanh\",\"Huyen Dien Chau\",\"Tu ky\",\"Gia Vien\",\"Giao Thuy\",\"TP Thai Nguyen\",\n",
    "\"Lap Thach\",\"Luc Nam\",\"Huyen Tu Ky\",\"TP Lang Son\",\"TP Ninh Binh\",\"Viet Tri\",\"Huyen Cam Khe\",\"Phuc Thanh\",\"Bac Quang\",\"Huyen Thanh Chuong\",\n",
    "\"Ha Hoa\",\"Huyen Binh Giang\",\"Mai Son\",\"Huyen Tam Nong\",\"Thuy Nguyen\",\"TP Thai Binh\",\"Nghia Hung\",\"Dinh Hoa\",\"TP Hai Duong\",\"TP Ninh Binh\",\n",
    "\"Chi Linh\",\"TP Nam Dinh\",\"TP Hung Yen\",\"Kinh Mon\",\"Thanh Mien\",\"Hung Nguyen\",\"Nam Sach\",\"Huyen Nghia Dan\",\"Hau Loc\",\"Nam Cuong\",\"Quang Son\",\n",
    "\"Phuc Yen\",\"Gia Binh\",\"Huyen Dong Hung\",\"Yen My\",\"An Thi\",\"Vinh Tuong\",\"Huyen Van Lam\",\"Loc Ha\",\"Do Son\",\"Hong Phong\",\"Dong Tam\"]\n",
    "\n",
    "for i in range(len(district)):\n",
    "    if district[i] == 'nan':\n",
    "        dataset.at[i,'district'] = ''\n",
    "        continue\n",
    "    for j in range(len(wrong_district)):\n",
    "        if district[i] == wrong_district[j]:\n",
    "            district[i] = correct_district[j]\n",
    "            break\n",
    "    word_dis = district[i].split(sep = ' ')\n",
    "    if word_dis[0] == 'Huy_n':\n",
    "        word_dis[0] = 'Huyen'\n",
    "    if word_dis[0] == 'TX':\n",
    "        word_dis[0] = 'Thi Xa'\n",
    "    new_dis = ' '.join(word_dis)\n",
    "    dataset.at[i,'district'] = new_dis"
   ]
  },
  {
   "cell_type": "code",
   "execution_count": 72,
   "metadata": {},
   "outputs": [],
   "source": [
    "dis = dataset['district'].to_numpy(dtype='str')\n",
    "\n",
    "for i in range(len(dis)):\n",
    "    if dis[i] == '':\n",
    "        continue\n",
    "    dis[i] = string.capwords(dis[i])\n",
    "    dataset.at[i,'district'] = dis[i]"
   ]
  },
  {
   "cell_type": "code",
   "execution_count": 73,
   "metadata": {},
   "outputs": [],
   "source": [
    "dataset = dataset.rename(columns={\"Province\": \"province\"})\n",
    "province = dataset['province'].to_numpy(dtype='str')\n",
    "\n",
    "for i in range(len(dis)):\n",
    "    if province[i] == 'nan':\n",
    "        continue\n",
    "    # correction for row 1106\n",
    "    if province[i] == ']':\n",
    "        province[i] = 'Nghe An'\n",
    "    province[i] = string.capwords(province[i])\n",
    "    # remove TP prefix for 'Tp Can Tho'\n",
    "    province[i] = province[i].replace('Tp ','')\n",
    "    dataset.at[i,'province'] = province[i]"
   ]
  },
  {
   "cell_type": "code",
   "execution_count": 74,
   "metadata": {},
   "outputs": [],
   "source": [
    "dataset = dataset.rename(columns={\"Community\": \"commune\"})\n",
    "comm = dataset['commune'].to_numpy(dtype='str')\n",
    "\n",
    "for i in range(len(comm)):\n",
    "    if comm[i] == 'nan':\n",
    "        continue\n",
    "    s = \"\"\n",
    "    for j in comm[i]:\n",
    "        if (j>='a' and j<='z') or (j>='A' and j<='Z') or j == ' ' or (j>='0' and j<='9'):\n",
    "            s += j\n",
    "    dataset.at[i,'commune'] = s"
   ]
  },
  {
   "cell_type": "code",
   "execution_count": 75,
   "metadata": {},
   "outputs": [],
   "source": [
    "comm = dataset['commune'].to_numpy(dtype='str')\n",
    "\n",
    "for i in range(len(comm)):\n",
    "    if comm[i] == '':\n",
    "        continue\n",
    "    comm[i] = string.capwords(comm[i])\n",
    "    dataset.at[i,'commune'] = comm[i]"
   ]
  },
  {
   "cell_type": "code",
   "execution_count": 76,
   "metadata": {},
   "outputs": [],
   "source": [
    "dataset.insert(5,\"complete_patient_address\",np.nan)"
   ]
  },
  {
   "cell_type": "code",
   "execution_count": 77,
   "metadata": {},
   "outputs": [],
   "source": [
    "for i in range(dataset.shape[0]):\n",
    "    commune_i = dataset.at[i,'commune']\n",
    "    district_i = dataset.at[i,'district']\n",
    "    province_i = dataset.at[i,'province']\n",
    "    address = []\n",
    "    if commune_i != '':\n",
    "        address.append(commune_i)\n",
    "    if district_i != '':\n",
    "        address.append(district_i)\n",
    "    if province_i != '':\n",
    "        address.append(province_i)\n",
    "    full_address = ', '.join(address)\n",
    "    dataset.at[i,'complete_patient_address'] = full_address"
   ]
  },
  {
   "cell_type": "code",
   "execution_count": 78,
   "metadata": {},
   "outputs": [],
   "source": [
    "dataset = dataset.rename(columns = {\"date of out hospital\":\"discharge_date\"})\n",
    "to_datetime('discharge_date')"
   ]
  },
  {
   "cell_type": "code",
   "execution_count": 79,
   "metadata": {},
   "outputs": [],
   "source": [
    "dataset.insert(10,'duration_of_stay',np.nan)"
   ]
  },
  {
   "cell_type": "code",
   "execution_count": 80,
   "metadata": {},
   "outputs": [],
   "source": [
    "for i in range(dataset.shape[0]):\n",
    "    x = dataset.at[i,'admission_date']\n",
    "    y = dataset.at[i,'discharge_date']\n",
    "    if pd.isna(x) == False and pd.isna(y) == False:\n",
    "        z = y - x\n",
    "        dataset.at[i,\"duration_of_stay\"] = z.days"
   ]
  },
  {
   "cell_type": "code",
   "execution_count": 81,
   "metadata": {},
   "outputs": [],
   "source": [
    "dataset = dataset.drop(columns = ['LOAIXN','Note of time stay in hospital'])"
   ]
  },
  {
   "cell_type": "code",
   "execution_count": 82,
   "metadata": {},
   "outputs": [],
   "source": [
    "dataset = dataset.rename(columns = {'date of test':'test_date','date of result':'testresult_date'})\n",
    "to_datetime('test_date')\n",
    "to_datetime('testresult_date')"
   ]
  },
  {
   "cell_type": "code",
   "execution_count": 83,
   "metadata": {},
   "outputs": [],
   "source": [
    "dataset = dataset.rename(columns = {'HAI':'healthcare_associated_infection','RSV':'respiratory_syncytical_virus','ADENO':'adenovirus',\n",
    "'Pertussis':'pertussis','oxygen':'oxygen_cannula','cipap':'CPAP','ventilator':'conventional_mechanical_ventilation',\n",
    "'HFO ventilator':'hfo_ventilation','ECMOY:AL':'ECMO'})\n",
    "\n",
    "def YN_to_binary(column_name):\n",
    "    s = dataset[column_name].to_numpy(dtype='str')\n",
    "    for i in range(len(s)):\n",
    "        if s[i] == '' or s[i] == 'nan':\n",
    "            dataset.at[i,column_name] = 0\n",
    "            continue\n",
    "        ls = s[i].lower()\n",
    "        if ls == 'yes':\n",
    "            dataset.at[i,column_name] = 1\n",
    "        elif ls == 'no' or ls == 'na':\n",
    "            dataset.at[i,column_name] = 0\n",
    "\n",
    "YN_to_binary('oxygen_cannula')\n",
    "YN_to_binary('CPAP')\n",
    "YN_to_binary('pertussis')\n",
    "YN_to_binary('healthcare_associated_infection')\n",
    "YN_to_binary('respiratory_syncytical_virus')\n",
    "YN_to_binary('adenovirus')\n",
    "YN_to_binary('conventional_mechanical_ventilation')\n",
    "YN_to_binary('hfo_ventilation')\n",
    "YN_to_binary('ECMO')"
   ]
  },
  {
   "cell_type": "code",
   "execution_count": 84,
   "metadata": {},
   "outputs": [],
   "source": [
    "from datetime import date\n",
    "def datetime_to_date(column_name):\n",
    "    for i in range(dataset.shape[0]):\n",
    "        x = dataset.at[i,column_name]\n",
    "        y = pd.to_datetime(x)\n",
    "        z = y.date()\n",
    "        dataset.at[i,column_name] = z\n",
    "\n",
    "datetime_to_date('dob')\n",
    "datetime_to_date('admission_date')\n",
    "datetime_to_date('discharge_date')\n",
    "datetime_to_date('test_date')\n",
    "datetime_to_date('testresult_date')"
   ]
  },
  {
   "cell_type": "code",
   "execution_count": 85,
   "metadata": {},
   "outputs": [],
   "source": [
    "dataset = dataset.drop(columns = ['dialysis','Catheter','Onsetto out hospital','ghi chu nguon'])"
   ]
  },
  {
   "cell_type": "code",
   "execution_count": 86,
   "metadata": {},
   "outputs": [],
   "source": [
    "dataset = dataset.rename(columns={'Code source': 'place_of_exposure'})\n",
    "\n",
    "dataset['place_of_exposure'] = dataset['place_of_exposure'].str.lower()\n",
    "\n",
    "for i in range(len(dataset['place_of_exposure'])):\n",
    "    code = dataset.at[i, 'place_of_exposure']\n",
    "    if code in ['suppected nch', 'definitely nch']:\n",
    "        dataset.at[i, 'place_of_exposure'] = 'NHP'\n",
    "    elif code in ['suppected other h', 'suppected  other h', 'definitely other h']:\n",
    "        dataset.at[i, 'place_of_exposure'] = 'Another hospital'\n",
    "    elif code in ['community']:\n",
    "        continue"
   ]
  },
  {
   "cell_type": "code",
   "execution_count": 87,
   "metadata": {},
   "outputs": [],
   "source": [
    "dataset.insert(20,'complication-gastroentiritis',0)\n",
    "\n",
    "for i in range(dataset.shape[0]):\n",
    "    x = dataset.at[i,'complication']\n",
    "    if 'tieu chay' in x:\n",
    "        dataset.at[i,'complication-gastroentiritis'] = 1"
   ]
  },
  {
   "cell_type": "code",
   "execution_count": 88,
   "metadata": {},
   "outputs": [],
   "source": [
    "dataset.insert(21,'complication-middle-ear-infec',0)\n",
    "\n",
    "for i in range(dataset.shape[0]):\n",
    "    x = dataset.at[i,'complication']\n",
    "    y = dataset.at[i,'Dianogis out of hospital']\n",
    "    z = dataset.at[i,'Dianogis of test']\n",
    "    if 'viem tai' in x or 'viem tai' in y or 'viem tai' in z:\n",
    "        dataset.at[i,'complication-middle-ear-infec'] = 1"
   ]
  },
  {
   "cell_type": "code",
   "execution_count": 89,
   "metadata": {},
   "outputs": [],
   "source": [
    "dataset.insert(22,'complication-conjunctivitis',0)\n",
    "\n",
    "for i in range(dataset.shape[0]):\n",
    "    x = dataset.at[i,'complication']\n",
    "    y = dataset.at[i,'Dianogis out of hospital']\n",
    "    z = dataset.at[i,'Dianogis of test']\n",
    "    if 'ket mac' in x or 'ket mac' in y or 'ket mac' in z:\n",
    "        dataset.at[i,'complication-conjunctivitis'] = 1"
   ]
  },
  {
   "cell_type": "code",
   "execution_count": 90,
   "metadata": {},
   "outputs": [],
   "source": [
    "dataset.insert(23,'complication-laryngitis',0)\n",
    "\n",
    "for i in range(dataset.shape[0]):\n",
    "    x = dataset.at[i,'complication']\n",
    "    y = dataset.at[i,'Dianogis out of hospital']\n",
    "    z = dataset.at[i,'Dianogis of test']\n",
    "    t = dataset.at[i,'Dianogis of admission']  \n",
    "    if 'thanh quan' in x or 'thanh quan' in y or 'thanh quan' in z or 'thanh quan' in t:\n",
    "        dataset.at[i,'complication-laryngitis'] = 1"
   ]
  },
  {
   "cell_type": "code",
   "execution_count": 91,
   "metadata": {},
   "outputs": [],
   "source": [
    "dataset.insert(24,'complication-pneumonia-bronchitis',0)\n",
    "key_word = ['viem phoi', 'viem phe quan','phe quan']\n",
    "\n",
    "for i in range(dataset.shape[0]):\n",
    "    x = dataset.at[i,'complication']\n",
    "    y = dataset.at[i,'Dianogis out of hospital']\n",
    "    z = dataset.at[i,'Dianogis of test']\n",
    "    t = dataset.at[i,'Dianogis of admission']\n",
    "    for word in key_word:\n",
    "        if word in x or word in y or word in z or word in t:\n",
    "            dataset.at[i,'complication-pneumonia-bronchitis'] = 1  \n",
    "            break"
   ]
  },
  {
   "cell_type": "code",
   "execution_count": 92,
   "metadata": {},
   "outputs": [],
   "source": [
    "dataset.insert(25,'complication-febrile-seizures',0)\n",
    "\n",
    "for i in range(dataset.shape[0]):\n",
    "    x = dataset.at[i,'complication']\n",
    "    y = dataset.at[i,'Dianogis out of hospital']\n",
    "    z = dataset.at[i,'Dianogis of test']\n",
    "    t = dataset.at[i,'Dianogis of admission']\n",
    "    if 'dong kinh' in x or 'dong kinh' in y or 'dong kinh' in z or 'dong kinh' in t:\n",
    "        dataset.at[i,'complication-febrile-seizures'] = 1"
   ]
  },
  {
   "cell_type": "code",
   "execution_count": 93,
   "metadata": {},
   "outputs": [],
   "source": [
    "dataset.insert(26,'complication-septic-shock-sepsis',0)\n",
    "key_word = ['nhiem khuan huyet', 'soc nhiem khuan']\n",
    "\n",
    "for i in range(dataset.shape[0]):\n",
    "    x = dataset.at[i,'complication']\n",
    "    y = dataset.at[i,'Dianogis out of hospital']\n",
    "    z = dataset.at[i,'Dianogis of test']\n",
    "    t = dataset.at[i,'Dianogis of admission']\n",
    "    for word in key_word:\n",
    "        if word in x or word in y or word in z or word in t:\n",
    "            dataset.at[i,'complication-septic-shock-sepsis'] = 1"
   ]
  },
  {
   "cell_type": "code",
   "execution_count": 94,
   "metadata": {},
   "outputs": [],
   "source": [
    "dataset.insert(27,'co-infection-influenza-a',0)\n",
    "target_column = ['complication','Dianogis out of hospital','Dianogis of test','Dianogis of admission','Other disease']\n",
    "\n",
    "for i in range(dataset.shape[0]):\n",
    "    for j in target_column:\n",
    "        x = dataset.at[i,j].lower()\n",
    "        if 'cum a' in x:\n",
    "            dataset.at[i,'co-infection-influenza-a'] = 1\n",
    "            break"
   ]
  },
  {
   "cell_type": "code",
   "execution_count": 95,
   "metadata": {},
   "outputs": [],
   "source": [
    "dataset.insert(28,'co-infection-influenza-b',0)\n",
    "target_column = ['complication','Dianogis out of hospital','Dianogis of test','Dianogis of admission','Other disease']\n",
    "\n",
    "for i in range(dataset.shape[0]):\n",
    "    for j in target_column:\n",
    "        x = dataset.at[i,j].lower()\n",
    "        if 'cum b' in x:\n",
    "            dataset.at[i,'co-infection-influenza-b'] = 1\n",
    "            break"
   ]
  },
  {
   "cell_type": "code",
   "execution_count": 96,
   "metadata": {},
   "outputs": [],
   "source": [
    "dataset.insert(29,'co-infection-streptococus-aerius',0)\n",
    "target_column = ['complication','Dianogis out of hospital','Dianogis of test','Dianogis of admission','Other disease']\n",
    "\n",
    "for i in range(dataset.shape[0]):\n",
    "    for j in target_column:\n",
    "        x = dataset.at[i,j].lower()\n",
    "        if 'tu cau' in x:\n",
    "            dataset.at[i,'co-infection-streptococus-aerius'] = 1\n",
    "            break"
   ]
  },
  {
   "cell_type": "code",
   "execution_count": 97,
   "metadata": {},
   "outputs": [],
   "source": [
    "dataset.insert(30,'co-infection-streptococus-pneumonia',0)\n",
    "target_column = ['complication','Dianogis out of hospital','Dianogis of test','Dianogis of admission','Other disease']\n",
    "\n",
    "for i in range(dataset.shape[0]):\n",
    "    for j in target_column:\n",
    "        x = dataset.at[i,j].lower()\n",
    "        if 'phe cau' in x:\n",
    "            dataset.at[i,'co-infection-streptococus-pneumonia'] = 1\n",
    "            break"
   ]
  },
  {
   "cell_type": "code",
   "execution_count": 98,
   "metadata": {},
   "outputs": [],
   "source": [
    "special_vaccine_status = ['','1 (12/2/2018)','1 (12/22/2018)','99','?a khoa qu?c t? H?i Phòng, ?i?u tr? ph?i','NA',\n",
    "'d<U+1EE7> mui','kham bs lan anh','tiêm 15/9']\n",
    "vaccine_value = ['NA',1,1,'NA','NA','NA',2,'NA',1]\n",
    "vacc = dataset['Vaccination'].to_numpy(dtype=str)\n",
    "\n",
    "for i in range(dataset.shape[0]):\n",
    "    for j in range(len(special_vaccine_status)):\n",
    "        if vacc[i] == special_vaccine_status[j]:\n",
    "            vacc[i] = vaccine_value[j]\n",
    "            break\n",
    "    dataset.at[i,'Vaccination'] = vacc[i]"
   ]
  },
  {
   "cell_type": "code",
   "execution_count": 99,
   "metadata": {},
   "outputs": [],
   "source": [
    "dataset.insert(39,'highest_ventilation_mode',0)\n",
    "\n",
    "order = ['oxygen_cannula','CPAP','conventional_mechanical_ventilation','hfo_ventilation','ECMO']\n",
    "\n",
    "for i in range(len(dataset)):\n",
    "    for j in range(len(order)-1,-1,-1):\n",
    "        if dataset.loc[i,order[j]] == 1:\n",
    "            dataset.loc[i,'highest_ventilation_mode'] = order[j]\n",
    "            break"
   ]
  },
  {
   "cell_type": "code",
   "execution_count": 100,
   "metadata": {},
   "outputs": [],
   "source": [
    "stage_of_discharge_value = ['BN khong nhap vien','Bo ve','Chuyen vien','Ra vi<U+1EC7>n','Ra vien',\n",
    "'Tu vong','Xin ve','chua ra vien','do giam','do, giam ','khoi','tu vong']\n",
    "stage_of_discharge_new_value = ['khong nhap vien','bo ve','chuyen vien','ra vien','ra vien',\n",
    "'tu vong','xin ve','chua ra vien','giam','giam','khoi','tu vong']\n",
    "\n",
    "result_of_discharge_value = ['Chuyen  vien','Do/Giam','Khoi','Khong thay doi','Nang hon','Tu vong',\n",
    "'chua ra vien','do giam','do, giam ','khoi','tu vong','Ð<U+1EE1>/Gi<U+1EA3>m']\n",
    "result_of_discharge_new_value = ['chuyen vien','giam','khoi','khong thay doi','nang hon','tu vong',\n",
    "'chua ra vien','giam','giam','khoi','tu vong','giam']\n",
    "\n",
    "for i in range(len(dataset)):\n",
    "    for j in range(len(stage_of_discharge_value)):\n",
    "        if dataset.loc[i,'Stage of discharge'] == stage_of_discharge_value[j]:\n",
    "            dataset.loc[i,'Stage of discharge'] = stage_of_discharge_new_value[j]\n",
    "            break\n",
    "    for j in range(len(result_of_discharge_value)):\n",
    "        if dataset.loc[i,'result of discharge'] == result_of_discharge_value[j]:\n",
    "            dataset.loc[i,'result of discharge'] = result_of_discharge_new_value[j]\n",
    "            break\n",
    "\n",
    "#stage_and_result = dataset[['Stage of discharge','result of discharge']]\n",
    "#stage_and_result = stage_and_result.groupby(['Stage of discharge','result of discharge']).size().reset_index(name='counts')\n",
    "\n",
    "dataset.insert(14,'outcome_died',0)\n",
    "\n",
    "for i in range(len(dataset)):\n",
    "    if dataset.loc[i,'result of discharge'] == 'tu vong':\n",
    "        dataset.loc[i,'outcome_died'] = 1\n",
    "    if dataset.loc[i,'Stage of discharge'] == 'tu vong':\n",
    "        dataset.loc[i,'outcome_died'] = 1\n",
    "    if dataset.loc[i,'Stage of discharge'] == 'xin ve' and dataset.loc[i,'result of discharge'] == 'nang hon':\n",
    "        dataset.loc[i,'outcome_died'] = 1\n",
    "\n",
    "dataset = dataset.drop(columns=['result of discharge','Stage of discharge'])"
   ]
  },
  {
   "cell_type": "code",
   "execution_count": 101,
   "metadata": {},
   "outputs": [],
   "source": [
    "UPDATE_DATA = os.path.join(DATA_PATH, 'Duplicate.csv')\n",
    "update_dataset = pd.read_csv(UPDATE_DATA, keep_default_na = True)\n",
    "dataset.insert(6,'patient_home_coordinate',update_dataset['patient_home_coordinate'])\n",
    "dataset.insert(7,'distance_to_nhp',update_dataset['distance_to_nhp'])"
   ]
  },
  {
   "cell_type": "code",
   "execution_count": 102,
   "metadata": {},
   "outputs": [],
   "source": [
    "province = dataset['province'].to_numpy(dtype='str')\n",
    "patient_per_province = {}\n",
    "\n",
    "for i in province:\n",
    "    if i in patient_per_province:\n",
    "        patient_per_province[i] += 1\n",
    "    else:\n",
    "        patient_per_province[i] = 1\n",
    "        \n",
    "province_items = patient_per_province.items()\n",
    "sorted_province = sorted(province_items, key=lambda province_items: province_items[0])\n",
    "province_list = [i[0] for i in sorted_province]\n",
    "patient_list = [i[1] for i in sorted_province]"
   ]
  },
  {
   "cell_type": "code",
   "execution_count": 103,
   "metadata": {},
   "outputs": [],
   "source": [
    "part_of_vietnam = ['Ha Noi','Northeastern','Northwestern','Red River Delta (except Hanoi)','Central','Southern']\n",
    "\n",
    "central_province = ['Thanh Hoa','Nghe An','Ha Tinh','Quang Binh','Quang Tri','Thua Thien Hue','Quang Nam','Quang Ngai',\n",
    "                    'Binh Dinh','Phu Yen','Khanh Hoa','Ninh Thuan','Binh Thuan','Kon Tum','Gia Lai','Dak Lak']\n",
    "\n",
    "south_province = ['Binh Phuoc','Binh Duong','Dong Nai','Tay Ninh','Ba Ria - Vung Tau','Ho Chi Minh','Long An',\n",
    "                    'Dong Thap','Tien Giang','An Giang','Ben Tre','Can Tho']\n",
    "\n",
    "northwestern_region = ['Lao Cai','Yen Bai','Lai Chau','Dien Bien','Son La','Hoa Binh']\n",
    "northeastern_region = ['Ha Giang','Tuyen Quang','Phu Tho','Thai Nguyen','Bac Kan','Cao Bang','Lang Son','Bac Giang','Quang Ninh']\n",
    "red_river_delta_except_hanoi = ['Hai Phong','Vinh Phuc','Bac Ninh','Hung Yen','Hai Duong','Thai Binh','Nam Dinh','Ninh Binh','Ha Nam']\n",
    "\n",
    "#dataset.insert(6,'region_of_address',None)\n",
    "for i in range(len(dataset)):\n",
    "    if dataset.at[i,'province'] == 'Ha Noi':\n",
    "        dataset.at[i,'region_of_address'] = part_of_vietnam[0]\n",
    "    if dataset.at[i,'province'] in northeastern_region:\n",
    "        dataset.at[i,'region_of_address'] = part_of_vietnam[1]\n",
    "    if dataset.at[i,'province'] in northwestern_region:\n",
    "        dataset.at[i,'region_of_address'] = part_of_vietnam[2]\n",
    "    if dataset.at[i,'province'] in red_river_delta_except_hanoi:\n",
    "        dataset.at[i,'region_of_address'] = part_of_vietnam[3]\n",
    "    if dataset.at[i,'province'] in central_province:\n",
    "        dataset.at[i,'region_of_address'] = part_of_vietnam[4]\n",
    "    if dataset.at[i,'province'] in south_province:\n",
    "        dataset.at[i,'region_of_address'] = part_of_vietnam[5]"
   ]
  },
  {
   "cell_type": "code",
   "execution_count": 104,
   "metadata": {},
   "outputs": [],
   "source": [
    "underlying_condition = ['Underlying conditions - Respiratory system','Underlying conditions - Cardiovascular system',\n",
    "    'Underlying condition - Gastrointestinal system','Underlying condition - Kidney and urology system',\n",
    "    'Underlying condition - Immunodeficiency','Underlying condition - Neurological system','Underlying condition - Inherited metabolic disorders',\n",
    "    'Underlying condition - No underlying diseases','Underlying condition - Other underlying conditions']\n",
    "\n",
    "def chronic_diseases(insert_location,column_name,keywords):\n",
    "    dataset.insert(insert_location,column_name,0)\n",
    "    chronic = dataset['Chronic diseases code'].to_numpy(dtype='str')\n",
    "    other = dataset['Other disease'].to_numpy(dtype='str')\n",
    "    for i in range(len(dataset)):\n",
    "        chronic_i = chronic[i].lower()\n",
    "        other_i = other[i].lower()\n",
    "        for key in keywords:\n",
    "            if key in chronic_i or key in other_i:\n",
    "                dataset.at[i,column_name] = 1\n",
    "                break\n",
    "\n",
    "chronic_diseases(19,'Underlying conditions - Respiratory system',keywords = ['ho hap','phoi'])\n",
    "chronic_diseases(20,'Underlying conditions - Cardiovascular system',keywords = ['tim', 'mach', 'kawasaki'])\n",
    "chronic_diseases(21,'Underlying condition - Gastrointestinal system',keywords=['chron', 'crohn', 'gan', 'mat', 'ruot', 'hau mon', 'tieu hoa', 'megacolon'])\n",
    "chronic_diseases(22,'Underlying condition - Kidney and urology system', keywords=['than', 'bartter', 'tiet nieu'])\n",
    "chronic_diseases(23,'Underlying condition - Immunodeficiency',keywords=['mddu', 'beuroblastome', 'suy giam mien dich'])\n",
    "chronic_diseases(24,'Underlying condition - Neurological system',keywords=['than kinh', 'bai nao', 'bai noo', 'nao', 'noo', 'dong kinh', 'co giat'])\n",
    "chronic_diseases(25,'Underlying condition - Inherited metabolic disorders',keywords=['roi loan chuyen hoa'])\n",
    "\n",
    "def no_underlying_disease():\n",
    "    column_name = 'Underlying condition - No underlying diseases'\n",
    "    dataset.insert(26,column_name,0)\n",
    "    chronic = dataset['Chronic diseases code'].to_numpy(dtype='str')\n",
    "    other = dataset['Other disease'].to_numpy(dtype='str')\n",
    "    for i in range(len(dataset)):\n",
    "        chronic_i = chronic[i].lower()\n",
    "        other_i = other[i].lower()\n",
    "        if chronic_i == 'no' and other_i == 'no':\n",
    "            dataset.at[i,column_name] = 1\n",
    "    \n",
    "\n",
    "def other_underlying_disease():\n",
    "    column_name = 'Underlying condition - Other underlying conditions'\n",
    "    dataset.insert(27,column_name,0)\n",
    "    for i in range(len(dataset)):\n",
    "        if sum([dataset.at[i,_] for _ in underlying_condition[:8]]) == 0:\n",
    "            dataset.at[i,column_name] = 1\n",
    "            \n",
    "no_underlying_disease()\n",
    "other_underlying_disease()"
   ]
  },
  {
   "cell_type": "code",
   "execution_count": 105,
   "metadata": {},
   "outputs": [],
   "source": [
    "dataset = dataset.drop(columns=['stayhos','Dianogis of test','Dianogis out of hospital','Chronic diseases code','Other disease','complication'])"
   ]
  },
  {
   "cell_type": "code",
   "execution_count": 106,
   "metadata": {},
   "outputs": [],
   "source": [
    "# swap columns so that admission_date, discharge_date, test_date, testresult_date, onset_date are next to each other\n",
    "cols = dataset.columns.tolist()\n",
    "cols[9], cols[10] = cols[10], cols[9] \n",
    "cols[13], cols[10] = cols[10], cols[13]\n",
    "cols[14], cols[11] = cols[11], cols[14]\n",
    "cols[45], cols[12] = cols[12], cols[45]\n",
    "dataset = dataset[cols]"
   ]
  },
  {
   "cell_type": "code",
   "execution_count": 107,
   "metadata": {},
   "outputs": [],
   "source": [
    "dataset.insert(51,'Clinical classification',0)\n",
    "respiratory_support = ['oxygen_cannula','CPAP','conventional_mechanical_ventilation','hfo_ventilation','ECMO']\n",
    "\n",
    "for i in range(len(dataset)):\n",
    "    for j in respiratory_support:\n",
    "        if dataset.loc[i,j] == 1:\n",
    "            dataset.at[i,'Clinical classification'] = 1\n",
    "            break"
   ]
  },
  {
   "cell_type": "code",
   "execution_count": 108,
   "metadata": {},
   "outputs": [],
   "source": [
    "x = dataset['duration time onset to admission'].to_numpy()\n",
    "for id,i in enumerate(x):\n",
    "    if i == '#VALUE!':\n",
    "        dataset.at[id,'duration time onset to admission'] = 'NA'\n",
    "\n",
    "x = dataset['onset to test'].to_numpy()\n",
    "for id,i in enumerate(x):\n",
    "    if i == '#VALUE!':\n",
    "        dataset.at[id,'onset to test'] = 'NA'"
   ]
  },
  {
   "cell_type": "code",
   "execution_count": 109,
   "metadata": {},
   "outputs": [],
   "source": [
    "#Diagnosis upon admission: dựa trên cột diagnosis of admission\n",
    "#- Measles: soi\n",
    "#- Pneumonia: phoi\n",
    "#- Bronchopneumonia: phe quan\n",
    "#- Other diagnosis: còn lại\n",
    "\n",
    "import re\n",
    "\n",
    "dataset.insert(9,'Measles',0)\n",
    "dataset.insert(10, 'Pneumonia',0)\n",
    "dataset.insert(11, 'Bronchopneumonia',0)\n",
    "dataset.insert(12, 'Other diagnosis',0)\n",
    "\n",
    "dataset['Measles'] = np.where(dataset['Dianogis of admission'].str.contains('soi',flags=re.IGNORECASE), 1, 0)\n",
    "dataset['Pneumonia'] = np.where(dataset['Dianogis of admission'].str.contains('phoi',flags=re.IGNORECASE), 1, 0)\n",
    "dataset['Bronchopneumonia'] = np.where(dataset['Dianogis of admission'].str.contains('phe quan',flags=re.IGNORECASE), 1, 0)\n",
    "dataset['Other diagnosis'] = np.where(dataset['Dianogis of admission'].str.contains('soi|phoi|phe quan',flags=re.IGNORECASE), 0, 1)"
   ]
  },
  {
   "cell_type": "code",
   "execution_count": 110,
   "metadata": {},
   "outputs": [],
   "source": [
    "dataset.insert(57,'Age group (in months)',0)\n",
    "dataset.insert(58,'Distance from the hospital (km)',0)\n",
    "dataset.insert(59,'Duration between onset and admission',0)\n",
    "dataset.insert(60,'Duration of stay within the hospital',0)\n",
    "dataset.insert(61,'Duration between onset and test (detection time) (in hours)',0)"
   ]
  },
  {
   "cell_type": "code",
   "execution_count": 111,
   "metadata": {},
   "outputs": [],
   "source": [
    "age_group_str = ['0 - 9','9 - 60','>= 60']\n",
    "month_group = [0,9,60]\n",
    "for i in range(len(dataset)):\n",
    "    for j in range(len(month_group)-1,-1,-1):\n",
    "        if dataset.at[i,'age_at_admission'] >= month_group[j]:\n",
    "            dataset.at[i,'Age group (in months)'] = age_group_str[j]\n",
    "            break"
   ]
  },
  {
   "cell_type": "code",
   "execution_count": 112,
   "metadata": {},
   "outputs": [],
   "source": [
    "distance_marker = [0, 20, 200, 500]\n",
    "distance_group = ['0 - <20','20 - <200','200 - <500','>= 500']\n",
    "for i in range(len(dataset)):\n",
    "    for j in range(len(distance_marker)-1,-1,-1):\n",
    "        if dataset.at[i,'distance_to_nhp'] >= distance_marker[j]:\n",
    "            dataset.at[i,'Distance from the hospital (km)'] = distance_group[j]\n",
    "            break"
   ]
  },
  {
   "cell_type": "code",
   "execution_count": 113,
   "metadata": {},
   "outputs": [],
   "source": [
    "onadmission_group = ['<0','0 - <3','3 - <7','7 - <14','>= 14']\n",
    "onadmission_marker = [-10**9, 0, 3, 7, 14]\n",
    "\n",
    "for i in range(len(dataset)):\n",
    "    if dataset.at[i,'duration time onset to admission'] == 'NA':\n",
    "        dataset.at[i,'Duration between onset and admission'] = 'Unknown'\n",
    "        continue\n",
    "    for j in range(len(onadmission_marker)-1,-1,-1):\n",
    "        if int(dataset.at[i,'duration time onset to admission']) >= onadmission_marker[j]:\n",
    "            dataset.at[i,'Duration between onset and admission'] = onadmission_group[j]\n",
    "            break"
   ]
  },
  {
   "cell_type": "code",
   "execution_count": 114,
   "metadata": {},
   "outputs": [],
   "source": [
    "duration_of_stay = dataset['duration_of_stay'].to_numpy()\n",
    "duration_group = ['0 - <7','7 - <21','>= 21']\n",
    "duration_marker = [0, 7, 21]\n",
    "\n",
    "for i in range(len(dataset)):\n",
    "    for j in range(len(duration_marker)-1,-1,-1):\n",
    "        if duration_of_stay[i] >= duration_marker[j]:\n",
    "            dataset.at[i,'Duration of stay within the hospital'] = duration_group[j]\n",
    "            break"
   ]
  },
  {
   "cell_type": "code",
   "execution_count": 123,
   "metadata": {},
   "outputs": [
    {
     "name": "stdout",
     "output_type": "stream",
     "text": [
      "0\n",
      "396 -22\n",
      "1292 -1\n",
      "1336 -1\n",
      "1531 -3\n",
      "1552 -1\n",
      "1740 -1\n",
      "1782 -1\n",
      "1809 -1\n",
      "1828 -2\n",
      "1859 -2\n",
      "1883 -4\n",
      "1924 -43082\n",
      "1928 -1\n",
      "1954 -2\n",
      "1971 -43012\n",
      "1977 -1\n"
     ]
    }
   ],
   "source": [
    "onsettest_group = ['< 0','0 - <24','24 - <48','>= 48']\n",
    "onsettest_marker = [-10**9,0, 1, 2]    # 1 day = 24 hours\n",
    "\n",
    "for i in range(len(dataset)):\n",
    "    if i == 271:\n",
    "        print(dataset.at[i,'onset to test'])\n",
    "    if dataset.at[i, 'onset to test'] == 'NA':\n",
    "        dataset.at[i,'Duration between onset and test (detection time) (in hours)'] = 'Unknown'\n",
    "        #print(i)\n",
    "        continue\n",
    "    for j in range(len(onsettest_marker)-1,-1,-1):\n",
    "        if int(dataset.at[i,'onset to test']) >= onsettest_marker[j]:\n",
    "            dataset.at[i,'Duration between onset and test (detection time) (in hours)'] = onsettest_group[j]\n",
    "            if j == 0:\n",
    "                print(i,dataset.at[i,'onset to test'])\n",
    "            break"
   ]
  },
  {
   "cell_type": "code",
   "execution_count": 116,
   "metadata": {},
   "outputs": [],
   "source": [
    "dataset.insert(53, 'New vaccination', 0)\n",
    "for i in range(len(dataset)):\n",
    "    if dataset.at[i, 'Vaccination'] == '0':\n",
    "        dataset.at[i, 'New vaccination'] = 0\n",
    "    elif dataset.at[i, 'Vaccination'] == 'NA':\n",
    "        dataset.at[i, 'New vaccination'] = 'NA'\n",
    "    elif dataset.at[i, 'Vaccination'] == '1' or dataset.at[i, 'Vaccination'] == '2' or dataset.at[i, 'Vaccination'] == '3':\n",
    "        dataset.at[i, 'New vaccination'] = '>=1'"
   ]
  },
  {
   "cell_type": "code",
   "execution_count": 117,
   "metadata": {},
   "outputs": [],
   "source": [
    "dataset.to_csv('out.csv', index=False)"
   ]
  },
  {
   "cell_type": "code",
   "execution_count": 118,
   "metadata": {},
   "outputs": [],
   "source": [
    "severe_dataset = dataset.loc[dataset['Clinical classification'] == 1]\n",
    "severe_dataset.to_csv('severe_out.csv', index=False)"
   ]
  }
 ],
 "metadata": {
  "kernelspec": {
   "display_name": "Python 3.11.0 64-bit",
   "language": "python",
   "name": "python3"
  },
  "language_info": {
   "codemirror_mode": {
    "name": "ipython",
    "version": 3
   },
   "file_extension": ".py",
   "mimetype": "text/x-python",
   "name": "python",
   "nbconvert_exporter": "python",
   "pygments_lexer": "ipython3",
   "version": "3.11.0"
  },
  "orig_nbformat": 4,
  "vscode": {
   "interpreter": {
    "hash": "aee8b7b246df8f9039afb4144a1f6fd8d2ca17a180786b69acc140d282b71a49"
   }
  }
 },
 "nbformat": 4,
 "nbformat_minor": 2
}
