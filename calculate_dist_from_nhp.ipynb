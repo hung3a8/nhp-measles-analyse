{
 "cells": [
  {
   "cell_type": "markdown",
   "metadata": {},
   "source": [
    "# Calculate distance from NHP\n",
    "\n",
    "This notebook helps calculate the distance from a patient's residental area to National Hospital of Pediatrics, Hanoi, Vietnam, using `Azure Maps Route` and `Geopy` libraries."
   ]
  },
  {
   "cell_type": "code",
   "execution_count": null,
   "metadata": {},
   "outputs": [],
   "source": [
    "# Import necessary libraries\n",
    "from azure.maps.route import MapsRouteClient\n",
    "from azure.core.credentials import AzureKeyCredential\n",
    "from azure.maps.route.models import LatLon\n",
    "from geopy.geocoders import AzureMaps\n",
    "from pprint import pprint"
   ]
  },
  {
   "cell_type": "code",
   "execution_count": null,
   "metadata": {},
   "outputs": [],
   "source": [
    "# Create map and route clients\n",
    "credential = AzureKeyCredential('AZURE-MAPS-KEY')\n",
    "geolocation_client = AzureMaps(credential.key)\n",
    "route_client = MapsRouteClient(credential=credential)"
   ]
  },
  {
   "cell_type": "code",
   "execution_count": null,
   "metadata": {},
   "outputs": [],
   "source": [
    "# Set default location for NHP to prevent miscalculation\n",
    "NHP_coordinates = LatLon(21.026047, 105.810077)\n",
    "print('NHP coordinates:', geolocation_client.reverse(\"%f, %f\" % (NHP_coordinates.lat, NHP_coordinates.lon)))"
   ]
  },
  {
   "cell_type": "code",
   "execution_count": null,
   "metadata": {},
   "outputs": [],
   "source": [
    "# Example\n",
    "community = \"Thi tran Cho\"\n",
    "district = \"Huyen Yen Phong\"\n",
    "province = \"Bac Ninh\""
   ]
  },
  {
   "cell_type": "code",
   "execution_count": null,
   "metadata": {},
   "outputs": [],
   "source": [
    "# Get location\n",
    "location = geolocation_client.geocode(community + \", \" + district + \", \" + province + \", \" + \"Vietnam\")\n",
    "print('Location:', location, location.latitude, location.longitude)\n",
    "route = route_client.get_route_directions(route_points=[\n",
    "    LatLon(location.latitude, location.longitude),\n",
    "    NHP_coordinates\n",
    "])\n",
    "\n",
    "# Print output summary\n",
    "# The output contains the distance in meters and travel time in seconds\n",
    "pprint(route.as_dict()['routes'][0]['summary'])  "
   ]
  }
 ],
 "metadata": {
  "kernelspec": {
   "display_name": "Python 3 (ipykernel)",
   "language": "python",
   "name": "python3"
  },
  "language_info": {
   "codemirror_mode": {
    "name": "ipython",
    "version": 3
   },
   "file_extension": ".py",
   "mimetype": "text/x-python",
   "name": "python",
   "nbconvert_exporter": "python",
   "pygments_lexer": "ipython3",
   "version": "3.9.12"
  },
  "vscode": {
   "interpreter": {
    "hash": "106ed90fbf8025eb9832909e51cfc899d1a33a089b344b3214a8543d200ab7a0"
   }
  }
 },
 "nbformat": 4,
 "nbformat_minor": 2
}
